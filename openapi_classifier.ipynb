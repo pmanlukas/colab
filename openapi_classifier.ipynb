{
  "nbformat": 4,
  "nbformat_minor": 0,
  "metadata": {
    "colab": {
      "name": "openapi-classifier.ipynb",
      "version": "0.3.2",
      "provenance": [],
      "collapsed_sections": []
    },
    "kernelspec": {
      "name": "python3",
      "display_name": "Python 3"
    },
    "accelerator": "GPU"
  },
  "cells": [
    {
      "cell_type": "markdown",
      "metadata": {
        "id": "view-in-github",
        "colab_type": "text"
      },
      "source": [
        "[View in Colaboratory](https://colab.research.google.com/github/pmanlukas/colab/blob/master/openapi_classifier.ipynb)"
      ]
    },
    {
      "metadata": {
        "id": "RlJFXtFWandL",
        "colab_type": "text"
      },
      "cell_type": "markdown",
      "source": [
        "# openAPI spec classifier\n",
        "This notebook is used to create a first proof of concept on a classifier for openAPI files. The classifier will be based on a neural network based architecture and will be implemented in Tensorflow, SciPy and Keras."
      ]
    },
    {
      "metadata": {
        "id": "sp4kSQncaqEY",
        "colab_type": "code",
        "colab": {
          "base_uri": "https://localhost:8080/",
          "height": 2278
        },
        "outputId": "891fa812-0eb6-4112-e82e-33349ff65b86"
      },
      "cell_type": "code",
      "source": [
        "# Install a Drive FUSE wrapper.\n",
        "# https://github.com/astrada/google-drive-ocamlfuse\n",
        "!apt-get install -y -qq software-properties-common python-software-properties module-init-tools\n",
        "!add-apt-repository -y ppa:alessandro-strada/ppa 2>&1 > /dev/null\n",
        "!apt-get update -qq 2>&1 > /dev/null\n",
        "!apt-get -y install -qq google-drive-ocamlfuse fuse"
      ],
      "execution_count": 1,
      "outputs": [
        {
          "output_type": "stream",
          "text": [
            "Preconfiguring packages ...\n",
            "Selecting previously unselected package cron.\n",
            "(Reading database ... 18298 files and directories currently installed.)\n",
            "Preparing to unpack .../00-cron_3.0pl1-128ubuntu5_amd64.deb ...\n",
            "Unpacking cron (3.0pl1-128ubuntu5) ...\n",
            "Selecting previously unselected package libapparmor1:amd64.\n",
            "Preparing to unpack .../01-libapparmor1_2.11.0-2ubuntu17.1_amd64.deb ...\n",
            "Unpacking libapparmor1:amd64 (2.11.0-2ubuntu17.1) ...\n",
            "Selecting previously unselected package libdbus-1-3:amd64.\n",
            "Preparing to unpack .../02-libdbus-1-3_1.10.22-1ubuntu1_amd64.deb ...\n",
            "Unpacking libdbus-1-3:amd64 (1.10.22-1ubuntu1) ...\n",
            "Selecting previously unselected package dbus.\n",
            "Preparing to unpack .../03-dbus_1.10.22-1ubuntu1_amd64.deb ...\n",
            "Unpacking dbus (1.10.22-1ubuntu1) ...\n",
            "Selecting previously unselected package dirmngr.\n",
            "Preparing to unpack .../04-dirmngr_2.1.15-1ubuntu8_amd64.deb ...\n",
            "Unpacking dirmngr (2.1.15-1ubuntu8) ...\n",
            "Selecting previously unselected package distro-info-data.\n",
            "Preparing to unpack .../05-distro-info-data_0.36ubuntu0.2_all.deb ...\n",
            "Unpacking distro-info-data (0.36ubuntu0.2) ...\n",
            "Selecting previously unselected package libkmod2:amd64.\n",
            "Preparing to unpack .../06-libkmod2_24-1ubuntu2_amd64.deb ...\n",
            "Unpacking libkmod2:amd64 (24-1ubuntu2) ...\n",
            "Selecting previously unselected package kmod.\n",
            "Preparing to unpack .../07-kmod_24-1ubuntu2_amd64.deb ...\n",
            "Unpacking kmod (24-1ubuntu2) ...\n",
            "Selecting previously unselected package lsb-release.\n",
            "Preparing to unpack .../08-lsb-release_9.20160110ubuntu5_all.deb ...\n",
            "Unpacking lsb-release (9.20160110ubuntu5) ...\n",
            "Selecting previously unselected package libgirepository-1.0-1:amd64.\n",
            "Preparing to unpack .../09-libgirepository-1.0-1_1.54.1-1_amd64.deb ...\n",
            "Unpacking libgirepository-1.0-1:amd64 (1.54.1-1) ...\n",
            "Selecting previously unselected package gir1.2-glib-2.0:amd64.\n",
            "Preparing to unpack .../10-gir1.2-glib-2.0_1.54.1-1_amd64.deb ...\n",
            "Unpacking gir1.2-glib-2.0:amd64 (1.54.1-1) ...\n",
            "Selecting previously unselected package iso-codes.\n",
            "Preparing to unpack .../11-iso-codes_3.75-1_all.deb ...\n",
            "Unpacking iso-codes (3.75-1) ...\n",
            "Selecting previously unselected package libdbus-glib-1-2:amd64.\n",
            "Preparing to unpack .../12-libdbus-glib-1-2_0.108-2_amd64.deb ...\n",
            "Unpacking libdbus-glib-1-2:amd64 (0.108-2) ...\n",
            "Selecting previously unselected package python-apt-common.\n",
            "Preparing to unpack .../13-python-apt-common_1.4.0~beta3build2_all.deb ...\n",
            "Unpacking python-apt-common (1.4.0~beta3build2) ...\n",
            "Selecting previously unselected package python3-apt.\n",
            "Preparing to unpack .../14-python3-apt_1.4.0~beta3build2_amd64.deb ...\n",
            "Unpacking python3-apt (1.4.0~beta3build2) ...\n",
            "Selecting previously unselected package python3-dbus.\n",
            "Preparing to unpack .../15-python3-dbus_1.2.4-1build3_amd64.deb ...\n",
            "Unpacking python3-dbus (1.2.4-1build3) ...\n",
            "Selecting previously unselected package python3-gi.\n",
            "Preparing to unpack .../16-python3-gi_3.24.1-2build1_amd64.deb ...\n",
            "Unpacking python3-gi (3.24.1-2build1) ...\n",
            "Selecting previously unselected package module-init-tools.\n",
            "Preparing to unpack .../17-module-init-tools_24-1ubuntu2_all.deb ...\n",
            "Unpacking module-init-tools (24-1ubuntu2) ...\n",
            "Selecting previously unselected package python-apt.\n",
            "Preparing to unpack .../18-python-apt_1.4.0~beta3build2_amd64.deb ...\n",
            "Unpacking python-apt (1.4.0~beta3build2) ...\n",
            "Selecting previously unselected package python-pycurl.\n",
            "Preparing to unpack .../19-python-pycurl_7.43.0-2build2_amd64.deb ...\n",
            "Unpacking python-pycurl (7.43.0-2build2) ...\n",
            "Selecting previously unselected package python-software-properties.\n",
            "Preparing to unpack .../20-python-software-properties_0.96.24.17_all.deb ...\n",
            "Unpacking python-software-properties (0.96.24.17) ...\n",
            "Selecting previously unselected package python3-software-properties.\n",
            "Preparing to unpack .../21-python3-software-properties_0.96.24.17_all.deb ...\n",
            "Unpacking python3-software-properties (0.96.24.17) ...\n",
            "Selecting previously unselected package software-properties-common.\n",
            "Preparing to unpack .../22-software-properties-common_0.96.24.17_all.deb ...\n",
            "Unpacking software-properties-common (0.96.24.17) ...\n",
            "Selecting previously unselected package unattended-upgrades.\n",
            "Preparing to unpack .../23-unattended-upgrades_0.98ubuntu1.1_all.deb ...\n",
            "Unpacking unattended-upgrades (0.98ubuntu1.1) ...\n",
            "Setting up python-apt-common (1.4.0~beta3build2) ...\n",
            "Setting up python3-apt (1.4.0~beta3build2) ...\n",
            "Setting up iso-codes (3.75-1) ...\n",
            "Setting up distro-info-data (0.36ubuntu0.2) ...\n",
            "Setting up python-pycurl (7.43.0-2build2) ...\n",
            "Setting up lsb-release (9.20160110ubuntu5) ...\n",
            "Setting up libgirepository-1.0-1:amd64 (1.54.1-1) ...\n",
            "Setting up libkmod2:amd64 (24-1ubuntu2) ...\n",
            "Setting up gir1.2-glib-2.0:amd64 (1.54.1-1) ...\n"
          ],
          "name": "stdout"
        },
        {
          "output_type": "stream",
          "text": [
            "Processing triggers for libc-bin (2.26-0ubuntu2.1) ...\n",
            "Setting up libapparmor1:amd64 (2.11.0-2ubuntu17.1) ...\n",
            "Setting up unattended-upgrades (0.98ubuntu1.1) ...\n",
            "\n",
            "Creating config file /etc/apt/apt.conf.d/20auto-upgrades with new version\n",
            "\n",
            "Creating config file /etc/apt/apt.conf.d/50unattended-upgrades with new version\n",
            "invoke-rc.d: could not determine current runlevel\n",
            "invoke-rc.d: policy-rc.d denied execution of start.\n",
            "Setting up dirmngr (2.1.15-1ubuntu8) ...\n",
            "Setting up cron (3.0pl1-128ubuntu5) ...\n",
            "Adding group `crontab' (GID 102) ...\n",
            "Done.\n",
            "update-rc.d: warning: start and stop actions are no longer supported; falling back to defaults\n",
            "update-rc.d: warning: stop runlevel arguments (1) do not match cron Default-Stop values (none)\n",
            "invoke-rc.d: could not determine current runlevel\n",
            "invoke-rc.d: policy-rc.d denied execution of start.\n",
            "Setting up libdbus-1-3:amd64 (1.10.22-1ubuntu1) ...\n",
            "Setting up kmod (24-1ubuntu2) ...\n",
            "Setting up libdbus-glib-1-2:amd64 (0.108-2) ...\n",
            "Setting up python3-gi (3.24.1-2build1) ...\n",
            "Setting up module-init-tools (24-1ubuntu2) ...\n",
            "Setting up python3-software-properties (0.96.24.17) ...\n",
            "Setting up dbus (1.10.22-1ubuntu1) ...\n",
            "Setting up python-apt (1.4.0~beta3build2) ...\n",
            "Setting up python3-dbus (1.2.4-1build3) ...\n",
            "Setting up python-software-properties (0.96.24.17) ...\n",
            "Setting up software-properties-common (0.96.24.17) ...\n",
            "Processing triggers for libc-bin (2.26-0ubuntu2.1) ...\n",
            "Processing triggers for dbus (1.10.22-1ubuntu1) ...\n",
            "gpg: keybox '/tmp/tmp2i71thir/pubring.gpg' created\n",
            "gpg: /tmp/tmp2i71thir/trustdb.gpg: trustdb created\n",
            "gpg: key AD5F235DF639B041: public key \"Launchpad PPA for Alessandro Strada\" imported\n",
            "gpg: Total number processed: 1\n",
            "gpg:               imported: 1\n",
            "Warning: apt-key output should not be parsed (stdout is not a terminal)\n",
            "Selecting previously unselected package libfuse2:amd64.\n",
            "(Reading database ... 19706 files and directories currently installed.)\n",
            "Preparing to unpack .../libfuse2_2.9.7-1ubuntu1_amd64.deb ...\n",
            "Unpacking libfuse2:amd64 (2.9.7-1ubuntu1) ...\n",
            "Selecting previously unselected package fuse.\n",
            "Preparing to unpack .../fuse_2.9.7-1ubuntu1_amd64.deb ...\n",
            "Unpacking fuse (2.9.7-1ubuntu1) ...\n",
            "Selecting previously unselected package google-drive-ocamlfuse.\n",
            "Preparing to unpack .../google-drive-ocamlfuse_0.6.21-0ubuntu2_amd64.deb ...\n",
            "Unpacking google-drive-ocamlfuse (0.6.21-0ubuntu2) ...\n",
            "Setting up libfuse2:amd64 (2.9.7-1ubuntu1) ...\n",
            "Processing triggers for libc-bin (2.26-0ubuntu2.1) ...\n",
            "Setting up fuse (2.9.7-1ubuntu1) ...\n",
            "Setting up google-drive-ocamlfuse (0.6.21-0ubuntu2) ...\n"
          ],
          "name": "stdout"
        }
      ]
    },
    {
      "metadata": {
        "id": "5W9g2Zp9a45h",
        "colab_type": "code",
        "colab": {}
      },
      "cell_type": "code",
      "source": [
        "# Generate auth tokens for Colab\n",
        "from google.colab import auth\n",
        "auth.authenticate_user()"
      ],
      "execution_count": 0,
      "outputs": []
    },
    {
      "metadata": {
        "id": "b2uG7hEra8k9",
        "colab_type": "code",
        "colab": {
          "base_uri": "https://localhost:8080/",
          "height": 105
        },
        "outputId": "61f9a42c-1698-481f-a64c-e52fc414ead9"
      },
      "cell_type": "code",
      "source": [
        "# Generate creds for the Drive FUSE library.\n",
        "from oauth2client.client import GoogleCredentials\n",
        "creds = GoogleCredentials.get_application_default()\n",
        "import getpass\n",
        "!google-drive-ocamlfuse -headless -id={creds.client_id} -secret={creds.client_secret} < /dev/null 2>&1 | grep URL\n",
        "vcode = getpass.getpass()\n",
        "!echo {vcode} | google-drive-ocamlfuse -headless -id={creds.client_id} -secret={creds.client_secret}"
      ],
      "execution_count": 3,
      "outputs": [
        {
          "output_type": "stream",
          "text": [
            "Please, open the following URL in a web browser: https://accounts.google.com/o/oauth2/auth?client_id=32555940559.apps.googleusercontent.com&redirect_uri=urn%3Aietf%3Awg%3Aoauth%3A2.0%3Aoob&scope=https%3A%2F%2Fwww.googleapis.com%2Fauth%2Fdrive&response_type=code&access_type=offline&approval_prompt=force\r\n",
            "··········\n",
            "Please, open the following URL in a web browser: https://accounts.google.com/o/oauth2/auth?client_id=32555940559.apps.googleusercontent.com&redirect_uri=urn%3Aietf%3Awg%3Aoauth%3A2.0%3Aoob&scope=https%3A%2F%2Fwww.googleapis.com%2Fauth%2Fdrive&response_type=code&access_type=offline&approval_prompt=force\n",
            "Please enter the verification code: Access token retrieved correctly.\n"
          ],
          "name": "stdout"
        }
      ]
    },
    {
      "metadata": {
        "id": "63mVwUIrbEwM",
        "colab_type": "code",
        "colab": {}
      },
      "cell_type": "code",
      "source": [
        "# Create a directory and mount Google Drive using that directory.\n",
        "!mkdir -p drive\n",
        "!google-drive-ocamlfuse drive"
      ],
      "execution_count": 0,
      "outputs": []
    },
    {
      "metadata": {
        "id": "-hOy5JgWbF9t",
        "colab_type": "code",
        "colab": {}
      },
      "cell_type": "code",
      "source": [
        "# Create a folder to use for the project data\n",
        "!mkdir -p /content/drive/openapi-data/"
      ],
      "execution_count": 0,
      "outputs": []
    },
    {
      "metadata": {
        "id": "kVcmQOfWbII1",
        "colab_type": "code",
        "colab": {
          "base_uri": "https://localhost:8080/",
          "height": 153
        },
        "outputId": "3afd4f43-2e6c-4abb-f8e3-a8633cb50a7a"
      },
      "cell_type": "code",
      "source": [
        "!ls /content/drive/openapi-data/"
      ],
      "execution_count": 6,
      "outputs": [
        {
          "output_type": "stream",
          "text": [
            "CNN_cat.h5\t       LSTMCNN_cat_weights.h5\t structure_labels.csv\r\n",
            "CNN_cat_weights.h5     mnist.py\t\t\t tokenizer_cat\r\n",
            "CNN_path.h5\t       new_path_labels0518.csv\t tokenizer_path\r\n",
            "CNN_path_weights.h5    path_labels0518.csv\t tokenizer_struct\r\n",
            "CNN_struct.h5\t       path_labels.csv\t\t weights.best.hdf5\r\n",
            "CNN_struct_weights.h5  pickle\t\t\t wordvector\r\n",
            "glove.6B.zip\t       PoC Classifier Path.odt\r\n",
            "LSTMCNN_cat.h5\t       structure_labels0518.csv\r\n"
          ],
          "name": "stdout"
        }
      ]
    },
    {
      "metadata": {
        "id": "uiZtaLU9bLc4",
        "colab_type": "code",
        "colab": {
          "base_uri": "https://localhost:8080/",
          "height": 34
        },
        "outputId": "41227159-7f22-4cba-f810-d120a1c01d8d"
      },
      "cell_type": "code",
      "source": [
        "!pip install -q keras\n",
        "!pip install -q graphviz\n",
        "import keras\n",
        "import graphviz"
      ],
      "execution_count": 7,
      "outputs": [
        {
          "output_type": "stream",
          "text": [
            "Using TensorFlow backend.\n"
          ],
          "name": "stderr"
        }
      ]
    },
    {
      "metadata": {
        "id": "jnC7eg1VbQxv",
        "colab_type": "code",
        "colab": {
          "base_uri": "https://localhost:8080/",
          "height": 34
        },
        "outputId": "74c5ed91-c7ce-4c7f-b3aa-3064b6492d19"
      },
      "cell_type": "code",
      "source": [
        "import tensorflow as tf\n",
        "tf.test.gpu_device_name()"
      ],
      "execution_count": 8,
      "outputs": [
        {
          "output_type": "execute_result",
          "data": {
            "text/plain": [
              "'/device:GPU:0'"
            ]
          },
          "metadata": {
            "tags": []
          },
          "execution_count": 8
        }
      ]
    },
    {
      "metadata": {
        "id": "XymyVRyfbYv1",
        "colab_type": "code",
        "colab": {}
      },
      "cell_type": "code",
      "source": [
        "import os\n",
        "os.chdir(\"drive/openapi-data\")"
      ],
      "execution_count": 0,
      "outputs": []
    },
    {
      "metadata": {
        "id": "E6hH0iysbZvS",
        "colab_type": "code",
        "colab": {
          "base_uri": "https://localhost:8080/",
          "height": 153
        },
        "outputId": "b2338107-acc5-4263-c64a-6bd3908e63a6"
      },
      "cell_type": "code",
      "source": [
        "!ls"
      ],
      "execution_count": 10,
      "outputs": [
        {
          "output_type": "stream",
          "text": [
            "CNN_cat.h5\t       LSTMCNN_cat_weights.h5\t structure_labels.csv\r\n",
            "CNN_cat_weights.h5     mnist.py\t\t\t tokenizer_cat\r\n",
            "CNN_path.h5\t       new_path_labels0518.csv\t tokenizer_path\r\n",
            "CNN_path_weights.h5    path_labels0518.csv\t tokenizer_struct\r\n",
            "CNN_struct.h5\t       path_labels.csv\t\t weights.best.hdf5\r\n",
            "CNN_struct_weights.h5  pickle\t\t\t wordvector\r\n",
            "glove.6B.zip\t       PoC Classifier Path.odt\r\n",
            "LSTMCNN_cat.h5\t       structure_labels0518.csv\r\n"
          ],
          "name": "stdout"
        }
      ]
    },
    {
      "metadata": {
        "id": "sOCjn2JhSmEz",
        "colab_type": "text"
      },
      "cell_type": "markdown",
      "source": [
        "## Import Data Sets"
      ]
    },
    {
      "metadata": {
        "id": "hceoBAYuboKP",
        "colab_type": "code",
        "colab": {}
      },
      "cell_type": "code",
      "source": [
        "import pickle"
      ],
      "execution_count": 0,
      "outputs": []
    },
    {
      "metadata": {
        "id": "GCgYSYzEbc3o",
        "colab_type": "code",
        "colab": {}
      },
      "cell_type": "code",
      "source": [
        "training_data = dict()\n",
        "\n",
        "with open('pickle/specjson210518.pkl', 'rb') as handle:\n",
        "    training_data = pickle.load(handle)"
      ],
      "execution_count": 0,
      "outputs": []
    },
    {
      "metadata": {
        "id": "zG6Pq2C8vP1W",
        "colab_type": "code",
        "colab": {}
      },
      "cell_type": "code",
      "source": [
        "training_info = dict()\n",
        "\n",
        "with open('pickle/infodict0518.pkl', 'rb') as handle:\n",
        "    training_info = pickle.load(handle)"
      ],
      "execution_count": 0,
      "outputs": []
    },
    {
      "metadata": {
        "id": "OZusz8beSbcY",
        "colab_type": "code",
        "colab": {}
      },
      "cell_type": "code",
      "source": [
        "cat_data = dict()\n",
        "\n",
        "with open('pickle/spec_category0518.pkl', 'rb') as handle:\n",
        "    cat_data = pickle.load(handle)"
      ],
      "execution_count": 0,
      "outputs": []
    },
    {
      "metadata": {
        "id": "Ll6aRNUSvYqM",
        "colab_type": "code",
        "colab": {
          "base_uri": "https://localhost:8080/",
          "height": 54
        },
        "outputId": "16c79712-85bb-4382-f900-b9fdb4c04307"
      },
      "cell_type": "code",
      "source": [
        "cat_info = dict()\n",
        "for cat in cat_data:\n",
        "    info = cat_data[cat]['info']\n",
        "    cat_info[cat] = info\n",
        "print(cat_info.keys())"
      ],
      "execution_count": 15,
      "outputs": [
        {
          "output_type": "stream",
          "text": [
            "dict_keys(['1forge.com', '6-dot-authentiqio.appspot.com', 'adafruit.com', 'adobe.com:aem', 'adyen.com:CheckoutService', 'adyen.com:PaymentService', 'adyen.com:RecurringService', 'afterbanks.com', 'agco-ats.com', 'airport-web.appspot.com', 'amazonaws.com:AWSMigrationHub', 'amazonaws.com:acm', 'amazonaws.com:acm-pca', 'amazonaws.com:alexaforbusiness', 'amazonaws.com:apigateway', 'amazonaws.com:application-autoscaling', 'amazonaws.com:appstream', 'amazonaws.com:appsync', 'amazonaws.com:athena', 'amazonaws.com:autoscaling', 'amazonaws.com:autoscaling-plans', 'amazonaws.com:batch', 'amazonaws.com:budgets', 'amazonaws.com:ce', 'amazonaws.com:cloud9', 'amazonaws.com:clouddirectory', 'amazonaws.com:cloudformation', 'amazonaws.com:cloudfront', 'amazonaws.com:cloudhsm', 'amazonaws.com:cloudhsmv2', 'amazonaws.com:cloudsearch', 'amazonaws.com:cloudsearchdomain', 'amazonaws.com:cloudtrail', 'amazonaws.com:codebuild', 'amazonaws.com:codecommit', 'amazonaws.com:codedeploy', 'amazonaws.com:codepipeline', 'amazonaws.com:codestar', 'amazonaws.com:cognito-identity', 'amazonaws.com:cognito-idp', 'amazonaws.com:cognito-sync', 'amazonaws.com:comprehend', 'amazonaws.com:config', 'amazonaws.com:connect', 'amazonaws.com:cur', 'amazonaws.com:datapipeline', 'amazonaws.com:dax', 'amazonaws.com:devicefarm', 'amazonaws.com:directconnect', 'amazonaws.com:discovery', 'amazonaws.com:dms', 'amazonaws.com:ds', 'amazonaws.com:dynamodb', 'amazonaws.com:ec2', 'amazonaws.com:ecr', 'amazonaws.com:ecs', 'amazonaws.com:elasticache', 'amazonaws.com:elasticbeanstalk', 'amazonaws.com:elasticfilesystem', 'amazonaws.com:elasticloadbalancing', 'amazonaws.com:elasticloadbalancingv2', 'amazonaws.com:elasticmapreduce', 'amazonaws.com:elastictranscoder', 'amazonaws.com:email', 'amazonaws.com:entitlement.marketplace', 'amazonaws.com:es', 'amazonaws.com:events', 'amazonaws.com:firehose', 'amazonaws.com:fms', 'amazonaws.com:gamelift', 'amazonaws.com:glacier', 'amazonaws.com:glue', 'amazonaws.com:greengrass', 'amazonaws.com:guardduty', 'amazonaws.com:health', 'amazonaws.com:iam', 'amazonaws.com:importexport', 'amazonaws.com:inspector', 'amazonaws.com:iot', 'amazonaws.com:iot-data', 'amazonaws.com:iot-jobs-data', 'amazonaws.com:iot1click-devices', 'amazonaws.com:iot1click-projects', 'amazonaws.com:iotanalytics', 'amazonaws.com:kinesis', 'amazonaws.com:kinesis-video-archived-media', 'amazonaws.com:kinesis-video-media', 'amazonaws.com:kinesisanalytics', 'amazonaws.com:kinesisvideo', 'amazonaws.com:kms', 'amazonaws.com:lambda', 'amazonaws.com:lex-models', 'amazonaws.com:lightsail', 'amazonaws.com:logs', 'amazonaws.com:machinelearning', 'amazonaws.com:marketplacecommerceanalytics', 'amazonaws.com:mediaconvert', 'amazonaws.com:medialive', 'amazonaws.com:mediapackage', 'amazonaws.com:mediastore', 'amazonaws.com:mediastore-data', 'amazonaws.com:meteringmarketplace', 'amazonaws.com:mobile', 'amazonaws.com:mobileanalytics', 'amazonaws.com:monitoring', 'amazonaws.com:mq', 'amazonaws.com:mturk-requester', 'amazonaws.com:opsworks', 'amazonaws.com:opsworkscm', 'amazonaws.com:organizations', 'amazonaws.com:pinpoint', 'amazonaws.com:polly', 'amazonaws.com:pricing', 'amazonaws.com:rds', 'amazonaws.com:redshift', 'amazonaws.com:rekognition', 'amazonaws.com:resource-groups', 'amazonaws.com:resourcegroupstaggingapi', 'amazonaws.com:route53', 'amazonaws.com:route53domains', 'amazonaws.com:runtime.lex', 'amazonaws.com:runtime.sagemaker', 'amazonaws.com:s3', 'amazonaws.com:sagemaker', 'amazonaws.com:sdb', 'amazonaws.com:secretsmanager', 'amazonaws.com:serverlessrepo', 'amazonaws.com:servicecatalog', 'amazonaws.com:servicediscovery', 'amazonaws.com:shield', 'amazonaws.com:sms', 'amazonaws.com:snowball', 'amazonaws.com:sns', 'amazonaws.com:sqs', 'amazonaws.com:ssm', 'amazonaws.com:states', 'amazonaws.com:storagegateway', 'amazonaws.com:streams.dynamodb', 'amazonaws.com:sts', 'amazonaws.com:support', 'amazonaws.com:swf', 'amazonaws.com:transcribe', 'amazonaws.com:translate', 'amazonaws.com:waf', 'amazonaws.com:waf-regional', 'amazonaws.com:workdocs', 'amazonaws.com:workmail', 'amazonaws.com:workspaces', 'amazonaws.com:xray', 'anchore.io', 'apache.org:qakka', 'apacta.com', 'api2cart.com', 'apigee.net:marketcheck-cars', 'apimatic.io', 'apis.guru', 'apitore.com:documentFrequencyApis', 'apitore.com:languageDetectionApis', 'apitore.com:sentenceSeparatorApis', 'apitore.com:sentenceSimilarity', 'apitore.com:sentencepieceApis_tweet_', 'apitore.com:sentencepieceApis_wikipedia_', 'apitore.com:sentimentApis', 'apitore.com:synonymApis', 'apitore.com:tweetSummarizationApis', 'apitore.com:twitterApis', 'apitore.com:twitterApisWithSentimentByApitoreSentimentApi', 'apitore.com:twitterApisWithWord2vecQueryExpansion', 'apitore.com:twitterApisWithWord2vecQueryExpansion,AndAddSentimentByApitoreSentimentApi', 'apitore.com:word2vecApis', 'apitore.com:wordnetApis', 'apitore.com:wordnetHypernymApis', 'apitore.com:wordnetHyponymApis', 'apitore.com:wordnetSimilarityApis', 'apitore.com:wordnetSynonymApis', 'apitore.com:wordnetTranslationApis', 'apitore.com:wordsToVectorsApis', 'appveyor.com', 'archive.org:search', 'archive.org:wayback', 'art19.com', 'ato.gov.au', 'aucklandmuseum.com', 'authentiq.io', 'avaza.com', 'aviationdata.systems', 'azure.com:advisor', 'azure.com:analysisservices', 'azure.com:apimanagement', 'azure.com:apimanagement-apimapis', 'azure.com:apimanagement-apimauthorizationservers', 'azure.com:apimanagement-apimbackends', 'azure.com:apimanagement-apimcertificates', 'azure.com:apimanagement-apimdeployment', 'azure.com:apimanagement-apimdiagnostics', 'azure.com:apimanagement-apimemailtemplate', 'azure.com:apimanagement-apimgroups', 'azure.com:apimanagement-apimidentityprovider', 'azure.com:apimanagement-apimloggers', 'azure.com:apimanagement-apimnetworkstatus', 'azure.com:apimanagement-apimnotifications', 'azure.com:apimanagement-apimopenidconnectproviders', 'azure.com:apimanagement-apimproducts', 'azure.com:apimanagement-apimproperties', 'azure.com:apimanagement-apimquotas', 'azure.com:apimanagement-apimreports', 'azure.com:apimanagement-apimsubscriptions', 'azure.com:apimanagement-apimtagresources', 'azure.com:apimanagement-apimtags', 'azure.com:apimanagement-apimtenant', 'azure.com:apimanagement-apimusers', 'azure.com:apimanagement-apimversionsets', 'azure.com:applicationinsights-aiOperations_API', 'azure.com:applicationinsights-componentAnnotations_API', 'azure.com:applicationinsights-componentApiKeys_API', 'azure.com:applicationinsights-componentContinuousExport_API', 'azure.com:applicationinsights-componentFeaturesAndPricing_API', 'azure.com:applicationinsights-componentProactiveDetection_API', 'azure.com:applicationinsights-componentWorkItemConfigs_API', 'azure.com:applicationinsights-components_API', 'azure.com:applicationinsights-favorites_API', 'azure.com:applicationinsights-webTestLocations_API', 'azure.com:applicationinsights-webTests_API', 'azure.com:authorization', 'azure.com:authorization-authorization-ClassicAdminCalls', 'azure.com:authorization-authorization-RACalls', 'azure.com:authorization-authorization-RoleBasedCalls', 'azure.com:automation-account', 'azure.com:automation-certificate', 'azure.com:automation-connection', 'azure.com:automation-connectionType', 'azure.com:automation-credential', 'azure.com:automation-dscCompilationJob', 'azure.com:automation-dscConfiguration', 'azure.com:automation-dscNode', 'azure.com:automation-dscNodeConfiguration', 'azure.com:automation-hybridRunbookWorkerGroup', 'azure.com:automation-job', 'azure.com:automation-jobSchedule', 'azure.com:automation-linkedWorkspace', 'azure.com:automation-module', 'azure.com:automation-runbook', 'azure.com:automation-schedule', 'azure.com:automation-softwareUpdateConfiguration', 'azure.com:automation-softwareUpdateConfigurationMachineRun', 'azure.com:automation-softwareUpdateConfigurationRun', 'azure.com:automation-sourceControl', 'azure.com:automation-sourceControlSyncJob', 'azure.com:automation-variable', 'azure.com:automation-webhook', 'azure.com:azsadmin-Alert', 'azure.com:azsadmin-CommerceAdmin', 'azure.com:azsadmin-EdgeGateway', 'azure.com:azsadmin-EdgeGatewayPool', 'azure.com:azsadmin-FabricLocation', 'azure.com:azsadmin-FileShare', 'azure.com:azsadmin-InfraRole', 'azure.com:azsadmin-InfraRoleInstance', 'azure.com:azsadmin-IpPool', 'azure.com:azsadmin-LogicalNetwork', 'azure.com:azsadmin-LogicalSubnet', 'azure.com:azsadmin-MacAddressPool', 'azure.com:azsadmin-Operations', 'azure.com:azsadmin-RegionHealth', 'azure.com:azsadmin-ResourceHealth', 'azure.com:azsadmin-ScaleUnit', 'azure.com:azsadmin-ScaleUnitNode', 'azure.com:azsadmin-ServiceHealth', 'azure.com:azsadmin-SlbMuxInstance', 'azure.com:azsadmin-StoragePool', 'azure.com:azsadmin-StorageSystem', 'azure.com:azsadmin-Volume', 'azure.com:azurestack-AzureStack', 'azure.com:azurestack-CustomerSubscription', 'azure.com:azurestack-Product', 'azure.com:azurestack-Registration', 'azure.com:batch-BatchManagement', 'azure.com:batchai-BatchAI', 'azure.com:billing', 'azure.com:cdn', 'azure.com:cognitiveservices', 'azure.com:cognitiveservices-ComputerVision', 'azure.com:cognitiveservices-ContentModerator', 'azure.com:cognitiveservices-Face', 'azure.com:cognitiveservices-LUIS-Programmatic', 'azure.com:cognitiveservices-LUIS-Runtime', 'azure.com:cognitiveservices-TextAnalytics', 'azure.com:commerce', 'azure.com:compute', 'azure.com:compute-containerService', 'azure.com:compute-disk', 'azure.com:compute-runCommands', 'azure.com:compute-skus', 'azure.com:compute-swagger', 'azure.com:consumption', 'azure.com:containerinstance-containerInstance', 'azure.com:containerregistry', 'azure.com:containerservices-containerService', 'azure.com:containerservices-location', 'azure.com:containerservices-managedClusters', 'azure.com:cosmos-db', 'azure.com:customer-insights', 'azure.com:datacatalog', 'azure.com:datafactory', 'azure.com:datalake-analytics-account', 'azure.com:datalake-analytics-catalog', 'azure.com:datalake-analytics-job', 'azure.com:datalake-store-account', 'azure.com:datalake-store-filesystem', 'azure.com:datamigration', 'azure.com:deviceprovisioningservices-iotdps', 'azure.com:devtestlabs-DTL', 'azure.com:dns', 'azure.com:domainservices', 'azure.com:eventgrid-EventGrid', 'azure.com:eventhub-EventHub', 'azure.com:hanaonazure', 'azure.com:hdinsight-applications', 'azure.com:hdinsight-capabilities', 'azure.com:hdinsight-cluster', 'azure.com:hdinsight-configurations', 'azure.com:hdinsight-extensions', 'azure.com:hdinsight-operations', 'azure.com:hdinsight-scriptActions', 'azure.com:intune', 'azure.com:iothub', 'azure.com:keyvault', 'azure.com:keyvault-providers', 'azure.com:keyvault-secrets', 'azure.com:locationbasedservices', 'azure.com:logic', 'azure.com:machinelearning-commitmentPlans', 'azure.com:machinelearning-webservices', 'azure.com:machinelearning-workspaces', 'azure.com:machinelearningcompute-machineLearningCompute', 'azure.com:machinelearningexperimentation-machineLearningExperimentation', 'azure.com:managementgroups-management', 'azure.com:managementpartner-ManagementPartner', 'azure.com:marketplaceordering-Agreements', 'azure.com:mediaservices-media', 'azure.com:migrate', 'azure.com:mobileengagement-mobile-engagement', 'azure.com:monitor-actionGroups_API', 'azure.com:monitor-activityLogAlerts_API', 'azure.com:monitor-activityLogs_API', 'azure.com:monitor-alertRulesIncidents_API', 'azure.com:monitor-alertRules_API', 'azure.com:monitor-autoscale_API', 'azure.com:monitor-baseline_API', 'azure.com:monitor-calculateBaseline_API', 'azure.com:monitor-diagnosticsSettingsCategories_API', 'azure.com:monitor-diagnosticsSettings_API', 'azure.com:monitor-eventCategories_API', 'azure.com:monitor-logProfiles_API', 'azure.com:monitor-metricDefinitions_API', 'azure.com:monitor-metrics_API', 'azure.com:monitor-operations_API', 'azure.com:monitor-serviceDiagnosticsSettings_API', 'azure.com:monitor-tenantActivityLogs_API', 'azure.com:msi-ManagedIdentity', 'azure.com:mysql', 'azure.com:network', 'azure.com:network-applicationGateway', 'azure.com:network-applicationSecurityGroup', 'azure.com:network-checkDnsAvailability', 'azure.com:network-endpointService', 'azure.com:network-expressRouteCircuit', 'azure.com:network-loadBalancer', 'azure.com:network-networkInterface', 'azure.com:network-networkSecurityGroup', 'azure.com:network-networkWatcher', 'azure.com:network-operation', 'azure.com:network-publicIpAddress', 'azure.com:network-routeFilter', 'azure.com:network-routeTable', 'azure.com:network-serviceCommunity', 'azure.com:network-usage', 'azure.com:network-virtualNetwork', 'azure.com:network-virtualNetworkGateway', 'azure.com:network-vmssNetworkInterface', 'azure.com:network-vmssPublicIpAddress', 'azure.com:notificationhubs', 'azure.com:operationalinsights-OperationalInsights', 'azure.com:operationsmanagement-OperationsManagement', 'azure.com:policyinsights-policyEvents', 'azure.com:policyinsights-policyStates', 'azure.com:postgresql', 'azure.com:powerbidedicated', 'azure.com:powerbiembedded', 'azure.com:provisioningservices-iotdps', 'azure.com:recoveryservices-backup', 'azure.com:recoveryservices-registeredidentities', 'azure.com:recoveryservices-replicationusages', 'azure.com:recoveryservices-vaults', 'azure.com:recoveryservices-vaultusages', 'azure.com:recoveryservicesbackup', 'azure.com:recoveryservicesbackup-backupManagement', 'azure.com:recoveryservicesbackup-bms', 'azure.com:recoveryservicesbackup-jobs', 'azure.com:recoveryservicesbackup-operations', 'azure.com:recoveryservicesbackup-registeredIdentities', 'azure.com:recoveryservicessiterecovery-service', 'azure.com:redis', 'azure.com:relay', 'azure.com:reservations', 'azure.com:resourcehealth', 'azure.com:resources', 'azure.com:resources-features', 'azure.com:resources-links', 'azure.com:resources-locks', 'azure.com:resources-managedapplications', 'azure.com:resources-management', 'azure.com:resources-policy', 'azure.com:resources-policyAssignments', 'azure.com:resources-policyDefinitions', 'azure.com:resources-policySetDefinitions', 'azure.com:resources-subscriptions', 'azure.com:scheduler', 'azure.com:search', 'azure.com:search-searchindex', 'azure.com:search-searchservice', 'azure.com:servermanagement', 'azure.com:service-map-arm-service-map', 'azure.com:servicebus', 'azure.com:servicefabric', 'azure.com:sql-Databases', 'azure.com:sql-advisors', 'azure.com:sql-backupLongTermRetentionPolicies', 'azure.com:sql-backupLongTermRetentionVaults', 'azure.com:sql-backups', 'azure.com:sql-blobAuditingPolicies', 'azure.com:sql-cancelOperations', 'azure.com:sql-cancelPoolOperations', 'azure.com:sql-capabilities', 'azure.com:sql-checkNameAvailability', 'azure.com:sql-connectionPolicies', 'azure.com:sql-dataMasking', 'azure.com:sql-dataWarehouseUserActivities', 'azure.com:sql-databaseAutomaticTuning', 'azure.com:sql-databaseSecurityAlertPolicies', 'azure.com:sql-databases', 'azure.com:sql-deprecated', 'azure.com:sql-disasterRecoveryConfigurations', 'azure.com:sql-elasticPools', 'azure.com:sql-encryptionProtectors', 'azure.com:sql-failoverGroups', 'azure.com:sql-firewallRules', 'azure.com:sql-geoBackupPolicies', 'azure.com:sql-importExport', 'azure.com:sql-managedDatabases', 'azure.com:sql-metrics', 'azure.com:sql-operations', 'azure.com:sql-queries', 'azure.com:sql-renameDatabase', 'azure.com:sql-replicationLinks', 'azure.com:sql-restorePoints', 'azure.com:sql-serverAutomaticTuning', 'azure.com:sql-serverAzureADAdministrators', 'azure.com:sql-serverCommunicationLinks', 'azure.com:sql-serverDnsAliases', 'azure.com:sql-serverKeys', 'azure.com:sql-servers', 'azure.com:sql-serviceObjectives', 'azure.com:sql-sql.core', 'azure.com:sql-syncAgents', 'azure.com:sql-syncGroups', 'azure.com:sql-syncMembers', 'azure.com:sql-tableAuditing', 'azure.com:sql-usages', 'azure.com:sql-virtualNetworkRules', 'azure.com:storage', 'azure.com:storageimportexport', 'azure.com:storsimple8000series-storsimple', 'azure.com:streamanalytics-functions', 'azure.com:streamanalytics-inputs', 'azure.com:streamanalytics-outputs', 'azure.com:streamanalytics-streamingjobs', 'azure.com:streamanalytics-subscriptions', 'azure.com:streamanalytics-transformations', 'azure.com:subscription-subscriptionDefinitions', 'azure.com:timeseriesinsights', 'azure.com:trafficmanager', 'azure.com:trafficmanager-trafficmanageranalytics', 'azure.com:visualstudio-Csm', 'azure.com:web-AppServiceCertificateOrders', 'azure.com:web-AppServiceEnvironments', 'azure.com:web-AppServicePlans', 'azure.com:web-CertificateRegistrationProvider', 'azure.com:web-Certificates', 'azure.com:web-DeletedWebApps', 'azure.com:web-Diagnostics', 'azure.com:web-DomainRegistrationProvider', 'azure.com:web-Domains', 'azure.com:web-Provider', 'azure.com:web-Recommendations', 'azure.com:web-ResourceProvider', 'azure.com:web-TopLevelDomains', 'azure.com:web-WebApps', 'azure.com:web-logicAppsManagementClient', 'azure.com:web-service', 'bbc.co.uk', 'bbc.com', 'bbci.co.uk', 'bclaws.ca:bclaws', 'beanstream.com', 'beezup.com', 'betfair.com', 'bhagavadgita.io', 'bikewise.org', 'bitbucket.org', 'blazemeter.com', 'bluemix.net:containers', 'botify.com', 'box.com:authorization', 'box.com:content', 'box.com:token', 'box.com:upload', 'brandlovers.com', 'brex.io', 'browshot.com', 'bufferapp.com', 'bulksms.com', 'bungie.net', 'callfire.com', 'carbondoomsday.com', 'ccp.is', 'channel4.com', 'circleci.com', 'circuitsandbox.net', 'cisco.com', 'citrixonline.com:gotomeeting', 'citycontext.com', 'clarify.io', 'clever-cloud.com', 'clever.com', 'clickmeter.com', 'cloudmersive.com:ocr', 'cnab-online.herokuapp.com', 'code-scan.com', 'consumerfinance.gov', 'core.ac.uk', 'cybertaxonomy.eu', 'dataatwork.org', 'datumbox.com', 'deeparteffects.com', 'deutschebahn.com:betriebsstellen', 'deutschebahn.com:fahrplan', 'deutschebahn.com:fasta', 'deutschebahn.com:flinkster', 'deutschebahn.com:reisezentren', 'deutschebahn.com:stada', 'digitallinguistics.io', 'docker.com:engine', 'docusign.net', 'domainsdb.info', 'dracoon.team', 'dropx.io', 'dweet.io', 'ebay.com:buy-browse', 'ebay.com:buy-feed', 'ebay.com:buy-marketing', 'ebay.com:commerce-taxonomy', 'ebay.com:sell-fulfillment', 'envoice.in', 'epa.gov:air', 'epa.gov:case', 'epa.gov:cwa', 'epa.gov:dfr', 'epa.gov:echo', 'epa.gov:eff', 'epa.gov:rcra', 'epa.gov:sdw', 'etmdb.com', 'europeana.eu', 'exavault.com', 'fantasydata.net:cbb-v3-scores', 'fantasydata.net:cbb-v3-stats', 'fantasydata.net:cfb-v3-scores', 'fantasydata.net:golf-v2', 'fantasydata.net:mlb-v3-play-by-play', 'fantasydata.net:mlb-v3-projections', 'fantasydata.net:mlb-v3-projections-dfsr', 'fantasydata.net:mlb-v3-rotoballer-articles', 'fantasydata.net:mlb-v3-rotoballer-premium-news', 'fantasydata.net:mlb-v3-scores', 'fantasydata.net:mlb-v3-stats', 'fantasydata.net:nascar-v2', 'fantasydata.net:nba-v3-play-by-play', 'fantasydata.net:nba-v3-projections', 'fantasydata.net:nba-v3-rotoballer-articles', 'fantasydata.net:nba-v3-rotoballer-premium-news', 'fantasydata.net:nba-v3-scores', 'fantasydata.net:nba-v3-stats', 'fantasydata.net:nfl-v3-play-by-play', 'fantasydata.net:nfl-v3-projections', 'fantasydata.net:nfl-v3-projections-dfsr', 'fantasydata.net:nfl-v3-rotoballer-articles', 'fantasydata.net:nfl-v3-rotoballer-premium-news', 'fantasydata.net:nfl-v3-scores', 'fantasydata.net:nfl-v3-stats', 'fantasydata.net:nhl-v3-play-by-play', 'fantasydata.net:nhl-v3-projections', 'fantasydata.net:nhl-v3-scores', 'fantasydata.net:nhl-v3-stats', 'fantasydata.net:soccer-v3-projections', 'fantasydata.net:soccer-v3-scores', 'fantasydata.net:soccer-v3-stats', 'figshare.com', 'firebrowse.org', 'flat.io', 'flickr.com', 'formapi.io', 'freesound.org', 'funtranslations.com', 'furkot.com', 'geneea.com', 'getsandbox.com', 'gettyimages.com', 'giphy.com', 'gisgraphy.com', 'github.com', 'gitlab.com', 'googleapis.com:admin', 'googleapis.com:analytics', 'googleapis.com:analyticsreporting', 'googleapis.com:androidpublisher', 'googleapis.com:bigquery', 'googleapis.com:blogger', 'googleapis.com:books', 'googleapis.com:calendar', 'googleapis.com:classroom', 'googleapis.com:cloudkms', 'googleapis.com:cloudmonitoring', 'googleapis.com:content', 'googleapis.com:customsearch', 'googleapis.com:datastore', 'googleapis.com:discovery', 'googleapis.com:dlp', 'googleapis.com:dns', 'googleapis.com:doubleclickbidmanager', 'googleapis.com:doubleclicksearch', 'googleapis.com:drive', 'googleapis.com:firebasedynamiclinks', 'googleapis.com:firebaseremoteconfig', 'googleapis.com:firebaserules', 'googleapis.com:firestore', 'googleapis.com:fusiontables', 'googleapis.com:games', 'googleapis.com:gamesConfiguration', 'googleapis.com:gamesManagement', 'googleapis.com:gmail', 'googleapis.com:groupsmigration', 'googleapis.com:groupssettings', 'googleapis.com:iam', 'googleapis.com:identitytoolkit', 'googleapis.com:kgsearch', 'googleapis.com:language', 'googleapis.com:licensing', 'googleapis.com:logging', 'googleapis.com:manufacturers', 'googleapis.com:ml', 'googleapis.com:monitoring', 'googleapis.com:oauth2', 'googleapis.com:oslogin', 'googleapis.com:pagespeedonline', 'googleapis.com:people', 'googleapis.com:playcustomapp', 'googleapis.com:playmoviespartner', 'googleapis.com:plus', 'googleapis.com:plusDomains', 'googleapis.com:prediction', 'googleapis.com:proximitybeacon', 'googleapis.com:pubsub', 'googleapis.com:replicapool', 'googleapis.com:replicapoolupdater', 'googleapis.com:reseller', 'googleapis.com:resourceviews', 'googleapis.com:runtimeconfig', 'googleapis.com:safebrowsing', 'googleapis.com:script', 'googleapis.com:searchconsole', 'googleapis.com:servicecontrol', 'googleapis.com:servicemanagement', 'googleapis.com:serviceuser', 'googleapis.com:sheets', 'googleapis.com:siteVerification', 'googleapis.com:slides', 'googleapis.com:sourcerepo', 'googleapis.com:spanner', 'googleapis.com:spectrum', 'googleapis.com:speech', 'googleapis.com:sqladmin', 'googleapis.com:storage', 'googleapis.com:storagetransfer', 'googleapis.com:streetviewpublish', 'googleapis.com:tagmanager', 'googleapis.com:taskqueue', 'googleapis.com:tasks', 'googleapis.com:testing', 'googleapis.com:translate', 'googleapis.com:urlshortener', 'googleapis.com:vault', 'googleapis.com:videointelligence', 'googleapis.com:vision', 'googleapis.com:webfonts', 'googleapis.com:webmasters', 'googleapis.com:youtube', 'googleapis.com:youtubeAnalytics', 'googleapis.com:youtubereporting', 'gov.bc.ca:bcdc', 'gov.bc.ca:bcgnws', 'gov.bc.ca:geocoder', 'gov.bc.ca:geomark', 'gov.bc.ca:gwells', 'gov.bc.ca:jobposting', 'gov.bc.ca:news', 'gov.bc.ca:open511', 'gov.bc.ca:router', 'graphhopper.com', 'greenpeace.org', 'hackathonwatch.com', 'haloapi.com:metadata', 'haloapi.com:profile', 'haloapi.com:stats', 'haloapi.com:ugc', 'healthcare.gov', 'hhs.gov', 'highwaysengland.co.uk', 'hillbillysoftware.com:shinobi', 'hsbc.com', 'icons8.com', 'idtbeyond.com', 'ijenko.net', 'illumidesk.com', 'import.io:data', 'import.io:extraction', 'import.io:rss', 'import.io:run', 'import.io:schedule', 'inboxroute.com', 'instagram.com', 'instawell.com', 'iqualify.com', 'isbndb.com', 'isendpro.com', 'iva-api.com', 'je-apis.com', 'jirafe.com', 'jumpseller.com', 'just-eat.co.uk', 'koomalooma.com', 'kubernetes.io', 'landregistry.gov.uk:deed', 'launchdarkly.com', 'learnifier.com', 'letmc.com:basic-tier', 'letmc.com:customer', 'letmc.com:diary', 'letmc.com:free-tier', 'letmc.com:maintenance', 'letmc.com:reporting', 'link.fish', 'lotadata.com', 'lufthansa.com:partner', 'lufthansa.com:public', 'lyft.com', 'magento.com', 'magick.nu', 'mandrillapp.com', 'mashape.com:geodb', 'mcw.edu', 'medium.com', 'miataru.com', 'microsoft.com:cognitiveservices-CustomSearch', 'microsoft.com:cognitiveservices-EntitySearch', 'microsoft.com:cognitiveservices-ImageSearch', 'microsoft.com:cognitiveservices-NewsSearch', 'microsoft.com:cognitiveservices-Prediction', 'microsoft.com:cognitiveservices-SpellCheck', 'microsoft.com:cognitiveservices-Training', 'microsoft.com:cognitiveservices-VideoSearch', 'microsoft.com:cognitiveservices-WebSearch', 'motaword.com', 'mozilla.com:kinto', 'nativeads.com', 'naviplancentral.com:factfinder', 'naviplancentral.com:plan', 'nba.com', 'neowsapp.com', 'netatmo.net', 'netlicensing.io', 'netlify.com', 'neutrinoapi.com', 'nfusionsolutions.biz', 'noosh.com', 'npr.org', 'nrel.gov:building-case-studies', 'nrel.gov:transportation-incentives-laws', 'nsidc.org', 'nytimes.com:archive', 'nytimes.com:article_search', 'nytimes.com:books_api', 'nytimes.com:community', 'nytimes.com:geo_api', 'nytimes.com:most_popular_api', 'nytimes.com:movie_reviews', 'nytimes.com:semantic_api', 'nytimes.com:times_tags', 'nytimes.com:timeswire', 'nytimes.com:top_stories', 'o2.cz:mobility', 'o2.cz:sociodemo', 'oceandrivers.com', 'omdbapi.com', 'openapi-converter.herokuapp.com', 'openbanking.org.uk', 'opencagedata.com', 'opendatanetwork.com', 'opendatasoft.com', 'openfintech.io', 'openstf.io', 'opentargets.io', 'osf.io', 'osisoft.com', 'owler.com', 'oxforddictionaries.com', 'paccurate.io', 'pandorabots.com', 'passwordutility.net', 'paylocity.com', 'payments.service.gov.uk:payments', 'payrun.io', 'peel-ci.com', 'personio.de:authentication', 'personio.de:personnel', 'phila.gov:pollingplaces', 'polygon.io', 'postmarkapp.com:account', 'postmarkapp.com:server', 'posty-api.herokuapp.com', 'ptv.vic.gov.au', 'qualpay.com', 'quotes.rest', 'rbaskets.in', 'rebilly.com', 'receptive.io', 'refugerestrooms.org', 'reverb.com', 'ritc.io', 'ritekit.com', 'roaring.io', 'rottentomatoes.com', 'rummblelabs.com', 'runscope.com', 'salesloft.com', 'schooldigger.com', 'scrapewebsite.email', 'selectpdf.com', 'semantria.com', 'sendgrid.com', 'shipstation.com', 'slack.com', 'slicebox.local', 'smart-me.com', 'spectrocoin.com', 'spinitron.com', 'spotify.com', 'squareup.com', 'stackexchange.com', 'staging-ecotaco.com', 'statsocial.com', 'stoplight.io', 'storecove.com', 'stormglass.io', 'stripe.com', 'surrey.ca:open511', 'surrey.ca:trafficloops', 'swagger.io:generator', 'swaggerhub.com', 'synq.fm', 'taggun.io', 'taxamo.com', 'taxrates.io', 'tfl.gov.uk', 'thenounproject.com', 'thesmsworks.co.uk', 'thetvdb.com', 'traccar.org', 'transavia.com', 'trello.com', 'turbinelabs.io', 'tvmaze.com', 'twilio.com', 'twinehealth.com', 'twitter.com', 'tyk.com', 'uebermaps.com', 'vatapi.com', 'versioneye.com', 'vestorly.com', 'victorops.com', 'visagecloud.com', 'vocadb.net', 'voodoomfg.com', 'waag.org', 'walmart.com:inventory', 'walmart.com:item', 'walmart.com:order', 'walmart.com:price', 'watchful.li', 'waterlinked.com', 'wavecell.com', 'wealthport.com', 'weatherbit.io', 'weber-gesamtausgabe.de', 'whapi.com:accounts', 'whapi.com:bets', 'whapi.com:locations', 'whapi.com:numbers', 'whapi.com:sessions', 'whapi.com:sportsdata', 'who-hosts-this.com', 'wikimedia.org', 'windows.net:batch-BatchService', 'windows.net:graphrbac', 'winning.email', 'winsms.co.za', 'wmata.com:bus-realtime', 'wmata.com:bus-route', 'wmata.com:incidents', 'wmata.com:rail-realtime', 'wmata.com:rail-station', 'wordassociations.net', 'wordnik.com', 'wowza.com', 'wso2apistore.com:transform', 'xero.com', 'xkcd.com', 'yunbi.com', 'zalando.com', 'zappiti.com', 'zoom.us', 'zoomconnect.com', 'zuora.com'])\n"
          ],
          "name": "stdout"
        }
      ]
    },
    {
      "metadata": {
        "id": "JQ-2t7CDgL_P",
        "colab_type": "code",
        "colab": {
          "base_uri": "https://localhost:8080/",
          "height": 54
        },
        "outputId": "5eb659a6-1aef-4e3c-dbda-9697023d810b"
      },
      "cell_type": "code",
      "source": [
        "paths = dict()\n",
        "for path in training_data:\n",
        "    info = training_data[path]['paths']\n",
        "    paths[path] = info\n",
        "print(paths.keys())"
      ],
      "execution_count": 16,
      "outputs": [
        {
          "output_type": "stream",
          "text": [
            "dict_keys(['1forge.com', '6-dot-authentiqio.appspot.com', 'adafruit.com', 'adobe.com:aem', 'adyen.com:CheckoutService', 'adyen.com:PaymentService', 'adyen.com:RecurringService', 'afterbanks.com', 'agco-ats.com', 'airport-web.appspot.com', 'amadeus.com', 'amazonaws.com:AWSMigrationHub', 'amazonaws.com:acm', 'amazonaws.com:acm-pca', 'amazonaws.com:alexaforbusiness', 'amazonaws.com:apigateway', 'amazonaws.com:application-autoscaling', 'amazonaws.com:appstream', 'amazonaws.com:appsync', 'amazonaws.com:athena', 'amazonaws.com:autoscaling', 'amazonaws.com:autoscaling-plans', 'amazonaws.com:batch', 'amazonaws.com:budgets', 'amazonaws.com:ce', 'amazonaws.com:cloud9', 'amazonaws.com:clouddirectory', 'amazonaws.com:cloudformation', 'amazonaws.com:cloudfront', 'amazonaws.com:cloudhsm', 'amazonaws.com:cloudhsmv2', 'amazonaws.com:cloudsearch', 'amazonaws.com:cloudsearchdomain', 'amazonaws.com:cloudtrail', 'amazonaws.com:codebuild', 'amazonaws.com:codecommit', 'amazonaws.com:codedeploy', 'amazonaws.com:codepipeline', 'amazonaws.com:codestar', 'amazonaws.com:cognito-identity', 'amazonaws.com:cognito-idp', 'amazonaws.com:cognito-sync', 'amazonaws.com:comprehend', 'amazonaws.com:config', 'amazonaws.com:connect', 'amazonaws.com:cur', 'amazonaws.com:datapipeline', 'amazonaws.com:dax', 'amazonaws.com:devicefarm', 'amazonaws.com:directconnect', 'amazonaws.com:discovery', 'amazonaws.com:dms', 'amazonaws.com:ds', 'amazonaws.com:dynamodb', 'amazonaws.com:ec2', 'amazonaws.com:ecr', 'amazonaws.com:ecs', 'amazonaws.com:elasticache', 'amazonaws.com:elasticbeanstalk', 'amazonaws.com:elasticfilesystem', 'amazonaws.com:elasticloadbalancing', 'amazonaws.com:elasticloadbalancingv2', 'amazonaws.com:elasticmapreduce', 'amazonaws.com:elastictranscoder', 'amazonaws.com:email', 'amazonaws.com:entitlement.marketplace', 'amazonaws.com:es', 'amazonaws.com:events', 'amazonaws.com:firehose', 'amazonaws.com:fms', 'amazonaws.com:gamelift', 'amazonaws.com:glacier', 'amazonaws.com:glue', 'amazonaws.com:greengrass', 'amazonaws.com:guardduty', 'amazonaws.com:health', 'amazonaws.com:iam', 'amazonaws.com:importexport', 'amazonaws.com:inspector', 'amazonaws.com:iot', 'amazonaws.com:iot-data', 'amazonaws.com:iot-jobs-data', 'amazonaws.com:iot1click-devices', 'amazonaws.com:iot1click-projects', 'amazonaws.com:iotanalytics', 'amazonaws.com:kinesis', 'amazonaws.com:kinesis-video-archived-media', 'amazonaws.com:kinesis-video-media', 'amazonaws.com:kinesisanalytics', 'amazonaws.com:kinesisvideo', 'amazonaws.com:kms', 'amazonaws.com:lambda', 'amazonaws.com:lex-models', 'amazonaws.com:lightsail', 'amazonaws.com:logs', 'amazonaws.com:machinelearning', 'amazonaws.com:marketplacecommerceanalytics', 'amazonaws.com:mediaconvert', 'amazonaws.com:medialive', 'amazonaws.com:mediapackage', 'amazonaws.com:mediastore', 'amazonaws.com:mediastore-data', 'amazonaws.com:meteringmarketplace', 'amazonaws.com:mobile', 'amazonaws.com:mobileanalytics', 'amazonaws.com:monitoring', 'amazonaws.com:mq', 'amazonaws.com:mturk-requester', 'amazonaws.com:opsworks', 'amazonaws.com:opsworkscm', 'amazonaws.com:organizations', 'amazonaws.com:pinpoint', 'amazonaws.com:polly', 'amazonaws.com:pricing', 'amazonaws.com:rds', 'amazonaws.com:redshift', 'amazonaws.com:rekognition', 'amazonaws.com:resource-groups', 'amazonaws.com:resourcegroupstaggingapi', 'amazonaws.com:route53', 'amazonaws.com:route53domains', 'amazonaws.com:runtime.lex', 'amazonaws.com:runtime.sagemaker', 'amazonaws.com:s3', 'amazonaws.com:sagemaker', 'amazonaws.com:sdb', 'amazonaws.com:secretsmanager', 'amazonaws.com:serverlessrepo', 'amazonaws.com:servicecatalog', 'amazonaws.com:servicediscovery', 'amazonaws.com:shield', 'amazonaws.com:sms', 'amazonaws.com:snowball', 'amazonaws.com:sns', 'amazonaws.com:sqs', 'amazonaws.com:ssm', 'amazonaws.com:states', 'amazonaws.com:storagegateway', 'amazonaws.com:streams.dynamodb', 'amazonaws.com:sts', 'amazonaws.com:support', 'amazonaws.com:swf', 'amazonaws.com:transcribe', 'amazonaws.com:translate', 'amazonaws.com:waf', 'amazonaws.com:waf-regional', 'amazonaws.com:workdocs', 'amazonaws.com:workmail', 'amazonaws.com:workspaces', 'amazonaws.com:xray', 'anchore.io', 'apache.org:qakka', 'apacta.com', 'api2cart.com', 'apigee.net:marketcheck-cars', 'apimatic.io', 'apis.guru', 'apitore.com:2chMatomeFeedsApis', 'apitore.com:certificateFeedsApis', 'apitore.com:cosineSimilarity', 'apitore.com:designFeedsApis', 'apitore.com:documentFrequencyApis', 'apitore.com:gameFeedsApis', 'apitore.com:japaneseWordnetApis', 'apitore.com:kmeansClusteringByWord2vec', 'apitore.com:kuromojiApis', 'apitore.com:languageDetectionApis', 'apitore.com:newsFeedsApis', 'apitore.com:pioneerBlogFeedsApis', 'apitore.com:rss2jsonApis', 'apitore.com:sentenceSeparatorApis', 'apitore.com:sentenceSimilarity', 'apitore.com:sentencepieceApis_tweet_', 'apitore.com:sentencepieceApis_wikipedia_', 'apitore.com:sentimentApis', 'apitore.com:synonymApis', 'apitore.com:techFeedsApis', 'apitore.com:text2labelByTfidfApis', 'apitore.com:text2labelByWordVectorApis', 'apitore.com:travelFeedsApis', 'apitore.com:tweetSummarizationApis', 'apitore.com:twitterApis', 'apitore.com:twitterApisWithSentimentByApitoreSentimentApi', 'apitore.com:twitterApisWithWord2vecQueryExpansion', 'apitore.com:twitterApisWithWord2vecQueryExpansion,AndAddSentimentByApitoreSentimentApi', 'apitore.com:url2hrefApis', 'apitore.com:url2htmlApis', 'apitore.com:url2labelByTfidfApis', 'apitore.com:url2labelByWordVectorApis', 'apitore.com:url2srcApis', 'apitore.com:url2textApis', 'apitore.com:word2vecApis', 'apitore.com:wordnetApis', 'apitore.com:wordnetHypernymApis', 'apitore.com:wordnetHyponymApis', 'apitore.com:wordnetSimilarityApis', 'apitore.com:wordnetSynonymApis', 'apitore.com:wordnetTranslationApis', 'apitore.com:wordsToVectorsApis', 'appveyor.com', 'archive.org:search', 'archive.org:wayback', 'art19.com', 'ato.gov.au', 'aucklandmuseum.com', 'authentiq.io', 'avaza.com', 'aviationdata.systems', 'azure.com:advisor', 'azure.com:analysisservices', 'azure.com:apimanagement', 'azure.com:apimanagement-apimapis', 'azure.com:apimanagement-apimauthorizationservers', 'azure.com:apimanagement-apimbackends', 'azure.com:apimanagement-apimcertificates', 'azure.com:apimanagement-apimdeployment', 'azure.com:apimanagement-apimdiagnostics', 'azure.com:apimanagement-apimemailtemplate', 'azure.com:apimanagement-apimgroups', 'azure.com:apimanagement-apimidentityprovider', 'azure.com:apimanagement-apimloggers', 'azure.com:apimanagement-apimnetworkstatus', 'azure.com:apimanagement-apimnotifications', 'azure.com:apimanagement-apimopenidconnectproviders', 'azure.com:apimanagement-apimproducts', 'azure.com:apimanagement-apimproperties', 'azure.com:apimanagement-apimquotas', 'azure.com:apimanagement-apimreports', 'azure.com:apimanagement-apimsubscriptions', 'azure.com:apimanagement-apimtagresources', 'azure.com:apimanagement-apimtags', 'azure.com:apimanagement-apimtenant', 'azure.com:apimanagement-apimusers', 'azure.com:apimanagement-apimversionsets', 'azure.com:applicationinsights-aiOperations_API', 'azure.com:applicationinsights-componentAnnotations_API', 'azure.com:applicationinsights-componentApiKeys_API', 'azure.com:applicationinsights-componentContinuousExport_API', 'azure.com:applicationinsights-componentFeaturesAndPricing_API', 'azure.com:applicationinsights-componentProactiveDetection_API', 'azure.com:applicationinsights-componentWorkItemConfigs_API', 'azure.com:applicationinsights-components_API', 'azure.com:applicationinsights-favorites_API', 'azure.com:applicationinsights-webTestLocations_API', 'azure.com:applicationinsights-webTests_API', 'azure.com:authorization', 'azure.com:authorization-authorization-ClassicAdminCalls', 'azure.com:authorization-authorization-RACalls', 'azure.com:authorization-authorization-RoleBasedCalls', 'azure.com:automation-account', 'azure.com:automation-certificate', 'azure.com:automation-connection', 'azure.com:automation-connectionType', 'azure.com:automation-credential', 'azure.com:automation-dscCompilationJob', 'azure.com:automation-dscConfiguration', 'azure.com:automation-dscNode', 'azure.com:automation-dscNodeConfiguration', 'azure.com:automation-hybridRunbookWorkerGroup', 'azure.com:automation-job', 'azure.com:automation-jobSchedule', 'azure.com:automation-linkedWorkspace', 'azure.com:automation-module', 'azure.com:automation-runbook', 'azure.com:automation-schedule', 'azure.com:automation-softwareUpdateConfiguration', 'azure.com:automation-softwareUpdateConfigurationMachineRun', 'azure.com:automation-softwareUpdateConfigurationRun', 'azure.com:automation-sourceControl', 'azure.com:automation-sourceControlSyncJob', 'azure.com:automation-variable', 'azure.com:automation-webhook', 'azure.com:azsadmin-Alert', 'azure.com:azsadmin-CommerceAdmin', 'azure.com:azsadmin-EdgeGateway', 'azure.com:azsadmin-EdgeGatewayPool', 'azure.com:azsadmin-FabricLocation', 'azure.com:azsadmin-FileShare', 'azure.com:azsadmin-InfraRole', 'azure.com:azsadmin-InfraRoleInstance', 'azure.com:azsadmin-IpPool', 'azure.com:azsadmin-LogicalNetwork', 'azure.com:azsadmin-LogicalSubnet', 'azure.com:azsadmin-MacAddressPool', 'azure.com:azsadmin-Operations', 'azure.com:azsadmin-RegionHealth', 'azure.com:azsadmin-ResourceHealth', 'azure.com:azsadmin-ScaleUnit', 'azure.com:azsadmin-ScaleUnitNode', 'azure.com:azsadmin-ServiceHealth', 'azure.com:azsadmin-SlbMuxInstance', 'azure.com:azsadmin-StoragePool', 'azure.com:azsadmin-StorageSystem', 'azure.com:azsadmin-Volume', 'azure.com:azurestack-AzureStack', 'azure.com:azurestack-CustomerSubscription', 'azure.com:azurestack-Product', 'azure.com:azurestack-Registration', 'azure.com:batch-BatchManagement', 'azure.com:batchai-BatchAI', 'azure.com:billing', 'azure.com:cdn', 'azure.com:cognitiveservices', 'azure.com:cognitiveservices-ComputerVision', 'azure.com:cognitiveservices-ContentModerator', 'azure.com:cognitiveservices-Face', 'azure.com:cognitiveservices-LUIS-Programmatic', 'azure.com:cognitiveservices-LUIS-Runtime', 'azure.com:cognitiveservices-TextAnalytics', 'azure.com:commerce', 'azure.com:compute', 'azure.com:compute-containerService', 'azure.com:compute-disk', 'azure.com:compute-runCommands', 'azure.com:compute-skus', 'azure.com:compute-swagger', 'azure.com:consumption', 'azure.com:containerinstance-containerInstance', 'azure.com:containerregistry', 'azure.com:containerservices-containerService', 'azure.com:containerservices-location', 'azure.com:containerservices-managedClusters', 'azure.com:cosmos-db', 'azure.com:customer-insights', 'azure.com:datacatalog', 'azure.com:datafactory', 'azure.com:datalake-analytics-account', 'azure.com:datalake-analytics-catalog', 'azure.com:datalake-analytics-job', 'azure.com:datalake-store-account', 'azure.com:datalake-store-filesystem', 'azure.com:datamigration', 'azure.com:deviceprovisioningservices-iotdps', 'azure.com:devtestlabs-DTL', 'azure.com:dns', 'azure.com:domainservices', 'azure.com:eventgrid-EventGrid', 'azure.com:eventhub-EventHub', 'azure.com:hanaonazure', 'azure.com:hdinsight-applications', 'azure.com:hdinsight-capabilities', 'azure.com:hdinsight-cluster', 'azure.com:hdinsight-configurations', 'azure.com:hdinsight-extensions', 'azure.com:hdinsight-operations', 'azure.com:hdinsight-scriptActions', 'azure.com:intune', 'azure.com:iothub', 'azure.com:keyvault', 'azure.com:keyvault-providers', 'azure.com:keyvault-secrets', 'azure.com:locationbasedservices', 'azure.com:logic', 'azure.com:machinelearning-commitmentPlans', 'azure.com:machinelearning-webservices', 'azure.com:machinelearning-workspaces', 'azure.com:machinelearningcompute-machineLearningCompute', 'azure.com:machinelearningexperimentation-machineLearningExperimentation', 'azure.com:managementgroups-management', 'azure.com:managementpartner-ManagementPartner', 'azure.com:marketplaceordering-Agreements', 'azure.com:mediaservices-media', 'azure.com:migrate', 'azure.com:mobileengagement-mobile-engagement', 'azure.com:monitor-actionGroups_API', 'azure.com:monitor-activityLogAlerts_API', 'azure.com:monitor-activityLogs_API', 'azure.com:monitor-alertRulesIncidents_API', 'azure.com:monitor-alertRules_API', 'azure.com:monitor-autoscale_API', 'azure.com:monitor-baseline_API', 'azure.com:monitor-calculateBaseline_API', 'azure.com:monitor-diagnosticsSettingsCategories_API', 'azure.com:monitor-diagnosticsSettings_API', 'azure.com:monitor-eventCategories_API', 'azure.com:monitor-logProfiles_API', 'azure.com:monitor-metricDefinitions_API', 'azure.com:monitor-metrics_API', 'azure.com:monitor-operations_API', 'azure.com:monitor-serviceDiagnosticsSettings_API', 'azure.com:monitor-tenantActivityLogs_API', 'azure.com:msi-ManagedIdentity', 'azure.com:mysql', 'azure.com:network', 'azure.com:network-applicationGateway', 'azure.com:network-applicationSecurityGroup', 'azure.com:network-checkDnsAvailability', 'azure.com:network-endpointService', 'azure.com:network-expressRouteCircuit', 'azure.com:network-loadBalancer', 'azure.com:network-networkInterface', 'azure.com:network-networkSecurityGroup', 'azure.com:network-networkWatcher', 'azure.com:network-operation', 'azure.com:network-publicIpAddress', 'azure.com:network-routeFilter', 'azure.com:network-routeTable', 'azure.com:network-serviceCommunity', 'azure.com:network-usage', 'azure.com:network-virtualNetwork', 'azure.com:network-virtualNetworkGateway', 'azure.com:network-vmssNetworkInterface', 'azure.com:network-vmssPublicIpAddress', 'azure.com:notificationhubs', 'azure.com:operationalinsights-OperationalInsights', 'azure.com:operationsmanagement-OperationsManagement', 'azure.com:policyinsights-policyEvents', 'azure.com:policyinsights-policyStates', 'azure.com:postgresql', 'azure.com:powerbidedicated', 'azure.com:powerbiembedded', 'azure.com:provisioningservices-iotdps', 'azure.com:recoveryservices-backup', 'azure.com:recoveryservices-registeredidentities', 'azure.com:recoveryservices-replicationusages', 'azure.com:recoveryservices-vaults', 'azure.com:recoveryservices-vaultusages', 'azure.com:recoveryservicesbackup', 'azure.com:recoveryservicesbackup-backupManagement', 'azure.com:recoveryservicesbackup-bms', 'azure.com:recoveryservicesbackup-jobs', 'azure.com:recoveryservicesbackup-operations', 'azure.com:recoveryservicesbackup-registeredIdentities', 'azure.com:recoveryservicessiterecovery-service', 'azure.com:redis', 'azure.com:relay', 'azure.com:reservations', 'azure.com:resourcehealth', 'azure.com:resources', 'azure.com:resources-features', 'azure.com:resources-links', 'azure.com:resources-locks', 'azure.com:resources-managedapplications', 'azure.com:resources-management', 'azure.com:resources-policy', 'azure.com:resources-policyAssignments', 'azure.com:resources-policyDefinitions', 'azure.com:resources-policySetDefinitions', 'azure.com:resources-subscriptions', 'azure.com:scheduler', 'azure.com:search', 'azure.com:search-searchindex', 'azure.com:search-searchservice', 'azure.com:servermanagement', 'azure.com:service-map-arm-service-map', 'azure.com:servicebus', 'azure.com:servicefabric', 'azure.com:sql-Databases', 'azure.com:sql-advisors', 'azure.com:sql-backupLongTermRetentionPolicies', 'azure.com:sql-backupLongTermRetentionVaults', 'azure.com:sql-backups', 'azure.com:sql-blobAuditingPolicies', 'azure.com:sql-cancelOperations', 'azure.com:sql-cancelPoolOperations', 'azure.com:sql-capabilities', 'azure.com:sql-checkNameAvailability', 'azure.com:sql-connectionPolicies', 'azure.com:sql-dataMasking', 'azure.com:sql-dataWarehouseUserActivities', 'azure.com:sql-databaseAutomaticTuning', 'azure.com:sql-databaseSecurityAlertPolicies', 'azure.com:sql-databases', 'azure.com:sql-deprecated', 'azure.com:sql-disasterRecoveryConfigurations', 'azure.com:sql-elasticPools', 'azure.com:sql-encryptionProtectors', 'azure.com:sql-failoverGroups', 'azure.com:sql-firewallRules', 'azure.com:sql-geoBackupPolicies', 'azure.com:sql-importExport', 'azure.com:sql-managedDatabases', 'azure.com:sql-metrics', 'azure.com:sql-operations', 'azure.com:sql-queries', 'azure.com:sql-renameDatabase', 'azure.com:sql-replicationLinks', 'azure.com:sql-restorePoints', 'azure.com:sql-serverAutomaticTuning', 'azure.com:sql-serverAzureADAdministrators', 'azure.com:sql-serverCommunicationLinks', 'azure.com:sql-serverDnsAliases', 'azure.com:sql-serverKeys', 'azure.com:sql-servers', 'azure.com:sql-serviceObjectives', 'azure.com:sql-sql.core', 'azure.com:sql-syncAgents', 'azure.com:sql-syncGroups', 'azure.com:sql-syncMembers', 'azure.com:sql-tableAuditing', 'azure.com:sql-usages', 'azure.com:sql-virtualNetworkRules', 'azure.com:storage', 'azure.com:storageimportexport', 'azure.com:storsimple8000series-storsimple', 'azure.com:streamanalytics-functions', 'azure.com:streamanalytics-inputs', 'azure.com:streamanalytics-outputs', 'azure.com:streamanalytics-streamingjobs', 'azure.com:streamanalytics-subscriptions', 'azure.com:streamanalytics-transformations', 'azure.com:subscription-subscriptionDefinitions', 'azure.com:timeseriesinsights', 'azure.com:trafficmanager', 'azure.com:trafficmanager-trafficmanageranalytics', 'azure.com:visualstudio-Csm', 'azure.com:web-AppServiceCertificateOrders', 'azure.com:web-AppServiceEnvironments', 'azure.com:web-AppServicePlans', 'azure.com:web-CertificateRegistrationProvider', 'azure.com:web-Certificates', 'azure.com:web-DeletedWebApps', 'azure.com:web-Diagnostics', 'azure.com:web-DomainRegistrationProvider', 'azure.com:web-Domains', 'azure.com:web-Provider', 'azure.com:web-Recommendations', 'azure.com:web-ResourceProvider', 'azure.com:web-TopLevelDomains', 'azure.com:web-WebApps', 'azure.com:web-logicAppsManagementClient', 'azure.com:web-service', 'bbc.co.uk', 'bbc.com', 'bbci.co.uk', 'bclaws.ca:bclaws', 'beanstream.com', 'beezup.com', 'betfair.com', 'bhagavadgita.io', 'bigoven.com', 'bikewise.org', 'bitbucket.org', 'blazemeter.com', 'bluemix.net:containers', 'botify.com', 'box.com:authorization', 'box.com:content', 'box.com:token', 'box.com:upload', 'brandlovers.com', 'brex.io', 'browshot.com', 'bufferapp.com', 'bulksms.com', 'bungie.net', 'callfire.com', 'cambase.io', 'carbondoomsday.com', 'ccp.is', 'cenit.io', 'channel4.com', 'circleci.com', 'circuitsandbox.net', 'cisco.com', 'citrixonline.com:gotomeeting', 'citrixonline.com:scim', 'citycontext.com', 'clarify.io', 'clever-cloud.com', 'clever.com', 'clickmeter.com', 'cloudmersive.com:ocr', 'cnab-online.herokuapp.com', 'code-scan.com', 'consumerfinance.gov', 'core.ac.uk', 'cybertaxonomy.eu', 'data.gov', 'data2crm.com', 'dataatwork.org', 'datumbox.com', 'deeparteffects.com', 'deutschebahn.com:betriebsstellen', 'deutschebahn.com:fahrplan', 'deutschebahn.com:fasta', 'deutschebahn.com:flinkster', 'deutschebahn.com:reisezentren', 'deutschebahn.com:stada', 'digitallinguistics.io', 'docker.com:engine', 'docusign.net', 'domainsdb.info', 'dracoon.team', 'dropx.io', 'dweet.io', 'ebay.com:buy-browse', 'ebay.com:buy-feed', 'ebay.com:buy-marketing', 'ebay.com:commerce-taxonomy', 'ebay.com:sell-fulfillment', 'envoice.in', 'epa.gov:air', 'epa.gov:case', 'epa.gov:cwa', 'epa.gov:dfr', 'epa.gov:echo', 'epa.gov:eff', 'epa.gov:rcra', 'epa.gov:sdw', 'etmdb.com', 'europeana.eu', 'exavault.com', 'fantasydata.net:cbb-v3-scores', 'fantasydata.net:cbb-v3-stats', 'fantasydata.net:cfb-v3-scores', 'fantasydata.net:golf-v2', 'fantasydata.net:mlb-v3-play-by-play', 'fantasydata.net:mlb-v3-projections', 'fantasydata.net:mlb-v3-projections-dfsr', 'fantasydata.net:mlb-v3-rotoballer-articles', 'fantasydata.net:mlb-v3-rotoballer-premium-news', 'fantasydata.net:mlb-v3-scores', 'fantasydata.net:mlb-v3-stats', 'fantasydata.net:nascar-v2', 'fantasydata.net:nba-v3-play-by-play', 'fantasydata.net:nba-v3-projections', 'fantasydata.net:nba-v3-rotoballer-articles', 'fantasydata.net:nba-v3-rotoballer-premium-news', 'fantasydata.net:nba-v3-scores', 'fantasydata.net:nba-v3-stats', 'fantasydata.net:nfl-v3-play-by-play', 'fantasydata.net:nfl-v3-projections', 'fantasydata.net:nfl-v3-projections-dfsr', 'fantasydata.net:nfl-v3-rotoballer-articles', 'fantasydata.net:nfl-v3-rotoballer-premium-news', 'fantasydata.net:nfl-v3-scores', 'fantasydata.net:nfl-v3-stats', 'fantasydata.net:nhl-v3-play-by-play', 'fantasydata.net:nhl-v3-projections', 'fantasydata.net:nhl-v3-scores', 'fantasydata.net:nhl-v3-stats', 'fantasydata.net:soccer-v3-projections', 'fantasydata.net:soccer-v3-scores', 'fantasydata.net:soccer-v3-stats', 'figshare.com', 'firebrowse.org', 'flat.io', 'flickr.com', 'formapi.io', 'freesound.org', 'funtranslations.com', 'furkot.com', 'geneea.com', 'geodesystems.com', 'getgo.com:gototraining', 'getgo.com:gotowebinar', 'getsandbox.com', 'gettyimages.com', 'giphy.com', 'gisgraphy.com', 'github.com', 'gitlab.com', 'googleapis.com:abusiveexperiencereport', 'googleapis.com:acceleratedmobilepageurl', 'googleapis.com:adexchangebuyer', 'googleapis.com:adexchangebuyer2', 'googleapis.com:adexchangeseller', 'googleapis.com:adexperiencereport', 'googleapis.com:admin', 'googleapis.com:adsense', 'googleapis.com:adsensehost', 'googleapis.com:analytics', 'googleapis.com:analyticsreporting', 'googleapis.com:androiddeviceprovisioning', 'googleapis.com:androidenterprise', 'googleapis.com:androidmanagement', 'googleapis.com:androidpublisher', 'googleapis.com:appengine', 'googleapis.com:appsactivity', 'googleapis.com:appstate', 'googleapis.com:bigquery', 'googleapis.com:bigquerydatatransfer', 'googleapis.com:blogger', 'googleapis.com:books', 'googleapis.com:calendar', 'googleapis.com:chat', 'googleapis.com:civicinfo', 'googleapis.com:classroom', 'googleapis.com:cloudbilling', 'googleapis.com:cloudbuild', 'googleapis.com:clouddebugger', 'googleapis.com:clouderrorreporting', 'googleapis.com:cloudfunctions', 'googleapis.com:cloudiot', 'googleapis.com:cloudkms', 'googleapis.com:cloudmonitoring', 'googleapis.com:cloudresourcemanager', 'googleapis.com:cloudshell', 'googleapis.com:cloudtasks', 'googleapis.com:cloudtrace', 'googleapis.com:clouduseraccounts', 'googleapis.com:compute', 'googleapis.com:consumersurveys', 'googleapis.com:container', 'googleapis.com:content', 'googleapis.com:customsearch', 'googleapis.com:dataflow', 'googleapis.com:dataproc', 'googleapis.com:datastore', 'googleapis.com:deploymentmanager', 'googleapis.com:dfareporting', 'googleapis.com:digitalassetlinks', 'googleapis.com:discovery', 'googleapis.com:dlp', 'googleapis.com:dns', 'googleapis.com:doubleclickbidmanager', 'googleapis.com:doubleclicksearch', 'googleapis.com:drive', 'googleapis.com:firebasedynamiclinks', 'googleapis.com:firebaseremoteconfig', 'googleapis.com:firebaserules', 'googleapis.com:firestore', 'googleapis.com:fitness', 'googleapis.com:fusiontables', 'googleapis.com:games', 'googleapis.com:gamesConfiguration', 'googleapis.com:gamesManagement', 'googleapis.com:genomics', 'googleapis.com:gmail', 'googleapis.com:groupsmigration', 'googleapis.com:groupssettings', 'googleapis.com:iam', 'googleapis.com:identitytoolkit', 'googleapis.com:kgsearch', 'googleapis.com:language', 'googleapis.com:licensing', 'googleapis.com:logging', 'googleapis.com:manufacturers', 'googleapis.com:mirror', 'googleapis.com:ml', 'googleapis.com:monitoring', 'googleapis.com:oauth2', 'googleapis.com:oslogin', 'googleapis.com:pagespeedonline', 'googleapis.com:partners', 'googleapis.com:people', 'googleapis.com:playcustomapp', 'googleapis.com:playmoviespartner', 'googleapis.com:plus', 'googleapis.com:plusDomains', 'googleapis.com:poly', 'googleapis.com:prediction', 'googleapis.com:proximitybeacon', 'googleapis.com:pubsub', 'googleapis.com:qpxExpress', 'googleapis.com:replicapool', 'googleapis.com:replicapoolupdater', 'googleapis.com:reseller', 'googleapis.com:resourceviews', 'googleapis.com:runtimeconfig', 'googleapis.com:safebrowsing', 'googleapis.com:script', 'googleapis.com:searchconsole', 'googleapis.com:serviceconsumermanagement', 'googleapis.com:servicecontrol', 'googleapis.com:servicemanagement', 'googleapis.com:serviceusage', 'googleapis.com:serviceuser', 'googleapis.com:sheets', 'googleapis.com:siteVerification', 'googleapis.com:slides', 'googleapis.com:sourcerepo', 'googleapis.com:spanner', 'googleapis.com:spectrum', 'googleapis.com:speech', 'googleapis.com:sqladmin', 'googleapis.com:storage', 'googleapis.com:storagetransfer', 'googleapis.com:streetviewpublish', 'googleapis.com:surveys', 'googleapis.com:tagmanager', 'googleapis.com:taskqueue', 'googleapis.com:tasks', 'googleapis.com:testing', 'googleapis.com:toolresults', 'googleapis.com:tpu', 'googleapis.com:tracing', 'googleapis.com:translate', 'googleapis.com:urlshortener', 'googleapis.com:vault', 'googleapis.com:videointelligence', 'googleapis.com:vision', 'googleapis.com:webfonts', 'googleapis.com:webmasters', 'googleapis.com:youtube', 'googleapis.com:youtubeAnalytics', 'googleapis.com:youtubereporting', 'gov.bc.ca:bcdc', 'gov.bc.ca:bcgnws', 'gov.bc.ca:geocoder', 'gov.bc.ca:geomark', 'gov.bc.ca:gwells', 'gov.bc.ca:jobposting', 'gov.bc.ca:news', 'gov.bc.ca:open511', 'gov.bc.ca:router', 'graphhopper.com', 'greenpeace.org', 'gsa.gov', 'hackathonwatch.com', 'haloapi.com:metadata', 'haloapi.com:profile', 'haloapi.com:stats', 'haloapi.com:ugc', 'healthcare.gov', 'hetras-certification.net:booking', 'hetras-certification.net:hotel', 'hhs.gov', 'highwaysengland.co.uk', 'hillbillysoftware.com:shinobi', 'hsbc.com', 'icons8.com', 'idtbeyond.com', 'ijenko.net', 'illumidesk.com', 'import.io:data', 'import.io:extraction', 'import.io:rss', 'import.io:run', 'import.io:schedule', 'inboxroute.com', 'infermedica.com', 'instagram.com', 'instawell.com', 'iqualify.com', 'isbndb.com', 'isendpro.com', 'iva-api.com', 'je-apis.com', 'jirafe.com', 'jumpseller.com', 'just-eat.co.uk', 'koomalooma.com', 'kubernetes.io', 'landregistry.gov.uk:deed', 'launchdarkly.com', 'learnifier.com', 'letmc.com:basic-tier', 'letmc.com:customer', 'letmc.com:diary', 'letmc.com:free-tier', 'letmc.com:maintenance', 'letmc.com:reporting', 'link.fish', 'lotadata.com', 'lufthansa.com:partner', 'lufthansa.com:public', 'lyft.com', 'magento.com', 'magick.nu', 'mandrillapp.com', 'mashape.com:geodb', 'mcw.edu', 'medium.com', 'miataru.com', 'microsoft.com:cognitiveservices-CustomSearch', 'microsoft.com:cognitiveservices-EntitySearch', 'microsoft.com:cognitiveservices-ImageSearch', 'microsoft.com:cognitiveservices-NewsSearch', 'microsoft.com:cognitiveservices-Prediction', 'microsoft.com:cognitiveservices-SpellCheck', 'microsoft.com:cognitiveservices-Training', 'microsoft.com:cognitiveservices-VideoSearch', 'microsoft.com:cognitiveservices-WebSearch', 'moonmoonmoonmoon.com', 'motaword.com', 'mozilla.com:kinto', 'nativeads.com', 'naviplancentral.com:factfinder', 'naviplancentral.com:plan', 'nba.com', 'neowsapp.com', 'netatmo.net', 'netlicensing.io', 'netlify.com', 'neutrinoapi.com', 'nfusionsolutions.biz', 'noosh.com', 'npr.org', 'nrel.gov:building-case-studies', 'nrel.gov:transportation-incentives-laws', 'nsidc.org', 'nytimes.com:archive', 'nytimes.com:article_search', 'nytimes.com:books_api', 'nytimes.com:community', 'nytimes.com:geo_api', 'nytimes.com:most_popular_api', 'nytimes.com:movie_reviews', 'nytimes.com:semantic_api', 'nytimes.com:times_tags', 'nytimes.com:timeswire', 'nytimes.com:top_stories', 'o2.cz:mobility', 'o2.cz:sociodemo', 'oceandrivers.com', 'omdbapi.com', 'openapi-converter.herokuapp.com', 'openbanking.org.uk', 'opencagedata.com', 'opendatanetwork.com', 'opendatasoft.com', 'openfintech.io', 'openstf.io', 'opentargets.io', 'orghunter.com', 'osf.io', 'osisoft.com', 'owler.com', 'oxforddictionaries.com', 'paccurate.io', 'pandorabots.com', 'passwordutility.net', 'patientview.org', 'paylocity.com', 'payments.service.gov.uk:payments', 'payrun.io', 'peel-ci.com', 'personio.de:authentication', 'personio.de:personnel', 'phila.gov:pollingplaces', 'polygon.io', 'postmarkapp.com:account', 'postmarkapp.com:server', 'posty-api.herokuapp.com', 'ptv.vic.gov.au', 'qualpay.com', 'quotes.rest', 'rbaskets.in', 'rebilly.com', 'receptive.io', 'refugerestrooms.org', 'reverb.com', 'ritc.io', 'ritekit.com', 'roaring.io', 'rottentomatoes.com', 'rummblelabs.com', 'runscope.com', 'salesloft.com', 'schooldigger.com', 'scrapewebsite.email', 'selectpdf.com', 'semantria.com', 'sendgrid.com', 'shipstation.com', 'simplyrets.com', 'slack.com', 'slicebox.local', 'slideroom.com', 'smart-me.com', 'solarvps.com', 'spectrocoin.com', 'spinbot.net', 'spinitron.com', 'spotify.com', 'squareup.com', 'stackexchange.com', 'staging-ecotaco.com', 'statsocial.com', 'stoplight.io', 'storecove.com', 'stormglass.io', 'stripe.com', 'surrey.ca:open511', 'surrey.ca:trafficloops', 'swagger.io:generator', 'swaggerhub.com', 'synq.fm', 'taggun.io', 'taxamo.com', 'taxrates.io', 'tfl.gov.uk', 'thenounproject.com', 'thesmsworks.co.uk', 'thetvdb.com', 'traccar.org', 'transavia.com', 'trello.com', 'turbinelabs.io', 'tvmaze.com', 'twilio.com', 'twinehealth.com', 'twitter.com', 'tyk.com', 'uebermaps.com', 'vatapi.com', 'versioneye.com', 'vestorly.com', 'victorops.com', 'visagecloud.com', 'vocadb.net', 'voodoomfg.com', 'waag.org', 'walmart.com:inventory', 'walmart.com:item', 'walmart.com:order', 'walmart.com:price', 'watchful.li', 'waterlinked.com', 'wavecell.com', 'wealthport.com', 'weatherbit.io', 'weber-gesamtausgabe.de', 'whapi.com:accounts', 'whapi.com:bets', 'whapi.com:locations', 'whapi.com:numbers', 'whapi.com:sessions', 'whapi.com:sportsdata', 'who-hosts-this.com', 'wikimedia.org', 'windows.net:batch-BatchService', 'windows.net:graphrbac', 'winning.email', 'winsms.co.za', 'wmata.com:bus-realtime', 'wmata.com:bus-route', 'wmata.com:incidents', 'wmata.com:rail-realtime', 'wmata.com:rail-station', 'wordassociations.net', 'wordnik.com', 'wowza.com', 'wso2apistore.com:transform', 'xero.com', 'xkcd.com', 'yunbi.com', 'zalando.com', 'zappiti.com', 'zoom.us', 'zoomconnect.com', 'zuora.com'])\n"
          ],
          "name": "stdout"
        }
      ]
    },
    {
      "metadata": {
        "id": "FhYIpdaBSkKY",
        "colab_type": "code",
        "colab": {}
      },
      "cell_type": "code",
      "source": [
        "cat_label = dict()\n",
        "\n",
        "with open('pickle/categories_dict0518.pkl', 'rb') as handle:\n",
        "    cat_label = pickle.load(handle)"
      ],
      "execution_count": 0,
      "outputs": []
    },
    {
      "metadata": {
        "id": "lhrdZLcvb6Zy",
        "colab_type": "code",
        "colab": {}
      },
      "cell_type": "code",
      "source": [
        "keys = list(training_data.keys())"
      ],
      "execution_count": 0,
      "outputs": []
    },
    {
      "metadata": {
        "id": "Jcs3abVAcBog",
        "colab_type": "code",
        "colab": {
          "base_uri": "https://localhost:8080/",
          "height": 595
        },
        "outputId": "a02e0b82-83fc-4b94-c2ea-1505d649f040"
      },
      "cell_type": "code",
      "source": [
        "training_data[keys[0]]"
      ],
      "execution_count": 19,
      "outputs": [
        {
          "output_type": "execute_result",
          "data": {
            "text/plain": [
              "{'basePath': '/forex-quotes',\n",
              " 'host': '1forge.com',\n",
              " 'info': {'contact': {'email': 'contact@1forge.com',\n",
              "   'name': '1Forge',\n",
              "   'url': 'http://1forge.com'},\n",
              "  'description': 'Stock and Forex Data and Realtime Quotes',\n",
              "  'title': '1Forge Finance APIs',\n",
              "  'version': '0.0.1',\n",
              "  'x-apisguru-categories': ['financial'],\n",
              "  'x-logo': {'backgroundColor': '#24292e',\n",
              "   'url': 'https://api.apis.guru/v2/cache/logo/http_1forge.com_logo.png'},\n",
              "  'x-origin': [{'format': 'swagger',\n",
              "    'url': 'http://1forge.com/openapi.json',\n",
              "    'version': '2.0'}],\n",
              "  'x-preferred': True,\n",
              "  'x-providerName': '1forge.com'},\n",
              " 'paths': {'/quotes': {'get': {'description': 'Get quotes',\n",
              "    'externalDocs': {'description': 'Find out more',\n",
              "     'url': 'http://1forge.com/forex-data-api'},\n",
              "    'responses': {'200': {'description': 'A list of quotes'}},\n",
              "    'summary': 'Get quotes for all symbols',\n",
              "    'tags': ['forex', 'finance', 'quotes']}},\n",
              "  '/symbols': {'get': {'description': 'Symbol List',\n",
              "    'externalDocs': {'description': 'Find out more',\n",
              "     'url': 'http://1forge.com/forex-data-api'},\n",
              "    'responses': {'200': {'description': 'A list of symbols',\n",
              "      'schema': {'example': ['EURUSD', 'GBPJPY', 'AUDUSD'],\n",
              "       'items': {'type': 'string'},\n",
              "       'type': 'array'}}},\n",
              "    'summary': 'Get a list of symbols for which we provide real-time quotes',\n",
              "    'tags': ['forex', 'finance', 'quotes']}}},\n",
              " 'produces': ['application/json'],\n",
              " 'schemes': ['https', 'http'],\n",
              " 'swagger': '2.0'}"
            ]
          },
          "metadata": {
            "tags": []
          },
          "execution_count": 19
        }
      ]
    },
    {
      "metadata": {
        "id": "OF9qnLugK4Zm",
        "colab_type": "code",
        "colab": {}
      },
      "cell_type": "code",
      "source": [
        "from collections import Counter\n",
        "from datetime import datetime\n",
        " \n",
        "import json\n",
        " \n",
        "from keras.layers import Embedding, LSTM, Dense, Conv1D, MaxPooling1D, Dropout, Activation\n",
        "from keras.models import Sequential\n",
        "from keras.preprocessing.text import Tokenizer\n",
        "from keras.preprocessing.sequence import pad_sequences\n",
        " \n",
        "import numpy as np\n",
        "import pandas as pd"
      ],
      "execution_count": 0,
      "outputs": []
    },
    {
      "metadata": {
        "id": "CWOUwgz9c8mM",
        "colab_type": "code",
        "colab": {
          "base_uri": "https://localhost:8080/",
          "height": 153
        },
        "outputId": "a459d804-73e6-4b68-9b5a-29f759204d21"
      },
      "cell_type": "code",
      "source": [
        "!ls"
      ],
      "execution_count": 21,
      "outputs": [
        {
          "output_type": "stream",
          "text": [
            "CNN_cat.h5\t       LSTMCNN_cat_weights.h5\t structure_labels.csv\r\n",
            "CNN_cat_weights.h5     mnist.py\t\t\t tokenizer_cat\r\n",
            "CNN_path.h5\t       new_path_labels0518.csv\t tokenizer_path\r\n",
            "CNN_path_weights.h5    path_labels0518.csv\t tokenizer_struct\r\n",
            "CNN_struct.h5\t       path_labels.csv\t\t weights.best.hdf5\r\n",
            "CNN_struct_weights.h5  pickle\t\t\t wordvector\r\n",
            "glove.6B.zip\t       PoC Classifier Path.odt\r\n",
            "LSTMCNN_cat.h5\t       structure_labels0518.csv\r\n"
          ],
          "name": "stdout"
        }
      ]
    },
    {
      "metadata": {
        "id": "KNa_vAVhS-QC",
        "colab_type": "text"
      },
      "cell_type": "markdown",
      "source": [
        "### prepare labels and text"
      ]
    },
    {
      "metadata": {
        "id": "138mgUsucOaE",
        "colab_type": "code",
        "colab": {}
      },
      "cell_type": "code",
      "source": [
        "labelsP = pd.read_csv(\"new_path_labels0518.csv\").values\n",
        "labelsS  = pd.read_csv(\"structure_labels0518.csv\").values"
      ],
      "execution_count": 0,
      "outputs": []
    },
    {
      "metadata": {
        "id": "yImmvogXS1Hc",
        "colab_type": "code",
        "colab": {
          "base_uri": "https://localhost:8080/",
          "height": 68
        },
        "outputId": "d05a88ef-eb3a-4b08-a3fe-0e08ddbe1571"
      },
      "cell_type": "code",
      "source": [
        "labelsPath = list()\n",
        "labelsStruct = list()\n",
        "labelsCat = list()\n",
        "\n",
        "for labs in labelsS:\n",
        "  labelsStruct.append(labs[1])\n",
        "\n",
        "for labp in labelsP:\n",
        "  labelsPath.append(labp[1])\n",
        "  \n",
        "for labc in cat_label:\n",
        "  labelsCat.append(cat_label[labc])\n",
        "  \n",
        "print(str(len(labelsPath)))\n",
        "print(str(len(labelsStruct)))\n",
        "print(str(len(labelsCat)))"
      ],
      "execution_count": 23,
      "outputs": [
        {
          "output_type": "stream",
          "text": [
            "1034\n",
            "1034\n",
            "944\n"
          ],
          "name": "stdout"
        }
      ]
    },
    {
      "metadata": {
        "id": "UchvkstEYw3a",
        "colab_type": "code",
        "colab": {
          "base_uri": "https://localhost:8080/",
          "height": 16065
        },
        "outputId": "9ef48942-531e-4629-c160-04c1a3389c72"
      },
      "cell_type": "code",
      "source": [
        "labelsCat"
      ],
      "execution_count": 24,
      "outputs": [
        {
          "output_type": "execute_result",
          "data": {
            "text/plain": [
              "['financial',\n",
              " 'security',\n",
              " 'iot',\n",
              " 'marketing',\n",
              " 'payment',\n",
              " 'payment',\n",
              " 'payment',\n",
              " 'financial',\n",
              " 'ecommerce',\n",
              " 'transport',\n",
              " 'cloud',\n",
              " 'cloud',\n",
              " 'cloud',\n",
              " 'cloud',\n",
              " 'cloud',\n",
              " 'cloud',\n",
              " 'cloud',\n",
              " 'cloud',\n",
              " 'cloud',\n",
              " 'cloud',\n",
              " 'cloud',\n",
              " 'cloud',\n",
              " 'cloud',\n",
              " 'cloud',\n",
              " 'cloud',\n",
              " 'cloud',\n",
              " 'cloud',\n",
              " 'cloud',\n",
              " 'cloud',\n",
              " 'cloud',\n",
              " 'cloud',\n",
              " 'cloud',\n",
              " 'cloud',\n",
              " 'cloud',\n",
              " 'cloud',\n",
              " 'cloud',\n",
              " 'cloud',\n",
              " 'cloud',\n",
              " 'cloud',\n",
              " 'cloud',\n",
              " 'cloud',\n",
              " 'cloud',\n",
              " 'cloud',\n",
              " 'cloud',\n",
              " 'cloud',\n",
              " 'cloud',\n",
              " 'cloud',\n",
              " 'cloud',\n",
              " 'cloud',\n",
              " 'cloud',\n",
              " 'cloud',\n",
              " 'cloud',\n",
              " 'cloud',\n",
              " 'cloud',\n",
              " 'cloud',\n",
              " 'cloud',\n",
              " 'cloud',\n",
              " 'cloud',\n",
              " 'cloud',\n",
              " 'cloud',\n",
              " 'cloud',\n",
              " 'cloud',\n",
              " 'cloud',\n",
              " 'cloud',\n",
              " 'cloud',\n",
              " 'cloud',\n",
              " 'cloud',\n",
              " 'cloud',\n",
              " 'cloud',\n",
              " 'cloud',\n",
              " 'cloud',\n",
              " 'cloud',\n",
              " 'cloud',\n",
              " 'cloud',\n",
              " 'cloud',\n",
              " 'cloud',\n",
              " 'cloud',\n",
              " 'cloud',\n",
              " 'cloud',\n",
              " 'cloud',\n",
              " 'cloud',\n",
              " 'cloud',\n",
              " 'cloud',\n",
              " 'cloud',\n",
              " 'cloud',\n",
              " 'cloud',\n",
              " 'cloud',\n",
              " 'cloud',\n",
              " 'cloud',\n",
              " 'cloud',\n",
              " 'cloud',\n",
              " 'cloud',\n",
              " 'cloud',\n",
              " 'cloud',\n",
              " 'cloud',\n",
              " 'cloud',\n",
              " 'cloud',\n",
              " 'cloud',\n",
              " 'cloud',\n",
              " 'cloud',\n",
              " 'cloud',\n",
              " 'cloud',\n",
              " 'cloud',\n",
              " 'cloud',\n",
              " 'cloud',\n",
              " 'cloud',\n",
              " 'cloud',\n",
              " 'cloud',\n",
              " 'cloud',\n",
              " 'cloud',\n",
              " 'cloud',\n",
              " 'cloud',\n",
              " 'cloud',\n",
              " 'cloud',\n",
              " 'cloud',\n",
              " 'cloud',\n",
              " 'cloud',\n",
              " 'cloud',\n",
              " 'cloud',\n",
              " 'cloud',\n",
              " 'cloud',\n",
              " 'cloud',\n",
              " 'cloud',\n",
              " 'cloud',\n",
              " 'cloud',\n",
              " 'cloud',\n",
              " 'cloud',\n",
              " 'cloud',\n",
              " 'cloud',\n",
              " 'cloud',\n",
              " 'cloud',\n",
              " 'cloud',\n",
              " 'cloud',\n",
              " 'cloud',\n",
              " 'cloud',\n",
              " 'cloud',\n",
              " 'cloud',\n",
              " 'cloud',\n",
              " 'cloud',\n",
              " 'cloud',\n",
              " 'cloud',\n",
              " 'cloud',\n",
              " 'cloud',\n",
              " 'cloud',\n",
              " 'cloud',\n",
              " 'cloud',\n",
              " 'cloud',\n",
              " 'cloud',\n",
              " 'cloud',\n",
              " 'developer_tools',\n",
              " 'messaging',\n",
              " 'time_management',\n",
              " 'ecommerce',\n",
              " 'ecommerce',\n",
              " 'developer_tools',\n",
              " 'open_data',\n",
              " 'text',\n",
              " 'text',\n",
              " 'text',\n",
              " 'text',\n",
              " 'text',\n",
              " 'text',\n",
              " 'developer_tools',\n",
              " 'text',\n",
              " 'text',\n",
              " 'text',\n",
              " 'text',\n",
              " 'text',\n",
              " 'text',\n",
              " 'text',\n",
              " 'text',\n",
              " 'text',\n",
              " 'text',\n",
              " 'text',\n",
              " 'text',\n",
              " 'text',\n",
              " 'text',\n",
              " 'developer_tools',\n",
              " 'search',\n",
              " 'search',\n",
              " 'media',\n",
              " 'financial',\n",
              " 'open_data',\n",
              " 'security',\n",
              " 'collaboration',\n",
              " 'transport',\n",
              " 'cloud',\n",
              " 'cloud',\n",
              " 'cloud',\n",
              " 'cloud',\n",
              " 'cloud',\n",
              " 'cloud',\n",
              " 'cloud',\n",
              " 'cloud',\n",
              " 'cloud',\n",
              " 'cloud',\n",
              " 'cloud',\n",
              " 'cloud',\n",
              " 'cloud',\n",
              " 'cloud',\n",
              " 'cloud',\n",
              " 'cloud',\n",
              " 'cloud',\n",
              " 'cloud',\n",
              " 'cloud',\n",
              " 'cloud',\n",
              " 'cloud',\n",
              " 'cloud',\n",
              " 'cloud',\n",
              " 'cloud',\n",
              " 'cloud',\n",
              " 'cloud',\n",
              " 'cloud',\n",
              " 'cloud',\n",
              " 'cloud',\n",
              " 'cloud',\n",
              " 'cloud',\n",
              " 'cloud',\n",
              " 'cloud',\n",
              " 'cloud',\n",
              " 'cloud',\n",
              " 'cloud',\n",
              " 'cloud',\n",
              " 'cloud',\n",
              " 'cloud',\n",
              " 'cloud',\n",
              " 'cloud',\n",
              " 'cloud',\n",
              " 'cloud',\n",
              " 'cloud',\n",
              " 'cloud',\n",
              " 'cloud',\n",
              " 'cloud',\n",
              " 'cloud',\n",
              " 'cloud',\n",
              " 'cloud',\n",
              " 'cloud',\n",
              " 'cloud',\n",
              " 'cloud',\n",
              " 'cloud',\n",
              " 'cloud',\n",
              " 'cloud',\n",
              " 'cloud',\n",
              " 'cloud',\n",
              " 'cloud',\n",
              " 'cloud',\n",
              " 'cloud',\n",
              " 'cloud',\n",
              " 'cloud',\n",
              " 'cloud',\n",
              " 'cloud',\n",
              " 'cloud',\n",
              " 'cloud',\n",
              " 'cloud',\n",
              " 'cloud',\n",
              " 'cloud',\n",
              " 'cloud',\n",
              " 'cloud',\n",
              " 'cloud',\n",
              " 'cloud',\n",
              " 'cloud',\n",
              " 'cloud',\n",
              " 'cloud',\n",
              " 'cloud',\n",
              " 'cloud',\n",
              " 'cloud',\n",
              " 'cloud',\n",
              " 'cloud',\n",
              " 'cloud',\n",
              " 'cloud',\n",
              " 'cloud',\n",
              " 'cloud',\n",
              " 'cloud',\n",
              " 'cloud',\n",
              " 'cloud',\n",
              " 'cloud',\n",
              " 'cloud',\n",
              " 'cloud',\n",
              " 'cloud',\n",
              " 'cloud',\n",
              " 'cloud',\n",
              " 'cloud',\n",
              " 'cloud',\n",
              " 'cloud',\n",
              " 'cloud',\n",
              " 'cloud',\n",
              " 'cloud',\n",
              " 'cloud',\n",
              " 'cloud',\n",
              " 'cloud',\n",
              " 'cloud',\n",
              " 'cloud',\n",
              " 'cloud',\n",
              " 'cloud',\n",
              " 'cloud',\n",
              " 'cloud',\n",
              " 'cloud',\n",
              " 'cloud',\n",
              " 'cloud',\n",
              " 'cloud',\n",
              " 'cloud',\n",
              " 'cloud',\n",
              " 'cloud',\n",
              " 'cloud',\n",
              " 'cloud',\n",
              " 'cloud',\n",
              " 'cloud',\n",
              " 'cloud',\n",
              " 'cloud',\n",
              " 'cloud',\n",
              " 'cloud',\n",
              " 'cloud',\n",
              " 'cloud',\n",
              " 'cloud',\n",
              " 'cloud',\n",
              " 'cloud',\n",
              " 'cloud',\n",
              " 'cloud',\n",
              " 'cloud',\n",
              " 'cloud',\n",
              " 'cloud',\n",
              " 'cloud',\n",
              " 'cloud',\n",
              " 'cloud',\n",
              " 'cloud',\n",
              " 'cloud',\n",
              " 'cloud',\n",
              " 'cloud',\n",
              " 'cloud',\n",
              " 'cloud',\n",
              " 'cloud',\n",
              " 'cloud',\n",
              " 'cloud',\n",
              " 'cloud',\n",
              " 'cloud',\n",
              " 'cloud',\n",
              " 'cloud',\n",
              " 'cloud',\n",
              " 'cloud',\n",
              " 'cloud',\n",
              " 'cloud',\n",
              " 'cloud',\n",
              " 'cloud',\n",
              " 'cloud',\n",
              " 'cloud',\n",
              " 'cloud',\n",
              " 'cloud',\n",
              " 'cloud',\n",
              " 'cloud',\n",
              " 'cloud',\n",
              " 'cloud',\n",
              " 'cloud',\n",
              " 'cloud',\n",
              " 'cloud',\n",
              " 'cloud',\n",
              " 'cloud',\n",
              " 'cloud',\n",
              " 'cloud',\n",
              " 'cloud',\n",
              " 'cloud',\n",
              " 'cloud',\n",
              " 'cloud',\n",
              " 'cloud',\n",
              " 'cloud',\n",
              " 'cloud',\n",
              " 'cloud',\n",
              " 'cloud',\n",
              " 'cloud',\n",
              " 'cloud',\n",
              " 'cloud',\n",
              " 'cloud',\n",
              " 'cloud',\n",
              " 'cloud',\n",
              " 'cloud',\n",
              " 'cloud',\n",
              " 'cloud',\n",
              " 'cloud',\n",
              " 'cloud',\n",
              " 'cloud',\n",
              " 'cloud',\n",
              " 'cloud',\n",
              " 'cloud',\n",
              " 'cloud',\n",
              " 'cloud',\n",
              " 'cloud',\n",
              " 'cloud',\n",
              " 'cloud',\n",
              " 'cloud',\n",
              " 'cloud',\n",
              " 'cloud',\n",
              " 'cloud',\n",
              " 'cloud',\n",
              " 'cloud',\n",
              " 'cloud',\n",
              " 'cloud',\n",
              " 'cloud',\n",
              " 'cloud',\n",
              " 'cloud',\n",
              " 'cloud',\n",
              " 'cloud',\n",
              " 'cloud',\n",
              " 'cloud',\n",
              " 'cloud',\n",
              " 'cloud',\n",
              " 'cloud',\n",
              " 'cloud',\n",
              " 'cloud',\n",
              " 'cloud',\n",
              " 'cloud',\n",
              " 'cloud',\n",
              " 'cloud',\n",
              " 'cloud',\n",
              " 'cloud',\n",
              " 'cloud',\n",
              " 'cloud',\n",
              " 'cloud',\n",
              " 'cloud',\n",
              " 'cloud',\n",
              " 'cloud',\n",
              " 'cloud',\n",
              " 'cloud',\n",
              " 'cloud',\n",
              " 'cloud',\n",
              " 'cloud',\n",
              " 'cloud',\n",
              " 'cloud',\n",
              " 'cloud',\n",
              " 'cloud',\n",
              " 'cloud',\n",
              " 'cloud',\n",
              " 'cloud',\n",
              " 'cloud',\n",
              " 'cloud',\n",
              " 'cloud',\n",
              " 'cloud',\n",
              " 'cloud',\n",
              " 'cloud',\n",
              " 'cloud',\n",
              " 'cloud',\n",
              " 'cloud',\n",
              " 'cloud',\n",
              " 'cloud',\n",
              " 'cloud',\n",
              " 'cloud',\n",
              " 'cloud',\n",
              " 'cloud',\n",
              " 'cloud',\n",
              " 'cloud',\n",
              " 'cloud',\n",
              " 'cloud',\n",
              " 'cloud',\n",
              " 'cloud',\n",
              " 'cloud',\n",
              " 'cloud',\n",
              " 'cloud',\n",
              " 'cloud',\n",
              " 'cloud',\n",
              " 'cloud',\n",
              " 'cloud',\n",
              " 'cloud',\n",
              " 'cloud',\n",
              " 'cloud',\n",
              " 'cloud',\n",
              " 'cloud',\n",
              " 'cloud',\n",
              " 'cloud',\n",
              " 'cloud',\n",
              " 'cloud',\n",
              " 'cloud',\n",
              " 'cloud',\n",
              " 'cloud',\n",
              " 'cloud',\n",
              " 'cloud',\n",
              " 'cloud',\n",
              " 'cloud',\n",
              " 'cloud',\n",
              " 'cloud',\n",
              " 'cloud',\n",
              " 'cloud',\n",
              " 'cloud',\n",
              " 'cloud',\n",
              " 'cloud',\n",
              " 'cloud',\n",
              " 'cloud',\n",
              " 'cloud',\n",
              " 'cloud',\n",
              " 'cloud',\n",
              " 'cloud',\n",
              " 'cloud',\n",
              " 'cloud',\n",
              " 'cloud',\n",
              " 'cloud',\n",
              " 'cloud',\n",
              " 'cloud',\n",
              " 'cloud',\n",
              " 'cloud',\n",
              " 'cloud',\n",
              " 'cloud',\n",
              " 'cloud',\n",
              " 'cloud',\n",
              " 'media',\n",
              " 'media',\n",
              " 'media',\n",
              " 'open_data',\n",
              " 'payment',\n",
              " 'ecommerce',\n",
              " 'entertainment',\n",
              " 'open_data',\n",
              " 'open_data',\n",
              " 'developer_tools',\n",
              " 'developer_tools',\n",
              " 'developer_tools',\n",
              " 'analytics',\n",
              " 'cloud',\n",
              " 'cloud',\n",
              " 'cloud',\n",
              " 'cloud',\n",
              " 'ecommerce',\n",
              " 'financial',\n",
              " 'tools',\n",
              " 'social',\n",
              " 'telecom',\n",
              " 'media',\n",
              " 'telecom',\n",
              " 'open_data',\n",
              " 'media',\n",
              " 'media',\n",
              " 'developer_tools',\n",
              " 'messaging',\n",
              " 'security',\n",
              " 'collaboration',\n",
              " 'open_data',\n",
              " 'search',\n",
              " 'cloud',\n",
              " 'education',\n",
              " 'marketing',\n",
              " 'text',\n",
              " 'financial',\n",
              " 'developer_tools',\n",
              " 'financial',\n",
              " 'open_data',\n",
              " 'open_data',\n",
              " 'open_data',\n",
              " 'machine_learning',\n",
              " 'media',\n",
              " 'transport',\n",
              " 'transport',\n",
              " 'transport',\n",
              " 'transport',\n",
              " 'transport',\n",
              " 'transport',\n",
              " 'text',\n",
              " 'developer_tools',\n",
              " 'ecommerce',\n",
              " 'hosting',\n",
              " 'cloud',\n",
              " 'ecommerce',\n",
              " 'iot',\n",
              " 'ecommerce',\n",
              " 'ecommerce',\n",
              " 'ecommerce',\n",
              " 'ecommerce',\n",
              " 'ecommerce',\n",
              " 'financial',\n",
              " 'open_data',\n",
              " 'open_data',\n",
              " 'open_data',\n",
              " 'open_data',\n",
              " 'open_data',\n",
              " 'open_data',\n",
              " 'open_data',\n",
              " 'open_data',\n",
              " 'media',\n",
              " 'open_data',\n",
              " 'storage',\n",
              " 'entertainment',\n",
              " 'entertainment',\n",
              " 'entertainment',\n",
              " 'entertainment',\n",
              " 'entertainment',\n",
              " 'entertainment',\n",
              " 'entertainment',\n",
              " 'entertainment',\n",
              " 'entertainment',\n",
              " 'entertainment',\n",
              " 'entertainment',\n",
              " 'entertainment',\n",
              " 'entertainment',\n",
              " 'entertainment',\n",
              " 'entertainment',\n",
              " 'entertainment',\n",
              " 'entertainment',\n",
              " 'entertainment',\n",
              " 'entertainment',\n",
              " 'entertainment',\n",
              " 'entertainment',\n",
              " 'entertainment',\n",
              " 'entertainment',\n",
              " 'entertainment',\n",
              " 'entertainment',\n",
              " 'entertainment',\n",
              " 'entertainment',\n",
              " 'entertainment',\n",
              " 'entertainment',\n",
              " 'entertainment',\n",
              " 'entertainment',\n",
              " 'entertainment',\n",
              " 'open_data',\n",
              " 'open_data',\n",
              " 'media',\n",
              " 'media',\n",
              " 'text',\n",
              " 'media',\n",
              " 'text',\n",
              " 'location',\n",
              " 'text',\n",
              " 'developer_tools',\n",
              " 'media',\n",
              " 'media',\n",
              " 'location',\n",
              " 'collaboration',\n",
              " 'developer_tools',\n",
              " 'analytics',\n",
              " 'analytics',\n",
              " 'analytics',\n",
              " 'developer_tools',\n",
              " 'search',\n",
              " 'social',\n",
              " 'media',\n",
              " 'time_management',\n",
              " 'education',\n",
              " 'security',\n",
              " 'monitoring',\n",
              " 'ecommerce',\n",
              " 'search',\n",
              " 'storage',\n",
              " 'developer_tools',\n",
              " 'cloud',\n",
              " 'cloud',\n",
              " 'marketing',\n",
              " 'marketing',\n",
              " 'storage',\n",
              " 'backend',\n",
              " 'backend',\n",
              " 'backend',\n",
              " 'backend',\n",
              " 'cloud',\n",
              " 'social',\n",
              " 'social',\n",
              " 'social',\n",
              " 'email',\n",
              " 'cloud',\n",
              " 'cloud',\n",
              " 'security',\n",
              " 'security',\n",
              " 'search',\n",
              " 'text',\n",
              " 'enterprise',\n",
              " 'cloud',\n",
              " 'marketing',\n",
              " 'machine_learning',\n",
              " 'monitoring',\n",
              " 'security',\n",
              " 'backend',\n",
              " 'tools',\n",
              " 'social',\n",
              " 'developer_tools',\n",
              " 'media',\n",
              " 'social',\n",
              " 'social',\n",
              " 'machine_learning',\n",
              " 'iot',\n",
              " 'messaging',\n",
              " 'backend',\n",
              " 'backend',\n",
              " 'enterprise',\n",
              " 'backend',\n",
              " 'cloud',\n",
              " 'security',\n",
              " 'cloud',\n",
              " 'search',\n",
              " 'cloud',\n",
              " 'cloud',\n",
              " 'cloud',\n",
              " 'cloud',\n",
              " 'developer_tools',\n",
              " 'cloud',\n",
              " 'developer_tools',\n",
              " 'backend',\n",
              " 'telecom',\n",
              " 'machine_learning',\n",
              " 'backend',\n",
              " 'storage',\n",
              " 'storage',\n",
              " 'location',\n",
              " 'analytics',\n",
              " 'backend',\n",
              " 'time_management',\n",
              " 'developer_tools',\n",
              " 'text',\n",
              " 'tools',\n",
              " 'storage',\n",
              " 'media',\n",
              " 'machine_learning',\n",
              " 'developer_tools',\n",
              " 'search',\n",
              " 'media',\n",
              " 'analytics',\n",
              " 'analytics',\n",
              " 'open_data',\n",
              " 'open_data',\n",
              " 'open_data',\n",
              " 'open_data',\n",
              " 'open_data',\n",
              " 'open_data',\n",
              " 'open_data',\n",
              " 'open_data',\n",
              " 'open_data',\n",
              " 'location',\n",
              " 'collaboration',\n",
              " 'social',\n",
              " 'entertainment',\n",
              " 'entertainment',\n",
              " 'entertainment',\n",
              " 'entertainment',\n",
              " 'open_data',\n",
              " 'open_data',\n",
              " 'open_data',\n",
              " 'media',\n",
              " 'financial',\n",
              " 'media',\n",
              " 'telecom',\n",
              " 'iot',\n",
              " 'open_data',\n",
              " 'tools',\n",
              " 'tools',\n",
              " 'tools',\n",
              " 'tools',\n",
              " 'tools',\n",
              " 'email',\n",
              " 'social',\n",
              " 'social',\n",
              " 'education',\n",
              " 'open_data',\n",
              " 'messaging',\n",
              " 'media',\n",
              " 'ecommerce',\n",
              " 'marketing',\n",
              " 'ecommerce',\n",
              " 'ecommerce',\n",
              " 'ecommerce',\n",
              " 'developer_tools',\n",
              " 'open_data',\n",
              " 'developer_tools',\n",
              " 'education',\n",
              " 'ecommerce',\n",
              " 'ecommerce',\n",
              " 'ecommerce',\n",
              " 'ecommerce',\n",
              " 'ecommerce',\n",
              " 'ecommerce',\n",
              " 'developer_tools',\n",
              " 'location',\n",
              " 'transport',\n",
              " 'transport',\n",
              " 'location',\n",
              " 'ecommerce',\n",
              " 'financial',\n",
              " 'email',\n",
              " 'developer_tools',\n",
              " 'open_data',\n",
              " 'media',\n",
              " 'location',\n",
              " 'cloud',\n",
              " 'cloud',\n",
              " 'cloud',\n",
              " 'cloud',\n",
              " 'cloud',\n",
              " 'cloud',\n",
              " 'cloud',\n",
              " 'cloud',\n",
              " 'cloud',\n",
              " 'text',\n",
              " 'cloud',\n",
              " 'marketing',\n",
              " 'financial',\n",
              " 'financial',\n",
              " 'media',\n",
              " 'open_data',\n",
              " 'iot',\n",
              " 'developer_tools',\n",
              " 'cloud',\n",
              " 'email',\n",
              " 'financial',\n",
              " 'collaboration',\n",
              " 'media',\n",
              " 'open_data',\n",
              " 'open_data',\n",
              " 'open_data',\n",
              " 'media',\n",
              " 'media',\n",
              " 'media',\n",
              " 'media',\n",
              " 'media',\n",
              " 'media',\n",
              " 'media',\n",
              " 'media',\n",
              " 'media',\n",
              " 'media',\n",
              " 'media',\n",
              " 'telecom',\n",
              " 'telecom',\n",
              " 'open_data',\n",
              " 'media',\n",
              " 'developer_tools',\n",
              " 'financial',\n",
              " 'location',\n",
              " 'open_data',\n",
              " 'open_data',\n",
              " 'financial',\n",
              " 'telecom',\n",
              " 'open_data',\n",
              " 'open_data',\n",
              " 'enterprise',\n",
              " 'search',\n",
              " 'text',\n",
              " 'transport',\n",
              " 'machine_learning',\n",
              " 'security',\n",
              " 'financial',\n",
              " 'financial',\n",
              " 'financial',\n",
              " 'media',\n",
              " 'enterprise',\n",
              " 'enterprise',\n",
              " 'open_data',\n",
              " 'financial',\n",
              " 'email',\n",
              " 'email',\n",
              " 'email',\n",
              " 'transport',\n",
              " 'ecommerce',\n",
              " 'open_data',\n",
              " 'developer_tools',\n",
              " 'payment',\n",
              " 'ecommerce',\n",
              " 'open_data',\n",
              " 'ecommerce',\n",
              " 'cloud',\n",
              " 'social',\n",
              " 'customer_relation',\n",
              " 'media',\n",
              " 'machine_learning',\n",
              " 'developer_tools',\n",
              " 'customer_relation',\n",
              " 'open_data',\n",
              " 'email',\n",
              " 'text',\n",
              " 'social',\n",
              " 'email',\n",
              " 'ecommerce',\n",
              " 'collaboration',\n",
              " 'collaboration',\n",
              " 'iot',\n",
              " 'ecommerce',\n",
              " 'media',\n",
              " 'media',\n",
              " 'payment',\n",
              " 'collaboration',\n",
              " 'location',\n",
              " 'social',\n",
              " 'developer_tools',\n",
              " 'financial',\n",
              " 'location',\n",
              " 'financial',\n",
              " 'open_data',\n",
              " 'open_data',\n",
              " 'developer_tools',\n",
              " 'developer_tools',\n",
              " 'media',\n",
              " 'text',\n",
              " 'payment',\n",
              " 'financial',\n",
              " 'transport',\n",
              " 'media',\n",
              " 'messaging',\n",
              " 'media',\n",
              " 'location',\n",
              " 'transport',\n",
              " 'collaboration',\n",
              " 'cloud',\n",
              " 'media',\n",
              " 'telecom',\n",
              " 'support',\n",
              " 'social',\n",
              " 'enterprise',\n",
              " 'location',\n",
              " 'financial',\n",
              " 'open_data',\n",
              " 'marketing',\n",
              " 'developer_tools',\n",
              " 'search',\n",
              " 'media',\n",
              " 'tools',\n",
              " 'open_data',\n",
              " 'ecommerce',\n",
              " 'ecommerce',\n",
              " 'ecommerce',\n",
              " 'ecommerce',\n",
              " 'hosting',\n",
              " 'location',\n",
              " 'messaging',\n",
              " 'analytics',\n",
              " 'location',\n",
              " 'open_data',\n",
              " 'entertainment',\n",
              " 'entertainment',\n",
              " 'entertainment',\n",
              " 'entertainment',\n",
              " 'entertainment',\n",
              " 'entertainment',\n",
              " 'hosting',\n",
              " 'media',\n",
              " 'cloud',\n",
              " 'cloud',\n",
              " 'email',\n",
              " 'messaging',\n",
              " 'transport',\n",
              " 'transport',\n",
              " 'transport',\n",
              " 'transport',\n",
              " 'transport',\n",
              " 'text',\n",
              " 'text',\n",
              " 'media',\n",
              " 'developer_tools',\n",
              " 'financial',\n",
              " 'media',\n",
              " 'financial',\n",
              " 'ecommerce',\n",
              " 'media',\n",
              " 'telecom',\n",
              " 'messaging',\n",
              " 'financial']"
            ]
          },
          "metadata": {
            "tags": []
          },
          "execution_count": 24
        }
      ]
    },
    {
      "metadata": {
        "id": "ai2Al-d9S3WC",
        "colab_type": "code",
        "colab": {
          "base_uri": "https://localhost:8080/",
          "height": 34
        },
        "outputId": "a640d943-654b-4abf-b420-e43bdb85bc09"
      },
      "cell_type": "code",
      "source": [
        "texts = []   # list of text samples\n",
        "for spec in training_data:\n",
        "  strJson = json.dumps(training_data[spec])\n",
        "  texts.append(strJson)\n",
        "\n",
        "print(str(len(texts)))"
      ],
      "execution_count": 25,
      "outputs": [
        {
          "output_type": "stream",
          "text": [
            "1034\n"
          ],
          "name": "stdout"
        }
      ]
    },
    {
      "metadata": {
        "id": "o2vW-4NYqJ90",
        "colab_type": "code",
        "colab": {
          "base_uri": "https://localhost:8080/",
          "height": 34
        },
        "outputId": "2eb5d1da-21c4-4291-a083-c9da56bcbf09"
      },
      "cell_type": "code",
      "source": [
        "texts_paths = []   # list of text samples\n",
        "for path_obj in paths:\n",
        "  strJson = json.dumps(paths[path_obj])\n",
        "  texts_paths.append(strJson)\n",
        "\n",
        "print(str(len(texts_paths)))"
      ],
      "execution_count": 26,
      "outputs": [
        {
          "output_type": "stream",
          "text": [
            "1034\n"
          ],
          "name": "stdout"
        }
      ]
    },
    {
      "metadata": {
        "id": "v2Hs14KeeGs6",
        "colab_type": "code",
        "colab": {
          "base_uri": "https://localhost:8080/",
          "height": 34
        },
        "outputId": "63598b43-4d23-4410-8808-3cf01d6cd039"
      },
      "cell_type": "code",
      "source": [
        "print(len(min(texts_paths, key=len)))"
      ],
      "execution_count": 27,
      "outputs": [
        {
          "output_type": "stream",
          "text": [
            "309\n"
          ],
          "name": "stdout"
        }
      ]
    },
    {
      "metadata": {
        "id": "vx5ryrkNvz2P",
        "colab_type": "code",
        "colab": {
          "base_uri": "https://localhost:8080/",
          "height": 34
        },
        "outputId": "20aa1486-14d8-4797-dc00-eaff1e0c2ae0"
      },
      "cell_type": "code",
      "source": [
        "#turn info objects into strings\n",
        "\n",
        "texts_info= []   # list of text samples\n",
        "for info in training_info:\n",
        "  strJson = json.dumps(training_info[info])\n",
        "  texts_info.append(strJson)\n",
        "\n",
        "print(str(len(texts_info)))"
      ],
      "execution_count": 28,
      "outputs": [
        {
          "output_type": "stream",
          "text": [
            "1034\n"
          ],
          "name": "stdout"
        }
      ]
    },
    {
      "metadata": {
        "id": "ovvC-AG9KryD",
        "colab_type": "code",
        "colab": {
          "base_uri": "https://localhost:8080/",
          "height": 34
        },
        "outputId": "396dcd38-cd2a-4456-aa92-762a8d0766d3"
      },
      "cell_type": "code",
      "source": [
        "\n",
        "texts_cat = []   # list of text samples\n",
        "for cat in cat_data:\n",
        "  strJson = json.dumps(cat_data[cat])\n",
        "  texts_cat.append(strJson)\n",
        "\n",
        "print(str(len(texts_cat)))"
      ],
      "execution_count": 29,
      "outputs": [
        {
          "output_type": "stream",
          "text": [
            "944\n"
          ],
          "name": "stdout"
        }
      ]
    },
    {
      "metadata": {
        "id": "RnbAOBs8v0YG",
        "colab_type": "code",
        "colab": {
          "base_uri": "https://localhost:8080/",
          "height": 34
        },
        "outputId": "bf5ef178-a083-4ba3-c5f8-6dd282c2fc5a"
      },
      "cell_type": "code",
      "source": [
        "#turn info objects into strings\n",
        "\n",
        "texts_info_cat = []   # list of text samples\n",
        "for cat in cat_info:\n",
        "  strJson = json.dumps(cat_info[cat])\n",
        "  texts_info_cat.append(strJson)\n",
        "\n",
        "print(str(len(texts_info_cat)))"
      ],
      "execution_count": 30,
      "outputs": [
        {
          "output_type": "stream",
          "text": [
            "944\n"
          ],
          "name": "stdout"
        }
      ]
    },
    {
      "metadata": {
        "id": "p9Rqzzfe1jte",
        "colab_type": "text"
      },
      "cell_type": "markdown",
      "source": [
        "## test word embeddings"
      ]
    },
    {
      "metadata": {
        "id": "wZCUCyYu2LAY",
        "colab_type": "code",
        "colab": {
          "base_uri": "https://localhost:8080/",
          "height": 71
        },
        "outputId": "4f6be73a-caa8-4b8b-f128-a7a1d182f346"
      },
      "cell_type": "code",
      "source": [
        "print(type(texts[0]))\n",
        "print(texts[0])"
      ],
      "execution_count": 31,
      "outputs": [
        {
          "output_type": "stream",
          "text": [
            "<class 'str'>\n",
            "{\"swagger\": \"2.0\", \"schemes\": [\"https\", \"http\"], \"host\": \"1forge.com\", \"basePath\": \"/forex-quotes\", \"info\": {\"contact\": {\"email\": \"contact@1forge.com\", \"name\": \"1Forge\", \"url\": \"http://1forge.com\"}, \"description\": \"Stock and Forex Data and Realtime Quotes\", \"title\": \"1Forge Finance APIs\", \"version\": \"0.0.1\", \"x-apisguru-categories\": [\"financial\"], \"x-logo\": {\"backgroundColor\": \"#24292e\", \"url\": \"https://api.apis.guru/v2/cache/logo/http_1forge.com_logo.png\"}, \"x-origin\": [{\"format\": \"swagger\", \"url\": \"http://1forge.com/openapi.json\", \"version\": \"2.0\"}], \"x-preferred\": true, \"x-providerName\": \"1forge.com\"}, \"produces\": [\"application/json\"], \"paths\": {\"/quotes\": {\"get\": {\"description\": \"Get quotes\", \"externalDocs\": {\"description\": \"Find out more\", \"url\": \"http://1forge.com/forex-data-api\"}, \"responses\": {\"200\": {\"description\": \"A list of quotes\"}}, \"summary\": \"Get quotes for all symbols\", \"tags\": [\"forex\", \"finance\", \"quotes\"]}}, \"/symbols\": {\"get\": {\"description\": \"Symbol List\", \"externalDocs\": {\"description\": \"Find out more\", \"url\": \"http://1forge.com/forex-data-api\"}, \"responses\": {\"200\": {\"description\": \"A list of symbols\", \"schema\": {\"example\": [\"EURUSD\", \"GBPJPY\", \"AUDUSD\"], \"items\": {\"type\": \"string\"}, \"type\": \"array\"}}}, \"summary\": \"Get a list of symbols for which we provide real-time quotes\", \"tags\": [\"forex\", \"finance\", \"quotes\"]}}}}\n"
          ],
          "name": "stdout"
        }
      ]
    },
    {
      "metadata": {
        "id": "rakq7ROMTNxz",
        "colab_type": "code",
        "colab": {}
      },
      "cell_type": "code",
      "source": [
        "from sklearn import model_selection, preprocessing, linear_model\n",
        "\n",
        "#encoder for labels of category\n",
        "encoder = preprocessing.LabelEncoder()\n",
        "labelsCat = encoder.fit_transform(labelsCat)\n"
      ],
      "execution_count": 0,
      "outputs": []
    },
    {
      "metadata": {
        "id": "mHYSFCZYTWm4",
        "colab_type": "code",
        "colab": {
          "base_uri": "https://localhost:8080/",
          "height": 714
        },
        "outputId": "89004156-be80-48c1-a3b3-f68e5f5862d1"
      },
      "cell_type": "code",
      "source": [
        "labelsC = labelsCat  # list of label ids\n",
        "print(type(labelsC))\n",
        "print(labelsC)"
      ],
      "execution_count": 33,
      "outputs": [
        {
          "output_type": "stream",
          "text": [
            "<class 'numpy.ndarray'>\n",
            "[11 23 13 16 21 21 21 11  6 31  2  2  2  2  2  2  2  2  2  2  2  2  2  2\n",
            "  2  2  2  2  2  2  2  2  2  2  2  2  2  2  2  2  2  2  2  2  2  2  2  2\n",
            "  2  2  2  2  2  2  2  2  2  2  2  2  2  2  2  2  2  2  2  2  2  2  2  2\n",
            "  2  2  2  2  2  2  2  2  2  2  2  2  2  2  2  2  2  2  2  2  2  2  2  2\n",
            "  2  2  2  2  2  2  2  2  2  2  2  2  2  2  2  2  2  2  2  2  2  2  2  2\n",
            "  2  2  2  2  2  2  2  2  2  2  2  2  2  2  2  2  2  2  2  2  2  2  2  2\n",
            "  2  2  2  2  2  5 18 29  6  6  5 20 28 28 28 28 28 28  5 28 28 28 28 28\n",
            " 28 28 28 28 28 28 28 28 28  5 22 22 17 11 20 23  3 31  2  2  2  2  2  2\n",
            "  2  2  2  2  2  2  2  2  2  2  2  2  2  2  2  2  2  2  2  2  2  2  2  2\n",
            "  2  2  2  2  2  2  2  2  2  2  2  2  2  2  2  2  2  2  2  2  2  2  2  2\n",
            "  2  2  2  2  2  2  2  2  2  2  2  2  2  2  2  2  2  2  2  2  2  2  2  2\n",
            "  2  2  2  2  2  2  2  2  2  2  2  2  2  2  2  2  2  2  2  2  2  2  2  2\n",
            "  2  2  2  2  2  2  2  2  2  2  2  2  2  2  2  2  2  2  2  2  2  2  2  2\n",
            "  2  2  2  2  2  2  2  2  2  2  2  2  2  2  2  2  2  2  2  2  2  2  2  2\n",
            "  2  2  2  2  2  2  2  2  2  2  2  2  2  2  2  2  2  2  2  2  2  2  2  2\n",
            "  2  2  2  2  2  2  2  2  2  2  2  2  2  2  2  2  2  2  2  2  2  2  2  2\n",
            "  2  2  2  2  2  2  2  2  2  2  2  2  2  2  2  2  2  2  2  2  2  2  2  2\n",
            "  2  2  2  2  2  2  2  2  2  2  2  2  2  2  2  2  2  2  2  2  2  2  2  2\n",
            "  2  2  2  2  2  2  2  2  2  2  2  2  2  2  2  2  2  2  2  2  2  2  2  2\n",
            "  2  2  2  2  2  2  2  2  2  2  2  2  2  2  2  2  2  2  2  2  2  2  2  2\n",
            "  2  2  2  2  2  2  2  2  2  2  2  2  2  2  2  2  2  2  2  2 17 17 17 20\n",
            " 21  6 10 20 20  5  5  5  0  2  2  2  2  6 11 30 24 27 17 27 20 17 17  5\n",
            " 18 23  3 20 22  2  7 16 28 11  5 11 20 20 20 15 17 31 31 31 31 31 31 28\n",
            "  5  6 12  2  6 13  6  6  6  6  6 11 20 20 20 20 20 20 20 20 17 20 25 10\n",
            " 10 10 10 10 10 10 10 10 10 10 10 10 10 10 10 10 10 10 10 10 10 10 10 10\n",
            " 10 10 10 10 10 10 10 20 20 17 17 28 17 28 14 28  5 17 17 14  3  5  0  0\n",
            "  0  5 22 24 17 29  7 23 19  6 22 25  5  2  2 16 16 25  1  1  1  1  2 24\n",
            " 24 24  8  2  2 23 23 22 28  9  2 16 15 19 23  1 30 24  5 17 24 24 15 13\n",
            " 18  1  1  9  1  2 23  2 22  2  2  2  2  5  2  5  1 27 15  1 25 25 14  0\n",
            "  1 29  5 28 30 25 17 15  5 22 17  0  0 20 20 20 20 20 20 20 20 20 14  3\n",
            " 24 10 10 10 10 20 20 20 17 11 17 27 13 20 30 30 30 30 30  8 24 24  7 20\n",
            " 18 17  6 16  6  6  6  5 20  5  7  6  6  6  6  6  6  5 14 31 31 14  6 11\n",
            "  8  5 20 17 14  2  2  2  2  2  2  2  2  2 28  2 16 11 11 17 20 13  5  2\n",
            "  8 11  3 17 20 20 20 17 17 17 17 17 17 17 17 17 17 17 27 27 20 17  5 11\n",
            " 14 20 20 11 27 20 20  9 22 28 31 15 23 11 11 11 17  9  9 20 11  8  8  8\n",
            " 31  6 20  5 21  6 20  6  2 24  4 17 15  5  4 20  8 28 24  8  6  3  3 13\n",
            "  6 17 17 21  3 14 24  5 11 14 11 20 20  5  5 17 28 21 11 31 17 18 17 14\n",
            " 31  3  2 17 27 26 24  9 14 11 20 16  5 22 17 30 20  6  6  6  6 12 14 18\n",
            "  0 14 20 10 10 10 10 10 10 12 17  2  2  8 18 31 31 31 31 31 28 28 17  5\n",
            " 11 17 11  6 17 27 18 11]\n"
          ],
          "name": "stdout"
        }
      ]
    },
    {
      "metadata": {
        "id": "MYP4cwna1reG",
        "colab_type": "code",
        "colab": {
          "base_uri": "https://localhost:8080/",
          "height": 71
        },
        "outputId": "9cfcae81-57b1-4c84-d93a-f010f1ec25a9"
      },
      "cell_type": "code",
      "source": [
        "\n",
        "\n",
        "labels = labelsStruct  # list of label ids\n",
        "print(type(labels))\n",
        "print(labels)"
      ],
      "execution_count": 59,
      "outputs": [
        {
          "output_type": "stream",
          "text": [
            "<class 'list'>\n",
            "[1, 2, 3, 3, 1, 1, 1, 1, 1, 4, 3, 5, 5, 5, 5, 5, 5, 5, 5, 5, 5, 5, 5, 5, 5, 5, 5, 5, 5, 5, 5, 5, 5, 5, 5, 5, 5, 5, 5, 5, 5, 5, 5, 5, 5, 5, 5, 5, 5, 5, 5, 5, 5, 5, 5, 5, 5, 5, 5, 5, 5, 5, 5, 5, 5, 5, 5, 5, 5, 5, 5, 5, 5, 5, 5, 5, 5, 5, 5, 5, 5, 5, 5, 5, 5, 5, 5, 5, 5, 5, 5, 5, 5, 5, 5, 5, 5, 5, 5, 5, 5, 5, 5, 5, 5, 5, 5, 5, 5, 5, 5, 5, 5, 5, 5, 5, 5, 5, 5, 5, 5, 5, 5, 5, 5, 5, 5, 5, 5, 5, 5, 5, 5, 5, 5, 5, 5, 5, 5, 5, 5, 5, 5, 5, 5, 5, 5, 5, 5, 5, 3, 1, 4, 2, 1, 5, 3, 4, 4, 4, 4, 4, 4, 4, 4, 4, 4, 4, 4, 4, 4, 4, 4, 4, 4, 4, 4, 4, 4, 4, 4, 4, 4, 4, 4, 4, 4, 4, 4, 4, 4, 4, 4, 4, 4, 4, 4, 4, 4, 5, 1, 1, 3, 4, 2, 5, 3, 6, 7, 7, 7, 7, 7, 7, 7, 7, 7, 7, 7, 7, 7, 7, 7, 7, 7, 7, 7, 7, 7, 7, 7, 7, 7, 7, 7, 7, 7, 7, 7, 7, 7, 7, 7, 7, 7, 7, 7, 7, 7, 6, 6, 6, 6, 6, 6, 6, 6, 6, 6, 6, 6, 6, 6, 6, 6, 3, 3, 3, 6, 6, 6, 6, 7, 7, 7, 7, 7, 7, 7, 7, 7, 7, 7, 7, 7, 7, 7, 7, 7, 7, 7, 7, 7, 7, 6, 6, 6, 6, 6, 7, 7, 7, 7, 3, 3, 3, 6, 3, 3, 6, 7, 7, 7, 7, 7, 6, 7, 6, 6, 7, 7, 7, 7, 7, 7, 6, 7, 7, 7, 7, 7, 7, 7, 7, 7, 7, 7, 7, 7, 7, 7, 7, 7, 7, 7, 7, 7, 7, 7, 7, 7, 7, 7, 7, 7, 7, 7, 7, 7, 7, 7, 7, 7, 7, 6, 6, 6, 6, 6, 6, 6, 6, 6, 6, 6, 6, 6, 6, 6, 6, 6, 7, 7, 7, 7, 7, 7, 7, 7, 7, 7, 7, 7, 7, 7, 7, 7, 7, 7, 7, 7, 7, 7, 7, 7, 7, 6, 6, 7, 7, 7, 7, 6, 6, 6, 6, 6, 6, 6, 6, 6, 6, 6, 6, 7, 7, 7, 7, 7, 7, 7, 7, 7, 7, 7, 7, 7, 7, 7, 6, 7, 7, 7, 7, 7, 7, 1, 7, 7, 7, 7, 7, 7, 7, 7, 7, 7, 7, 7, 7, 7, 7, 7, 7, 7, 7, 7, 7, 7, 7, 7, 7, 7, 7, 7, 7, 7, 7, 7, 7, 7, 7, 7, 7, 7, 7, 7, 7, 7, 7, 7, 7, 7, 7, 6, 6, 6, 6, 6, 6, 6, 7, 7, 6, 6, 7, 6, 6, 6, 6, 6, 6, 6, 6, 6, 6, 6, 6, 6, 6, 6, 7, 4, 5, 5, 2, 1, 5, 1, 1, 3, 1, 5, 4, 1, 3, 4, 4, 4, 3, 4, 4, 3, 4, 4, 2, 5, 4, 3, 3, 5, 5, 3, 3, 3, 5, 5, 3, 4, 1, 3, 3, 6, 1, 5, 8, 3, 1, 8, 4, 1, 4, 3, 2, 1, 5, 1, 2, 1, 5, 4, 5, 4, 1, 3, 4, 3, 3, 3, 3, 3, 3, 1, 1, 1, 1, 1, 1, 1, 1, 3, 2, 8, 3, 3, 3, 3, 3, 3, 3, 3, 3, 3, 3, 3, 3, 3, 3, 3, 3, 3, 3, 3, 3, 3, 3, 3, 3, 3, 3, 3, 3, 3, 3, 3, 3, 4, 5, 1, 3, 2, 4, 3, 4, 8, 4, 4, 5, 3, 5, 2, 5, 3, 8, 8, 8, 2, 2, 8, 2, 8, 8, 8, 8, 8, 8, 8, 8, 8, 8, 8, 8, 8, 2, 8, 8, 8, 2, 8, 8, 8, 8, 8, 8, 8, 8, 8, 8, 8, 8, 8, 2, 8, 8, 8, 8, 8, 8, 8, 8, 8, 2, 8, 2, 8, 8, 8, 8, 8, 8, 2, 8, 8, 2, 2, 8, 8, 8, 8, 8, 2, 8, 8, 2, 8, 8, 2, 8, 8, 8, 8, 8, 8, 8, 8, 8, 8, 2, 2, 8, 8, 8, 2, 8, 8, 8, 2, 2, 2, 2, 8, 8, 8, 8, 8, 8, 8, 8, 8, 8, 2, 8, 8, 8, 8, 8, 8, 8, 8, 8, 2, 2, 2, 2, 8, 8, 8, 2, 8, 2, 8, 8, 8, 2, 8, 8, 8, 8, 2, 1, 2, 2, 3, 1, 1, 2, 2, 3, 1, 1, 1, 3, 3, 3, 3, 8, 1, 1, 2, 1, 1, 1, 1, 4, 6, 6, 8, 8, 8, 4, 4, 3, 1, 2, 1, 8, 3, 1, 2, 1, 2, 1, 1, 3, 3, 1, 5, 1, 3, 6, 3, 6, 6, 6, 2, 3, 6, 6, 3, 4, 1, 8, 4, 4, 3, 1, 3, 3, 3, 3, 1, 3, 1, 3, 3, 4, 4, 4, 1, 1, 1, 1, 4, 5, 4, 3, 3, 3, 3, 5, 3, 3, 1, 3, 3, 5, 5, 3, 5, 3, 3, 3, 3, 3, 1, 1, 1, 5, 5, 4, 1, 1, 3, 1, 4, 4, 3, 1, 1, 3, 1, 1, 3, 4, 4, 3, 1, 1, 1, 1, 3, 1, 3, 4, 4, 4, 1, 4, 4, 4, 5, 3, 4, 5, 4, 1, 3, 5, 1, 3, 8, 1, 4, 1, 1, 8, 1, 4, 3, 4, 1, 3, 3, 4, 5, 8, 6, 5, 8, 1, 3, 3, 3, 3, 1, 1, 1, 2, 3, 4, 8, 4, 5, 7, 4, 3, 4, 7, 3, 2, 3, 3, 8, 4, 1, 1, 1, 3, 4, 2, 1, 2, 1, 3, 4, 1, 1, 4, 1, 8, 1, 3, 2, 1, 4, 3, 3, 3, 3, 3, 1, 3, 2, 7, 7, 4, 3, 3, 3, 3, 3, 3, 3, 8, 5, 3, 4, 8, 4, 1, 4, 5, 4, 4]\n"
          ],
          "name": "stdout"
        }
      ]
    },
    {
      "metadata": {
        "id": "LxHTKn-6ylm6",
        "colab_type": "code",
        "colab": {
          "base_uri": "https://localhost:8080/",
          "height": 71
        },
        "outputId": "157db9b6-7baf-4f5d-dcf2-d9a792e23828"
      },
      "cell_type": "code",
      "source": [
        "labelsP = labelsPath  # list of label ids\n",
        "print(type(labelsP))\n",
        "print(labelsP)"
      ],
      "execution_count": 60,
      "outputs": [
        {
          "output_type": "stream",
          "text": [
            "<class 'list'>\n",
            "[1, 2, 3, 3, 1, 2, 1, 1, 3, 1, 2, 3, 2, 3, 3, 3, 2, 3, 3, 2, 3, 2, 3, 3, 2, 2, 3, 3, 3, 3, 2, 3, 2, 3, 3, 3, 3, 3, 3, 3, 3, 3, 2, 3, 1, 2, 3, 3, 3, 3, 3, 3, 3, 3, 3, 3, 3, 3, 3, 2, 3, 3, 3, 3, 3, 1, 3, 3, 2, 2, 3, 3, 3, 3, 3, 2, 3, 2, 3, 3, 2, 2, 2, 2, 3, 3, 1, 1, 3, 2, 3, 3, 3, 3, 3, 3, 1, 3, 2, 2, 2, 2, 2, 2, 1, 3, 3, 3, 3, 3, 3, 3, 2, 2, 3, 3, 3, 2, 2, 3, 3, 1, 1, 3, 3, 2, 3, 2, 3, 3, 2, 2, 3, 3, 3, 3, 3, 3, 2, 2, 3, 3, 2, 1, 3, 3, 3, 3, 3, 2, 3, 2, 3, 3, 3, 1, 1, 1, 1, 1, 1, 1, 1, 1, 1, 1, 1, 1, 1, 1, 1, 1, 1, 1, 1, 1, 1, 1, 1, 1, 1, 1, 1, 1, 1, 1, 1, 1, 1, 1, 1, 1, 2, 1, 1, 2, 1, 1, 1, 3, 1, 1, 2, 3, 2, 2, 3, 2, 2, 2, 2, 3, 2, 2, 1, 2, 2, 2, 2, 2, 2, 1, 2, 2, 2, 2, 1, 2, 2, 1, 3, 2, 2, 2, 1, 1, 1, 1, 1, 1, 1, 2, 1, 1, 2, 2, 1, 2, 2, 2, 1, 1, 1, 1, 1, 2, 2, 1, 1, 2, 1, 1, 2, 2, 1, 1, 1, 1, 1, 1, 1, 2, 1, 1, 1, 1, 1, 1, 1, 2, 1, 1, 1, 1, 1, 1, 1, 1, 2, 1, 1, 1, 1, 1, 1, 1, 1, 1, 3, 2, 2, 3, 2, 2, 3, 3, 3, 1, 1, 1, 3, 1, 2, 1, 1, 1, 2, 2, 3, 1, 1, 2, 3, 3, 2, 3, 3, 3, 2, 2, 1, 3, 2, 3, 2, 2, 3, 3, 1, 1, 1, 2, 1, 2, 1, 2, 3, 3, 3, 1, 1, 2, 3, 2, 2, 2, 2, 2, 2, 1, 1, 2, 2, 3, 2, 2, 1, 1, 1, 1, 1, 1, 1, 1, 1, 1, 1, 1, 1, 1, 1, 2, 2, 3, 2, 1, 1, 1, 2, 2, 2, 2, 3, 1, 2, 2, 2, 1, 1, 2, 3, 1, 1, 3, 2, 2, 2, 2, 2, 2, 2, 2, 1, 1, 1, 2, 1, 3, 3, 2, 1, 1, 1, 3, 3, 3, 2, 1, 3, 1, 1, 2, 2, 1, 2, 2, 2, 2, 1, 2, 2, 1, 3, 3, 3, 3, 3, 2, 2, 1, 1, 1, 1, 1, 1, 1, 1, 1, 1, 1, 1, 1, 2, 1, 2, 1, 1, 2, 1, 1, 1, 2, 1, 1, 1, 1, 1, 1, 1, 1, 1, 1, 1, 2, 1, 2, 2, 2, 2, 2, 1, 1, 2, 2, 3, 2, 2, 2, 2, 1, 1, 1, 2, 2, 1, 2, 2, 3, 3, 1, 2, 1, 2, 1, 2, 1, 2, 2, 1, 3, 2, 3, 3, 3, 3, 2, 2, 3, 1, 2, 3, 1, 3, 2, 3, 3, 1, 3, 1, 2, 3, 3, 2, 2, 2, 3, 3, 2, 1, 3, 3, 3, 3, 3, 2, 3, 2, 1, 2, 3, 3, 3, 1, 1, 1, 2, 2, 1, 1, 3, 2, 2, 1, 1, 1, 1, 2, 1, 1, 2, 3, 3, 1, 3, 2, 2, 1, 1, 1, 1, 1, 3, 2, 2, 3, 3, 2, 2, 2, 2, 3, 2, 3, 2, 2, 2, 2, 1, 1, 1, 1, 1, 2, 3, 2, 1, 1, 1, 1, 2, 3, 1, 2, 1, 1, 1, 3, 3, 1, 1, 2, 3, 1, 2, 3, 3, 3, 3, 3, 2, 1, 3, 1, 2, 3, 2, 3, 2, 3, 2, 2, 3, 3, 1, 1, 3, 3, 3, 1, 2, 3, 3, 3, 1, 3, 3, 2, 3, 3, 1, 2, 3, 2, 3, 3, 3, 2, 2, 3, 2, 2, 2, 2, 2, 2, 3, 2, 3, 1, 3, 1, 3, 3, 2, 3, 3, 1, 3, 2, 3, 3, 3, 1, 1, 3, 2, 2, 2, 3, 2, 1, 2, 3, 2, 3, 3, 2, 3, 3, 3, 1, 1, 3, 3, 1, 2, 2, 3, 2, 3, 3, 3, 2, 2, 1, 3, 2, 1, 2, 2, 3, 2, 2, 3, 3, 1, 2, 2, 3, 2, 1, 2, 3, 1, 2, 2, 3, 2, 2, 3, 2, 2, 2, 3, 2, 2, 3, 3, 2, 2, 2, 3, 2, 2, 2, 3, 2, 2, 2, 1, 3, 1, 2, 1, 2, 3, 2, 2, 2, 2, 2, 2, 2, 1, 3, 1, 2, 1, 2, 1, 1, 3, 1, 3, 1, 2, 2, 2, 3, 2, 2, 2, 2, 2, 3, 3, 1, 1, 1, 1, 1, 2, 2, 3, 2, 3, 2, 2, 3, 3, 2, 3, 2, 1, 3, 1, 3, 3, 3, 2, 2, 3, 1, 1, 2, 1, 2, 2, 2, 3, 2, 3, 2, 3, 1, 1, 1, 1, 1, 1, 1, 1, 3, 1, 1, 1, 3, 3, 1, 3, 3, 3, 1, 2, 3, 3, 3, 2, 3, 2, 1, 1, 1, 1, 1, 2, 2, 1, 2, 1, 1, 1, 1, 1, 1, 1, 2, 1, 2, 2, 1, 2, 3, 2, 2, 3, 2, 3, 3, 2, 3, 1, 2, 1, 2, 2, 2, 3, 1, 1, 2, 1, 2, 2, 3, 3, 2, 2, 2, 2, 3, 3, 1, 3, 3, 2, 2, 2, 2, 3, 3, 2, 1, 1, 3, 3, 3, 1, 3, 3, 2, 3, 2, 1, 1, 2, 3, 3, 3, 3, 2, 2, 2, 1, 3, 1, 1, 2, 2, 2, 2, 3, 2, 3, 2, 3, 3, 3, 1, 3, 3, 3, 3, 3, 3, 2, 3, 2, 3, 3, 3, 3, 3, 2, 3, 1, 2, 2, 1, 3, 2, 1, 3, 3, 2, 1, 2, 1, 1, 1, 2, 1, 3, 3, 3, 1, 2, 1, 2, 2, 1, 2, 1, 3, 3, 1, 3, 1, 2, 2, 2, 3, 3, 3]\n"
          ],
          "name": "stdout"
        }
      ]
    },
    {
      "metadata": {
        "id": "H7NZ5Egg3xi-",
        "colab_type": "code",
        "colab": {
          "base_uri": "https://localhost:8080/",
          "height": 136
        },
        "outputId": "eeff7bd5-0cf0-45aa-f7c8-19ca99add73e"
      },
      "cell_type": "code",
      "source": [
        "from sklearn.preprocessing import LabelBinarizer, LabelEncoder\n",
        "\n",
        "encoder = LabelBinarizer()\n",
        "encoder.fit(labels)\n",
        "y_train = encoder.transform(labels)\n",
        "\n",
        "y_train"
      ],
      "execution_count": 63,
      "outputs": [
        {
          "output_type": "execute_result",
          "data": {
            "text/plain": [
              "array([[1, 0, 0, ..., 0, 0, 0],\n",
              "       [0, 1, 0, ..., 0, 0, 0],\n",
              "       [0, 0, 1, ..., 0, 0, 0],\n",
              "       ...,\n",
              "       [0, 0, 0, ..., 0, 0, 0],\n",
              "       [0, 0, 0, ..., 0, 0, 0],\n",
              "       [0, 0, 0, ..., 0, 0, 0]])"
            ]
          },
          "metadata": {
            "tags": []
          },
          "execution_count": 63
        }
      ]
    },
    {
      "metadata": {
        "id": "qTbCIwKfTtWy",
        "colab_type": "text"
      },
      "cell_type": "markdown",
      "source": [
        ""
      ]
    },
    {
      "metadata": {
        "id": "F7XIKXwiyzCa",
        "colab_type": "code",
        "colab": {
          "base_uri": "https://localhost:8080/",
          "height": 136
        },
        "outputId": "9a664658-0a8f-4d21-efa9-6fc97764be43"
      },
      "cell_type": "code",
      "source": [
        "encoder = LabelBinarizer()\n",
        "encoder.fit(labelsP)\n",
        "yp_train = encoder.transform(labelsP)\n",
        "\n",
        "yp_train"
      ],
      "execution_count": 64,
      "outputs": [
        {
          "output_type": "execute_result",
          "data": {
            "text/plain": [
              "array([[1, 0, 0],\n",
              "       [0, 1, 0],\n",
              "       [0, 0, 1],\n",
              "       ...,\n",
              "       [0, 0, 1],\n",
              "       [0, 0, 1],\n",
              "       [0, 0, 1]])"
            ]
          },
          "metadata": {
            "tags": []
          },
          "execution_count": 64
        }
      ]
    },
    {
      "metadata": {
        "id": "FMe63byeTzhe",
        "colab_type": "code",
        "colab": {
          "base_uri": "https://localhost:8080/",
          "height": 51
        },
        "outputId": "aea7494c-d146-43f8-87d0-5fdfcde882bf"
      },
      "cell_type": "code",
      "source": [
        "encoder = LabelBinarizer()\n",
        "encoder.fit(labelsC)\n",
        "yc_train = encoder.transform(labelsC)\n",
        "\n",
        "yc_train[1]"
      ],
      "execution_count": 65,
      "outputs": [
        {
          "output_type": "execute_result",
          "data": {
            "text/plain": [
              "array([0, 0, 0, 0, 0, 0, 0, 0, 0, 0, 0, 0, 0, 0, 0, 0, 0, 0, 0, 0, 0, 0,\n",
              "       0, 1, 0, 0, 0, 0, 0, 0, 0, 0])"
            ]
          },
          "metadata": {
            "tags": []
          },
          "execution_count": 65
        }
      ]
    },
    {
      "metadata": {
        "id": "jVX8oniC5Ghv",
        "colab_type": "code",
        "colab": {}
      },
      "cell_type": "code",
      "source": [
        "import os\n",
        "import sys\n",
        "\n",
        "from keras.preprocessing.text import Tokenizer\n",
        "from keras.preprocessing.sequence import pad_sequences\n",
        "from keras.utils import to_categorical\n",
        "from keras.layers import Dense, Input, GlobalMaxPooling1D\n",
        "from keras.layers import Conv1D, MaxPooling1D, Embedding\n",
        "from keras.models import Model"
      ],
      "execution_count": 0,
      "outputs": []
    },
    {
      "metadata": {
        "id": "sd4SQgGG-xhz",
        "colab_type": "code",
        "colab": {}
      },
      "cell_type": "code",
      "source": [
        "#Values are adjusted to fit to input and labels\n",
        "MAX_SEQUENCE_LENGTH = 100000\n",
        "MAX_NUM_WORDS = 40000\n",
        "EMBEDDING_DIM = 100\n",
        "VALIDATION_SPLIT = 0.2"
      ],
      "execution_count": 0,
      "outputs": []
    },
    {
      "metadata": {
        "id": "qnCr_W4U1mxF",
        "colab_type": "code",
        "colab": {
          "base_uri": "https://localhost:8080/",
          "height": 102
        },
        "outputId": "12db72ea-fb69-4e32-f2cc-7dec6fc3385e"
      },
      "cell_type": "code",
      "source": [
        "tokenizer = Tokenizer(nb_words=MAX_NUM_WORDS)\n",
        "tokenizer.fit_on_texts(texts)\n",
        "sequences = tokenizer.texts_to_sequences(texts)\n",
        "pickle.dump(tokenizer, open('tokenizer_struct', 'wb'))\n",
        "\n",
        "word_index = tokenizer.word_index\n",
        "print('Found %s unique tokens.' % len(word_index))\n",
        "\n",
        "data = pad_sequences(sequences, maxlen=MAX_SEQUENCE_LENGTH)\n",
        "\n",
        "labels = y_train #keras.utils.to_categorical(np.asarray(labels))\n",
        "print('Shape of data tensor:', data.shape)\n",
        "print('Shape of label tensor:', labels.shape)\n",
        "\n",
        "# split the data into a training set and a validation set\n",
        "indices = np.arange(data.shape[0])\n",
        "np.random.shuffle(indices)\n",
        "data = data[indices]\n",
        "labels = labels[indices]\n",
        "nb_validation_samples = int(VALIDATION_SPLIT * data.shape[0])\n",
        "\n",
        "x_train = data[:-nb_validation_samples]\n",
        "y_train = labels[:-nb_validation_samples]\n",
        "x_val = data[-nb_validation_samples:]\n",
        "y_val = labels[-nb_validation_samples:]"
      ],
      "execution_count": 69,
      "outputs": [
        {
          "output_type": "stream",
          "text": [
            "/usr/local/lib/python3.6/dist-packages/keras/preprocessing/text.py:172: UserWarning: The `nb_words` argument in `Tokenizer` has been renamed `num_words`.\n",
            "  warnings.warn('The `nb_words` argument in `Tokenizer` '\n"
          ],
          "name": "stderr"
        },
        {
          "output_type": "stream",
          "text": [
            "Found 151535 unique tokens.\n",
            "Shape of data tensor: (1034, 100000)\n",
            "Shape of label tensor: (1034, 8)\n"
          ],
          "name": "stdout"
        }
      ]
    },
    {
      "metadata": {
        "id": "ze9XE_Nc5J_w",
        "colab_type": "code",
        "colab": {
          "base_uri": "https://localhost:8080/",
          "height": 34
        },
        "outputId": "95a876c1-e617-4787-cba6-bdaf423bd65f"
      },
      "cell_type": "code",
      "source": [
        "embeddings_index = {}\n",
        "f = open(os.path.join('wordvector', 'glove.6B.100d.txt'))\n",
        "for line in f:\n",
        "    values = line.split()\n",
        "    word = values[0]\n",
        "    coefs = np.asarray(values[1:], dtype='float32')\n",
        "    embeddings_index[word] = coefs\n",
        "f.close()\n",
        "\n",
        "print('Found %s word vectors.' % len(embeddings_index))"
      ],
      "execution_count": 70,
      "outputs": [
        {
          "output_type": "stream",
          "text": [
            "Found 400000 word vectors.\n"
          ],
          "name": "stdout"
        }
      ]
    },
    {
      "metadata": {
        "id": "NlCDFnCTCvDS",
        "colab_type": "code",
        "colab": {}
      },
      "cell_type": "code",
      "source": [
        "# prepare embedding matrix\n",
        "num_words = min(MAX_NUM_WORDS, len(word_index) + 1)\n",
        "embedding_matrix = np.zeros((num_words, EMBEDDING_DIM))\n",
        "for word, i in word_index.items():\n",
        "    if i >= MAX_NUM_WORDS:\n",
        "        continue\n",
        "    embedding_vector = embeddings_index.get(word)\n",
        "    if embedding_vector is not None:\n",
        "        # words not found in embedding index will be all-zeros.\n",
        "        embedding_matrix[i] = embedding_vector"
      ],
      "execution_count": 0,
      "outputs": []
    },
    {
      "metadata": {
        "id": "TdJa6cSZ-lHV",
        "colab_type": "code",
        "colab": {}
      },
      "cell_type": "code",
      "source": [
        "\n",
        "embedding_layer = Embedding(num_words,\n",
        "                            EMBEDDING_DIM,\n",
        "                            weights=[embedding_matrix],\n",
        "                            input_length=MAX_SEQUENCE_LENGTH,\n",
        "                            trainable=False)"
      ],
      "execution_count": 0,
      "outputs": []
    },
    {
      "metadata": {
        "id": "6xuW_Z_HC63U",
        "colab_type": "code",
        "colab": {}
      },
      "cell_type": "code",
      "source": [
        "from keras import regularizers\n",
        "from keras.models import Sequential\n",
        "from keras.layers import Dense, Activation, Flatten, Dropout, LSTM, GlobalMaxPooling1D\n",
        "from keras.layers.normalization import BatchNormalization\n",
        "\n",
        "from keras.callbacks import ModelCheckpoint\n",
        "from keras.wrappers.scikit_learn import KerasClassifier\n",
        "from sklearn.model_selection import cross_val_score\n",
        "from sklearn.datasets import make_classification"
      ],
      "execution_count": 0,
      "outputs": []
    },
    {
      "metadata": {
        "id": "Vr2N7xMjth5B",
        "colab_type": "text"
      },
      "cell_type": "markdown",
      "source": [
        "https://github.com/bhaveshoswal/CNN-text-classification-keras/blob/master/model.py"
      ]
    },
    {
      "metadata": {
        "id": "bBgq6WtM-l5S",
        "colab_type": "code",
        "colab": {
          "base_uri": "https://localhost:8080/",
          "height": 476
        },
        "outputId": "879b83ec-3a89-4bdd-ca70-394cff8b9a9f"
      },
      "cell_type": "code",
      "source": [
        "sequence_input = Input(shape=(MAX_SEQUENCE_LENGTH,), dtype='int32')\n",
        "embedded_sequences = embedding_layer(sequence_input)\n",
        "\n",
        "x = Conv1D(256, 5, kernel_regularizer=regularizers.l2(0.01), padding=\"valid\", kernel_initializer='normal', activation='relu')(embedded_sequences)\n",
        "x = MaxPooling1D(5)(x)\n",
        "\n",
        "x = Conv1D(256, 5, kernel_regularizer=regularizers.l2(0.01), padding=\"valid\", kernel_initializer='normal', activation='relu')(x)\n",
        "x = MaxPooling1D(5)(x)\n",
        "\n",
        "x = Conv1D(256, 5, kernel_regularizer=regularizers.l2(0.01), padding=\"valid\", kernel_initializer='normal', activation='relu')(x)\n",
        "x = GlobalMaxPooling1D()(x)  # global max pooling\n",
        "\n",
        "x = Dense(256, kernel_regularizer=regularizers.l2(0.01), activation='relu')(x)\n",
        "\n",
        "preds = Dense(8, activation='softmax')(x)\n",
        "\n",
        "model = Model(sequence_input, preds)\n",
        "model.compile(loss='categorical_crossentropy',\n",
        "              optimizer = 'adam',\n",
        "              metrics=['acc'])\n",
        "summary = model.summary()\n"
      ],
      "execution_count": 74,
      "outputs": [
        {
          "output_type": "stream",
          "text": [
            "_________________________________________________________________\n",
            "Layer (type)                 Output Shape              Param #   \n",
            "=================================================================\n",
            "input_2 (InputLayer)         (None, 100000)            0         \n",
            "_________________________________________________________________\n",
            "embedding_2 (Embedding)      (None, 100000, 100)       4000000   \n",
            "_________________________________________________________________\n",
            "conv1d_4 (Conv1D)            (None, 99996, 256)        128256    \n",
            "_________________________________________________________________\n",
            "max_pooling1d_3 (MaxPooling1 (None, 19999, 256)        0         \n",
            "_________________________________________________________________\n",
            "conv1d_5 (Conv1D)            (None, 19995, 256)        327936    \n",
            "_________________________________________________________________\n",
            "max_pooling1d_4 (MaxPooling1 (None, 3999, 256)         0         \n",
            "_________________________________________________________________\n",
            "conv1d_6 (Conv1D)            (None, 3995, 256)         327936    \n",
            "_________________________________________________________________\n",
            "global_max_pooling1d_2 (Glob (None, 256)               0         \n",
            "_________________________________________________________________\n",
            "dense_3 (Dense)              (None, 256)               65792     \n",
            "_________________________________________________________________\n",
            "dense_4 (Dense)              (None, 8)                 2056      \n",
            "=================================================================\n",
            "Total params: 4,851,976\n",
            "Trainable params: 851,976\n",
            "Non-trainable params: 4,000,000\n",
            "_________________________________________________________________\n"
          ],
          "name": "stdout"
        }
      ]
    },
    {
      "metadata": {
        "id": "hQor3fI_-iNE",
        "colab_type": "code",
        "colab": {}
      },
      "cell_type": "code",
      "source": [
        "filepath=\"weights.best.hdf5\"\n",
        "checkpoint = ModelCheckpoint(filepath, monitor='val_acc', verbose=1, save_best_only=True, mode='max')\n",
        "callbacks_list = [checkpoint]"
      ],
      "execution_count": 0,
      "outputs": []
    },
    {
      "metadata": {
        "id": "IgW-uorqz1Es",
        "colab_type": "code",
        "colab": {
          "base_uri": "https://localhost:8080/",
          "height": 1054
        },
        "outputId": "3182fb7f-3994-45df-9766-98c982213f18"
      },
      "cell_type": "code",
      "source": [
        "# happy learning!\n",
        "history = model.fit(x_train, y_train,\n",
        "                    batch_size=16,\n",
        "                    epochs=15,\n",
        "                    verbose=1,\n",
        "                    validation_split=0.1, callbacks=callbacks_list)"
      ],
      "execution_count": 76,
      "outputs": [
        {
          "output_type": "stream",
          "text": [
            "Train on 745 samples, validate on 83 samples\n",
            "Epoch 1/15\n",
            "745/745 [==============================] - 73s 98ms/step - loss: 20.9910 - acc: 0.2698 - val_loss: 16.6043 - val_acc: 0.4819\n",
            "\n",
            "Epoch 00001: val_acc improved from -inf to 0.48193, saving model to weights.best.hdf5\n",
            "Epoch 2/15\n",
            "745/745 [==============================] - 68s 91ms/step - loss: 13.9371 - acc: 0.6309 - val_loss: 11.8525 - val_acc: 0.6627\n",
            "\n",
            "Epoch 00002: val_acc improved from 0.48193 to 0.66265, saving model to weights.best.hdf5\n",
            "Epoch 3/15\n",
            "745/745 [==============================] - 68s 91ms/step - loss: 10.0443 - acc: 0.7235 - val_loss: 8.6364 - val_acc: 0.7229\n",
            "\n",
            "Epoch 00003: val_acc improved from 0.66265 to 0.72289, saving model to weights.best.hdf5\n",
            "Epoch 4/15\n",
            "745/745 [==============================] - 68s 91ms/step - loss: 7.5117 - acc: 0.7812 - val_loss: 6.6703 - val_acc: 0.7108\n",
            "\n",
            "Epoch 00004: val_acc did not improve from 0.72289\n",
            "Epoch 5/15\n",
            " 96/745 [==>...........................] - ETA: 57s - loss: 6.3319 - acc: 0.8750"
          ],
          "name": "stdout"
        },
        {
          "output_type": "stream",
          "text": [
            "745/745 [==============================] - 68s 91ms/step - loss: 5.7559 - acc: 0.8255 - val_loss: 5.2836 - val_acc: 0.7831\n",
            "\n",
            "Epoch 00005: val_acc improved from 0.72289 to 0.78313, saving model to weights.best.hdf5\n",
            "Epoch 6/15\n",
            "745/745 [==============================] - 67s 91ms/step - loss: 4.5511 - acc: 0.8336 - val_loss: 4.2999 - val_acc: 0.7711\n",
            "\n",
            "Epoch 00006: val_acc did not improve from 0.78313\n",
            "Epoch 7/15\n",
            "745/745 [==============================] - 67s 90ms/step - loss: 3.7076 - acc: 0.8497 - val_loss: 3.5025 - val_acc: 0.7952\n",
            "\n",
            "Epoch 00007: val_acc improved from 0.78313 to 0.79518, saving model to weights.best.hdf5\n",
            "Epoch 8/15\n",
            "745/745 [==============================] - 67s 90ms/step - loss: 2.9895 - acc: 0.8953 - val_loss: 3.0217 - val_acc: 0.7711\n",
            "\n",
            "Epoch 00008: val_acc did not improve from 0.79518\n",
            "Epoch 9/15\n",
            "400/745 [===============>..............] - ETA: 30s - loss: 2.6362 - acc: 0.8975"
          ],
          "name": "stdout"
        },
        {
          "output_type": "stream",
          "text": [
            "745/745 [==============================] - 68s 91ms/step - loss: 2.5441 - acc: 0.8899 - val_loss: 2.6688 - val_acc: 0.7831\n",
            "\n",
            "Epoch 00009: val_acc did not improve from 0.79518\n",
            "Epoch 10/15\n",
            "745/745 [==============================] - 68s 91ms/step - loss: 2.1504 - acc: 0.9074 - val_loss: 2.2602 - val_acc: 0.8193\n",
            "\n",
            "Epoch 00010: val_acc improved from 0.79518 to 0.81928, saving model to weights.best.hdf5\n",
            "Epoch 11/15\n",
            "745/745 [==============================] - 68s 91ms/step - loss: 1.8385 - acc: 0.9450 - val_loss: 2.2801 - val_acc: 0.7229\n",
            "\n",
            "Epoch 00011: val_acc did not improve from 0.81928\n",
            "Epoch 12/15\n",
            "745/745 [==============================] - 68s 91ms/step - loss: 1.6701 - acc: 0.9101 - val_loss: 1.8759 - val_acc: 0.8072\n",
            "\n",
            "Epoch 00012: val_acc did not improve from 0.81928\n",
            "Epoch 13/15\n",
            "512/745 [===================>..........] - ETA: 20s - loss: 1.5041 - acc: 0.9414"
          ],
          "name": "stdout"
        },
        {
          "output_type": "stream",
          "text": [
            "745/745 [==============================] - 68s 91ms/step - loss: 1.4834 - acc: 0.9423 - val_loss: 1.7358 - val_acc: 0.7952\n",
            "\n",
            "Epoch 00013: val_acc did not improve from 0.81928\n",
            "Epoch 14/15\n",
            "745/745 [==============================] - 68s 91ms/step - loss: 1.3000 - acc: 0.9584 - val_loss: 1.5898 - val_acc: 0.8434\n",
            "\n",
            "Epoch 00014: val_acc improved from 0.81928 to 0.84337, saving model to weights.best.hdf5\n",
            "Epoch 15/15\n",
            "745/745 [==============================] - 68s 91ms/step - loss: 1.2202 - acc: 0.9570 - val_loss: 1.6102 - val_acc: 0.7831\n",
            "\n",
            "Epoch 00015: val_acc did not improve from 0.84337\n"
          ],
          "name": "stdout"
        }
      ]
    },
    {
      "metadata": {
        "id": "NvdRFA7I3XPE",
        "colab_type": "code",
        "colab": {
          "base_uri": "https://localhost:8080/",
          "height": 588
        },
        "outputId": "f7d84975-9ad4-46b5-9765-6fa1d06496e0"
      },
      "cell_type": "code",
      "source": [
        "import matplotlib.pyplot as plt\n",
        "import numpy\n",
        "\n",
        "print(history.history.keys())\n",
        "# summarize history for accuracy\n",
        "plt.plot(history.history['acc'])\n",
        "plt.plot(history.history['val_acc'])\n",
        "plt.title('model accuracy')\n",
        "plt.ylabel('accuracy')\n",
        "plt.xlabel('epoch')\n",
        "plt.legend(['train', 'test'], loc='upper left')\n",
        "plt.show()\n",
        "# summarize history for loss\n",
        "plt.plot(history.history['loss'])\n",
        "plt.plot(history.history['val_loss'])\n",
        "plt.title('model loss')\n",
        "plt.ylabel('loss')\n",
        "plt.xlabel('epoch')\n",
        "plt.legend(['train', 'test'], loc='upper left')\n",
        "plt.show()"
      ],
      "execution_count": 77,
      "outputs": [
        {
          "output_type": "stream",
          "text": [
            "dict_keys(['val_loss', 'val_acc', 'loss', 'acc'])\n"
          ],
          "name": "stdout"
        },
        {
          "output_type": "display_data",
          "data": {
            "image/png": "[encoded data removed]",
            "text/plain": [
              "<matplotlib.figure.Figure at 0x7f7168b77630>"
            ]
          },
          "metadata": {
            "tags": []
          }
        },
        {
          "output_type": "display_data",
          "data": {
            "image/png": "[encoded data removed]",
            "text/plain": [
              "<matplotlib.figure.Figure at 0x7f7162e0fdd8>"
            ]
          },
          "metadata": {
            "tags": []
          }
        }
      ]
    },
    {
      "metadata": {
        "id": "JiIoF-RgAOeA",
        "colab_type": "code",
        "colab": {}
      },
      "cell_type": "code",
      "source": [
        "model.load_weights(\"weights.best.hdf5\")\n",
        "# Compile model (required to make predictions)\n",
        "model.compile(loss='categorical_crossentropy',\n",
        "              optimizer='adam',\n",
        "              metrics=['acc'])"
      ],
      "execution_count": 0,
      "outputs": []
    },
    {
      "metadata": {
        "id": "eDXv4-zM_FhB",
        "colab_type": "code",
        "colab": {
          "base_uri": "https://localhost:8080/",
          "height": 68
        },
        "outputId": "c8732e0f-414a-4edb-9907-b8debabfabe5"
      },
      "cell_type": "code",
      "source": [
        "score = model.evaluate(x_val, y_val,\n",
        "                       batch_size=32, verbose=1)\n",
        "print('Test score:', score[0])\n",
        "print('Test accuracy:', score[1])"
      ],
      "execution_count": 79,
      "outputs": [
        {
          "output_type": "stream",
          "text": [
            "206/206 [==============================] - 10s 47ms/step\n",
            "Test score: 1.6962654347558623\n",
            "Test accuracy: 0.7864077658329195\n"
          ],
          "name": "stdout"
        }
      ]
    },
    {
      "metadata": {
        "id": "DXj8vM0-HPKv",
        "colab_type": "code",
        "colab": {}
      },
      "cell_type": "code",
      "source": [
        "import itertools\n",
        "import os\n",
        "\n",
        "%matplotlib inline\n",
        "import matplotlib.pyplot as plt\n",
        "import numpy as np\n",
        "import pandas as pd\n",
        "import tensorflow as tf\n",
        "\n",
        "from sklearn.preprocessing import LabelBinarizer, LabelEncoder\n",
        "from sklearn.metrics import confusion_matrix\n",
        "\n",
        "from tensorflow import keras\n",
        "from keras.models import Sequential\n",
        "from keras.layers import Dense, Activation, Dropout\n",
        "from keras.preprocessing import text, sequence\n",
        "from keras import utils"
      ],
      "execution_count": 0,
      "outputs": []
    },
    {
      "metadata": {
        "id": "lttzCjcRG69a",
        "colab_type": "code",
        "colab": {}
      },
      "cell_type": "code",
      "source": [
        "y_softmax = model.predict(x_val)\n",
        "\n",
        "y_test_1d = []\n",
        "y_pred_1d = []\n",
        "\n",
        "for i in range(len(y_val)):\n",
        "    probs = y_val[i]\n",
        "    index_arr = np.nonzero(probs)\n",
        "    one_hot_index = index_arr[0].item(0)\n",
        "    y_test_1d.append(one_hot_index)\n",
        "\n",
        "for i in range(0, len(y_softmax)):\n",
        "    probs = y_softmax[i]\n",
        "    predicted_index = np.argmax(probs)\n",
        "    y_pred_1d.append(predicted_index)"
      ],
      "execution_count": 0,
      "outputs": []
    },
    {
      "metadata": {
        "id": "FoZslkDgDWeL",
        "colab_type": "code",
        "colab": {
          "base_uri": "https://localhost:8080/",
          "height": 71
        },
        "outputId": "d6abfa6d-c334-482c-f9cf-b35a5e7b337a"
      },
      "cell_type": "code",
      "source": [
        "print(y_test_1d)\n",
        "print(y_pred_1d)"
      ],
      "execution_count": 82,
      "outputs": [
        {
          "output_type": "stream",
          "text": [
            "[3, 2, 2, 6, 4, 3, 4, 7, 4, 6, 4, 2, 6, 5, 1, 6, 6, 2, 7, 6, 7, 4, 7, 7, 5, 1, 6, 0, 5, 7, 0, 1, 6, 6, 2, 6, 6, 1, 2, 0, 5, 4, 3, 0, 4, 4, 4, 2, 3, 3, 7, 6, 5, 5, 0, 5, 3, 6, 0, 4, 3, 4, 7, 4, 4, 2, 6, 5, 6, 4, 6, 6, 6, 6, 6, 4, 3, 2, 2, 1, 0, 3, 6, 2, 2, 6, 4, 6, 6, 0, 7, 5, 6, 0, 6, 6, 2, 3, 0, 3, 6, 6, 3, 5, 2, 2, 6, 7, 3, 4, 6, 5, 3, 6, 3, 4, 6, 2, 7, 2, 4, 2, 4, 6, 4, 4, 6, 7, 5, 7, 0, 4, 4, 7, 7, 4, 0, 6, 7, 7, 2, 2, 4, 6, 5, 4, 7, 3, 0, 5, 3, 4, 3, 6, 2, 4, 3, 4, 5, 4, 4, 6, 6, 0, 6, 4, 7, 2, 4, 6, 2, 4, 6, 7, 1, 7, 3, 2, 6, 4, 6, 2, 2, 1, 5, 5, 6, 4, 5, 2, 5, 2, 6, 2, 6, 6, 6, 1, 3, 6, 6, 0, 3, 7, 3, 0]\n",
            "[0, 0, 2, 6, 4, 3, 4, 7, 4, 6, 4, 2, 6, 5, 0, 6, 6, 0, 7, 6, 7, 3, 7, 7, 5, 1, 6, 0, 5, 7, 4, 0, 6, 6, 0, 6, 6, 1, 7, 0, 5, 4, 3, 0, 0, 4, 4, 0, 3, 4, 7, 6, 5, 5, 0, 5, 3, 6, 0, 4, 3, 4, 0, 4, 4, 0, 6, 5, 6, 4, 6, 6, 6, 6, 6, 4, 0, 2, 7, 0, 0, 0, 6, 0, 3, 6, 4, 6, 6, 0, 7, 5, 6, 0, 6, 6, 0, 7, 0, 0, 6, 6, 0, 5, 5, 0, 6, 7, 3, 4, 6, 5, 0, 6, 3, 4, 6, 2, 7, 4, 4, 7, 7, 6, 4, 4, 6, 7, 5, 7, 0, 4, 4, 7, 7, 4, 0, 6, 7, 7, 5, 0, 4, 6, 5, 4, 7, 3, 0, 5, 3, 4, 3, 6, 0, 4, 3, 4, 0, 4, 2, 6, 6, 4, 6, 4, 7, 0, 4, 6, 2, 4, 6, 7, 1, 7, 3, 0, 6, 4, 0, 7, 2, 1, 5, 5, 6, 4, 5, 6, 5, 2, 6, 0, 6, 6, 6, 1, 3, 6, 6, 0, 0, 7, 7, 0]\n"
          ],
          "name": "stdout"
        }
      ]
    },
    {
      "metadata": {
        "id": "PhVwuS6vxNi4",
        "colab_type": "code",
        "colab": {}
      },
      "cell_type": "code",
      "source": [
        "from sklearn.metrics import classification_report\n",
        "from sklearn.metrics import confusion_matrix\n"
      ],
      "execution_count": 0,
      "outputs": []
    },
    {
      "metadata": {
        "id": "tJiI7ij3xO5B",
        "colab_type": "code",
        "colab": {
          "base_uri": "https://localhost:8080/",
          "height": 374
        },
        "outputId": "85e6464d-92cc-40ae-c2f2-971626223520"
      },
      "cell_type": "code",
      "source": [
        "print(classification_report(y_test_1d, y_pred_1d))\n",
        "print(confusion_matrix(y_test_1d,y_pred_1d))"
      ],
      "execution_count": 84,
      "outputs": [
        {
          "output_type": "stream",
          "text": [
            "             precision    recall  f1-score   support\n",
            "\n",
            "          0       0.34      0.88      0.49        16\n",
            "          1       1.00      0.62      0.77         8\n",
            "          2       0.88      0.24      0.38        29\n",
            "          3       0.87      0.57      0.68        23\n",
            "          4       0.89      0.89      0.89        37\n",
            "          5       0.90      0.95      0.92        19\n",
            "          6       0.98      0.98      0.98        52\n",
            "          7       0.75      0.95      0.84        22\n",
            "\n",
            "avg / total       0.86      0.79      0.78       206\n",
            "\n",
            "[[14  0  0  0  2  0  0  0]\n",
            " [ 3  5  0  0  0  0  0  0]\n",
            " [13  0  7  1  1  2  1  4]\n",
            " [ 7  0  0 13  1  0  0  2]\n",
            " [ 1  0  1  1 33  0  0  1]\n",
            " [ 1  0  0  0  0 18  0  0]\n",
            " [ 1  0  0  0  0  0 51  0]\n",
            " [ 1  0  0  0  0  0  0 21]]\n"
          ],
          "name": "stdout"
        }
      ]
    },
    {
      "metadata": {
        "id": "AnZ1A72_G3Uc",
        "colab_type": "code",
        "colab": {}
      },
      "cell_type": "code",
      "source": [
        "from keras.models import load_model\n",
        "\n",
        "model.save('CNN_struct.h5')  # creates a HDF5 file 'my_model.h5'\n",
        "model.save_weights('CNN_struct_weights.h5')"
      ],
      "execution_count": 0,
      "outputs": []
    },
    {
      "metadata": {
        "id": "Ve7Eb2HmzkFo",
        "colab_type": "text"
      },
      "cell_type": "markdown",
      "source": [
        "## different CNN Architecture"
      ]
    },
    {
      "metadata": {
        "id": "-Feh2J5p4Y4G",
        "colab_type": "text"
      },
      "cell_type": "markdown",
      "source": [
        "https://chrisalbon.com/deep_learning/keras/k-fold_cross-validating_neural_networks/"
      ]
    },
    {
      "metadata": {
        "id": "iR1W-LLGzzPO",
        "colab_type": "code",
        "colab": {}
      },
      "cell_type": "code",
      "source": [
        "# Create function returning a compiled network\n",
        "def create_network():\n",
        "  sequence_input = Input(shape=(MAX_SEQUENCE_LENGTH,), dtype='int32')\n",
        "  embedded_sequences = embedding_layer(sequence_input)\n",
        "\n",
        "  x = Conv1D(256, 5, kernel_regularizer=regularizers.l2(0.01), padding=\"valid\", kernel_initializer='normal', activation='relu')(embedded_sequences)\n",
        "  x = MaxPooling1D(5)(x)\n",
        "\n",
        "  x = Conv1D(256, 5, kernel_regularizer=regularizers.l2(0.01), padding=\"valid\", kernel_initializer='normal', activation='relu')(x)\n",
        "  x = MaxPooling1D(5)(x)\n",
        "\n",
        "  x = Conv1D(256, 5, kernel_regularizer=regularizers.l2(0.01), padding=\"valid\", kernel_initializer='normal', activation='relu')(x)\n",
        "  x = GlobalMaxPooling1D()(x)  # global max pooling\n",
        "\n",
        "  x = Dense(256, kernel_regularizer=regularizers.l2(0.01), activation='relu')(x)\n",
        "\n",
        "  preds = Dense(32, activation='softmax')(x)\n",
        "\n",
        "  model = Model(sequence_input, preds)\n",
        "  model.compile(loss='categorical_crossentropy',\n",
        "                optimizer = 'adam',\n",
        "                metrics=['acc'])\n",
        "\n",
        "  model = Model(sequence_input, preds)\n",
        "  model.compile(loss='categorical_crossentropy',\n",
        "                optimizer = 'adam',\n",
        "                metrics=['acc'])\n",
        "\n",
        "  return model"
      ],
      "execution_count": 0,
      "outputs": []
    },
    {
      "metadata": {
        "id": "6Bn7rj8AzzVW",
        "colab_type": "code",
        "colab": {}
      },
      "cell_type": "code",
      "source": [
        "# Wrap Keras model so it can be used by scikit-learn\n",
        "neural_network = KerasClassifier(build_fn=create_network, \n",
        "                                 epochs=10, \n",
        "                                 batch_size=16, \n",
        "                                 verbose=0)"
      ],
      "execution_count": 0,
      "outputs": []
    },
    {
      "metadata": {
        "id": "3c_cG0qezzTD",
        "colab_type": "code",
        "colab": {
          "base_uri": "https://localhost:8080/",
          "height": 51
        },
        "outputId": "38f4f467-23fd-484e-9e96-8a585d5c5a81"
      },
      "cell_type": "code",
      "source": [
        "# Evaluate neural network using three-fold cross-validation\n",
        "cross_val_score(neural_network, x_train, y_train, cv=10)"
      ],
      "execution_count": 127,
      "outputs": [
        {
          "output_type": "execute_result",
          "data": {
            "text/plain": [
              "array([0.77631579, 0.75      , 0.86842105, 0.81578947, 0.77631579,\n",
              "       0.71052632, 0.86666667, 0.8       , 0.78666667, 0.76      ])"
            ]
          },
          "metadata": {
            "tags": []
          },
          "execution_count": 127
        }
      ]
    },
    {
      "metadata": {
        "id": "rhEihRSTzUs4",
        "colab_type": "code",
        "colab": {
          "base_uri": "https://localhost:8080/",
          "height": 34
        },
        "outputId": "99f0801b-376b-49ef-9338-2efc623e9763"
      },
      "cell_type": "code",
      "source": [
        "scores = [0.77631579, 0.75, 0.86842105, 0.81578947, 0.77631579, 0.71052632, 0.86666667, 0.8, 0.78666667, 0.76]\n",
        "avg_acc = sum(scores)/len(scores)\n",
        "print(avg_acc)"
      ],
      "execution_count": 2,
      "outputs": [
        {
          "output_type": "stream",
          "text": [
            "0.791070176\n"
          ],
          "name": "stdout"
        }
      ]
    },
    {
      "metadata": {
        "id": "NIz8-qn4zzM7",
        "colab_type": "code",
        "colab": {}
      },
      "cell_type": "code",
      "source": [
        "from sklearn.model_selection import cross_val_predict\n",
        "from sklearn.metrics import confusion_matrix\n",
        "from sklearn.metrics import accuracy_score\n",
        "from sklearn.metrics import roc_curve"
      ],
      "execution_count": 0,
      "outputs": []
    },
    {
      "metadata": {
        "id": "-jtmB0-HdT3W",
        "colab_type": "code",
        "colab": {
          "base_uri": "https://localhost:8080/",
          "height": 136
        },
        "outputId": "8cb2e900-342b-4197-c119-2b35fa8c61cc"
      },
      "cell_type": "code",
      "source": [
        "y_val"
      ],
      "execution_count": 129,
      "outputs": [
        {
          "output_type": "execute_result",
          "data": {
            "text/plain": [
              "array([[0, 0, 0, ..., 0, 0, 0],\n",
              "       [0, 0, 0, ..., 0, 0, 0],\n",
              "       [0, 0, 1, ..., 0, 0, 0],\n",
              "       ...,\n",
              "       [0, 0, 0, ..., 0, 0, 0],\n",
              "       [0, 0, 0, ..., 0, 0, 0],\n",
              "       [0, 0, 1, ..., 0, 0, 0]])"
            ]
          },
          "metadata": {
            "tags": []
          },
          "execution_count": 129
        }
      ]
    },
    {
      "metadata": {
        "id": "v-IdwQ12hmrD",
        "colab_type": "code",
        "colab": {}
      },
      "cell_type": "code",
      "source": [
        "import itertools\n",
        "import numpy as np\n",
        "import matplotlib.pyplot as plt"
      ],
      "execution_count": 0,
      "outputs": []
    },
    {
      "metadata": {
        "id": "RdPSpbeAhm64",
        "colab_type": "code",
        "colab": {}
      },
      "cell_type": "code",
      "source": [
        "def plot_confusion_matrix(cm, classes,\n",
        "                          normalize=False,\n",
        "                          title='Confusion matrix',\n",
        "                          cmap=plt.cm.Blues):\n",
        "    \"\"\"\n",
        "    This function prints and plots the confusion matrix.\n",
        "    Normalization can be applied by setting `normalize=True`.\n",
        "    \"\"\"\n",
        "    if normalize:\n",
        "        cm = cm.astype('float') / cm.sum(axis=1)[:, np.newaxis]\n",
        "        print(\"Normalized confusion matrix\")\n",
        "    else:\n",
        "        print('Confusion matrix, without normalization')\n",
        "\n",
        "    print(cm)\n",
        "\n",
        "    plt.imshow(cm, interpolation='nearest', cmap=cmap)\n",
        "    plt.title(title)\n",
        "    plt.colorbar()\n",
        "    tick_marks = np.arange(len(classes))\n",
        "    plt.xticks(tick_marks, classes, rotation=45)\n",
        "    plt.yticks(tick_marks, classes)\n",
        "\n",
        "    fmt = '.2f' if normalize else 'd'\n",
        "    thresh = cm.max() / 2.\n",
        "    for i, j in itertools.product(range(cm.shape[0]), range(cm.shape[1])):\n",
        "        plt.text(j, i, format(cm[i, j], fmt),\n",
        "                 horizontalalignment=\"center\",\n",
        "                 color=\"white\" if cm[i, j] > thresh else \"black\")\n",
        "\n",
        "    plt.tight_layout()\n",
        "    plt.ylabel('True label')\n",
        "    plt.xlabel('Predicted label')\n"
      ],
      "execution_count": 0,
      "outputs": []
    },
    {
      "metadata": {
        "id": "Q0fp1tJc5mnp",
        "colab_type": "code",
        "colab": {}
      },
      "cell_type": "code",
      "source": [
        "from sklearn.model_selection import cross_val_predict\n",
        "from sklearn.metrics import confusion_matrix\n",
        "from sklearn.metrics import accuracy_score\n",
        "from sklearn.metrics import classification_report"
      ],
      "execution_count": 0,
      "outputs": []
    },
    {
      "metadata": {
        "id": "I1MItazehqDF",
        "colab_type": "code",
        "colab": {}
      },
      "cell_type": "code",
      "source": [
        "y_pred = cross_val_predict(neural_network,x_val,y_val,cv=10)\n"
      ],
      "execution_count": 0,
      "outputs": []
    },
    {
      "metadata": {
        "id": "T7D2wFQo5g8r",
        "colab_type": "code",
        "colab": {
          "base_uri": "https://localhost:8080/",
          "height": 1581
        },
        "outputId": "7f28931d-ba76-4a7f-e444-b75ac43c2a9d"
      },
      "cell_type": "code",
      "source": [
        "print(classification_report(y_test_1d, y_pred))\n",
        "print(accuracy_score(y_test_1d, y_pred))\n",
        "conf_mat = confusion_matrix(y_test_1d,y_pred)\n",
        "conf_mat"
      ],
      "execution_count": 134,
      "outputs": [
        {
          "output_type": "stream",
          "text": [
            "             precision    recall  f1-score   support\n",
            "\n",
            "          0       0.00      0.00      0.00         1\n",
            "          2       0.90      0.96      0.93       103\n",
            "          3       0.00      0.00      0.00         3\n",
            "          4       0.00      0.00      0.00         1\n",
            "          5       0.10      0.11      0.11         9\n",
            "          6       0.00      0.00      0.00         2\n",
            "          7       0.00      0.00      0.00         1\n",
            "          8       0.00      0.00      0.00         1\n",
            "          9       0.00      0.00      0.00         1\n",
            "         10       0.50      0.67      0.57         9\n",
            "         11       0.00      0.00      0.00         4\n",
            "         13       0.00      0.00      0.00         1\n",
            "         14       0.50      0.20      0.29         5\n",
            "         15       0.00      0.00      0.00         1\n",
            "         16       0.00      0.00      0.00         1\n",
            "         17       0.12      0.22      0.16         9\n",
            "         18       0.00      0.00      0.00         2\n",
            "         20       0.33      0.22      0.27         9\n",
            "         21       0.00      0.00      0.00         1\n",
            "         22       0.00      0.00      0.00         1\n",
            "         23       0.00      0.00      0.00         3\n",
            "         24       0.00      0.00      0.00         3\n",
            "         25       0.00      0.00      0.00         2\n",
            "         27       0.00      0.00      0.00         1\n",
            "         28       0.71      0.71      0.71         7\n",
            "         29       0.00      0.00      0.00         1\n",
            "         30       1.00      0.67      0.80         3\n",
            "         31       0.33      0.33      0.33         3\n",
            "\n",
            "avg / total       0.60      0.63      0.61       188\n",
            "\n",
            "0.6329787234042553\n"
          ],
          "name": "stdout"
        },
        {
          "output_type": "stream",
          "text": [
            "/usr/local/lib/python3.6/dist-packages/sklearn/metrics/classification.py:1135: UndefinedMetricWarning: Precision and F-score are ill-defined and being set to 0.0 in labels with no predicted samples.\n",
            "  'precision', 'predicted', average, warn_for)\n"
          ],
          "name": "stderr"
        },
        {
          "output_type": "execute_result",
          "data": {
            "text/plain": [
              "array([[ 0,  0,  0,  0,  1,  0,  0,  0,  0,  0,  0,  0,  0,  0,  0,  0,\n",
              "         0,  0,  0,  0,  0,  0,  0,  0,  0,  0,  0,  0],\n",
              "       [ 0, 99,  0,  0,  0,  0,  0,  0,  0,  0,  0,  0,  1,  0,  0,  2,\n",
              "         0,  0,  0,  0,  0,  1,  0,  0,  0,  0,  0,  0],\n",
              "       [ 0,  1,  0,  0,  1,  0,  0,  0,  0,  0,  1,  0,  0,  0,  0,  0,\n",
              "         0,  0,  0,  0,  0,  0,  0,  0,  0,  0,  0,  0],\n",
              "       [ 0,  0,  0,  0,  0,  0,  0,  0,  0,  0,  0,  0,  0,  0,  0,  0,\n",
              "         0,  0,  0,  0,  0,  0,  0,  0,  1,  0,  0,  0],\n",
              "       [ 0,  3,  0,  0,  1,  0,  0,  0,  0,  1,  0,  0,  0,  0,  0,  3,\n",
              "         0,  0,  0,  0,  0,  0,  0,  0,  0,  1,  0,  0],\n",
              "       [ 0,  0,  1,  0,  0,  0,  0,  0,  0,  0,  0,  0,  0,  0,  0,  1,\n",
              "         0,  0,  0,  0,  0,  0,  0,  0,  0,  0,  0,  0],\n",
              "       [ 0,  0,  0,  0,  0,  0,  0,  0,  0,  0,  1,  0,  0,  0,  0,  0,\n",
              "         0,  0,  0,  0,  0,  0,  0,  0,  0,  0,  0,  0],\n",
              "       [ 0,  0,  0,  0,  0,  0,  0,  0,  0,  0,  0,  0,  0,  0,  0,  0,\n",
              "         0,  0,  0,  0,  1,  0,  0,  0,  0,  0,  0,  0],\n",
              "       [ 0,  1,  0,  0,  0,  0,  0,  0,  0,  0,  0,  0,  0,  0,  0,  0,\n",
              "         0,  0,  0,  0,  0,  0,  0,  0,  0,  0,  0,  0],\n",
              "       [ 0,  0,  0,  0,  0,  0,  0,  0,  0,  6,  0,  0,  0,  0,  0,  1,\n",
              "         0,  0,  0,  0,  0,  0,  0,  0,  0,  0,  0,  2],\n",
              "       [ 0,  1,  1,  0,  0,  0,  0,  0,  0,  2,  0,  0,  0,  0,  0,  0,\n",
              "         0,  0,  0,  0,  0,  0,  0,  0,  0,  0,  0,  0],\n",
              "       [ 0,  0,  0,  0,  0,  0,  0,  0,  0,  0,  0,  0,  0,  0,  0,  1,\n",
              "         0,  0,  0,  0,  0,  0,  0,  0,  0,  0,  0,  0],\n",
              "       [ 0,  1,  0,  0,  0,  0,  0,  0,  0,  0,  0,  0,  1,  0,  0,  1,\n",
              "         0,  1,  0,  0,  0,  0,  0,  0,  1,  0,  0,  0],\n",
              "       [ 0,  1,  0,  0,  0,  0,  0,  0,  0,  0,  0,  0,  0,  0,  0,  0,\n",
              "         0,  0,  0,  0,  0,  0,  0,  0,  0,  0,  0,  0],\n",
              "       [ 0,  0,  0,  0,  0,  0,  0,  0,  0,  0,  0,  0,  0,  0,  0,  0,\n",
              "         0,  0,  0,  0,  1,  0,  0,  0,  0,  0,  0,  0],\n",
              "       [ 0,  1,  1,  0,  1,  1,  0,  0,  0,  0,  1,  0,  0,  0,  0,  2,\n",
              "         0,  2,  0,  0,  0,  0,  0,  0,  0,  0,  0,  0],\n",
              "       [ 0,  1,  0,  0,  0,  0,  0,  0,  0,  0,  0,  0,  0,  0,  0,  0,\n",
              "         0,  1,  0,  0,  0,  0,  0,  0,  0,  0,  0,  0],\n",
              "       [ 0,  0,  1,  0,  0,  2,  0,  0,  0,  1,  0,  0,  0,  0,  0,  3,\n",
              "         0,  2,  0,  0,  0,  0,  0,  0,  0,  0,  0,  0],\n",
              "       [ 0,  0,  0,  0,  1,  0,  0,  0,  0,  0,  0,  0,  0,  0,  0,  0,\n",
              "         0,  0,  0,  0,  0,  0,  0,  0,  0,  0,  0,  0],\n",
              "       [ 0,  0,  0,  0,  0,  0,  0,  0,  0,  0,  0,  0,  0,  0,  0,  0,\n",
              "         1,  0,  0,  0,  0,  0,  0,  0,  0,  0,  0,  0],\n",
              "       [ 0,  0,  0,  0,  2,  0,  0,  1,  0,  0,  0,  0,  0,  0,  0,  0,\n",
              "         0,  0,  0,  0,  0,  0,  0,  0,  0,  0,  0,  0],\n",
              "       [ 0,  0,  0,  0,  0,  0,  0,  0,  0,  0,  0,  0,  0,  0,  0,  1,\n",
              "         1,  0,  0,  0,  0,  0,  1,  0,  0,  0,  0,  0],\n",
              "       [ 0,  1,  0,  0,  0,  0,  0,  0,  0,  0,  0,  0,  0,  0,  0,  0,\n",
              "         0,  0,  0,  0,  1,  0,  0,  0,  0,  0,  0,  0],\n",
              "       [ 0,  0,  0,  0,  0,  0,  0,  0,  0,  0,  0,  0,  0,  0,  0,  1,\n",
              "         0,  0,  0,  0,  0,  0,  0,  0,  0,  0,  0,  0],\n",
              "       [ 0,  0,  0,  0,  1,  0,  0,  0,  0,  1,  0,  0,  0,  0,  0,  0,\n",
              "         0,  0,  0,  0,  0,  0,  0,  0,  5,  0,  0,  0],\n",
              "       [ 0,  0,  0,  0,  1,  0,  0,  0,  0,  0,  0,  0,  0,  0,  0,  0,\n",
              "         0,  0,  0,  0,  0,  0,  0,  0,  0,  0,  0,  0],\n",
              "       [ 0,  0,  0,  0,  1,  0,  0,  0,  0,  0,  0,  0,  0,  0,  0,  0,\n",
              "         0,  0,  0,  0,  0,  0,  0,  0,  0,  0,  2,  0],\n",
              "       [ 0,  0,  0,  0,  0,  0,  0,  0,  0,  1,  1,  0,  0,  0,  0,  0,\n",
              "         0,  0,  0,  0,  0,  0,  0,  0,  0,  0,  0,  1]])"
            ]
          },
          "metadata": {
            "tags": []
          },
          "execution_count": 134
        }
      ]
    },
    {
      "metadata": {
        "id": "OAWQyDCbhqM2",
        "colab_type": "code",
        "colab": {}
      },
      "cell_type": "code",
      "source": [
        " "
      ],
      "execution_count": 0,
      "outputs": []
    }
  ]
}