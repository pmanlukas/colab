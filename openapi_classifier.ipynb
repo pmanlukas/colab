{
  "nbformat": 4,
  "nbformat_minor": 0,
  "metadata": {
    "colab": {
      "name": "openapi-classifier.ipynb",
      "version": "0.3.2",
      "provenance": [],
      "collapsed_sections": []
    },
    "kernelspec": {
      "name": "python3",
      "display_name": "Python 3"
    },
    "accelerator": "GPU"
  },
  "cells": [
    {
      "cell_type": "markdown",
      "metadata": {
        "id": "view-in-github",
        "colab_type": "text"
      },
      "source": [
        "[View in Colaboratory](https://colab.research.google.com/github/pmanlukas/colab/blob/master/openapi_classifier.ipynb)"
      ]
    },
    {
      "metadata": {
        "id": "RlJFXtFWandL",
        "colab_type": "text"
      },
      "cell_type": "markdown",
      "source": [
        "# openAPI spec classifier\n",
        "This notebook is used to create a first proof of concept on a classifier for openAPI files. The classifier will be based on a neural network based architecture and will be implemented in Tensorflow, SciPy and Keras."
      ]
    },
    {
      "metadata": {
        "id": "sp4kSQncaqEY",
        "colab_type": "code",
        "colab": {
          "base_uri": "https://localhost:8080/",
          "height": 2278
        },
        "outputId": "49ed841e-98ca-4107-df6a-68e6fe7de5b1"
      },
      "cell_type": "code",
      "source": [
        "# Install a Drive FUSE wrapper.\n",
        "# https://github.com/astrada/google-drive-ocamlfuse\n",
        "!apt-get install -y -qq software-properties-common python-software-properties module-init-tools\n",
        "!add-apt-repository -y ppa:alessandro-strada/ppa 2>&1 > /dev/null\n",
        "!apt-get update -qq 2>&1 > /dev/null\n",
        "!apt-get -y install -qq google-drive-ocamlfuse fuse"
      ],
      "execution_count": 2,
      "outputs": [
        {
          "output_type": "stream",
          "text": [
            "Preconfiguring packages ...\n",
            "Selecting previously unselected package cron.\n",
            "(Reading database ... 18298 files and directories currently installed.)\n",
            "Preparing to unpack .../00-cron_3.0pl1-128ubuntu5_amd64.deb ...\n",
            "Unpacking cron (3.0pl1-128ubuntu5) ...\n",
            "Selecting previously unselected package libapparmor1:amd64.\n",
            "Preparing to unpack .../01-libapparmor1_2.11.0-2ubuntu17.1_amd64.deb ...\n",
            "Unpacking libapparmor1:amd64 (2.11.0-2ubuntu17.1) ...\n",
            "Selecting previously unselected package libdbus-1-3:amd64.\n",
            "Preparing to unpack .../02-libdbus-1-3_1.10.22-1ubuntu1_amd64.deb ...\n",
            "Unpacking libdbus-1-3:amd64 (1.10.22-1ubuntu1) ...\n",
            "Selecting previously unselected package dbus.\n",
            "Preparing to unpack .../03-dbus_1.10.22-1ubuntu1_amd64.deb ...\n",
            "Unpacking dbus (1.10.22-1ubuntu1) ...\n",
            "Selecting previously unselected package dirmngr.\n",
            "Preparing to unpack .../04-dirmngr_2.1.15-1ubuntu8_amd64.deb ...\n",
            "Unpacking dirmngr (2.1.15-1ubuntu8) ...\n",
            "Selecting previously unselected package distro-info-data.\n",
            "Preparing to unpack .../05-distro-info-data_0.36ubuntu0.2_all.deb ...\n",
            "Unpacking distro-info-data (0.36ubuntu0.2) ...\n",
            "Selecting previously unselected package libkmod2:amd64.\n",
            "Preparing to unpack .../06-libkmod2_24-1ubuntu2_amd64.deb ...\n",
            "Unpacking libkmod2:amd64 (24-1ubuntu2) ...\n",
            "Selecting previously unselected package kmod.\n",
            "Preparing to unpack .../07-kmod_24-1ubuntu2_amd64.deb ...\n",
            "Unpacking kmod (24-1ubuntu2) ...\n",
            "Selecting previously unselected package lsb-release.\n",
            "Preparing to unpack .../08-lsb-release_9.20160110ubuntu5_all.deb ...\n",
            "Unpacking lsb-release (9.20160110ubuntu5) ...\n",
            "Selecting previously unselected package libgirepository-1.0-1:amd64.\n",
            "Preparing to unpack .../09-libgirepository-1.0-1_1.54.1-1_amd64.deb ...\n",
            "Unpacking libgirepository-1.0-1:amd64 (1.54.1-1) ...\n",
            "Selecting previously unselected package gir1.2-glib-2.0:amd64.\n",
            "Preparing to unpack .../10-gir1.2-glib-2.0_1.54.1-1_amd64.deb ...\n",
            "Unpacking gir1.2-glib-2.0:amd64 (1.54.1-1) ...\n",
            "Selecting previously unselected package iso-codes.\n",
            "Preparing to unpack .../11-iso-codes_3.75-1_all.deb ...\n",
            "Unpacking iso-codes (3.75-1) ...\n",
            "Selecting previously unselected package libdbus-glib-1-2:amd64.\n",
            "Preparing to unpack .../12-libdbus-glib-1-2_0.108-2_amd64.deb ...\n",
            "Unpacking libdbus-glib-1-2:amd64 (0.108-2) ...\n",
            "Selecting previously unselected package python-apt-common.\n",
            "Preparing to unpack .../13-python-apt-common_1.4.0~beta3build2_all.deb ...\n",
            "Unpacking python-apt-common (1.4.0~beta3build2) ...\n",
            "Selecting previously unselected package python3-apt.\n",
            "Preparing to unpack .../14-python3-apt_1.4.0~beta3build2_amd64.deb ...\n",
            "Unpacking python3-apt (1.4.0~beta3build2) ...\n",
            "Selecting previously unselected package python3-dbus.\n",
            "Preparing to unpack .../15-python3-dbus_1.2.4-1build3_amd64.deb ...\n",
            "Unpacking python3-dbus (1.2.4-1build3) ...\n",
            "Selecting previously unselected package python3-gi.\n",
            "Preparing to unpack .../16-python3-gi_3.24.1-2build1_amd64.deb ...\n",
            "Unpacking python3-gi (3.24.1-2build1) ...\n",
            "Selecting previously unselected package module-init-tools.\n",
            "Preparing to unpack .../17-module-init-tools_24-1ubuntu2_all.deb ...\n",
            "Unpacking module-init-tools (24-1ubuntu2) ...\n",
            "Selecting previously unselected package python-apt.\n",
            "Preparing to unpack .../18-python-apt_1.4.0~beta3build2_amd64.deb ...\n",
            "Unpacking python-apt (1.4.0~beta3build2) ...\n",
            "Selecting previously unselected package python-pycurl.\n",
            "Preparing to unpack .../19-python-pycurl_7.43.0-2build2_amd64.deb ...\n",
            "Unpacking python-pycurl (7.43.0-2build2) ...\n",
            "Selecting previously unselected package python-software-properties.\n",
            "Preparing to unpack .../20-python-software-properties_0.96.24.17_all.deb ...\n",
            "Unpacking python-software-properties (0.96.24.17) ...\n",
            "Selecting previously unselected package python3-software-properties.\n",
            "Preparing to unpack .../21-python3-software-properties_0.96.24.17_all.deb ...\n",
            "Unpacking python3-software-properties (0.96.24.17) ...\n",
            "Selecting previously unselected package software-properties-common.\n",
            "Preparing to unpack .../22-software-properties-common_0.96.24.17_all.deb ...\n",
            "Unpacking software-properties-common (0.96.24.17) ...\n",
            "Selecting previously unselected package unattended-upgrades.\n",
            "Preparing to unpack .../23-unattended-upgrades_0.98ubuntu1.1_all.deb ...\n",
            "Unpacking unattended-upgrades (0.98ubuntu1.1) ...\n",
            "Setting up python-apt-common (1.4.0~beta3build2) ...\n",
            "Setting up python3-apt (1.4.0~beta3build2) ...\n",
            "Setting up iso-codes (3.75-1) ...\n",
            "Setting up distro-info-data (0.36ubuntu0.2) ...\n",
            "Setting up python-pycurl (7.43.0-2build2) ...\n",
            "Setting up lsb-release (9.20160110ubuntu5) ...\n",
            "Setting up libgirepository-1.0-1:amd64 (1.54.1-1) ...\n",
            "Setting up libkmod2:amd64 (24-1ubuntu2) ...\n",
            "Setting up gir1.2-glib-2.0:amd64 (1.54.1-1) ...\n",
            "Processing triggers for libc-bin (2.26-0ubuntu2.1) ...\n",
            "Setting up libapparmor1:amd64 (2.11.0-2ubuntu17.1) ...\n",
            "Setting up unattended-upgrades (0.98ubuntu1.1) ...\n"
          ],
          "name": "stdout"
        },
        {
          "output_type": "stream",
          "text": [
            "\r\n",
            "Creating config file /etc/apt/apt.conf.d/20auto-upgrades with new version\n",
            "\n",
            "Creating config file /etc/apt/apt.conf.d/50unattended-upgrades with new version\n",
            "invoke-rc.d: could not determine current runlevel\n",
            "invoke-rc.d: policy-rc.d denied execution of start.\n",
            "Setting up dirmngr (2.1.15-1ubuntu8) ...\n",
            "Setting up cron (3.0pl1-128ubuntu5) ...\n",
            "Adding group `crontab' (GID 102) ...\n",
            "Done.\n",
            "update-rc.d: warning: start and stop actions are no longer supported; falling back to defaults\n",
            "update-rc.d: warning: stop runlevel arguments (1) do not match cron Default-Stop values (none)\n",
            "invoke-rc.d: could not determine current runlevel\n",
            "invoke-rc.d: policy-rc.d denied execution of start.\n",
            "Setting up libdbus-1-3:amd64 (1.10.22-1ubuntu1) ...\n",
            "Setting up kmod (24-1ubuntu2) ...\n",
            "Setting up libdbus-glib-1-2:amd64 (0.108-2) ...\n",
            "Setting up python3-gi (3.24.1-2build1) ...\n",
            "Setting up module-init-tools (24-1ubuntu2) ...\n",
            "Setting up python3-software-properties (0.96.24.17) ...\n",
            "Setting up dbus (1.10.22-1ubuntu1) ...\n",
            "Setting up python-apt (1.4.0~beta3build2) ...\n",
            "Setting up python3-dbus (1.2.4-1build3) ...\n",
            "Setting up python-software-properties (0.96.24.17) ...\n",
            "Setting up software-properties-common (0.96.24.17) ...\n",
            "Processing triggers for libc-bin (2.26-0ubuntu2.1) ...\n",
            "Processing triggers for dbus (1.10.22-1ubuntu1) ...\n",
            "gpg: keybox '/tmp/tmpqxw5zolw/pubring.gpg' created\n",
            "gpg: /tmp/tmpqxw5zolw/trustdb.gpg: trustdb created\n",
            "gpg: key AD5F235DF639B041: public key \"Launchpad PPA for Alessandro Strada\" imported\n",
            "gpg: Total number processed: 1\n",
            "gpg:               imported: 1\n",
            "Warning: apt-key output should not be parsed (stdout is not a terminal)\n",
            "Selecting previously unselected package libfuse2:amd64.\n",
            "(Reading database ... 19706 files and directories currently installed.)\n",
            "Preparing to unpack .../libfuse2_2.9.7-1ubuntu1_amd64.deb ...\n",
            "Unpacking libfuse2:amd64 (2.9.7-1ubuntu1) ...\n",
            "Selecting previously unselected package fuse.\n",
            "Preparing to unpack .../fuse_2.9.7-1ubuntu1_amd64.deb ...\n",
            "Unpacking fuse (2.9.7-1ubuntu1) ...\n",
            "Selecting previously unselected package google-drive-ocamlfuse.\n",
            "Preparing to unpack .../google-drive-ocamlfuse_0.6.21-0ubuntu2_amd64.deb ...\n",
            "Unpacking google-drive-ocamlfuse (0.6.21-0ubuntu2) ...\n",
            "Setting up libfuse2:amd64 (2.9.7-1ubuntu1) ...\n",
            "Processing triggers for libc-bin (2.26-0ubuntu2.1) ...\n",
            "Setting up fuse (2.9.7-1ubuntu1) ...\n",
            "Setting up google-drive-ocamlfuse (0.6.21-0ubuntu2) ...\n"
          ],
          "name": "stdout"
        }
      ]
    },
    {
      "metadata": {
        "id": "5W9g2Zp9a45h",
        "colab_type": "code",
        "colab": {}
      },
      "cell_type": "code",
      "source": [
        "# Generate auth tokens for Colab\n",
        "from google.colab import auth\n",
        "auth.authenticate_user()"
      ],
      "execution_count": 0,
      "outputs": []
    },
    {
      "metadata": {
        "id": "b2uG7hEra8k9",
        "colab_type": "code",
        "colab": {
          "base_uri": "https://localhost:8080/",
          "height": 105
        },
        "outputId": "a9672a4e-7ab3-4427-b85c-a57b27c934a8"
      },
      "cell_type": "code",
      "source": [
        "# Generate creds for the Drive FUSE library.\n",
        "from oauth2client.client import GoogleCredentials\n",
        "creds = GoogleCredentials.get_application_default()\n",
        "import getpass\n",
        "!google-drive-ocamlfuse -headless -id={creds.client_id} -secret={creds.client_secret} < /dev/null 2>&1 | grep URL\n",
        "vcode = getpass.getpass()\n",
        "!echo {vcode} | google-drive-ocamlfuse -headless -id={creds.client_id} -secret={creds.client_secret}"
      ],
      "execution_count": 4,
      "outputs": [
        {
          "output_type": "stream",
          "text": [
            "Please, open the following URL in a web browser: https://accounts.google.com/o/oauth2/auth?client_id=32555940559.apps.googleusercontent.com&redirect_uri=urn%3Aietf%3Awg%3Aoauth%3A2.0%3Aoob&scope=https%3A%2F%2Fwww.googleapis.com%2Fauth%2Fdrive&response_type=code&access_type=offline&approval_prompt=force\r\n",
            "··········\n",
            "Please, open the following URL in a web browser: https://accounts.google.com/o/oauth2/auth?client_id=32555940559.apps.googleusercontent.com&redirect_uri=urn%3Aietf%3Awg%3Aoauth%3A2.0%3Aoob&scope=https%3A%2F%2Fwww.googleapis.com%2Fauth%2Fdrive&response_type=code&access_type=offline&approval_prompt=force\n",
            "Please enter the verification code: Access token retrieved correctly.\n"
          ],
          "name": "stdout"
        }
      ]
    },
    {
      "metadata": {
        "id": "63mVwUIrbEwM",
        "colab_type": "code",
        "colab": {}
      },
      "cell_type": "code",
      "source": [
        "# Create a directory and mount Google Drive using that directory.\n",
        "!mkdir -p drive\n",
        "!google-drive-ocamlfuse drive"
      ],
      "execution_count": 0,
      "outputs": []
    },
    {
      "metadata": {
        "id": "-hOy5JgWbF9t",
        "colab_type": "code",
        "colab": {}
      },
      "cell_type": "code",
      "source": [
        "# Create a folder to use for the project data\n",
        "!mkdir -p /content/drive/openapi-data/"
      ],
      "execution_count": 0,
      "outputs": []
    },
    {
      "metadata": {
        "id": "kVcmQOfWbII1",
        "colab_type": "code",
        "colab": {
          "base_uri": "https://localhost:8080/",
          "height": 34
        },
        "outputId": "0b33b77e-1554-4b69-f3cf-deaf8552df22"
      },
      "cell_type": "code",
      "source": [
        "!ls /content/drive/openapi-data/"
      ],
      "execution_count": 7,
      "outputs": [
        {
          "output_type": "stream",
          "text": [
            "mnist.py  path_labels.csv  pickle  structure_labels.csv\r\n"
          ],
          "name": "stdout"
        }
      ]
    },
    {
      "metadata": {
        "id": "uiZtaLU9bLc4",
        "colab_type": "code",
        "colab": {
          "base_uri": "https://localhost:8080/",
          "height": 34
        },
        "outputId": "8be3a513-0410-416b-d5a8-9ffd5ed30b71"
      },
      "cell_type": "code",
      "source": [
        "!pip install -q keras\n",
        "import keras"
      ],
      "execution_count": 8,
      "outputs": [
        {
          "output_type": "stream",
          "text": [
            "Using TensorFlow backend.\n"
          ],
          "name": "stderr"
        }
      ]
    },
    {
      "metadata": {
        "id": "jnC7eg1VbQxv",
        "colab_type": "code",
        "colab": {
          "base_uri": "https://localhost:8080/",
          "height": 34
        },
        "outputId": "8a4dbe4d-3808-4889-adb8-2210bceaccc2"
      },
      "cell_type": "code",
      "source": [
        "import tensorflow as tf\n",
        "tf.test.gpu_device_name()"
      ],
      "execution_count": 9,
      "outputs": [
        {
          "output_type": "execute_result",
          "data": {
            "text/plain": [
              "'/device:GPU:0'"
            ]
          },
          "metadata": {
            "tags": []
          },
          "execution_count": 9
        }
      ]
    },
    {
      "metadata": {
        "id": "DWgO0pzBbTec",
        "colab_type": "code",
        "colab": {
          "base_uri": "https://localhost:8080/",
          "height": 272
        },
        "outputId": "9b9642e1-6ec7-439f-8391-3a7e6aaf9aed"
      },
      "cell_type": "code",
      "source": [
        "!apt-get -qq install -y libarchive-dev && pip install -q -U libarchive\n",
        "import libarchive"
      ],
      "execution_count": 10,
      "outputs": [
        {
          "output_type": "stream",
          "text": [
            "Selecting previously unselected package liblzo2-2:amd64.\r\n",
            "(Reading database ... \r(Reading database ... 5%\r(Reading database ... 10%\r(Reading database ... 15%\r(Reading database ... 20%\r(Reading database ... 25%\r(Reading database ... 30%\r(Reading database ... 35%\r(Reading database ... 40%\r(Reading database ... 45%\r(Reading database ... 50%\r(Reading database ... 55%\r(Reading database ... 60%\r(Reading database ... 65%\r(Reading database ... 70%\r(Reading database ... 75%\r(Reading database ... 80%\r(Reading database ... 85%\r(Reading database ... 90%\r(Reading database ... 95%\r(Reading database ... 100%\r(Reading database ... 19735 files and directories currently installed.)\r\n",
            "Preparing to unpack .../liblzo2-2_2.08-1.2_amd64.deb ...\r\n",
            "Unpacking liblzo2-2:amd64 (2.08-1.2) ...\n",
            "Selecting previously unselected package libarchive13:amd64.\n",
            "Preparing to unpack .../libarchive13_3.2.2-3.1_amd64.deb ...\n",
            "Unpacking libarchive13:amd64 (3.2.2-3.1) ...\n",
            "Selecting previously unselected package libarchive-dev:amd64.\n",
            "Preparing to unpack .../libarchive-dev_3.2.2-3.1_amd64.deb ...\n",
            "Unpacking libarchive-dev:amd64 (3.2.2-3.1) ...\n",
            "Processing triggers for libc-bin (2.26-0ubuntu2.1) ...\n",
            "Setting up liblzo2-2:amd64 (2.08-1.2) ...\n",
            "Setting up libarchive13:amd64 (3.2.2-3.1) ...\n",
            "Setting up libarchive-dev:amd64 (3.2.2-3.1) ...\n",
            "Processing triggers for libc-bin (2.26-0ubuntu2.1) ...\n"
          ],
          "name": "stdout"
        }
      ]
    },
    {
      "metadata": {
        "id": "XymyVRyfbYv1",
        "colab_type": "code",
        "colab": {}
      },
      "cell_type": "code",
      "source": [
        "import os\n",
        "os.chdir(\"drive/openapi-data\")"
      ],
      "execution_count": 0,
      "outputs": []
    },
    {
      "metadata": {
        "id": "E6hH0iysbZvS",
        "colab_type": "code",
        "colab": {
          "base_uri": "https://localhost:8080/",
          "height": 34
        },
        "outputId": "56824ec4-b31a-41ff-8450-779ba9cb4c01"
      },
      "cell_type": "code",
      "source": [
        "!ls"
      ],
      "execution_count": 12,
      "outputs": [
        {
          "output_type": "stream",
          "text": [
            "mnist.py  path_labels.csv  pickle  structure_labels.csv\r\n"
          ],
          "name": "stdout"
        }
      ]
    },
    {
      "metadata": {
        "id": "hceoBAYuboKP",
        "colab_type": "code",
        "colab": {}
      },
      "cell_type": "code",
      "source": [
        "import pickle"
      ],
      "execution_count": 0,
      "outputs": []
    },
    {
      "metadata": {
        "id": "GCgYSYzEbc3o",
        "colab_type": "code",
        "colab": {}
      },
      "cell_type": "code",
      "source": [
        "training_data = dict()\n",
        "\n",
        "with open('pickle/specs.pkl', 'rb') as handle:\n",
        "    training_data = pickle.load(handle)"
      ],
      "execution_count": 0,
      "outputs": []
    },
    {
      "metadata": {
        "id": "lhrdZLcvb6Zy",
        "colab_type": "code",
        "colab": {}
      },
      "cell_type": "code",
      "source": [
        "keys = list(training_data.keys())"
      ],
      "execution_count": 0,
      "outputs": []
    },
    {
      "metadata": {
        "id": "Jcs3abVAcBog",
        "colab_type": "code",
        "colab": {
          "base_uri": "https://localhost:8080/",
          "height": 595
        },
        "outputId": "21f942e6-c315-4b3d-b32c-58cde1b7efc2"
      },
      "cell_type": "code",
      "source": [
        "training_data[keys[0]]"
      ],
      "execution_count": 16,
      "outputs": [
        {
          "output_type": "execute_result",
          "data": {
            "text/plain": [
              "{'basePath': '/forex-quotes',\n",
              " 'host': '1forge.com',\n",
              " 'info': {'contact': {'email': 'contact@1forge.com',\n",
              "   'name': '1Forge',\n",
              "   'url': 'http://1forge.com'},\n",
              "  'description': 'Stock and Forex Data and Realtime Quotes',\n",
              "  'title': '1Forge Finance APIs',\n",
              "  'version': '0.0.1',\n",
              "  'x-apisguru-categories': ['financial'],\n",
              "  'x-logo': {'backgroundColor': '#24292e',\n",
              "   'url': 'https://api.apis.guru/v2/cache/logo/http_1forge.com_logo.png'},\n",
              "  'x-origin': [{'format': 'swagger',\n",
              "    'url': 'http://1forge.com/openapi.json',\n",
              "    'version': '2.0'}],\n",
              "  'x-preferred': True,\n",
              "  'x-providerName': '1forge.com'},\n",
              " 'paths': {'/quotes': {'get': {'description': 'Get quotes',\n",
              "    'externalDocs': {'description': 'Find out more',\n",
              "     'url': 'http://1forge.com/forex-data-api'},\n",
              "    'responses': {'200': {'description': 'A list of quotes'}},\n",
              "    'summary': 'Get quotes for all symbols',\n",
              "    'tags': ['forex', 'finance', 'quotes']}},\n",
              "  '/symbols': {'get': {'description': 'Symbol List',\n",
              "    'externalDocs': {'description': 'Find out more',\n",
              "     'url': 'http://1forge.com/forex-data-api'},\n",
              "    'responses': {'200': {'description': 'A list of symbols',\n",
              "      'schema': {'example': ['EURUSD', 'GBPJPY', 'AUDUSD'],\n",
              "       'items': {'type': 'string'},\n",
              "       'type': 'array'}}},\n",
              "    'summary': 'Get a list of symbols for which we provide real-time quotes',\n",
              "    'tags': ['forex', 'finance', 'quotes']}}},\n",
              " 'produces': ['application/json'],\n",
              " 'schemes': ['https', 'http'],\n",
              " 'swagger': '2.0'}"
            ]
          },
          "metadata": {
            "tags": []
          },
          "execution_count": 16
        }
      ]
    },
    {
      "metadata": {
        "id": "OF9qnLugK4Zm",
        "colab_type": "code",
        "colab": {}
      },
      "cell_type": "code",
      "source": [
        "from collections import Counter\n",
        "from datetime import datetime\n",
        " \n",
        "import json\n",
        " \n",
        "from keras.layers import Embedding, LSTM, Dense, Conv1D, MaxPooling1D, Dropout, Activation\n",
        "from keras.models import Sequential\n",
        "from keras.preprocessing.text import Tokenizer\n",
        "from keras.preprocessing.sequence import pad_sequences\n",
        " \n",
        "import numpy as np\n",
        "import pandas as pd"
      ],
      "execution_count": 0,
      "outputs": []
    },
    {
      "metadata": {
        "id": "CWOUwgz9c8mM",
        "colab_type": "code",
        "colab": {
          "base_uri": "https://localhost:8080/",
          "height": 34
        },
        "outputId": "bee69e97-70fc-4a7b-cbf3-302a55495e39"
      },
      "cell_type": "code",
      "source": [
        "!ls"
      ],
      "execution_count": 18,
      "outputs": [
        {
          "output_type": "stream",
          "text": [
            "mnist.py  path_labels.csv  pickle  structure_labels.csv\r\n"
          ],
          "name": "stdout"
        }
      ]
    },
    {
      "metadata": {
        "id": "138mgUsucOaE",
        "colab_type": "code",
        "colab": {}
      },
      "cell_type": "code",
      "source": [
        "labelsP = pd.read_csv(\"path_labels.csv\").values\n",
        "labelsS  = pd.read_csv(\"structure_labels.csv\").values"
      ],
      "execution_count": 0,
      "outputs": []
    },
    {
      "metadata": {
        "id": "CsYV2NxPdGYS",
        "colab_type": "code",
        "colab": {
          "base_uri": "https://localhost:8080/",
          "height": 34
        },
        "outputId": "540d0c77-761a-410a-fa6d-e02c26436842"
      },
      "cell_type": "code",
      "source": [
        "labelsS.shape\n",
        "\n"
      ],
      "execution_count": 20,
      "outputs": [
        {
          "output_type": "execute_result",
          "data": {
            "text/plain": [
              "(1016, 2)"
            ]
          },
          "metadata": {
            "tags": []
          },
          "execution_count": 20
        }
      ]
    },
    {
      "metadata": {
        "id": "Q0_Ij__DLqc2",
        "colab_type": "code",
        "colab": {
          "base_uri": "https://localhost:8080/",
          "height": 136
        },
        "outputId": "d3c1af44-095d-4256-d064-b02e48363298"
      },
      "cell_type": "code",
      "source": [
        "labelsS"
      ],
      "execution_count": 21,
      "outputs": [
        {
          "output_type": "execute_result",
          "data": {
            "text/plain": [
              "array([['1forge.com', 1],\n",
              "       ['6-dot-authentiqio.appspot.com', 1],\n",
              "       ['adafruit.com', 2],\n",
              "       ...,\n",
              "       ['zoom.us', 4],\n",
              "       ['zoomconnect.com', 3],\n",
              "       ['zuora.com', 3]], dtype=object)"
            ]
          },
          "metadata": {
            "tags": []
          },
          "execution_count": 21
        }
      ]
    },
    {
      "metadata": {
        "id": "ZWaParwiNHPz",
        "colab_type": "text"
      },
      "cell_type": "markdown",
      "source": [
        "## Prepare Labels and Specs for the model\n",
        "In this part of the notebook, we will create three list. One contains the specs and the other two the labels for paths and for specs. The lists are later used as input for the actual preprocessing and then later the model."
      ]
    },
    {
      "metadata": {
        "id": "mk4pnqauKBXl",
        "colab_type": "code",
        "colab": {
          "base_uri": "https://localhost:8080/",
          "height": 51
        },
        "outputId": "b13647e0-3514-41d9-cc16-30077f3836c4"
      },
      "cell_type": "code",
      "source": [
        "labelsPath = list()\n",
        "labelsStruct = list()\n",
        "\n",
        "\n",
        "for labs in labelsS:\n",
        "  labelsStruct.append(labs[1])\n",
        "\n",
        "for labp in labelsP:\n",
        "  labelsPath.append(labp[1])\n",
        "  \n",
        "print(str(len(labelsPath)))\n",
        "print(str(len(labelsStruct)))\n",
        "\n",
        "#labelsStruct = labelsS[\"cluster\"].tolist()"
      ],
      "execution_count": 22,
      "outputs": [
        {
          "output_type": "stream",
          "text": [
            "1016\n",
            "1016\n"
          ],
          "name": "stdout"
        }
      ]
    },
    {
      "metadata": {
        "id": "hHAZOfoPMOFl",
        "colab_type": "code",
        "colab": {
          "base_uri": "https://localhost:8080/",
          "height": 71
        },
        "outputId": "5d1f55ab-f973-41ca-b3ce-1776e323de7b"
      },
      "cell_type": "code",
      "source": [
        "print(labelsPath)\n",
        "print(labelsStruct)"
      ],
      "execution_count": 40,
      "outputs": [
        {
          "output_type": "stream",
          "text": [
            "[1, 2, 3, 4, 5, 6, 7, 4, 4, 8, 3, 6, 8, 3, 4, 8, 6, 2, 4, 4, 2, 8, 6, 3, 4, 4, 8, 4, 9, 4, 4, 3, 3, 3, 4, 4, 6, 4, 8, 3, 9, 4, 4, 3, 3, 4, 3, 3, 3, 10, 4, 3, 3, 3, 8, 3, 3, 3, 4, 6, 1, 8, 4, 8, 6, 4, 6, 3, 3, 2, 6, 2, 3, 6, 9, 9, 4, 5, 1, 4, 8, 3, 4, 3, 6, 3, 3, 5, 4, 8, 8, 8, 9, 9, 8, 1, 4, 8, 3, 6, 4, 3, 3, 2, 9, 6, 6, 3, 8, 2, 3, 4, 5, 1, 6, 3, 8, 8, 6, 4, 8, 8, 4, 3, 4, 6, 4, 6, 2, 8, 4, 3, 9, 1, 6, 6, 3, 3, 4, 2, 3, 2, 6, 6, 4, 7, 1, 7, 7, 1, 7, 7, 7, 7, 7, 5, 1, 7, 7, 7, 7, 7, 7, 1, 7, 7, 7, 7, 7, 7, 7, 5, 7, 7, 7, 7, 7, 7, 7, 7, 7, 9, 2, 7, 7, 2, 7, 7, 7, 2, 3, 5, 1, 8, 3, 9, 2, 4, 9, 2, 8, 9, 4, 9, 9, 9, 8, 2, 9, 2, 9, 9, 1, 2, 9, 8, 9, 5, 2, 2, 7, 4, 2, 2, 9, 7, 5, 5, 9, 9, 5, 5, 9, 9, 7, 9, 8, 7, 2, 8, 2, 9, 9, 5, 9, 9, 9, 2, 5, 5, 2, 5, 7, 2, 8, 9, 5, 1, 1, 9, 5, 9, 9, 5, 7, 1, 1, 1, 1, 1, 9, 5, 1, 1, 1, 1, 1, 1, 1, 9, 1, 1, 1, 1, 1, 7, 5, 5, 9, 4, 8, 9, 4, 2, 2, 4, 4, 6, 1, 5, 1, 3, 9, 8, 5, 7, 7, 9, 9, 8, 9, 7, 9, 4, 3, 9, 3, 4, 3, 2, 8, 5, 4, 8, 6, 2, 9, 4, 4, 5, 5, 7, 9, 1, 9, 7, 9, 4, 4, 3, 7, 5, 2, 3, 2, 2, 2, 2, 8, 2, 9, 5, 2, 8, 4, 9, 9, 7, 1, 9, 9, 7, 7, 1, 5, 7, 9, 7, 7, 7, 5, 7, 9, 8, 6, 2, 9, 7, 7, 8, 8, 2, 2, 4, 7, 9, 2, 2, 7, 7, 8, 4, 9, 5, 4, 8, 8, 2, 8, 8, 2, 2, 8, 5, 1, 7, 2, 7, 4, 4, 2, 1, 7, 7, 6, 8, 4, 2, 9, 4, 5, 9, 8, 8, 5, 2, 2, 2, 2, 5, 8, 2, 7, 8, 4, 4, 3, 6, 2, 2, 5, 5, 5, 1, 1, 1, 7, 7, 1, 5, 7, 1, 1, 2, 1, 9, 9, 5, 9, 9, 5, 5, 9, 5, 7, 5, 7, 9, 5, 1, 5, 5, 9, 5, 9, 1, 2, 9, 2, 9, 2, 1, 5, 8, 2, 6, 9, 9, 9, 2, 7, 5, 9, 8, 2, 5, 8, 8, 4, 4, 7, 9, 7, 8, 7, 8, 5, 9, 8, 5, 10, 2, 10, 3, 4, 4, 9, 8, 6, 7, 3, 5, 6, 8, 3, 3, 7, 6, 1, 2, 4, 4, 8, 8, 6, 6, 8, 5, 10, 4, 3, 4, 3, 8, 4, 8, 5, 8, 10, 3, 6, 7, 5, 1, 9, 8, 1, 5, 3, 8, 8, 5, 1, 5, 9, 2, 5, 5, 8, 6, 10, 7, 6, 9, 8, 5, 1, 5, 9, 9, 4, 8, 8, 4, 3, 8, 2, 8, 2, 4, 8, 4, 2, 8, 2, 8, 1, 5, 1, 5, 5, 8, 4, 9, 1, 5, 5, 5, 8, 4, 1, 2, 1, 5, 5, 4, 3, 1, 5, 8, 4, 5, 8, 4, 6, 4, 3, 4, 9, 1, 4, 1, 2, 10, 8, 4, 2, 3, 2, 9, 10, 10, 5, 1, 3, 3, 4, 5, 2, 3, 4, 6, 1, 4, 6, 8, 3, 3, 1, 2, 4, 8, 3, 3, 3, 2, 2, 3, 2, 8, 8, 2, 8, 8, 4, 2, 4, 9, 4, 5, 4, 10, 8, 3, 6, 1, 3, 8, 8, 4, 6, 5, 5, 4, 8, 8, 8, 3, 9, 5, 2, 8, 8, 4, 6, 8, 3, 3, 3, 1, 5, 4, 4, 1, 2, 2, 4, 9, 4, 4, 8, 2, 2, 1, 4, 8, 1, 2, 8, 4, 2, 2, 4, 4, 1, 8, 8, 4, 8, 9, 8, 4, 1, 2, 2, 4, 2, 2, 4, 2, 2, 2, 4, 2, 9, 3, 3, 8, 8, 8, 3, 2, 8, 2, 4, 8, 2, 2, 9, 4, 1, 1, 1, 8, 3, 2, 2, 8, 8, 8, 9, 9, 4, 5, 5, 1, 9, 9, 5, 4, 5, 4, 5, 8, 8, 8, 4, 2, 8, 9, 8, 3, 6, 1, 7, 7, 1, 5, 2, 8, 4, 2, 3, 9, 2, 6, 3, 9, 6, 8, 1, 10, 1, 4, 4, 3, 8, 9, 3, 7, 7, 9, 1, 5, 8, 8, 8, 10, 2, 6, 8, 3, 9, 9, 7, 7, 5, 5, 5, 7, 4, 5, 7, 1, 3, 4, 5, 6, 3, 6, 9, 8, 4, 3, 4, 8, 3, 8, 1, 5, 5, 7, 7, 2, 2, 7, 9, 5, 1, 7, 5, 7, 1, 5, 2, 7, 9, 2, 7, 4, 8, 2, 4, 9, 6, 10, 2, 4, 7, 2, 1, 8, 8, 2, 10, 9, 7, 9, 7, 2, 8, 3, 4, 8, 2, 8, 2, 6, 8, 5, 6, 3, 8, 2, 8, 8, 4, 3, 9, 5, 7, 4, 10, 3, 5, 6, 6, 2, 4, 8, 7, 5, 2, 4, 6, 6, 4, 8, 2, 8, 6, 5, 1, 9, 8, 9, 2, 4, 9, 6, 8, 4, 4, 3, 9, 10, 4, 4, 6, 3, 6, 8, 3, 2, 3, 4, 3, 3, 6, 2, 4, 3, 8, 5, 4, 3, 9, 9, 9, 9, 7, 5, 8, 7, 4, 3, 4, 5, 2, 1, 2, 9, 1, 8, 1, 4, 6, 1, 6, 1, 8, 8, 9, 6, 3, 10]\n",
            "[1, 1, 2, 2, 1, 1, 3, 2, 4, 4, 4, 4, 4, 4, 4, 4, 4, 4, 4, 4, 4, 4, 4, 4, 4, 4, 4, 4, 4, 4, 4, 4, 4, 4, 4, 4, 4, 4, 4, 4, 4, 4, 4, 4, 4, 4, 4, 4, 4, 4, 4, 4, 4, 4, 4, 4, 4, 4, 4, 4, 4, 4, 4, 4, 4, 4, 4, 4, 4, 4, 4, 4, 4, 4, 4, 4, 4, 4, 4, 4, 4, 4, 4, 4, 4, 4, 4, 4, 4, 4, 4, 4, 4, 4, 4, 4, 4, 4, 4, 4, 4, 4, 4, 4, 4, 4, 4, 4, 4, 4, 4, 4, 4, 4, 4, 4, 4, 4, 4, 4, 4, 4, 4, 4, 4, 4, 4, 4, 4, 4, 4, 4, 4, 4, 4, 4, 4, 4, 4, 4, 2, 1, 3, 5, 1, 4, 1, 3, 3, 3, 3, 3, 3, 3, 3, 3, 3, 3, 3, 3, 3, 3, 3, 3, 3, 3, 3, 3, 3, 3, 3, 3, 3, 3, 3, 3, 3, 3, 3, 3, 3, 3, 3, 3, 3, 3, 3, 3, 3, 4, 4, 1, 1, 2, 3, 1, 4, 1, 1, 6, 6, 6, 6, 6, 6, 6, 6, 6, 6, 6, 6, 6, 6, 6, 6, 6, 6, 6, 6, 6, 6, 6, 6, 6, 6, 6, 6, 6, 6, 6, 6, 6, 6, 6, 6, 6, 6, 6, 6, 6, 6, 6, 6, 6, 6, 6, 6, 6, 6, 6, 6, 6, 6, 6, 6, 6, 2, 2, 2, 6, 6, 6, 6, 6, 6, 6, 6, 6, 6, 6, 6, 6, 6, 6, 6, 6, 6, 6, 6, 6, 6, 6, 6, 6, 6, 6, 6, 6, 6, 6, 6, 6, 6, 6, 2, 2, 2, 2, 2, 2, 6, 6, 6, 6, 6, 6, 6, 6, 6, 6, 6, 6, 6, 6, 6, 6, 6, 6, 6, 6, 6, 6, 6, 6, 6, 6, 6, 6, 6, 6, 6, 6, 6, 6, 6, 6, 6, 6, 6, 6, 6, 6, 6, 6, 6, 6, 6, 6, 6, 6, 6, 6, 6, 6, 6, 6, 6, 6, 6, 6, 6, 6, 6, 6, 6, 6, 6, 6, 6, 6, 6, 6, 6, 6, 6, 6, 6, 6, 6, 6, 6, 6, 6, 6, 6, 6, 6, 6, 6, 6, 6, 6, 6, 6, 6, 6, 6, 6, 6, 6, 6, 6, 6, 6, 6, 6, 6, 6, 6, 6, 6, 6, 6, 6, 6, 6, 6, 6, 6, 6, 6, 6, 6, 6, 6, 6, 6, 6, 6, 6, 6, 6, 6, 6, 6, 6, 6, 1, 6, 6, 6, 6, 6, 6, 6, 6, 6, 6, 6, 6, 6, 6, 6, 6, 6, 6, 6, 6, 6, 6, 6, 6, 6, 6, 6, 6, 6, 6, 6, 6, 6, 6, 6, 6, 6, 6, 6, 6, 6, 6, 6, 6, 6, 6, 6, 6, 6, 6, 6, 6, 6, 6, 6, 6, 6, 6, 6, 6, 6, 6, 6, 6, 6, 6, 6, 6, 6, 6, 6, 6, 6, 6, 6, 3, 4, 4, 3, 1, 4, 1, 1, 1, 4, 3, 1, 2, 3, 3, 3, 2, 3, 3, 2, 3, 5, 4, 3, 2, 1, 4, 4, 2, 1, 1, 4, 4, 2, 3, 1, 2, 2, 6, 1, 4, 5, 2, 1, 5, 3, 1, 3, 1, 5, 1, 4, 1, 5, 1, 4, 3, 4, 3, 1, 1, 3, 1, 1, 1, 1, 1, 1, 1, 1, 1, 1, 1, 1, 1, 1, 1, 3, 5, 2, 2, 2, 2, 2, 2, 2, 2, 2, 2, 2, 2, 2, 2, 2, 2, 2, 2, 2, 2, 2, 2, 2, 2, 2, 2, 2, 2, 2, 2, 2, 2, 1, 3, 4, 1, 1, 1, 3, 2, 3, 5, 3, 3, 4, 2, 4, 1, 4, 2, 5, 5, 5, 5, 5, 5, 5, 5, 5, 5, 5, 5, 5, 5, 5, 5, 5, 5, 5, 5, 5, 5, 5, 5, 5, 5, 5, 5, 5, 5, 5, 5, 5, 5, 5, 5, 5, 5, 5, 5, 5, 5, 5, 5, 5, 5, 5, 5, 5, 5, 5, 5, 5, 5, 5, 5, 5, 5, 5, 5, 5, 5, 5, 5, 5, 5, 5, 4, 5, 5, 5, 5, 5, 5, 5, 5, 5, 5, 5, 5, 5, 5, 5, 5, 4, 5, 5, 5, 5, 5, 5, 5, 5, 5, 5, 5, 5, 5, 5, 5, 5, 5, 5, 5, 5, 5, 5, 5, 5, 5, 5, 5, 5, 5, 5, 5, 5, 5, 5, 5, 5, 5, 5, 5, 5, 5, 5, 5, 5, 5, 5, 5, 5, 5, 5, 4, 1, 1, 5, 1, 3, 1, 4, 2, 1, 1, 1, 2, 2, 2, 2, 5, 1, 1, 3, 1, 1, 1, 3, 6, 6, 5, 5, 5, 3, 3, 2, 1, 5, 1, 5, 1, 1, 5, 1, 5, 1, 1, 2, 2, 1, 4, 1, 1, 1, 1, 1, 1, 1, 5, 4, 2, 3, 3, 2, 3, 1, 5, 3, 3, 1, 1, 2, 2, 2, 2, 1, 2, 1, 2, 2, 3, 3, 3, 1, 1, 1, 1, 3, 4, 3, 2, 1, 1, 1, 4, 2, 2, 1, 2, 2, 4, 4, 2, 4, 2, 2, 2, 2, 2, 1, 1, 1, 4, 4, 3, 1, 2, 1, 3, 3, 2, 1, 1, 2, 1, 1, 2, 3, 3, 1, 1, 1, 1, 1, 1, 1, 2, 3, 3, 3, 1, 3, 3, 3, 4, 2, 3, 4, 3, 1, 1, 4, 1, 2, 5, 1, 3, 1, 1, 5, 1, 3, 1, 3, 1, 1, 1, 3, 4, 5, 3, 4, 5, 1, 2, 1, 2, 1, 1, 1, 1, 1, 3, 5, 3, 4, 6, 3, 1, 3, 6, 2, 5, 2, 2, 5, 3, 1, 1, 1, 2, 3, 5, 1, 1, 1, 2, 3, 5, 1, 1, 5, 1, 3, 2, 2, 2, 2, 2, 1, 2, 5, 6, 6, 3, 2, 2, 2, 2, 2, 2, 2, 5, 4, 1, 3, 5, 3, 1, 3, 4, 3, 3]\n"
          ],
          "name": "stdout"
        }
      ]
    },
    {
      "metadata": {
        "id": "qdfIykU8_70j",
        "colab_type": "text"
      },
      "cell_type": "markdown",
      "source": [
        "### Create training and test split of the labels"
      ]
    },
    {
      "metadata": {
        "id": "QV9VUUhm94t5",
        "colab_type": "code",
        "colab": {}
      },
      "cell_type": "code",
      "source": [
        "Y_Path_train = labelsPath[:808]\n",
        "Y_Path_test = labelsPath[808:]\n",
        "\n",
        "Y_Struct_train = labelsStruct[:808]\n",
        "Y_Struct_test = labelsStruct[808:]"
      ],
      "execution_count": 0,
      "outputs": []
    },
    {
      "metadata": {
        "id": "zLeNZ7ZY-dP1",
        "colab_type": "code",
        "colab": {
          "base_uri": "https://localhost:8080/",
          "height": 85
        },
        "outputId": "ea202834-49e5-4e38-ed9b-6a09f8faa53d"
      },
      "cell_type": "code",
      "source": [
        "print(len(Y_Path_train))\n",
        "print(len(Y_Path_test))\n",
        "print(len(Y_Struct_train))\n",
        "print(len(Y_Struct_test))"
      ],
      "execution_count": 45,
      "outputs": [
        {
          "output_type": "stream",
          "text": [
            "808\n",
            "208\n",
            "808\n",
            "208\n"
          ],
          "name": "stdout"
        }
      ]
    },
    {
      "metadata": {
        "id": "qwjBHNRu-8gF",
        "colab_type": "code",
        "colab": {}
      },
      "cell_type": "code",
      "source": [
        "with open('pickle/Y_Path_train.pickle', 'wb') as handle:\n",
        "    pickle.dump(Y_Path_train, handle, protocol=pickle.HIGHEST_PROTOCOL)"
      ],
      "execution_count": 0,
      "outputs": []
    },
    {
      "metadata": {
        "id": "vX0K3n0O-_cl",
        "colab_type": "code",
        "colab": {}
      },
      "cell_type": "code",
      "source": [
        "with open('pickle/Y_Path_test.pickle', 'wb') as handle:\n",
        "    pickle.dump(Y_Path_test, handle, protocol=pickle.HIGHEST_PROTOCOL)"
      ],
      "execution_count": 0,
      "outputs": []
    },
    {
      "metadata": {
        "id": "2V7kDySY-_fZ",
        "colab_type": "code",
        "colab": {}
      },
      "cell_type": "code",
      "source": [
        "with open('pickle/Y_Struct_train.pickle', 'wb') as handle:\n",
        "    pickle.dump(Y_Struct_train, handle, protocol=pickle.HIGHEST_PROTOCOL)"
      ],
      "execution_count": 0,
      "outputs": []
    },
    {
      "metadata": {
        "id": "KZSX5Ou4-_iM",
        "colab_type": "code",
        "colab": {}
      },
      "cell_type": "code",
      "source": [
        "with open('pickle/Y_Struct_test.pickle', 'wb') as handle:\n",
        "    pickle.dump(Y_Struct_test, handle, protocol=pickle.HIGHEST_PROTOCOL)"
      ],
      "execution_count": 0,
      "outputs": []
    },
    {
      "metadata": {
        "id": "iR3BDzONNDXh",
        "colab_type": "code",
        "colab": {}
      },
      "cell_type": "code",
      "source": [
        "specs_json = list()"
      ],
      "execution_count": 0,
      "outputs": []
    },
    {
      "metadata": {
        "id": "5EjHsDBSqaxz",
        "colab_type": "code",
        "colab": {}
      },
      "cell_type": "code",
      "source": [
        "import json"
      ],
      "execution_count": 0,
      "outputs": []
    },
    {
      "metadata": {
        "id": "hJQsSGq9Ni16",
        "colab_type": "code",
        "colab": {
          "base_uri": "https://localhost:8080/",
          "height": 34
        },
        "outputId": "b9a3ecbb-784b-4e77-ac1e-68a964e87936"
      },
      "cell_type": "code",
      "source": [
        "for spec in training_data:\n",
        "  strJson = json.dumps(training_data[spec])\n",
        "  specs_json.append(strJson)\n",
        "\n",
        "print(str(len(specs_json)))\n",
        "  \n",
        "  "
      ],
      "execution_count": 26,
      "outputs": [
        {
          "output_type": "stream",
          "text": [
            "1016\n"
          ],
          "name": "stdout"
        }
      ]
    },
    {
      "metadata": {
        "id": "2v5Zl4GBOgSD",
        "colab_type": "code",
        "colab": {
          "base_uri": "https://localhost:8080/",
          "height": 54
        },
        "outputId": "704f78a0-bdb1-4e24-e30b-a4a20944ac1c"
      },
      "cell_type": "code",
      "source": [
        "specs_json[1]"
      ],
      "execution_count": 27,
      "outputs": [
        {
          "output_type": "execute_result",
          "data": {
            "text/plain": [
              "'{\"swagger\": \"2.0\", \"schemes\": [\"https\"], \"host\": \"6-dot-authentiqio.appspot.com\", \"basePath\": \"/\", \"info\": {\"contact\": {\"email\": \"hello@authentiq.com\", \"name\": \"Authentiq team\", \"url\": \"http://authentiq.io/support\"}, \"description\": \"Strong authentication, without the passwords.\", \"license\": {\"name\": \"Apache 2.0\", \"url\": \"http://www.apache.org/licenses/LICENSE-2.0.html\"}, \"termsOfService\": \"http://authentiq.com/terms/\", \"title\": \"Authentiq\", \"version\": \"6\", \"x-apisguru-categories\": [\"security\"], \"x-logo\": {\"backgroundColor\": \"#F26641\", \"url\": \"https://api.apis.guru/v2/cache/logo/https_www.authentiq.com_theme_images_authentiq-logo-a-inverse.svg\"}, \"x-origin\": [{\"format\": \"swagger\", \"url\": \"https://raw.githubusercontent.com/AuthentiqID/authentiq-docs/master/docs/swagger/issuer.yaml\", \"version\": \"2.0\"}], \"x-preferred\": true, \"x-providerName\": \"6-dot-authentiqio.appspot.com\"}, \"parameters\": {\"AuthentiqID\": {\"description\": \"Authentiq ID to register\", \"in\": \"body\", \"name\": \"body\", \"required\": true, \"schema\": {\"$ref\": \"#/definitions/AuthentiqID\"}}, \"JobID\": {\"description\": \"Job ID (20 chars)\", \"in\": \"path\", \"name\": \"job\", \"required\": true, \"type\": \"string\"}, \"PK\": {\"description\": \"Public Signing Key - Authentiq ID (43 chars)\", \"in\": \"path\", \"name\": \"PK\", \"required\": true, \"type\": \"string\"}, \"PushToken\": {\"description\": \"Push Token.\", \"in\": \"body\", \"name\": \"body\", \"required\": true, \"schema\": {\"$ref\": \"#/definitions/PushToken\"}}, \"Scope\": {\"description\": \"Claims of scope\", \"in\": \"body\", \"name\": \"body\", \"required\": true, \"schema\": {\"$ref\": \"#/definitions/Claims\"}}}, \"responses\": {\"ErrorResponse\": {\"description\": \"Error response\", \"schema\": {\"$ref\": \"#/definitions/Error\"}}}, \"paths\": {\"/key\": {\"delete\": {\"description\": \"Revoke an Authentiq ID using email & phone.\\\\n\\\\nIf called with `email` and `phone` only, a verification code \\\\nwill be sent by email. Do a second call adding `code` to \\\\ncomplete the revocation.\\\\n\", \"operationId\": \"key_revoke_nosecret\", \"parameters\": [{\"description\": \"primary email associated to Key (ID)\", \"in\": \"query\", \"name\": \"email\", \"required\": true, \"type\": \"string\"}, {\"description\": \"primary phone number, international representation\", \"in\": \"query\", \"name\": \"phone\", \"required\": true, \"type\": \"string\"}, {\"description\": \"verification code sent by email\", \"in\": \"query\", \"name\": \"code\", \"required\": false, \"type\": \"string\"}], \"produces\": [\"application/json\"], \"responses\": {\"200\": {\"description\": \"Successfully deleted\", \"schema\": {\"properties\": {\"status\": {\"description\": \"pending or done\", \"type\": \"string\"}}, \"type\": \"object\"}}, \"401\": {\"description\": \"Authentication error `auth-error`\", \"schema\": {\"$ref\": \"#/definitions/Error\"}}, \"404\": {\"description\": \"Unknown key `unknown-key`\", \"schema\": {\"$ref\": \"#/definitions/Error\"}}, \"409\": {\"description\": \"Confirm with code sent `confirm-first`\", \"schema\": {\"$ref\": \"#/definitions/Error\"}}, \"default\": {\"$ref\": \"#/responses/ErrorResponse\"}}, \"tags\": [\"key\", \"delete\"]}, \"post\": {\"consumes\": [\"application/jwt\"], \"description\": \"Register a new ID `JWT(sub, devtoken)`\\\\n\\\\nv5: `JWT(sub, pk, devtoken, ...)`\\\\n\\\\nSee: https://github.com/skion/authentiq/wiki/JWT-Examples\\\\n\", \"operationId\": \"key_register\", \"parameters\": [{\"$ref\": \"#/parameters/AuthentiqID\"}], \"produces\": [\"application/json\"], \"responses\": {\"201\": {\"description\": \"Successfully registered\", \"schema\": {\"properties\": {\"secret\": {\"description\": \"revoke key\", \"type\": \"string\"}, \"status\": {\"description\": \"registered\", \"type\": \"string\"}}, \"type\": \"object\"}}, \"409\": {\"description\": \"Key already registered `duplicate-key`\", \"schema\": {\"$ref\": \"#/definitions/Error\"}}, \"default\": {\"$ref\": \"#/responses/ErrorResponse\"}}, \"tags\": [\"key\", \"post\"]}}, \"/key/{PK}\": {\"delete\": {\"description\": \"Revoke an Identity (Key) with a revocation secret\", \"operationId\": \"key_revoke\", \"parameters\": [{\"$ref\": \"#/parameters/PK\"}, {\"description\": \"revokation secret\", \"in\": \"query\", \"name\": \"secret\", \"required\": true, \"type\": \"string\"}], \"produces\": [\"application/json\"], \"responses\": {\"200\": {\"description\": \"Successful response\", \"schema\": {\"properties\": {\"status\": {\"description\": \"done\", \"type\": \"string\"}}, \"type\": \"object\"}}, \"401\": {\"description\": \"Key not found / wrong code `auth-error`\", \"schema\": {\"$ref\": \"#/definitions/Error\"}}, \"404\": {\"description\": \"Unknown key `unknown-key`\", \"schema\": {\"$ref\": \"#/definitions/Error\"}}, \"default\": {\"$ref\": \"#/responses/ErrorResponse\"}}, \"tags\": [\"key\", \"delete\"]}, \"get\": {\"description\": \"Get public details of an Authentiq ID.\\\\n\", \"parameters\": [{\"$ref\": \"#/parameters/PK\"}], \"produces\": [\"application/json\"], \"responses\": {\"200\": {\"description\": \"Successfully retrieved\", \"schema\": {\"properties\": {\"since\": {\"format\": \"date-time\", \"type\": \"string\"}, \"status\": {\"type\": \"string\"}, \"sub\": {\"description\": \"base64safe encoded public signing key\", \"type\": \"string\"}}, \"title\": \"JWT\", \"type\": \"object\"}}, \"404\": {\"description\": \"Unknown key `unknown-key`\", \"schema\": {\"$ref\": \"#/definitions/Error\"}}, \"410\": {\"description\": \"Key is revoked (gone). `revoked-key`\", \"schema\": {\"$ref\": \"#/definitions/Error\"}}, \"default\": {\"$ref\": \"#/responses/ErrorResponse\"}}, \"tags\": [\"key\", \"get\"]}, \"head\": {\"description\": \"HEAD info on Authentiq ID\\\\n\", \"parameters\": [{\"$ref\": \"#/parameters/PK\"}], \"responses\": {\"200\": {\"description\": \"Key exists\"}, \"404\": {\"description\": \"Unknown key `unknown-key`\", \"schema\": {\"$ref\": \"#/definitions/Error\"}}, \"410\": {\"description\": \"Key is revoked `revoked-key`\", \"schema\": {\"$ref\": \"#/definitions/Error\"}}, \"default\": {\"$ref\": \"#/responses/ErrorResponse\"}}, \"tags\": [\"key\", \"head\"]}, \"post\": {\"consumes\": [\"application/jwt\"], \"description\": \"update properties of an Authentiq ID.\\\\n(not operational in v4; use PUT for now)\\\\n\\\\nv5: POST issuer-signed email & phone scopes in\\\\na self-signed JWT\\\\n\\\\nSee: https://github.com/skion/authentiq/wiki/JWT-Examples\\\\n\", \"operationId\": \"key_update\", \"parameters\": [{\"$ref\": \"#/parameters/PK\"}, {\"$ref\": \"#/parameters/AuthentiqID\"}], \"produces\": [\"application/json\"], \"responses\": {\"200\": {\"description\": \"Successfully updated\", \"schema\": {\"properties\": {\"status\": {\"description\": \"confirmed\", \"type\": \"string\"}}, \"type\": \"object\"}}, \"404\": {\"description\": \"Unknown key `unknown-key`\", \"schema\": {\"$ref\": \"#/definitions/Error\"}}, \"default\": {\"$ref\": \"#/responses/ErrorResponse\"}}, \"tags\": [\"key\", \"post\"]}, \"put\": {\"consumes\": [\"application/jwt\"], \"description\": \"Update Authentiq ID by replacing the object.\\\\n\\\\nv4: `JWT(sub,email,phone)` to bind email/phone hash; \\\\n\\\\nv5: POST issuer-signed email & phone scopes\\\\nand PUT to update registration `JWT(sub, pk, devtoken, ...)`\\\\n\\\\nSee: https://github.com/skion/authentiq/wiki/JWT-Examples\\\\n\", \"operationId\": \"key_bind\", \"parameters\": [{\"$ref\": \"#/parameters/PK\"}, {\"$ref\": \"#/parameters/AuthentiqID\"}], \"produces\": [\"application/json\"], \"responses\": {\"200\": {\"description\": \"Successfully updated\", \"schema\": {\"properties\": {\"status\": {\"description\": \"confirmed\", \"type\": \"string\"}}, \"type\": \"object\"}}, \"404\": {\"description\": \"Unknown key `unknown-key`\", \"schema\": {\"$ref\": \"#/definitions/Error\"}}, \"409\": {\"description\": \"Already bound to another key `duplicate-hash`\", \"schema\": {\"$ref\": \"#/definitions/Error\"}}, \"default\": {\"$ref\": \"#/responses/ErrorResponse\"}}, \"tags\": [\"key\", \"put\"]}}, \"/login\": {\"post\": {\"consumes\": [\"application/jwt\"], \"description\": \"push sign-in request\\\\nSee: https://github.com/skion/authentiq/wiki/JWT-Examples\\\\n\", \"operationId\": \"push_login_request\", \"parameters\": [{\"$ref\": \"#/parameters/PushToken\"}, {\"description\": \"URI App will connect to\", \"in\": \"query\", \"name\": \"callback\", \"required\": true, \"type\": \"string\"}], \"produces\": [\"application/json\"], \"responses\": {\"200\": {\"description\": \"Successful response\", \"schema\": {\"properties\": {\"status\": {\"description\": \"sent\", \"type\": \"string\"}}, \"type\": \"object\"}}, \"401\": {\"description\": \"Unauthorized for this callback audience `aud-error` or JWT should be self-signed `auth-error`\", \"schema\": {\"$ref\": \"#/definitions/Error\"}}, \"default\": {\"$ref\": \"#/responses/ErrorResponse\"}}, \"tags\": [\"login\", \"post\"]}}, \"/scope\": {\"post\": {\"consumes\": [\"application/jwt\"], \"description\": \"scope verification request\\\\nSee: https://github.com/skion/authentiq/wiki/JWT-Examples\\\\n\", \"operationId\": \"sign_request\", \"parameters\": [{\"$ref\": \"#/parameters/Scope\"}, {\"description\": \"test only mode, using test issuer\", \"in\": \"query\", \"name\": \"test\", \"required\": false, \"type\": \"integer\"}], \"produces\": [\"application/json\"], \"responses\": {\"201\": {\"description\": \"Successful response\", \"schema\": {\"properties\": {\"job\": {\"description\": \"20-character ID\", \"type\": \"string\"}, \"status\": {\"description\": \"waiting\", \"type\": \"string\"}}, \"type\": \"object\"}}, \"429\": {\"description\": \"Too Many Requests on same address / number `rate-limit`\", \"schema\": {\"$ref\": \"#/definitions/Error\"}}, \"default\": {\"$ref\": \"#/responses/ErrorResponse\"}}, \"tags\": [\"scope\", \"post\"]}}, \"/scope/{job}\": {\"delete\": {\"description\": \"delete a verification job\", \"operationId\": \"sign_delete\", \"parameters\": [{\"$ref\": \"#/parameters/JobID\"}], \"produces\": [\"application/json\"], \"responses\": {\"200\": {\"description\": \"Successfully deleted\", \"schema\": {\"properties\": {\"status\": {\"description\": \"done\", \"type\": \"string\"}}, \"type\": \"object\"}}, \"404\": {\"description\": \"Job not found `unknown-job`\", \"schema\": {\"$ref\": \"#/definitions/Error\"}}, \"default\": {\"$ref\": \"#/responses/ErrorResponse\"}}, \"tags\": [\"scope\", \"delete\"]}, \"get\": {\"description\": \"get the status / current content of a verification job\", \"operationId\": \"sign_retrieve\", \"parameters\": [{\"$ref\": \"#/parameters/JobID\"}], \"produces\": [\"application/json\", \"application/jwt\"], \"responses\": {\"200\": {\"description\": \"Successful response (JWT)\", \"schema\": {\"properties\": {\"exp\": {\"type\": \"integer\"}, \"field\": {\"type\": \"string\"}, \"sub\": {\"description\": \"base64safe encoded public signing key\", \"type\": \"string\"}}, \"title\": \"JWT\", \"type\": \"object\"}}, \"204\": {\"description\": \"Confirmed, waiting for signing\"}, \"404\": {\"description\": \"Job not found `unknown-job`\", \"schema\": {\"$ref\": \"#/definitions/Error\"}}, \"default\": {\"$ref\": \"#/responses/ErrorResponse\"}}, \"tags\": [\"scope\", \"get\"]}, \"head\": {\"description\": \"HEAD to get the status of a verification job\", \"operationId\": \"sign_retrieve_head\", \"parameters\": [{\"$ref\": \"#/parameters/JobID\"}], \"produces\": [\"application/json\"], \"responses\": {\"200\": {\"description\": \"Confirmed and signed\"}, \"204\": {\"description\": \"Confirmed, waiting for signing\"}, \"404\": {\"description\": \"Job not found `unknown-job`\", \"schema\": {\"$ref\": \"#/definitions/Error\"}}, \"default\": {\"$ref\": \"#/responses/ErrorResponse\"}}, \"tags\": [\"scope\", \"head\"]}, \"post\": {\"consumes\": [\"application/json\"], \"description\": \"this is a scope confirmation\", \"operationId\": \"sign_confirm\", \"parameters\": [{\"$ref\": \"#/parameters/JobID\"}], \"produces\": [\"application/json\"], \"responses\": {\"202\": {\"description\": \"Successfully confirmed\", \"schema\": {\"properties\": {\"status\": {\"description\": \"confirmed\", \"type\": \"string\"}}, \"type\": \"object\"}}, \"401\": {\"description\": \"Confirmation error `auth-error`\", \"schema\": {\"$ref\": \"#/definitions/Error\"}}, \"404\": {\"description\": \"Job not found `unknown-job`\", \"schema\": {\"$ref\": \"#/definitions/Error\"}}, \"405\": {\"description\": \"JWT POSTed to scope `not-supported`\", \"schema\": {\"$ref\": \"#/definitions/Error\"}}, \"default\": {\"$ref\": \"#/responses/ErrorResponse\"}}, \"tags\": [\"scope\", \"post\"]}, \"put\": {\"consumes\": [\"application/jwt\"], \"description\": \"authority updates a JWT with its signature\\\\nSee: https://github.com/skion/authentiq/wiki/JWT-Examples\\\\n\", \"operationId\": \"sign_update\", \"parameters\": [{\"$ref\": \"#/parameters/JobID\"}], \"produces\": [\"application/jwt\"], \"responses\": {\"200\": {\"description\": \"Successfully updated\", \"schema\": {\"properties\": {\"jwt\": {\"description\": \"result is JWT or JSON??\", \"type\": \"string\"}, \"status\": {\"description\": \"ready\", \"type\": \"string\"}}, \"type\": \"object\"}}, \"404\": {\"description\": \"Job not found `unknown-job`\", \"schema\": {\"$ref\": \"#/definitions/Error\"}}, \"409\": {\"description\": \"Job not confirmed yet `confirm-first`\", \"schema\": {\"$ref\": \"#/definitions/Error\"}}, \"default\": {\"$ref\": \"#/responses/ErrorResponse\"}}, \"tags\": [\"scope\", \"put\"]}}}, \"definitions\": {\"AuthentiqID\": {\"description\": \"Authentiq ID in JWT format, self-signed.\\\\n\", \"properties\": {\"devtoken\": {\"description\": \"device token for push messages\", \"type\": \"string\"}, \"sub\": {\"description\": \"UUID and public signing key\", \"type\": \"string\"}}, \"required\": [\"sub\"]}, \"Claims\": {\"description\": \"Claim in JWT format, self- or issuer-signed. \\\\n\", \"properties\": {\"email\": {\"description\": \"\", \"type\": \"string\"}, \"phone\": {\"description\": \"\", \"type\": \"string\"}, \"scope\": {\"description\": \"claim scope\", \"type\": \"string\"}, \"sub\": {\"description\": \"UUID\", \"type\": \"string\"}, \"type\": {\"description\": \"\", \"type\": \"string\"}}, \"required\": [\"sub\", \"scope\"]}, \"Error\": {\"properties\": {\"detail\": {\"type\": \"string\"}, \"error\": {\"type\": \"integer\"}, \"title\": {\"type\": \"string\"}, \"type\": {\"description\": \"unique uri for this error\", \"type\": \"string\"}}, \"required\": [\"error\"]}, \"PushToken\": {\"description\": \"PushToken in JWT format, self-signed. \\\\n\", \"properties\": {\"aud\": {\"description\": \"audience (URI)\", \"type\": \"string\"}, \"exp\": {\"type\": \"integer\"}, \"iat\": {\"type\": \"integer\"}, \"iss\": {\"description\": \"issuer (URI)\", \"type\": \"string\"}, \"nbf\": {\"type\": \"integer\"}, \"sub\": {\"description\": \"UUID and public signing key\", \"type\": \"string\"}}, \"required\": [\"sub\", \"iss\", \"aud\"]}}}'"
            ]
          },
          "metadata": {
            "tags": []
          },
          "execution_count": 27
        }
      ]
    },
    {
      "metadata": {
        "id": "d7iwYpbNOyir",
        "colab_type": "text"
      },
      "cell_type": "markdown",
      "source": [
        "## Preprocessing\n",
        "In this part of the notebook we are going to preprocess the data itself. The data will be tokenized, preprocessed and stored as Training and Test sets"
      ]
    },
    {
      "metadata": {
        "id": "CuGZRu7DqDEX",
        "colab_type": "code",
        "colab": {}
      },
      "cell_type": "code",
      "source": [
        "from keras.preprocessing.text import Tokenizer"
      ],
      "execution_count": 0,
      "outputs": []
    },
    {
      "metadata": {
        "id": "u1C6_30s9H3F",
        "colab_type": "text"
      },
      "cell_type": "markdown",
      "source": [
        "Once fit, the Tokenizer provides 4 attributes that you can use to query what has been learned about your documents:\n",
        "\n",
        "*   word_counts: A dictionary of words and their counts.\n",
        "*   word_docs: A dictionary of words and how many documents each appeared in.\n",
        "*   word_index: A dictionary of words and their uniquely assigned integers.\n",
        "*   document_count:An integer count of the total number of documents that were used to fit the Tokenizer.\n",
        "\n",
        "\n",
        "[source](https://machinelearningmastery.com/prepare-text-data-deep-learning-keras/)\n"
      ]
    },
    {
      "metadata": {
        "id": "kUGDglE0qLI_",
        "colab_type": "code",
        "colab": {}
      },
      "cell_type": "code",
      "source": [
        "tokenizer = Tokenizer(num_words=20000,filters='!\"#$%&()*+,-/:;<=>?@[\\\\]^_`{|}~\\t\\n')\n",
        "\n",
        "tokenizer\n",
        "\n",
        "tokenizer.fit_on_texts(specs_json)\n",
        "\n",
        "tokenizer.word_index\n",
        "\n",
        "sequences = tokenizer.texts_to_sequences(specs_json)"
      ],
      "execution_count": 0,
      "outputs": []
    },
    {
      "metadata": {
        "id": "v2f2zF8IrqIx",
        "colab_type": "code",
        "colab": {
          "base_uri": "https://localhost:8080/",
          "height": 71
        },
        "outputId": "cbc5b4e6-0737-4697-c8b6-8740717165e2"
      },
      "cell_type": "code",
      "source": [
        "print(sequences[0])\n",
        "print(len(sequences))"
      ],
      "execution_count": 30,
      "outputs": [
        {
          "output_type": "stream",
          "text": [
            "[420, 370, 488, 42, 112, 501, 1248, 4020, 340, 476, 193, 476, 7, 86, 112, 2, 3313, 26, 75, 26, 8370, 4020, 92, 3912, 635, 63, 8887, 19, 889, 504, 5663, 19, 382, 2623, 86, 42, 932, 282, 329, 382, 112, 7215, 19, 407, 32, 420, 86, 112, 63, 370, 19, 783, 16, 19, 862, 200, 60, 73, 800, 4020, 46, 2, 46, 4020, 755, 2, 1047, 705, 103, 86, 112, 75, 47, 34, 39, 2, 8, 49, 6, 4020, 94, 46, 4020, 15, 80, 14868, 51, 3912, 4020, 14868, 46, 2, 4369, 49, 755, 2, 1047, 705, 103, 86, 112, 75, 47, 34, 39, 2, 8, 49, 6, 14868, 20, 71, 44, 3, 5, 3, 53, 94, 46, 8, 49, 6, 14868, 15, 95, 441, 550, 2527, 67, 4020, 51, 3912, 4020]\n",
            "1016\n"
          ],
          "name": "stdout"
        }
      ]
    },
    {
      "metadata": {
        "id": "NQVJqoAPsSeU",
        "colab_type": "code",
        "colab": {}
      },
      "cell_type": "code",
      "source": [
        "with open('pickle/processed_list.pickle', 'wb') as handle:\n",
        "    pickle.dump(sequences, handle, protocol=pickle.HIGHEST_PROTOCOL)"
      ],
      "execution_count": 0,
      "outputs": []
    },
    {
      "metadata": {
        "id": "y_ekZJG2thQz",
        "colab_type": "code",
        "colab": {}
      },
      "cell_type": "code",
      "source": [
        "wordindex = tokenizer.word_index"
      ],
      "execution_count": 0,
      "outputs": []
    },
    {
      "metadata": {
        "id": "HK6FjTZCtdMU",
        "colab_type": "code",
        "colab": {}
      },
      "cell_type": "code",
      "source": [
        "with open('pickle/word_index.pickle', 'wb') as handle:\n",
        "    pickle.dump(wordindex, handle, protocol=pickle.HIGHEST_PROTOCOL)"
      ],
      "execution_count": 0,
      "outputs": []
    },
    {
      "metadata": {
        "id": "KIKRoQqSs90M",
        "colab_type": "code",
        "colab": {
          "base_uri": "https://localhost:8080/",
          "height": 54
        },
        "outputId": "0085cd02-e2a4-4429-8500-8b2a3dde3ce1"
      },
      "cell_type": "code",
      "source": [
        "indexkeys = list(tokenizer.word_index.keys())\n",
        "print(indexkeys[0:100])"
      ],
      "execution_count": 35,
      "outputs": [
        {
          "output_type": "stream",
          "text": [
            "['the', 'description', 'type', 'ref', 'string', 'of', 'name', 'a', 'in', 'n', 'definitions', 'to', 'parameters', 'required', 'for', 'true', 'code', 'is', 'x', 'schema', 'properties', 'p', 'id', 'this', 'object', 'and', 'that', 'query', 'be', 'or', 'false', 'format', 'if', 'responses', 'integer', 'an', 'value', '.', '200', 'amz', 'you', 'https', 'not', 'items', 'path', 'get', 'api', 'with', 'list', 'number', 'tags', 'default', 'array', 'body', 'date', 'are', 'operationid', 'request', 'can', 'application', 'by', 'resource', 'version', 'user', 'li', 'on', 'time', 'error', 'response', 'token', 'example', 'specified', 'json', 'from', 'data', 'will', 'key', 'as', '1', 'all', 'only', 'status', 'set', 'boolean', 'enum', 'url', 'when', 'ms', 'use', 'information', 'subscriptions', 'title', 'security', 'summary', 'which', '0', 'used', 'limit', 'was', 'readonly']\n"
          ],
          "name": "stdout"
        }
      ]
    },
    {
      "metadata": {
        "id": "Rzm2l_r1uZT7",
        "colab_type": "code",
        "colab": {}
      },
      "cell_type": "code",
      "source": [
        "sequences_padded = pad_sequences(sequences)"
      ],
      "execution_count": 0,
      "outputs": []
    },
    {
      "metadata": {
        "id": "ikh2KhrEvMyL",
        "colab_type": "code",
        "colab": {
          "base_uri": "https://localhost:8080/",
          "height": 34
        },
        "outputId": "0d47ce2d-33da-4141-e061-7fd75a6e6d92"
      },
      "cell_type": "code",
      "source": [
        "len(sequences_padded[3])"
      ],
      "execution_count": 37,
      "outputs": [
        {
          "output_type": "execute_result",
          "data": {
            "text/plain": [
              "378739"
            ]
          },
          "metadata": {
            "tags": []
          },
          "execution_count": 37
        }
      ]
    },
    {
      "metadata": {
        "id": "F43wfoDBABDj",
        "colab_type": "text"
      },
      "cell_type": "markdown",
      "source": [
        "### Create training and test split of specs"
      ]
    },
    {
      "metadata": {
        "id": "vu0Z0uem_ffD",
        "colab_type": "code",
        "colab": {}
      },
      "cell_type": "code",
      "source": [
        "X_train = sequences_padded[:808]\n",
        "X_test = sequences_padded[808:]"
      ],
      "execution_count": 0,
      "outputs": []
    },
    {
      "metadata": {
        "id": "1kmqGTLh_kse",
        "colab_type": "code",
        "colab": {
          "base_uri": "https://localhost:8080/",
          "height": 51
        },
        "outputId": "766f6ae4-2750-4187-84d4-023500205c00"
      },
      "cell_type": "code",
      "source": [
        "print(len(X_train))\n",
        "print(len(X_test))"
      ],
      "execution_count": 52,
      "outputs": [
        {
          "output_type": "stream",
          "text": [
            "808\n",
            "208\n"
          ],
          "name": "stdout"
        }
      ]
    },
    {
      "metadata": {
        "id": "RmVTf9JF_si7",
        "colab_type": "code",
        "colab": {
          "base_uri": "https://localhost:8080/",
          "height": 51
        },
        "outputId": "d9e61460-bbb8-41d0-dba1-40c152df913c"
      },
      "cell_type": "code",
      "source": [
        "print(X_train[-1])\n",
        "print(X_test[0])"
      ],
      "execution_count": 53,
      "outputs": [
        {
          "output_type": "stream",
          "text": [
            "[   0    0    0 ... 1099    3   25]\n",
            "[  0   0   0 ...  84  14 193]\n"
          ],
          "name": "stdout"
        }
      ]
    },
    {
      "metadata": {
        "id": "qu6M-wyDAFiK",
        "colab_type": "code",
        "colab": {}
      },
      "cell_type": "code",
      "source": [
        "with open('pickle/X_train.pickle', 'wb') as handle:\n",
        "    pickle.dump(X_train, handle, protocol=pickle.HIGHEST_PROTOCOL)"
      ],
      "execution_count": 0,
      "outputs": []
    },
    {
      "metadata": {
        "id": "937wmhooAGrw",
        "colab_type": "code",
        "colab": {}
      },
      "cell_type": "code",
      "source": [
        "with open('pickle/X_test.pickle', 'wb') as handle:\n",
        "    pickle.dump(X_test, handle, protocol=pickle.HIGHEST_PROTOCOL)"
      ],
      "execution_count": 0,
      "outputs": []
    },
    {
      "metadata": {
        "id": "VBOUFbcnvdqd",
        "colab_type": "code",
        "colab": {}
      },
      "cell_type": "code",
      "source": [
        "with open('pickle/sequence_padded.pickle', 'wb') as handle:\n",
        "    pickle.dump(sequences_padded, handle, protocol=pickle.HIGHEST_PROTOCOL)"
      ],
      "execution_count": 0,
      "outputs": []
    },
    {
      "metadata": {
        "id": "XcdTm3h8v5cS",
        "colab_type": "text"
      },
      "cell_type": "markdown",
      "source": [
        "## Model Architecture\n",
        "In this section of the notebook the actual deep learning model is designed and the architecture presented before the actual training of it will take place."
      ]
    },
    {
      "metadata": {
        "id": "Jd7dTA9vASip",
        "colab_type": "code",
        "colab": {}
      },
      "cell_type": "code",
      "source": [
        "model = Sequential()\n",
        "model.add(Embedding(20000, 128, input_length=378739))\n",
        "model.add(LSTM(128, dropout=0.2, recurrent_dropout=0.2))\n",
        "model.add(Dense(6, activation='softmax'))\n",
        "model.compile(optimizer='rmsprop',\n",
        "              loss='categorical_crossentropy',\n",
        "              metrics=['accuracy'])"
      ],
      "execution_count": 0,
      "outputs": []
    },
    {
      "metadata": {
        "id": "7RJGHv4wBLtm",
        "colab_type": "code",
        "colab": {
          "base_uri": "https://localhost:8080/",
          "height": 255
        },
        "outputId": "74cef42b-d5b4-4d3a-9ac9-5530b86fd399"
      },
      "cell_type": "code",
      "source": [
        "print(model.summary())"
      ],
      "execution_count": 57,
      "outputs": [
        {
          "output_type": "stream",
          "text": [
            "_________________________________________________________________\n",
            "Layer (type)                 Output Shape              Param #   \n",
            "=================================================================\n",
            "embedding_1 (Embedding)      (None, 378739, 128)       2560000   \n",
            "_________________________________________________________________\n",
            "lstm_1 (LSTM)                (None, 128)               131584    \n",
            "_________________________________________________________________\n",
            "dense_1 (Dense)              (None, 6)                 774       \n",
            "=================================================================\n",
            "Total params: 2,692,358\n",
            "Trainable params: 2,692,358\n",
            "Non-trainable params: 0\n",
            "_________________________________________________________________\n",
            "None\n"
          ],
          "name": "stdout"
        }
      ]
    }
  ]
}