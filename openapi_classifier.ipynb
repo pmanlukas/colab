{
  "nbformat": 4,
  "nbformat_minor": 0,
  "metadata": {
    "colab": {
      "name": "openapi-classifier.ipynb",
      "version": "0.3.2",
      "provenance": [],
      "collapsed_sections": []
    },
    "kernelspec": {
      "name": "python3",
      "display_name": "Python 3"
    },
    "accelerator": "GPU"
  },
  "cells": [
    {
      "cell_type": "markdown",
      "metadata": {
        "id": "view-in-github",
        "colab_type": "text"
      },
      "source": [
        "[View in Colaboratory](https://colab.research.google.com/github/pmanlukas/colab/blob/master/openapi_classifier.ipynb)"
      ]
    },
    {
      "metadata": {
        "id": "RlJFXtFWandL",
        "colab_type": "text"
      },
      "cell_type": "markdown",
      "source": [
        "# openAPI spec classifier\n",
        "This notebook is used to create a first proof of concept on a classifier for openAPI files. The classifier will be based on a neural network based architecture and will be implemented in Tensorflow, SciPy and Keras."
      ]
    },
    {
      "metadata": {
        "id": "sp4kSQncaqEY",
        "colab_type": "code",
        "colab": {
          "base_uri": "https://localhost:8080/",
          "height": 126
        },
        "outputId": "bf65e46a-6af7-42f6-ad59-5373d1d4faa1"
      },
      "cell_type": "code",
      "source": [
        "# Install a Drive FUSE wrapper.\n",
        "# https://github.com/astrada/google-drive-ocamlfuse\n",
        "!apt-get install -y -qq software-properties-common python-software-properties module-init-tools\n",
        "!add-apt-repository -y ppa:alessandro-strada/ppa 2>&1 > /dev/null\n",
        "!apt-get update -qq 2>&1 > /dev/null\n",
        "!apt-get -y install -qq google-drive-ocamlfuse fuse"
      ],
      "execution_count": 8,
      "outputs": [
        {
          "output_type": "stream",
          "text": [
            "gpg: keybox '/tmp/tmpwk5physc/pubring.gpg' created\n",
            "gpg: /tmp/tmpwk5physc/trustdb.gpg: trustdb created\n",
            "gpg: key AD5F235DF639B041: public key \"Launchpad PPA for Alessandro Strada\" imported\n",
            "gpg: Total number processed: 1\n",
            "gpg:               imported: 1\n",
            "Warning: apt-key output should not be parsed (stdout is not a terminal)\n"
          ],
          "name": "stdout"
        }
      ]
    },
    {
      "metadata": {
        "id": "5W9g2Zp9a45h",
        "colab_type": "code",
        "colab": {}
      },
      "cell_type": "code",
      "source": [
        "# Generate auth tokens for Colab\n",
        "from google.colab import auth\n",
        "auth.authenticate_user()"
      ],
      "execution_count": 0,
      "outputs": []
    },
    {
      "metadata": {
        "id": "b2uG7hEra8k9",
        "colab_type": "code",
        "colab": {
          "base_uri": "https://localhost:8080/",
          "height": 35
        },
        "outputId": "4466ed76-9efc-4ac8-b94c-f7fca7353931"
      },
      "cell_type": "code",
      "source": [
        "# Generate creds for the Drive FUSE library.\n",
        "from oauth2client.client import GoogleCredentials\n",
        "creds = GoogleCredentials.get_application_default()\n",
        "import getpass\n",
        "!google-drive-ocamlfuse -headless -id={creds.client_id} -secret={creds.client_secret} < /dev/null 2>&1 | grep URL\n",
        "vcode = getpass.getpass()\n",
        "!echo {vcode} | google-drive-ocamlfuse -headless -id={creds.client_id} -secret={creds.client_secret}"
      ],
      "execution_count": 6,
      "outputs": [
        {
          "output_type": "stream",
          "text": [
            "··········\n"
          ],
          "name": "stdout"
        }
      ]
    },
    {
      "metadata": {
        "id": "63mVwUIrbEwM",
        "colab_type": "code",
        "colab": {
          "base_uri": "https://localhost:8080/",
          "height": 54
        },
        "outputId": "f64210e6-5928-4371-e84e-e16b881bd960"
      },
      "cell_type": "code",
      "source": [
        "# Create a directory and mount Google Drive using that directory.\n",
        "!mkdir -p drive\n",
        "!google-drive-ocamlfuse drive"
      ],
      "execution_count": 7,
      "outputs": [
        {
          "output_type": "stream",
          "text": [
            "fuse: mountpoint is not empty\r\n",
            "fuse: if you are sure this is safe, use the 'nonempty' mount option\r\n"
          ],
          "name": "stdout"
        }
      ]
    },
    {
      "metadata": {
        "id": "-hOy5JgWbF9t",
        "colab_type": "code",
        "colab": {}
      },
      "cell_type": "code",
      "source": [
        "# Create a folder to use for the project data\n",
        "!mkdir -p /content/drive/openapi-data/"
      ],
      "execution_count": 0,
      "outputs": []
    },
    {
      "metadata": {
        "id": "kVcmQOfWbII1",
        "colab_type": "code",
        "colab": {
          "base_uri": "https://localhost:8080/",
          "height": 90
        },
        "outputId": "9c70ba9d-d401-4055-b2bf-d2449b13e3e0"
      },
      "cell_type": "code",
      "source": [
        "!ls /content/drive/openapi-data/"
      ],
      "execution_count": 10,
      "outputs": [
        {
          "output_type": "stream",
          "text": [
            "glove.6B.zip\t\t path_labels.csv\t   structure_labels.csv\r\n",
            "mnist.py\t\t pickle\t\t\t   weights.best.hdf5\r\n",
            "new_path_labels0518.csv  PoC Classifier Path.odt   wordvector\r\n",
            "path_labels0518.csv\t structure_labels0518.csv\r\n"
          ],
          "name": "stdout"
        }
      ]
    },
    {
      "metadata": {
        "id": "uiZtaLU9bLc4",
        "colab_type": "code",
        "colab": {}
      },
      "cell_type": "code",
      "source": [
        "!pip install -q keras\n",
        "!pip install -q graphviz\n",
        "import keras\n",
        "import graphviz"
      ],
      "execution_count": 0,
      "outputs": []
    },
    {
      "metadata": {
        "id": "jnC7eg1VbQxv",
        "colab_type": "code",
        "colab": {
          "base_uri": "https://localhost:8080/",
          "height": 35
        },
        "outputId": "7c43027a-be5b-45be-e6b9-7223e052a3d3"
      },
      "cell_type": "code",
      "source": [
        "import tensorflow as tf\n",
        "tf.test.gpu_device_name()"
      ],
      "execution_count": 12,
      "outputs": [
        {
          "output_type": "execute_result",
          "data": {
            "text/plain": [
              "'/device:GPU:0'"
            ]
          },
          "metadata": {
            "tags": []
          },
          "execution_count": 12
        }
      ]
    },
    {
      "metadata": {
        "id": "XymyVRyfbYv1",
        "colab_type": "code",
        "colab": {}
      },
      "cell_type": "code",
      "source": [
        "import os\n",
        "os.chdir(\"drive/openapi-data\")"
      ],
      "execution_count": 0,
      "outputs": []
    },
    {
      "metadata": {
        "id": "E6hH0iysbZvS",
        "colab_type": "code",
        "colab": {
          "base_uri": "https://localhost:8080/",
          "height": 90
        },
        "outputId": "f7f42ea7-94c5-404f-98ef-bf8d173a34f7"
      },
      "cell_type": "code",
      "source": [
        "!ls"
      ],
      "execution_count": 14,
      "outputs": [
        {
          "output_type": "stream",
          "text": [
            "glove.6B.zip\t\t path_labels.csv\t   structure_labels.csv\r\n",
            "mnist.py\t\t pickle\t\t\t   weights.best.hdf5\r\n",
            "new_path_labels0518.csv  PoC Classifier Path.odt   wordvector\r\n",
            "path_labels0518.csv\t structure_labels0518.csv\r\n"
          ],
          "name": "stdout"
        }
      ]
    },
    {
      "metadata": {
        "id": "sOCjn2JhSmEz",
        "colab_type": "text"
      },
      "cell_type": "markdown",
      "source": [
        "## Import Data Sets"
      ]
    },
    {
      "metadata": {
        "id": "hceoBAYuboKP",
        "colab_type": "code",
        "colab": {}
      },
      "cell_type": "code",
      "source": [
        "import pickle"
      ],
      "execution_count": 0,
      "outputs": []
    },
    {
      "metadata": {
        "id": "GCgYSYzEbc3o",
        "colab_type": "code",
        "colab": {}
      },
      "cell_type": "code",
      "source": [
        "training_data = dict()\n",
        "\n",
        "with open('pickle/specjson210518.pkl', 'rb') as handle:\n",
        "    training_data = pickle.load(handle)"
      ],
      "execution_count": 0,
      "outputs": []
    },
    {
      "metadata": {
        "id": "OZusz8beSbcY",
        "colab_type": "code",
        "colab": {}
      },
      "cell_type": "code",
      "source": [
        "cat_data = dict()\n",
        "\n",
        "with open('pickle/spec_category0518.pkl', 'rb') as handle:\n",
        "    cat_data = pickle.load(handle)"
      ],
      "execution_count": 0,
      "outputs": []
    },
    {
      "metadata": {
        "id": "FhYIpdaBSkKY",
        "colab_type": "code",
        "colab": {}
      },
      "cell_type": "code",
      "source": [
        "cat_label = dict()\n",
        "\n",
        "with open('pickle/categories_dict0518.pkl', 'rb') as handle:\n",
        "    cat_label = pickle.load(handle)"
      ],
      "execution_count": 0,
      "outputs": []
    },
    {
      "metadata": {
        "id": "lhrdZLcvb6Zy",
        "colab_type": "code",
        "colab": {}
      },
      "cell_type": "code",
      "source": [
        "keys = list(training_data.keys())"
      ],
      "execution_count": 0,
      "outputs": []
    },
    {
      "metadata": {
        "id": "Jcs3abVAcBog",
        "colab_type": "code",
        "colab": {
          "base_uri": "https://localhost:8080/",
          "height": 635
        },
        "outputId": "ac4a9148-3a4c-4d3f-c812-5ee693c5da59"
      },
      "cell_type": "code",
      "source": [
        "training_data[keys[0]]"
      ],
      "execution_count": 21,
      "outputs": [
        {
          "output_type": "execute_result",
          "data": {
            "text/plain": [
              "{'basePath': '/forex-quotes',\n",
              " 'host': '1forge.com',\n",
              " 'info': {'contact': {'email': 'contact@1forge.com',\n",
              "   'name': '1Forge',\n",
              "   'url': 'http://1forge.com'},\n",
              "  'description': 'Stock and Forex Data and Realtime Quotes',\n",
              "  'title': '1Forge Finance APIs',\n",
              "  'version': '0.0.1',\n",
              "  'x-apisguru-categories': ['financial'],\n",
              "  'x-logo': {'backgroundColor': '#24292e',\n",
              "   'url': 'https://api.apis.guru/v2/cache/logo/http_1forge.com_logo.png'},\n",
              "  'x-origin': [{'format': 'swagger',\n",
              "    'url': 'http://1forge.com/openapi.json',\n",
              "    'version': '2.0'}],\n",
              "  'x-preferred': True,\n",
              "  'x-providerName': '1forge.com'},\n",
              " 'paths': {'/quotes': {'get': {'description': 'Get quotes',\n",
              "    'externalDocs': {'description': 'Find out more',\n",
              "     'url': 'http://1forge.com/forex-data-api'},\n",
              "    'responses': {'200': {'description': 'A list of quotes'}},\n",
              "    'summary': 'Get quotes for all symbols',\n",
              "    'tags': ['forex', 'finance', 'quotes']}},\n",
              "  '/symbols': {'get': {'description': 'Symbol List',\n",
              "    'externalDocs': {'description': 'Find out more',\n",
              "     'url': 'http://1forge.com/forex-data-api'},\n",
              "    'responses': {'200': {'description': 'A list of symbols',\n",
              "      'schema': {'example': ['EURUSD', 'GBPJPY', 'AUDUSD'],\n",
              "       'items': {'type': 'string'},\n",
              "       'type': 'array'}}},\n",
              "    'summary': 'Get a list of symbols for which we provide real-time quotes',\n",
              "    'tags': ['forex', 'finance', 'quotes']}}},\n",
              " 'produces': ['application/json'],\n",
              " 'schemes': ['https', 'http'],\n",
              " 'swagger': '2.0'}"
            ]
          },
          "metadata": {
            "tags": []
          },
          "execution_count": 21
        }
      ]
    },
    {
      "metadata": {
        "id": "OF9qnLugK4Zm",
        "colab_type": "code",
        "colab": {}
      },
      "cell_type": "code",
      "source": [
        "from collections import Counter\n",
        "from datetime import datetime\n",
        " \n",
        "import json\n",
        " \n",
        "from keras.layers import Embedding, LSTM, Dense, Conv1D, MaxPooling1D, Dropout, Activation\n",
        "from keras.models import Sequential\n",
        "from keras.preprocessing.text import Tokenizer\n",
        "from keras.preprocessing.sequence import pad_sequences\n",
        " \n",
        "import numpy as np\n",
        "import pandas as pd"
      ],
      "execution_count": 0,
      "outputs": []
    },
    {
      "metadata": {
        "id": "CWOUwgz9c8mM",
        "colab_type": "code",
        "colab": {
          "base_uri": "https://localhost:8080/",
          "height": 90
        },
        "outputId": "28893b4b-13e9-4c04-abc6-1e7b718bc62e"
      },
      "cell_type": "code",
      "source": [
        "!ls"
      ],
      "execution_count": 23,
      "outputs": [
        {
          "output_type": "stream",
          "text": [
            "glove.6B.zip\t\t path_labels.csv\t   structure_labels.csv\r\n",
            "mnist.py\t\t pickle\t\t\t   weights.best.hdf5\r\n",
            "new_path_labels0518.csv  PoC Classifier Path.odt   wordvector\r\n",
            "path_labels0518.csv\t structure_labels0518.csv\r\n"
          ],
          "name": "stdout"
        }
      ]
    },
    {
      "metadata": {
        "id": "KNa_vAVhS-QC",
        "colab_type": "text"
      },
      "cell_type": "markdown",
      "source": [
        "### prepare labels and text"
      ]
    },
    {
      "metadata": {
        "id": "138mgUsucOaE",
        "colab_type": "code",
        "colab": {}
      },
      "cell_type": "code",
      "source": [
        "labelsP = pd.read_csv(\"path_labels0518.csv\").values\n",
        "labelsS  = pd.read_csv(\"structure_labels0518.csv\").values"
      ],
      "execution_count": 0,
      "outputs": []
    },
    {
      "metadata": {
        "id": "yImmvogXS1Hc",
        "colab_type": "code",
        "colab": {
          "base_uri": "https://localhost:8080/",
          "height": 72
        },
        "outputId": "5847f186-a9f5-483b-9388-ed9d7b1bd96c"
      },
      "cell_type": "code",
      "source": [
        "labelsPath = list()\n",
        "labelsStruct = list()\n",
        "labelsCat = list()\n",
        "\n",
        "for labs in labelsS:\n",
        "  labelsStruct.append(labs[1])\n",
        "\n",
        "for labp in labelsP:\n",
        "  labelsPath.append(labp[1])\n",
        "  \n",
        "for labc in cat_label:\n",
        "  labelsCat.append(cat_label[labc])\n",
        "  \n",
        "print(str(len(labelsPath)))\n",
        "print(str(len(labelsStruct)))\n",
        "print(str(len(labelsCat)))"
      ],
      "execution_count": 25,
      "outputs": [
        {
          "output_type": "stream",
          "text": [
            "1034\n",
            "1034\n",
            "944\n"
          ],
          "name": "stdout"
        }
      ]
    },
    {
      "metadata": {
        "id": "ai2Al-d9S3WC",
        "colab_type": "code",
        "colab": {
          "base_uri": "https://localhost:8080/",
          "height": 35
        },
        "outputId": "5f4955d6-3f05-45b9-88d3-cc573aadd4a2"
      },
      "cell_type": "code",
      "source": [
        "texts = []   # list of text samples\n",
        "for spec in training_data:\n",
        "  strJson = json.dumps(training_data[spec])\n",
        "  texts.append(strJson)\n",
        "\n",
        "print(str(len(texts)))"
      ],
      "execution_count": 156,
      "outputs": [
        {
          "output_type": "stream",
          "text": [
            "1034\n"
          ],
          "name": "stdout"
        }
      ]
    },
    {
      "metadata": {
        "id": "ovvC-AG9KryD",
        "colab_type": "code",
        "colab": {
          "base_uri": "https://localhost:8080/",
          "height": 35
        },
        "outputId": "6f9b41f7-a073-4f43-f7f6-d1a6d9e6d145"
      },
      "cell_type": "code",
      "source": [
        "\n",
        "texts_cat = []   # list of text samples\n",
        "for cat in cat_data:\n",
        "  strJson = json.dumps(cat_data[cat])\n",
        "  texts_cat.append(strJson)\n",
        "\n",
        "print(str(len(texts_cat)))"
      ],
      "execution_count": 157,
      "outputs": [
        {
          "output_type": "stream",
          "text": [
            "944\n"
          ],
          "name": "stdout"
        }
      ]
    },
    {
      "metadata": {
        "id": "p9Rqzzfe1jte",
        "colab_type": "text"
      },
      "cell_type": "markdown",
      "source": [
        "## test word embeddings"
      ]
    },
    {
      "metadata": {
        "id": "wZCUCyYu2LAY",
        "colab_type": "code",
        "colab": {
          "base_uri": "https://localhost:8080/",
          "height": 74
        },
        "outputId": "095e3818-c40b-47d1-9d97-299eaa16bd66"
      },
      "cell_type": "code",
      "source": [
        "print(type(texts[0]))\n",
        "print(texts[0])"
      ],
      "execution_count": 27,
      "outputs": [
        {
          "output_type": "stream",
          "text": [
            "<class 'str'>\n",
            "{\"swagger\": \"2.0\", \"schemes\": [\"https\", \"http\"], \"host\": \"1forge.com\", \"basePath\": \"/forex-quotes\", \"info\": {\"contact\": {\"email\": \"contact@1forge.com\", \"name\": \"1Forge\", \"url\": \"http://1forge.com\"}, \"description\": \"Stock and Forex Data and Realtime Quotes\", \"title\": \"1Forge Finance APIs\", \"version\": \"0.0.1\", \"x-apisguru-categories\": [\"financial\"], \"x-logo\": {\"backgroundColor\": \"#24292e\", \"url\": \"https://api.apis.guru/v2/cache/logo/http_1forge.com_logo.png\"}, \"x-origin\": [{\"format\": \"swagger\", \"url\": \"http://1forge.com/openapi.json\", \"version\": \"2.0\"}], \"x-preferred\": true, \"x-providerName\": \"1forge.com\"}, \"produces\": [\"application/json\"], \"paths\": {\"/quotes\": {\"get\": {\"description\": \"Get quotes\", \"externalDocs\": {\"description\": \"Find out more\", \"url\": \"http://1forge.com/forex-data-api\"}, \"responses\": {\"200\": {\"description\": \"A list of quotes\"}}, \"summary\": \"Get quotes for all symbols\", \"tags\": [\"forex\", \"finance\", \"quotes\"]}}, \"/symbols\": {\"get\": {\"description\": \"Symbol List\", \"externalDocs\": {\"description\": \"Find out more\", \"url\": \"http://1forge.com/forex-data-api\"}, \"responses\": {\"200\": {\"description\": \"A list of symbols\", \"schema\": {\"example\": [\"EURUSD\", \"GBPJPY\", \"AUDUSD\"], \"items\": {\"type\": \"string\"}, \"type\": \"array\"}}}, \"summary\": \"Get a list of symbols for which we provide real-time quotes\", \"tags\": [\"forex\", \"finance\", \"quotes\"]}}}}\n"
          ],
          "name": "stdout"
        }
      ]
    },
    {
      "metadata": {
        "id": "rakq7ROMTNxz",
        "colab_type": "code",
        "colab": {}
      },
      "cell_type": "code",
      "source": [
        "from sklearn import model_selection, preprocessing, linear_model\n",
        "\n",
        "#encoder for labels of category\n",
        "encoder = preprocessing.LabelEncoder()\n",
        "labelsCat = encoder.fit_transform(labelsCat)\n"
      ],
      "execution_count": 0,
      "outputs": []
    },
    {
      "metadata": {
        "id": "mHYSFCZYTWm4",
        "colab_type": "code",
        "colab": {
          "base_uri": "https://localhost:8080/",
          "height": 763
        },
        "outputId": "8a4d9ec9-6e1e-44ea-b167-4f66e8370546"
      },
      "cell_type": "code",
      "source": [
        "labelsC = labelsCat  # list of label ids\n",
        "print(type(labelsC))\n",
        "print(labelsC)"
      ],
      "execution_count": 154,
      "outputs": [
        {
          "output_type": "stream",
          "text": [
            "<class 'numpy.ndarray'>\n",
            "[11 23 13 16 21 21 21 11  6 31  2  2  2  2  2  2  2  2  2  2  2  2  2  2\n",
            "  2  2  2  2  2  2  2  2  2  2  2  2  2  2  2  2  2  2  2  2  2  2  2  2\n",
            "  2  2  2  2  2  2  2  2  2  2  2  2  2  2  2  2  2  2  2  2  2  2  2  2\n",
            "  2  2  2  2  2  2  2  2  2  2  2  2  2  2  2  2  2  2  2  2  2  2  2  2\n",
            "  2  2  2  2  2  2  2  2  2  2  2  2  2  2  2  2  2  2  2  2  2  2  2  2\n",
            "  2  2  2  2  2  2  2  2  2  2  2  2  2  2  2  2  2  2  2  2  2  2  2  2\n",
            "  2  2  2  2  2  5 18 29  6  6  5 20 28 28 28 28 28 28  5 28 28 28 28 28\n",
            " 28 28 28 28 28 28 28 28 28  5 22 22 17 11 20 23  3 31  2  2  2  2  2  2\n",
            "  2  2  2  2  2  2  2  2  2  2  2  2  2  2  2  2  2  2  2  2  2  2  2  2\n",
            "  2  2  2  2  2  2  2  2  2  2  2  2  2  2  2  2  2  2  2  2  2  2  2  2\n",
            "  2  2  2  2  2  2  2  2  2  2  2  2  2  2  2  2  2  2  2  2  2  2  2  2\n",
            "  2  2  2  2  2  2  2  2  2  2  2  2  2  2  2  2  2  2  2  2  2  2  2  2\n",
            "  2  2  2  2  2  2  2  2  2  2  2  2  2  2  2  2  2  2  2  2  2  2  2  2\n",
            "  2  2  2  2  2  2  2  2  2  2  2  2  2  2  2  2  2  2  2  2  2  2  2  2\n",
            "  2  2  2  2  2  2  2  2  2  2  2  2  2  2  2  2  2  2  2  2  2  2  2  2\n",
            "  2  2  2  2  2  2  2  2  2  2  2  2  2  2  2  2  2  2  2  2  2  2  2  2\n",
            "  2  2  2  2  2  2  2  2  2  2  2  2  2  2  2  2  2  2  2  2  2  2  2  2\n",
            "  2  2  2  2  2  2  2  2  2  2  2  2  2  2  2  2  2  2  2  2  2  2  2  2\n",
            "  2  2  2  2  2  2  2  2  2  2  2  2  2  2  2  2  2  2  2  2  2  2  2  2\n",
            "  2  2  2  2  2  2  2  2  2  2  2  2  2  2  2  2  2  2  2  2  2  2  2  2\n",
            "  2  2  2  2  2  2  2  2  2  2  2  2  2  2  2  2  2  2  2  2 17 17 17 20\n",
            " 21  6 10 20 20  5  5  5  0  2  2  2  2  6 11 30 24 27 17 27 20 17 17  5\n",
            " 18 23  3 20 22  2  7 16 28 11  5 11 20 20 20 15 17 31 31 31 31 31 31 28\n",
            "  5  6 12  2  6 13  6  6  6  6  6 11 20 20 20 20 20 20 20 20 17 20 25 10\n",
            " 10 10 10 10 10 10 10 10 10 10 10 10 10 10 10 10 10 10 10 10 10 10 10 10\n",
            " 10 10 10 10 10 10 10 20 20 17 17 28 17 28 14 28  5 17 17 14  3  5  0  0\n",
            "  0  5 22 24 17 29  7 23 19  6 22 25  5  2  2 16 16 25  1  1  1  1  2 24\n",
            " 24 24  8  2  2 23 23 22 28  9  2 16 15 19 23  1 30 24  5 17 24 24 15 13\n",
            " 18  1  1  9  1  2 23  2 22  2  2  2  2  5  2  5  1 27 15  1 25 25 14  0\n",
            "  1 29  5 28 30 25 17 15  5 22 17  0  0 20 20 20 20 20 20 20 20 20 14  3\n",
            " 24 10 10 10 10 20 20 20 17 11 17 27 13 20 30 30 30 30 30  8 24 24  7 20\n",
            " 18 17  6 16  6  6  6  5 20  5  7  6  6  6  6  6  6  5 14 31 31 14  6 11\n",
            "  8  5 20 17 14  2  2  2  2  2  2  2  2  2 28  2 16 11 11 17 20 13  5  2\n",
            "  8 11  3 17 20 20 20 17 17 17 17 17 17 17 17 17 17 17 27 27 20 17  5 11\n",
            " 14 20 20 11 27 20 20  9 22 28 31 15 23 11 11 11 17  9  9 20 11  8  8  8\n",
            " 31  6 20  5 21  6 20  6  2 24  4 17 15  5  4 20  8 28 24  8  6  3  3 13\n",
            "  6 17 17 21  3 14 24  5 11 14 11 20 20  5  5 17 28 21 11 31 17 18 17 14\n",
            " 31  3  2 17 27 26 24  9 14 11 20 16  5 22 17 30 20  6  6  6  6 12 14 18\n",
            "  0 14 20 10 10 10 10 10 10 12 17  2  2  8 18 31 31 31 31 31 28 28 17  5\n",
            " 11 17 11  6 17 27 18 11]\n"
          ],
          "name": "stdout"
        }
      ]
    },
    {
      "metadata": {
        "id": "MYP4cwna1reG",
        "colab_type": "code",
        "colab": {
          "base_uri": "https://localhost:8080/",
          "height": 74
        },
        "outputId": "99ce3631-99f1-4375-e283-a990c884dc61"
      },
      "cell_type": "code",
      "source": [
        "\n",
        "\n",
        "labels = labelsStruct  # list of label ids\n",
        "print(type(labels))\n",
        "print(labels)"
      ],
      "execution_count": 30,
      "outputs": [
        {
          "output_type": "stream",
          "text": [
            "<class 'list'>\n",
            "[1, 2, 3, 3, 1, 1, 1, 1, 1, 4, 3, 5, 5, 5, 5, 5, 5, 5, 5, 5, 5, 5, 5, 5, 5, 5, 5, 5, 5, 5, 5, 5, 5, 5, 5, 5, 5, 5, 5, 5, 5, 5, 5, 5, 5, 5, 5, 5, 5, 5, 5, 5, 5, 5, 5, 5, 5, 5, 5, 5, 5, 5, 5, 5, 5, 5, 5, 5, 5, 5, 5, 5, 5, 5, 5, 5, 5, 5, 5, 5, 5, 5, 5, 5, 5, 5, 5, 5, 5, 5, 5, 5, 5, 5, 5, 5, 5, 5, 5, 5, 5, 5, 5, 5, 5, 5, 5, 5, 5, 5, 5, 5, 5, 5, 5, 5, 5, 5, 5, 5, 5, 5, 5, 5, 5, 5, 5, 5, 5, 5, 5, 5, 5, 5, 5, 5, 5, 5, 5, 5, 5, 5, 5, 5, 5, 5, 5, 5, 5, 5, 3, 1, 4, 2, 1, 5, 3, 4, 4, 4, 4, 4, 4, 4, 4, 4, 4, 4, 4, 4, 4, 4, 4, 4, 4, 4, 4, 4, 4, 4, 4, 4, 4, 4, 4, 4, 4, 4, 4, 4, 4, 4, 4, 4, 4, 4, 4, 4, 4, 5, 1, 1, 3, 4, 2, 5, 3, 6, 7, 7, 7, 7, 7, 7, 7, 7, 7, 7, 7, 7, 7, 7, 7, 7, 7, 7, 7, 7, 7, 7, 7, 7, 7, 7, 7, 7, 7, 7, 7, 7, 7, 7, 7, 7, 7, 7, 7, 7, 7, 6, 6, 6, 6, 6, 6, 6, 6, 6, 6, 6, 6, 6, 6, 6, 6, 3, 3, 3, 6, 6, 6, 6, 7, 7, 7, 7, 7, 7, 7, 7, 7, 7, 7, 7, 7, 7, 7, 7, 7, 7, 7, 7, 7, 7, 6, 6, 6, 6, 6, 7, 7, 7, 7, 3, 3, 3, 6, 3, 3, 6, 7, 7, 7, 7, 7, 6, 7, 6, 6, 7, 7, 7, 7, 7, 7, 6, 7, 7, 7, 7, 7, 7, 7, 7, 7, 7, 7, 7, 7, 7, 7, 7, 7, 7, 7, 7, 7, 7, 7, 7, 7, 7, 7, 7, 7, 7, 7, 7, 7, 7, 7, 7, 7, 7, 6, 6, 6, 6, 6, 6, 6, 6, 6, 6, 6, 6, 6, 6, 6, 6, 6, 7, 7, 7, 7, 7, 7, 7, 7, 7, 7, 7, 7, 7, 7, 7, 7, 7, 7, 7, 7, 7, 7, 7, 7, 7, 6, 6, 7, 7, 7, 7, 6, 6, 6, 6, 6, 6, 6, 6, 6, 6, 6, 6, 7, 7, 7, 7, 7, 7, 7, 7, 7, 7, 7, 7, 7, 7, 7, 6, 7, 7, 7, 7, 7, 7, 1, 7, 7, 7, 7, 7, 7, 7, 7, 7, 7, 7, 7, 7, 7, 7, 7, 7, 7, 7, 7, 7, 7, 7, 7, 7, 7, 7, 7, 7, 7, 7, 7, 7, 7, 7, 7, 7, 7, 7, 7, 7, 7, 7, 7, 7, 7, 7, 6, 6, 6, 6, 6, 6, 6, 7, 7, 6, 6, 7, 6, 6, 6, 6, 6, 6, 6, 6, 6, 6, 6, 6, 6, 6, 6, 7, 4, 5, 5, 2, 1, 5, 1, 1, 3, 1, 5, 4, 1, 3, 4, 4, 4, 3, 4, 4, 3, 4, 4, 2, 5, 4, 3, 3, 5, 5, 3, 3, 3, 5, 5, 3, 4, 1, 3, 3, 6, 1, 5, 8, 3, 1, 8, 4, 1, 4, 3, 2, 1, 5, 1, 2, 1, 5, 4, 5, 4, 1, 3, 4, 3, 3, 3, 3, 3, 3, 1, 1, 1, 1, 1, 1, 1, 1, 3, 2, 8, 3, 3, 3, 3, 3, 3, 3, 3, 3, 3, 3, 3, 3, 3, 3, 3, 3, 3, 3, 3, 3, 3, 3, 3, 3, 3, 3, 3, 3, 3, 3, 3, 3, 4, 5, 1, 3, 2, 4, 3, 4, 8, 4, 4, 5, 3, 5, 2, 5, 3, 8, 8, 8, 2, 2, 8, 2, 8, 8, 8, 8, 8, 8, 8, 8, 8, 8, 8, 8, 8, 2, 8, 8, 8, 2, 8, 8, 8, 8, 8, 8, 8, 8, 8, 8, 8, 8, 8, 2, 8, 8, 8, 8, 8, 8, 8, 8, 8, 2, 8, 2, 8, 8, 8, 8, 8, 8, 2, 8, 8, 2, 2, 8, 8, 8, 8, 8, 2, 8, 8, 2, 8, 8, 2, 8, 8, 8, 8, 8, 8, 8, 8, 8, 8, 2, 2, 8, 8, 8, 2, 8, 8, 8, 2, 2, 2, 2, 8, 8, 8, 8, 8, 8, 8, 8, 8, 8, 2, 8, 8, 8, 8, 8, 8, 8, 8, 8, 2, 2, 2, 2, 8, 8, 8, 2, 8, 2, 8, 8, 8, 2, 8, 8, 8, 8, 2, 1, 2, 2, 3, 1, 1, 2, 2, 3, 1, 1, 1, 3, 3, 3, 3, 8, 1, 1, 2, 1, 1, 1, 1, 4, 6, 6, 8, 8, 8, 4, 4, 3, 1, 2, 1, 8, 3, 1, 2, 1, 2, 1, 1, 3, 3, 1, 5, 1, 3, 6, 3, 6, 6, 6, 2, 3, 6, 6, 3, 4, 1, 8, 4, 4, 3, 1, 3, 3, 3, 3, 1, 3, 1, 3, 3, 4, 4, 4, 1, 1, 1, 1, 4, 5, 4, 3, 3, 3, 3, 5, 3, 3, 1, 3, 3, 5, 5, 3, 5, 3, 3, 3, 3, 3, 1, 1, 1, 5, 5, 4, 1, 1, 3, 1, 4, 4, 3, 1, 1, 3, 1, 1, 3, 4, 4, 3, 1, 1, 1, 1, 3, 1, 3, 4, 4, 4, 1, 4, 4, 4, 5, 3, 4, 5, 4, 1, 3, 5, 1, 3, 8, 1, 4, 1, 1, 8, 1, 4, 3, 4, 1, 3, 3, 4, 5, 8, 6, 5, 8, 1, 3, 3, 3, 3, 1, 1, 1, 2, 3, 4, 8, 4, 5, 7, 4, 3, 4, 7, 3, 2, 3, 3, 8, 4, 1, 1, 1, 3, 4, 2, 1, 2, 1, 3, 4, 1, 1, 4, 1, 8, 1, 3, 2, 1, 4, 3, 3, 3, 3, 3, 1, 3, 2, 7, 7, 4, 3, 3, 3, 3, 3, 3, 3, 8, 5, 3, 4, 8, 4, 1, 4, 5, 4, 4]\n"
          ],
          "name": "stdout"
        }
      ]
    },
    {
      "metadata": {
        "id": "LxHTKn-6ylm6",
        "colab_type": "code",
        "colab": {
          "base_uri": "https://localhost:8080/",
          "height": 74
        },
        "outputId": "37947c32-76af-4e17-f648-2346b42cb1f3"
      },
      "cell_type": "code",
      "source": [
        "labelsP = labelsPath  # list of label ids\n",
        "print(type(labelsP))\n",
        "print(labelsP)"
      ],
      "execution_count": 31,
      "outputs": [
        {
          "output_type": "stream",
          "text": [
            "<class 'list'>\n",
            "[1, 2, 3, 4, 1, 5, 1, 6, 7, 8, 9, 4, 9, 4, 10, 11, 9, 3, 12, 9, 10, 13, 4, 4, 13, 9, 11, 10, 3, 12, 9, 12, 14, 4, 4, 3, 10, 3, 12, 12, 7, 4, 9, 10, 15, 14, 12, 12, 11, 10, 12, 10, 10, 3, 16, 12, 3, 10, 10, 9, 3, 3, 3, 4, 11, 1, 4, 4, 9, 9, 11, 12, 11, 10, 3, 13, 7, 13, 3, 11, 14, 14, 9, 9, 12, 12, 15, 1, 4, 9, 3, 12, 3, 11, 3, 3, 15, 4, 9, 2, 9, 14, 14, 2, 1, 4, 4, 3, 11, 4, 10, 10, 13, 14, 7, 11, 3, 9, 13, 10, 12, 15, 1, 11, 3, 9, 4, 2, 11, 12, 9, 9, 4, 3, 12, 7, 12, 11, 5, 2, 4, 3, 2, 1, 11, 11, 3, 3, 12, 2, 12, 13, 11, 11, 12, 8, 1, 8, 8, 1, 8, 8, 8, 8, 8, 15, 1, 8, 8, 8, 8, 8, 8, 1, 8, 8, 8, 8, 8, 8, 8, 6, 8, 8, 8, 8, 8, 8, 8, 8, 8, 17, 5, 8, 8, 5, 8, 8, 8, 3, 6, 1, 9, 10, 14, 5, 12, 14, 2, 2, 5, 12, 14, 14, 17, 2, 13, 14, 13, 14, 14, 1, 13, 14, 9, 14, 15, 5, 5, 8, 4, 13, 13, 14, 8, 15, 15, 17, 17, 6, 15, 14, 17, 8, 14, 9, 8, 13, 9, 13, 17, 17, 15, 17, 17, 14, 5, 15, 15, 13, 15, 8, 13, 9, 17, 15, 1, 1, 17, 6, 17, 14, 6, 8, 1, 1, 1, 1, 1, 14, 6, 1, 1, 1, 1, 1, 1, 1, 14, 1, 1, 1, 1, 1, 8, 15, 6, 17, 4, 9, 14, 12, 13, 5, 12, 4, 10, 1, 6, 1, 10, 17, 2, 6, 8, 8, 9, 5, 4, 17, 8, 5, 4, 3, 14, 3, 4, 12, 2, 9, 6, 4, 9, 11, 13, 5, 4, 12, 15, 15, 8, 5, 1, 14, 8, 14, 12, 4, 10, 8, 15, 13, 3, 13, 5, 5, 13, 2, 13, 17, 6, 13, 9, 12, 5, 14, 8, 1, 17, 17, 8, 8, 1, 15, 8, 17, 8, 8, 8, 6, 8, 5, 9, 10, 2, 17, 8, 8, 9, 9, 13, 13, 4, 8, 14, 13, 13, 8, 8, 2, 4, 17, 6, 4, 9, 2, 5, 9, 9, 13, 13, 9, 15, 1, 8, 13, 8, 12, 12, 13, 1, 8, 8, 11, 4, 12, 13, 17, 12, 15, 17, 2, 2, 6, 13, 5, 13, 13, 15, 2, 13, 8, 4, 4, 4, 3, 11, 5, 5, 6, 6, 15, 1, 1, 1, 8, 8, 1, 15, 8, 1, 1, 5, 1, 14, 17, 6, 5, 17, 6, 6, 14, 15, 8, 6, 8, 17, 15, 1, 15, 15, 17, 15, 14, 1, 13, 14, 13, 5, 5, 1, 15, 2, 13, 10, 5, 14, 14, 5, 8, 6, 17, 9, 13, 15, 2, 9, 12, 4, 8, 14, 8, 2, 8, 2, 6, 5, 2, 6, 16, 5, 16, 10, 4, 4, 5, 2, 7, 8, 14, 3, 15, 7, 2, 12, 3, 8, 11, 1, 5, 12, 4, 2, 9, 13, 11, 11, 2, 15, 16, 12, 3, 4, 3, 9, 4, 2, 6, 9, 16, 12, 11, 8, 15, 1, 14, 2, 1, 6, 10, 2, 2, 6, 1, 15, 17, 13, 15, 15, 9, 11, 16, 8, 7, 5, 2, 15, 6, 6, 17, 17, 4, 2, 2, 12, 3, 2, 5, 2, 5, 4, 2, 12, 13, 9, 13, 2, 1, 15, 1, 6, 6, 2, 4, 14, 1, 6, 6, 6, 2, 4, 6, 13, 1, 6, 15, 4, 3, 1, 6, 2, 4, 6, 9, 4, 11, 4, 3, 4, 5, 1, 12, 1, 13, 16, 9, 12, 5, 12, 13, 14, 7, 16, 15, 1, 3, 3, 4, 15, 13, 3, 12, 10, 1, 12, 10, 9, 3, 3, 1, 5, 4, 9, 3, 10, 3, 13, 13, 3, 9, 9, 2, 13, 9, 9, 4, 13, 12, 17, 4, 15, 12, 16, 9, 10, 11, 15, 3, 9, 4, 4, 7, 15, 15, 4, 9, 2, 9, 3, 5, 6, 2, 4, 9, 12, 10, 9, 3, 10, 10, 1, 15, 4, 12, 1, 13, 13, 4, 14, 12, 4, 12, 5, 5, 1, 4, 9, 1, 13, 9, 4, 5, 2, 4, 12, 1, 9, 9, 4, 9, 17, 2, 4, 1, 2, 13, 12, 13, 5, 4, 13, 13, 13, 12, 13, 14, 3, 3, 2, 2, 9, 3, 13, 9, 13, 12, 9, 5, 5, 17, 4, 1, 14, 1, 9, 10, 13, 2, 9, 2, 2, 5, 13, 17, 4, 15, 13, 1, 14, 17, 15, 12, 6, 4, 15, 2, 9, 9, 4, 13, 9, 9, 5, 2, 10, 11, 1, 8, 8, 1, 15, 5, 2, 4, 5, 3, 5, 2, 7, 10, 14, 10, 13, 1, 18, 1, 12, 12, 12, 9, 14, 12, 8, 8, 14, 15, 2, 2, 2, 16, 5, 11, 2, 3, 17, 17, 8, 8, 6, 6, 15, 8, 12, 6, 8, 1, 12, 4, 15, 11, 3, 7, 17, 9, 12, 10, 4, 2, 3, 9, 1, 15, 15, 8, 8, 13, 5, 8, 14, 6, 1, 8, 6, 8, 1, 6, 13, 8, 14, 13, 8, 5, 12, 9, 13, 4, 14, 11, 16, 13, 4, 8, 13, 1, 2, 9, 5, 16, 17, 8, 14, 8, 13, 9, 3, 4, 9, 13, 9, 5, 11, 4, 15, 7, 3, 2, 13, 9, 2, 4, 3, 14, 6, 8, 12, 7, 3, 15, 7, 11, 13, 4, 9, 8, 15, 5, 12, 10, 7, 4, 2, 5, 9, 8, 7, 15, 1, 5, 9, 5, 13, 12, 14, 11, 2, 4, 4, 3, 17, 16, 12, 4, 11, 3, 11, 9, 3, 13, 12, 4, 3, 3, 11, 13, 12, 1, 14, 5, 1, 3, 2, 15, 4, 3, 14, 17, 14, 17, 8, 15, 2, 1, 12, 10, 12, 6, 5, 1, 13, 14, 1, 2, 1, 4, 11, 1, 7, 1, 9, 9, 5, 11, 12, 16]\n"
          ],
          "name": "stdout"
        }
      ]
    },
    {
      "metadata": {
        "id": "H7NZ5Egg3xi-",
        "colab_type": "code",
        "colab": {
          "base_uri": "https://localhost:8080/",
          "height": 145
        },
        "outputId": "df04554e-3ef2-4acd-98f6-3ac1c3fb903c"
      },
      "cell_type": "code",
      "source": [
        "from sklearn.preprocessing import LabelBinarizer, LabelEncoder\n",
        "\n",
        "encoder = LabelBinarizer()\n",
        "encoder.fit(labels)\n",
        "y_train = encoder.transform(labels)\n",
        "\n",
        "y_train"
      ],
      "execution_count": 32,
      "outputs": [
        {
          "output_type": "execute_result",
          "data": {
            "text/plain": [
              "array([[1, 0, 0, ..., 0, 0, 0],\n",
              "       [0, 1, 0, ..., 0, 0, 0],\n",
              "       [0, 0, 1, ..., 0, 0, 0],\n",
              "       ...,\n",
              "       [0, 0, 0, ..., 0, 0, 0],\n",
              "       [0, 0, 0, ..., 0, 0, 0],\n",
              "       [0, 0, 0, ..., 0, 0, 0]])"
            ]
          },
          "metadata": {
            "tags": []
          },
          "execution_count": 32
        }
      ]
    },
    {
      "metadata": {
        "id": "qTbCIwKfTtWy",
        "colab_type": "text"
      },
      "cell_type": "markdown",
      "source": [
        ""
      ]
    },
    {
      "metadata": {
        "id": "F7XIKXwiyzCa",
        "colab_type": "code",
        "colab": {
          "base_uri": "https://localhost:8080/",
          "height": 145
        },
        "outputId": "5bf97d91-3234-49fb-aedd-676105d3f790"
      },
      "cell_type": "code",
      "source": [
        "encoder = LabelBinarizer()\n",
        "encoder.fit(labelsP)\n",
        "yp_train = encoder.transform(labelsP)\n",
        "\n",
        "yp_train"
      ],
      "execution_count": 33,
      "outputs": [
        {
          "output_type": "execute_result",
          "data": {
            "text/plain": [
              "array([[1, 0, 0, ..., 0, 0, 0],\n",
              "       [0, 1, 0, ..., 0, 0, 0],\n",
              "       [0, 0, 1, ..., 0, 0, 0],\n",
              "       ...,\n",
              "       [0, 0, 0, ..., 0, 0, 0],\n",
              "       [0, 0, 0, ..., 0, 0, 0],\n",
              "       [0, 0, 0, ..., 1, 0, 0]])"
            ]
          },
          "metadata": {
            "tags": []
          },
          "execution_count": 33
        }
      ]
    },
    {
      "metadata": {
        "id": "FMe63byeTzhe",
        "colab_type": "code",
        "colab": {
          "base_uri": "https://localhost:8080/",
          "height": 54
        },
        "outputId": "9d3c89d8-ffa6-4731-a517-80e29de4c2f0"
      },
      "cell_type": "code",
      "source": [
        "encoder = LabelBinarizer()\n",
        "encoder.fit(labelsC)\n",
        "yc_train = encoder.transform(labelsC)\n",
        "\n",
        "yc_train[1]"
      ],
      "execution_count": 34,
      "outputs": [
        {
          "output_type": "execute_result",
          "data": {
            "text/plain": [
              "array([0, 0, 0, 0, 0, 0, 0, 0, 0, 0, 0, 0, 0, 0, 0, 0, 0, 0, 0, 0, 0, 0,\n",
              "       0, 1, 0, 0, 0, 0, 0, 0, 0, 0])"
            ]
          },
          "metadata": {
            "tags": []
          },
          "execution_count": 34
        }
      ]
    },
    {
      "metadata": {
        "id": "jVX8oniC5Ghv",
        "colab_type": "code",
        "colab": {}
      },
      "cell_type": "code",
      "source": [
        "import os\n",
        "import sys\n",
        "import numpy as np\n",
        "from keras.preprocessing.text import Tokenizer\n",
        "from keras.preprocessing.sequence import pad_sequences\n",
        "from keras.utils import to_categorical\n",
        "from keras.layers import Dense, Input, GlobalMaxPooling1D\n",
        "from keras.layers import Conv1D, MaxPooling1D, Embedding\n",
        "from keras.models import Model"
      ],
      "execution_count": 0,
      "outputs": []
    },
    {
      "metadata": {
        "id": "sd4SQgGG-xhz",
        "colab_type": "code",
        "colab": {}
      },
      "cell_type": "code",
      "source": [
        "MAX_SEQUENCE_LENGTH = 100000\n",
        "MAX_NUM_WORDS = 20000\n",
        "EMBEDDING_DIM = 100\n",
        "VALIDATION_SPLIT = 0.2"
      ],
      "execution_count": 0,
      "outputs": []
    },
    {
      "metadata": {
        "id": "qnCr_W4U1mxF",
        "colab_type": "code",
        "colab": {
          "base_uri": "https://localhost:8080/",
          "height": 108
        },
        "outputId": "bb3906e6-de6d-4a37-b993-9fea9f7e06ee"
      },
      "cell_type": "code",
      "source": [
        "from keras.preprocessing.text import Tokenizer\n",
        "from keras.preprocessing.sequence import pad_sequences\n",
        "\n",
        "tokenizer = Tokenizer(nb_words=MAX_NUM_WORDS)\n",
        "tokenizer.fit_on_texts(texts_cat)\n",
        "sequences = tokenizer.texts_to_sequences(texts_cat)\n",
        "\n",
        "word_index = tokenizer.word_index\n",
        "print('Found %s unique tokens.' % len(word_index))\n",
        "\n",
        "data = pad_sequences(sequences, maxlen=MAX_SEQUENCE_LENGTH)\n",
        "\n",
        "labels = yc_train #keras.utils.to_categorical(np.asarray(labels))\n",
        "print('Shape of data tensor:', data.shape)\n",
        "print('Shape of label tensor:', labels.shape)\n",
        "\n",
        "# split the data into a training set and a validation set\n",
        "indices = np.arange(data.shape[0])\n",
        "np.random.shuffle(indices)\n",
        "data = data[indices]\n",
        "labels = labels[indices]\n",
        "nb_validation_samples = int(VALIDATION_SPLIT * data.shape[0])\n",
        "\n",
        "x_train = data[:-nb_validation_samples]\n",
        "y_train = labels[:-nb_validation_samples]\n",
        "x_val = data[-nb_validation_samples:]\n",
        "y_val = labels[-nb_validation_samples:]"
      ],
      "execution_count": 158,
      "outputs": [
        {
          "output_type": "stream",
          "text": [
            "/usr/local/lib/python3.6/dist-packages/keras/preprocessing/text.py:172: UserWarning: The `nb_words` argument in `Tokenizer` has been renamed `num_words`.\n",
            "  warnings.warn('The `nb_words` argument in `Tokenizer` '\n"
          ],
          "name": "stderr"
        },
        {
          "output_type": "stream",
          "text": [
            "Found 144163 unique tokens.\n",
            "Shape of data tensor: (944, 100000)\n",
            "Shape of label tensor: (944, 32)\n"
          ],
          "name": "stdout"
        }
      ]
    },
    {
      "metadata": {
        "id": "ze9XE_Nc5J_w",
        "colab_type": "code",
        "colab": {
          "base_uri": "https://localhost:8080/",
          "height": 35
        },
        "outputId": "5224ab6d-aba0-4f34-efca-5e9cb974eb2d"
      },
      "cell_type": "code",
      "source": [
        "embeddings_index = {}\n",
        "f = open(os.path.join('wordvector', 'glove.6B.100d.txt'))\n",
        "for line in f:\n",
        "    values = line.split()\n",
        "    word = values[0]\n",
        "    coefs = np.asarray(values[1:], dtype='float32')\n",
        "    embeddings_index[word] = coefs\n",
        "f.close()\n",
        "\n",
        "print('Found %s word vectors.' % len(embeddings_index))"
      ],
      "execution_count": 159,
      "outputs": [
        {
          "output_type": "stream",
          "text": [
            "Found 400000 word vectors.\n"
          ],
          "name": "stdout"
        }
      ]
    },
    {
      "metadata": {
        "id": "NlCDFnCTCvDS",
        "colab_type": "code",
        "colab": {}
      },
      "cell_type": "code",
      "source": [
        "# prepare embedding matrix\n",
        "num_words = min(MAX_NUM_WORDS, len(word_index) + 1)\n",
        "embedding_matrix = np.zeros((num_words, EMBEDDING_DIM))\n",
        "for word, i in word_index.items():\n",
        "    if i >= MAX_NUM_WORDS:\n",
        "        continue\n",
        "    embedding_vector = embeddings_index.get(word)\n",
        "    if embedding_vector is not None:\n",
        "        # words not found in embedding index will be all-zeros.\n",
        "        embedding_matrix[i] = embedding_vector"
      ],
      "execution_count": 0,
      "outputs": []
    },
    {
      "metadata": {
        "id": "TdJa6cSZ-lHV",
        "colab_type": "code",
        "colab": {}
      },
      "cell_type": "code",
      "source": [
        "\n",
        "embedding_layer = Embedding(num_words,\n",
        "                            EMBEDDING_DIM,\n",
        "                            weights=[embedding_matrix],\n",
        "                            input_length=MAX_SEQUENCE_LENGTH,\n",
        "                            trainable=False)"
      ],
      "execution_count": 0,
      "outputs": []
    },
    {
      "metadata": {
        "id": "6xuW_Z_HC63U",
        "colab_type": "code",
        "colab": {}
      },
      "cell_type": "code",
      "source": [
        "from keras.models import Sequential\n",
        "from keras.layers import Dense, Activation, Flatten, Dropout, LSTM\n",
        "from keras.layers.normalization import BatchNormalization\n",
        "from keras import regularizers\n",
        "from keras.callbacks import ModelCheckpoint"
      ],
      "execution_count": 0,
      "outputs": []
    },
    {
      "metadata": {
        "id": "bBgq6WtM-l5S",
        "colab_type": "code",
        "colab": {}
      },
      "cell_type": "code",
      "source": [
        "\n",
        "\n",
        "\n",
        "sequence_input = Input(shape=(MAX_SEQUENCE_LENGTH,), dtype='int32')\n",
        "embedded_sequences = embedding_layer(sequence_input)\n",
        "\n",
        "x = Conv1D(256, 5, kernel_regularizer=regularizers.l2(0.01), activity_regularizer=regularizers.l1(0.01), activation='relu')(embedded_sequences)\n",
        "x = MaxPooling1D(5)(x)\n",
        "x = Dropout(0.2)(x)\n",
        "x = BatchNormalization()(x)\n",
        "\n",
        "x = Conv1D(128, 5, kernel_regularizer=regularizers.l2(0.01), activity_regularizer=regularizers.l1(0.01), activation='relu')(x)\n",
        "x = MaxPooling1D(5)(x)\n",
        "x = Dropout(0.2)(x)\n",
        "x = BatchNormalization()(x)\n",
        "\n",
        "x = Conv1D(64, 5, kernel_regularizer=regularizers.l2(0.01), activity_regularizer=regularizers.l1(0.01), activation='relu')(x)\n",
        "x = MaxPooling1D(35)(x)  # global max pooling\n",
        "x = Dropout(0.2)(x)\n",
        "x = BatchNormalization()(x)\n",
        "\n",
        "x = Flatten()(x)\n",
        "\n",
        "x = Dense(512, kernel_regularizer=regularizers.l2(0.01), activity_regularizer=regularizers.l1(0.01), activation='relu')(x)\n",
        "x = Dropout(0.2)(x)\n",
        "x = BatchNormalization()(x)\n",
        "\n",
        "preds = Dense(32, activation='softmax')(x)\n",
        "\n",
        "model = Model(sequence_input, preds)\n",
        "model.compile(loss='categorical_crossentropy',\n",
        "              optimizer='rmsprop',\n",
        "              metrics=['acc'])"
      ],
      "execution_count": 0,
      "outputs": []
    },
    {
      "metadata": {
        "id": "hQor3fI_-iNE",
        "colab_type": "code",
        "colab": {}
      },
      "cell_type": "code",
      "source": [
        "filepath=\"weights.best.hdf5\"\n",
        "checkpoint = ModelCheckpoint(filepath, monitor='val_acc', verbose=1, save_best_only=True, mode='max')\n",
        "callbacks_list = [checkpoint]"
      ],
      "execution_count": 0,
      "outputs": []
    },
    {
      "metadata": {
        "id": "KESqIwQj0rbE",
        "colab_type": "code",
        "colab": {
          "base_uri": "https://localhost:8080/",
          "height": 835
        },
        "outputId": "f3a3aa95-da0c-4843-8480-484448dda89f"
      },
      "cell_type": "code",
      "source": [
        "summary = model.summary()\n"
      ],
      "execution_count": 189,
      "outputs": [
        {
          "output_type": "stream",
          "text": [
            "_________________________________________________________________\n",
            "Layer (type)                 Output Shape              Param #   \n",
            "=================================================================\n",
            "input_33 (InputLayer)        (None, 100000)            0         \n",
            "_________________________________________________________________\n",
            "embedding_13 (Embedding)     (None, 100000, 100)       2000000   \n",
            "_________________________________________________________________\n",
            "conv1d_76 (Conv1D)           (None, 99996, 256)        128256    \n",
            "_________________________________________________________________\n",
            "max_pooling1d_76 (MaxPooling (None, 19999, 256)        0         \n",
            "_________________________________________________________________\n",
            "dropout_76 (Dropout)         (None, 19999, 256)        0         \n",
            "_________________________________________________________________\n",
            "batch_normalization_53 (Batc (None, 19999, 256)        1024      \n",
            "_________________________________________________________________\n",
            "conv1d_77 (Conv1D)           (None, 19995, 128)        163968    \n",
            "_________________________________________________________________\n",
            "max_pooling1d_77 (MaxPooling (None, 3999, 128)         0         \n",
            "_________________________________________________________________\n",
            "dropout_77 (Dropout)         (None, 3999, 128)         0         \n",
            "_________________________________________________________________\n",
            "batch_normalization_54 (Batc (None, 3999, 128)         512       \n",
            "_________________________________________________________________\n",
            "conv1d_78 (Conv1D)           (None, 3995, 64)          41024     \n",
            "_________________________________________________________________\n",
            "max_pooling1d_78 (MaxPooling (None, 114, 64)           0         \n",
            "_________________________________________________________________\n",
            "dropout_78 (Dropout)         (None, 114, 64)           0         \n",
            "_________________________________________________________________\n",
            "batch_normalization_55 (Batc (None, 114, 64)           256       \n",
            "_________________________________________________________________\n",
            "flatten_22 (Flatten)         (None, 7296)              0         \n",
            "_________________________________________________________________\n",
            "dense_53 (Dense)             (None, 512)               3736064   \n",
            "_________________________________________________________________\n",
            "dropout_79 (Dropout)         (None, 512)               0         \n",
            "_________________________________________________________________\n",
            "batch_normalization_56 (Batc (None, 512)               2048      \n",
            "_________________________________________________________________\n",
            "dense_54 (Dense)             (None, 32)                16416     \n",
            "=================================================================\n",
            "Total params: 6,089,568\n",
            "Trainable params: 4,087,648\n",
            "Non-trainable params: 2,001,920\n",
            "_________________________________________________________________\n"
          ],
          "name": "stdout"
        }
      ]
    },
    {
      "metadata": {
        "id": "IgW-uorqz1Es",
        "colab_type": "code",
        "colab": {
          "base_uri": "https://localhost:8080/",
          "height": 2100
        },
        "outputId": "9e680deb-dbbd-47a0-9378-99ff4a1cbfeb"
      },
      "cell_type": "code",
      "source": [
        "# happy learning!\n",
        "history = model.fit(x_train, y_train,\n",
        "                    batch_size=16,\n",
        "                    epochs=25,\n",
        "                    verbose=1,\n",
        "                    validation_split=0.2, callbacks=callbacks_list)"
      ],
      "execution_count": 190,
      "outputs": [
        {
          "output_type": "stream",
          "text": [
            "Train on 604 samples, validate on 152 samples\n",
            "Epoch 1/25\n",
            "604/604 [==============================] - 68s 112ms/step - loss: 23611.3831 - acc: 0.4338 - val_loss: 7857.1170 - val_acc: 0.0987\n",
            "\n",
            "Epoch 00001: val_acc improved from -inf to 0.09868, saving model to weights.best.hdf5\n"
          ],
          "name": "stdout"
        },
        {
          "output_type": "error",
          "ename": "KeyboardInterrupt",
          "evalue": "ignored",
          "traceback": [
            "\u001b[0;31m---------------------------------------------------------------------------\u001b[0m",
            "\u001b[0;31mKeyboardInterrupt\u001b[0m                         Traceback (most recent call last)",
            "\u001b[0;32m<ipython-input-190-d32ce3eaa092>\u001b[0m in \u001b[0;36m<module>\u001b[0;34m()\u001b[0m\n\u001b[1;32m      3\u001b[0m                     \u001b[0mepochs\u001b[0m\u001b[0;34m=\u001b[0m\u001b[0;36m25\u001b[0m\u001b[0;34m,\u001b[0m\u001b[0;34m\u001b[0m\u001b[0m\n\u001b[1;32m      4\u001b[0m                     \u001b[0mverbose\u001b[0m\u001b[0;34m=\u001b[0m\u001b[0;36m1\u001b[0m\u001b[0;34m,\u001b[0m\u001b[0;34m\u001b[0m\u001b[0m\n\u001b[0;32m----> 5\u001b[0;31m                     validation_split=0.2, callbacks=callbacks_list)\n\u001b[0m",
            "\u001b[0;32m/usr/local/lib/python3.6/dist-packages/keras/engine/training.py\u001b[0m in \u001b[0;36mfit\u001b[0;34m(self, x, y, batch_size, epochs, verbose, callbacks, validation_split, validation_data, shuffle, class_weight, sample_weight, initial_epoch, steps_per_epoch, validation_steps, **kwargs)\u001b[0m\n\u001b[1;32m   1703\u001b[0m                               \u001b[0minitial_epoch\u001b[0m\u001b[0;34m=\u001b[0m\u001b[0minitial_epoch\u001b[0m\u001b[0;34m,\u001b[0m\u001b[0;34m\u001b[0m\u001b[0m\n\u001b[1;32m   1704\u001b[0m                               \u001b[0msteps_per_epoch\u001b[0m\u001b[0;34m=\u001b[0m\u001b[0msteps_per_epoch\u001b[0m\u001b[0;34m,\u001b[0m\u001b[0;34m\u001b[0m\u001b[0m\n\u001b[0;32m-> 1705\u001b[0;31m                               validation_steps=validation_steps)\n\u001b[0m\u001b[1;32m   1706\u001b[0m \u001b[0;34m\u001b[0m\u001b[0m\n\u001b[1;32m   1707\u001b[0m     def evaluate(self, x=None, y=None,\n",
            "\u001b[0;32m/usr/local/lib/python3.6/dist-packages/keras/engine/training.py\u001b[0m in \u001b[0;36m_fit_loop\u001b[0;34m(self, f, ins, out_labels, batch_size, epochs, verbose, callbacks, val_f, val_ins, shuffle, callback_metrics, initial_epoch, steps_per_epoch, validation_steps)\u001b[0m\n\u001b[1;32m   1254\u001b[0m                             \u001b[0;32mfor\u001b[0m \u001b[0ml\u001b[0m\u001b[0;34m,\u001b[0m \u001b[0mo\u001b[0m \u001b[0;32min\u001b[0m \u001b[0mzip\u001b[0m\u001b[0;34m(\u001b[0m\u001b[0mout_labels\u001b[0m\u001b[0;34m,\u001b[0m \u001b[0mval_outs\u001b[0m\u001b[0;34m)\u001b[0m\u001b[0;34m:\u001b[0m\u001b[0;34m\u001b[0m\u001b[0m\n\u001b[1;32m   1255\u001b[0m                                 \u001b[0mepoch_logs\u001b[0m\u001b[0;34m[\u001b[0m\u001b[0;34m'val_'\u001b[0m \u001b[0;34m+\u001b[0m \u001b[0ml\u001b[0m\u001b[0;34m]\u001b[0m \u001b[0;34m=\u001b[0m \u001b[0mo\u001b[0m\u001b[0;34m\u001b[0m\u001b[0m\n\u001b[0;32m-> 1256\u001b[0;31m             \u001b[0mcallbacks\u001b[0m\u001b[0;34m.\u001b[0m\u001b[0mon_epoch_end\u001b[0m\u001b[0;34m(\u001b[0m\u001b[0mepoch\u001b[0m\u001b[0;34m,\u001b[0m \u001b[0mepoch_logs\u001b[0m\u001b[0;34m)\u001b[0m\u001b[0;34m\u001b[0m\u001b[0m\n\u001b[0m\u001b[1;32m   1257\u001b[0m             \u001b[0;32mif\u001b[0m \u001b[0mcallback_model\u001b[0m\u001b[0;34m.\u001b[0m\u001b[0mstop_training\u001b[0m\u001b[0;34m:\u001b[0m\u001b[0;34m\u001b[0m\u001b[0m\n\u001b[1;32m   1258\u001b[0m                 \u001b[0;32mbreak\u001b[0m\u001b[0;34m\u001b[0m\u001b[0m\n",
            "\u001b[0;32m/usr/local/lib/python3.6/dist-packages/keras/callbacks.py\u001b[0m in \u001b[0;36mon_epoch_end\u001b[0;34m(self, epoch, logs)\u001b[0m\n\u001b[1;32m     75\u001b[0m         \u001b[0mlogs\u001b[0m \u001b[0;34m=\u001b[0m \u001b[0mlogs\u001b[0m \u001b[0;32mor\u001b[0m \u001b[0;34m{\u001b[0m\u001b[0;34m}\u001b[0m\u001b[0;34m\u001b[0m\u001b[0m\n\u001b[1;32m     76\u001b[0m         \u001b[0;32mfor\u001b[0m \u001b[0mcallback\u001b[0m \u001b[0;32min\u001b[0m \u001b[0mself\u001b[0m\u001b[0;34m.\u001b[0m\u001b[0mcallbacks\u001b[0m\u001b[0;34m:\u001b[0m\u001b[0;34m\u001b[0m\u001b[0m\n\u001b[0;32m---> 77\u001b[0;31m             \u001b[0mcallback\u001b[0m\u001b[0;34m.\u001b[0m\u001b[0mon_epoch_end\u001b[0m\u001b[0;34m(\u001b[0m\u001b[0mepoch\u001b[0m\u001b[0;34m,\u001b[0m \u001b[0mlogs\u001b[0m\u001b[0;34m)\u001b[0m\u001b[0;34m\u001b[0m\u001b[0m\n\u001b[0m\u001b[1;32m     78\u001b[0m \u001b[0;34m\u001b[0m\u001b[0m\n\u001b[1;32m     79\u001b[0m     \u001b[0;32mdef\u001b[0m \u001b[0mon_batch_begin\u001b[0m\u001b[0;34m(\u001b[0m\u001b[0mself\u001b[0m\u001b[0;34m,\u001b[0m \u001b[0mbatch\u001b[0m\u001b[0;34m,\u001b[0m \u001b[0mlogs\u001b[0m\u001b[0;34m=\u001b[0m\u001b[0;32mNone\u001b[0m\u001b[0;34m)\u001b[0m\u001b[0;34m:\u001b[0m\u001b[0;34m\u001b[0m\u001b[0m\n",
            "\u001b[0;32m/usr/local/lib/python3.6/dist-packages/keras/callbacks.py\u001b[0m in \u001b[0;36mon_epoch_end\u001b[0;34m(self, epoch, logs)\u001b[0m\n\u001b[1;32m    445\u001b[0m                             \u001b[0mself\u001b[0m\u001b[0;34m.\u001b[0m\u001b[0mmodel\u001b[0m\u001b[0;34m.\u001b[0m\u001b[0msave_weights\u001b[0m\u001b[0;34m(\u001b[0m\u001b[0mfilepath\u001b[0m\u001b[0;34m,\u001b[0m \u001b[0moverwrite\u001b[0m\u001b[0;34m=\u001b[0m\u001b[0;32mTrue\u001b[0m\u001b[0;34m)\u001b[0m\u001b[0;34m\u001b[0m\u001b[0m\n\u001b[1;32m    446\u001b[0m                         \u001b[0;32melse\u001b[0m\u001b[0;34m:\u001b[0m\u001b[0;34m\u001b[0m\u001b[0m\n\u001b[0;32m--> 447\u001b[0;31m                             \u001b[0mself\u001b[0m\u001b[0;34m.\u001b[0m\u001b[0mmodel\u001b[0m\u001b[0;34m.\u001b[0m\u001b[0msave\u001b[0m\u001b[0;34m(\u001b[0m\u001b[0mfilepath\u001b[0m\u001b[0;34m,\u001b[0m \u001b[0moverwrite\u001b[0m\u001b[0;34m=\u001b[0m\u001b[0;32mTrue\u001b[0m\u001b[0;34m)\u001b[0m\u001b[0;34m\u001b[0m\u001b[0m\n\u001b[0m\u001b[1;32m    448\u001b[0m                     \u001b[0;32melse\u001b[0m\u001b[0;34m:\u001b[0m\u001b[0;34m\u001b[0m\u001b[0m\n\u001b[1;32m    449\u001b[0m                         \u001b[0;32mif\u001b[0m \u001b[0mself\u001b[0m\u001b[0;34m.\u001b[0m\u001b[0mverbose\u001b[0m \u001b[0;34m>\u001b[0m \u001b[0;36m0\u001b[0m\u001b[0;34m:\u001b[0m\u001b[0;34m\u001b[0m\u001b[0m\n",
            "\u001b[0;32m/usr/local/lib/python3.6/dist-packages/keras/engine/topology.py\u001b[0m in \u001b[0;36msave\u001b[0;34m(self, filepath, overwrite, include_optimizer)\u001b[0m\n\u001b[1;32m   2589\u001b[0m         \"\"\"\n\u001b[1;32m   2590\u001b[0m         \u001b[0;32mfrom\u001b[0m \u001b[0;34m.\u001b[0m\u001b[0;34m.\u001b[0m\u001b[0mmodels\u001b[0m \u001b[0;32mimport\u001b[0m \u001b[0msave_model\u001b[0m\u001b[0;34m\u001b[0m\u001b[0m\n\u001b[0;32m-> 2591\u001b[0;31m         \u001b[0msave_model\u001b[0m\u001b[0;34m(\u001b[0m\u001b[0mself\u001b[0m\u001b[0;34m,\u001b[0m \u001b[0mfilepath\u001b[0m\u001b[0;34m,\u001b[0m \u001b[0moverwrite\u001b[0m\u001b[0;34m,\u001b[0m \u001b[0minclude_optimizer\u001b[0m\u001b[0;34m)\u001b[0m\u001b[0;34m\u001b[0m\u001b[0m\n\u001b[0m\u001b[1;32m   2592\u001b[0m \u001b[0;34m\u001b[0m\u001b[0m\n\u001b[1;32m   2593\u001b[0m     \u001b[0;32mdef\u001b[0m \u001b[0msave_weights\u001b[0m\u001b[0;34m(\u001b[0m\u001b[0mself\u001b[0m\u001b[0;34m,\u001b[0m \u001b[0mfilepath\u001b[0m\u001b[0;34m,\u001b[0m \u001b[0moverwrite\u001b[0m\u001b[0;34m=\u001b[0m\u001b[0;32mTrue\u001b[0m\u001b[0;34m)\u001b[0m\u001b[0;34m:\u001b[0m\u001b[0;34m\u001b[0m\u001b[0m\n",
            "\u001b[0;32m/usr/local/lib/python3.6/dist-packages/keras/models.py\u001b[0m in \u001b[0;36msave_model\u001b[0;34m(model, filepath, overwrite, include_optimizer)\u001b[0m\n\u001b[1;32m    132\u001b[0m         \u001b[0;32melse\u001b[0m\u001b[0;34m:\u001b[0m\u001b[0;34m\u001b[0m\u001b[0m\n\u001b[1;32m    133\u001b[0m             \u001b[0mmodel_layers\u001b[0m \u001b[0;34m=\u001b[0m \u001b[0mmodel\u001b[0m\u001b[0;34m.\u001b[0m\u001b[0mlayers\u001b[0m\u001b[0;34m\u001b[0m\u001b[0m\n\u001b[0;32m--> 134\u001b[0;31m         \u001b[0mtopology\u001b[0m\u001b[0;34m.\u001b[0m\u001b[0msave_weights_to_hdf5_group\u001b[0m\u001b[0;34m(\u001b[0m\u001b[0mmodel_weights_group\u001b[0m\u001b[0;34m,\u001b[0m \u001b[0mmodel_layers\u001b[0m\u001b[0;34m)\u001b[0m\u001b[0;34m\u001b[0m\u001b[0m\n\u001b[0m\u001b[1;32m    135\u001b[0m \u001b[0;34m\u001b[0m\u001b[0m\n\u001b[1;32m    136\u001b[0m         \u001b[0;32mif\u001b[0m \u001b[0minclude_optimizer\u001b[0m \u001b[0;32mand\u001b[0m \u001b[0mhasattr\u001b[0m\u001b[0;34m(\u001b[0m\u001b[0mmodel\u001b[0m\u001b[0;34m,\u001b[0m \u001b[0;34m'optimizer'\u001b[0m\u001b[0;34m)\u001b[0m\u001b[0;34m:\u001b[0m\u001b[0;34m\u001b[0m\u001b[0m\n",
            "\u001b[0;32m/usr/local/lib/python3.6/dist-packages/keras/engine/topology.py\u001b[0m in \u001b[0;36msave_weights_to_hdf5_group\u001b[0;34m(f, layers)\u001b[0m\n\u001b[1;32m   2960\u001b[0m         \u001b[0mg\u001b[0m \u001b[0;34m=\u001b[0m \u001b[0mf\u001b[0m\u001b[0;34m.\u001b[0m\u001b[0mcreate_group\u001b[0m\u001b[0;34m(\u001b[0m\u001b[0mlayer\u001b[0m\u001b[0;34m.\u001b[0m\u001b[0mname\u001b[0m\u001b[0;34m)\u001b[0m\u001b[0;34m\u001b[0m\u001b[0m\n\u001b[1;32m   2961\u001b[0m         \u001b[0msymbolic_weights\u001b[0m \u001b[0;34m=\u001b[0m \u001b[0mlayer\u001b[0m\u001b[0;34m.\u001b[0m\u001b[0mweights\u001b[0m\u001b[0;34m\u001b[0m\u001b[0m\n\u001b[0;32m-> 2962\u001b[0;31m         \u001b[0mweight_values\u001b[0m \u001b[0;34m=\u001b[0m \u001b[0mK\u001b[0m\u001b[0;34m.\u001b[0m\u001b[0mbatch_get_value\u001b[0m\u001b[0;34m(\u001b[0m\u001b[0msymbolic_weights\u001b[0m\u001b[0;34m)\u001b[0m\u001b[0;34m\u001b[0m\u001b[0m\n\u001b[0m\u001b[1;32m   2963\u001b[0m         \u001b[0mweight_names\u001b[0m \u001b[0;34m=\u001b[0m \u001b[0;34m[\u001b[0m\u001b[0;34m]\u001b[0m\u001b[0;34m\u001b[0m\u001b[0m\n\u001b[1;32m   2964\u001b[0m         \u001b[0;32mfor\u001b[0m \u001b[0mi\u001b[0m\u001b[0;34m,\u001b[0m \u001b[0;34m(\u001b[0m\u001b[0mw\u001b[0m\u001b[0;34m,\u001b[0m \u001b[0mval\u001b[0m\u001b[0;34m)\u001b[0m \u001b[0;32min\u001b[0m \u001b[0menumerate\u001b[0m\u001b[0;34m(\u001b[0m\u001b[0mzip\u001b[0m\u001b[0;34m(\u001b[0m\u001b[0msymbolic_weights\u001b[0m\u001b[0;34m,\u001b[0m \u001b[0mweight_values\u001b[0m\u001b[0;34m)\u001b[0m\u001b[0;34m)\u001b[0m\u001b[0;34m:\u001b[0m\u001b[0;34m\u001b[0m\u001b[0m\n",
            "\u001b[0;32m/usr/local/lib/python3.6/dist-packages/keras/backend/tensorflow_backend.py\u001b[0m in \u001b[0;36mbatch_get_value\u001b[0;34m(ops)\u001b[0m\n\u001b[1;32m   2325\u001b[0m     \"\"\"\n\u001b[1;32m   2326\u001b[0m     \u001b[0;32mif\u001b[0m \u001b[0mops\u001b[0m\u001b[0;34m:\u001b[0m\u001b[0;34m\u001b[0m\u001b[0m\n\u001b[0;32m-> 2327\u001b[0;31m         \u001b[0;32mreturn\u001b[0m \u001b[0mget_session\u001b[0m\u001b[0;34m(\u001b[0m\u001b[0;34m)\u001b[0m\u001b[0;34m.\u001b[0m\u001b[0mrun\u001b[0m\u001b[0;34m(\u001b[0m\u001b[0mops\u001b[0m\u001b[0;34m)\u001b[0m\u001b[0;34m\u001b[0m\u001b[0m\n\u001b[0m\u001b[1;32m   2328\u001b[0m     \u001b[0;32melse\u001b[0m\u001b[0;34m:\u001b[0m\u001b[0;34m\u001b[0m\u001b[0m\n\u001b[1;32m   2329\u001b[0m         \u001b[0;32mreturn\u001b[0m \u001b[0;34m[\u001b[0m\u001b[0;34m]\u001b[0m\u001b[0;34m\u001b[0m\u001b[0m\n",
            "\u001b[0;32m/usr/local/lib/python3.6/dist-packages/tensorflow/python/client/session.py\u001b[0m in \u001b[0;36mrun\u001b[0;34m(self, fetches, feed_dict, options, run_metadata)\u001b[0m\n\u001b[1;32m    898\u001b[0m     \u001b[0;32mtry\u001b[0m\u001b[0;34m:\u001b[0m\u001b[0;34m\u001b[0m\u001b[0m\n\u001b[1;32m    899\u001b[0m       result = self._run(None, fetches, feed_dict, options_ptr,\n\u001b[0;32m--> 900\u001b[0;31m                          run_metadata_ptr)\n\u001b[0m\u001b[1;32m    901\u001b[0m       \u001b[0;32mif\u001b[0m \u001b[0mrun_metadata\u001b[0m\u001b[0;34m:\u001b[0m\u001b[0;34m\u001b[0m\u001b[0m\n\u001b[1;32m    902\u001b[0m         \u001b[0mproto_data\u001b[0m \u001b[0;34m=\u001b[0m \u001b[0mtf_session\u001b[0m\u001b[0;34m.\u001b[0m\u001b[0mTF_GetBuffer\u001b[0m\u001b[0;34m(\u001b[0m\u001b[0mrun_metadata_ptr\u001b[0m\u001b[0;34m)\u001b[0m\u001b[0;34m\u001b[0m\u001b[0m\n",
            "\u001b[0;32m/usr/local/lib/python3.6/dist-packages/tensorflow/python/client/session.py\u001b[0m in \u001b[0;36m_run\u001b[0;34m(self, handle, fetches, feed_dict, options, run_metadata)\u001b[0m\n\u001b[1;32m   1133\u001b[0m     \u001b[0;32mif\u001b[0m \u001b[0mfinal_fetches\u001b[0m \u001b[0;32mor\u001b[0m \u001b[0mfinal_targets\u001b[0m \u001b[0;32mor\u001b[0m \u001b[0;34m(\u001b[0m\u001b[0mhandle\u001b[0m \u001b[0;32mand\u001b[0m \u001b[0mfeed_dict_tensor\u001b[0m\u001b[0;34m)\u001b[0m\u001b[0;34m:\u001b[0m\u001b[0;34m\u001b[0m\u001b[0m\n\u001b[1;32m   1134\u001b[0m       results = self._do_run(handle, final_targets, final_fetches,\n\u001b[0;32m-> 1135\u001b[0;31m                              feed_dict_tensor, options, run_metadata)\n\u001b[0m\u001b[1;32m   1136\u001b[0m     \u001b[0;32melse\u001b[0m\u001b[0;34m:\u001b[0m\u001b[0;34m\u001b[0m\u001b[0m\n\u001b[1;32m   1137\u001b[0m       \u001b[0mresults\u001b[0m \u001b[0;34m=\u001b[0m \u001b[0;34m[\u001b[0m\u001b[0;34m]\u001b[0m\u001b[0;34m\u001b[0m\u001b[0m\n",
            "\u001b[0;32m/usr/local/lib/python3.6/dist-packages/tensorflow/python/client/session.py\u001b[0m in \u001b[0;36m_do_run\u001b[0;34m(self, handle, target_list, fetch_list, feed_dict, options, run_metadata)\u001b[0m\n\u001b[1;32m   1314\u001b[0m     \u001b[0;32mif\u001b[0m \u001b[0mhandle\u001b[0m \u001b[0;32mis\u001b[0m \u001b[0;32mNone\u001b[0m\u001b[0;34m:\u001b[0m\u001b[0;34m\u001b[0m\u001b[0m\n\u001b[1;32m   1315\u001b[0m       return self._do_call(_run_fn, feeds, fetches, targets, options,\n\u001b[0;32m-> 1316\u001b[0;31m                            run_metadata)\n\u001b[0m\u001b[1;32m   1317\u001b[0m     \u001b[0;32melse\u001b[0m\u001b[0;34m:\u001b[0m\u001b[0;34m\u001b[0m\u001b[0m\n\u001b[1;32m   1318\u001b[0m       \u001b[0;32mreturn\u001b[0m \u001b[0mself\u001b[0m\u001b[0;34m.\u001b[0m\u001b[0m_do_call\u001b[0m\u001b[0;34m(\u001b[0m\u001b[0m_prun_fn\u001b[0m\u001b[0;34m,\u001b[0m \u001b[0mhandle\u001b[0m\u001b[0;34m,\u001b[0m \u001b[0mfeeds\u001b[0m\u001b[0;34m,\u001b[0m \u001b[0mfetches\u001b[0m\u001b[0;34m)\u001b[0m\u001b[0;34m\u001b[0m\u001b[0m\n",
            "\u001b[0;32m/usr/local/lib/python3.6/dist-packages/tensorflow/python/client/session.py\u001b[0m in \u001b[0;36m_do_call\u001b[0;34m(self, fn, *args)\u001b[0m\n\u001b[1;32m   1320\u001b[0m   \u001b[0;32mdef\u001b[0m \u001b[0m_do_call\u001b[0m\u001b[0;34m(\u001b[0m\u001b[0mself\u001b[0m\u001b[0;34m,\u001b[0m \u001b[0mfn\u001b[0m\u001b[0;34m,\u001b[0m \u001b[0;34m*\u001b[0m\u001b[0margs\u001b[0m\u001b[0;34m)\u001b[0m\u001b[0;34m:\u001b[0m\u001b[0;34m\u001b[0m\u001b[0m\n\u001b[1;32m   1321\u001b[0m     \u001b[0;32mtry\u001b[0m\u001b[0;34m:\u001b[0m\u001b[0;34m\u001b[0m\u001b[0m\n\u001b[0;32m-> 1322\u001b[0;31m       \u001b[0;32mreturn\u001b[0m \u001b[0mfn\u001b[0m\u001b[0;34m(\u001b[0m\u001b[0;34m*\u001b[0m\u001b[0margs\u001b[0m\u001b[0;34m)\u001b[0m\u001b[0;34m\u001b[0m\u001b[0m\n\u001b[0m\u001b[1;32m   1323\u001b[0m     \u001b[0;32mexcept\u001b[0m \u001b[0merrors\u001b[0m\u001b[0;34m.\u001b[0m\u001b[0mOpError\u001b[0m \u001b[0;32mas\u001b[0m \u001b[0me\u001b[0m\u001b[0;34m:\u001b[0m\u001b[0;34m\u001b[0m\u001b[0m\n\u001b[1;32m   1324\u001b[0m       \u001b[0mmessage\u001b[0m \u001b[0;34m=\u001b[0m \u001b[0mcompat\u001b[0m\u001b[0;34m.\u001b[0m\u001b[0mas_text\u001b[0m\u001b[0;34m(\u001b[0m\u001b[0me\u001b[0m\u001b[0;34m.\u001b[0m\u001b[0mmessage\u001b[0m\u001b[0;34m)\u001b[0m\u001b[0;34m\u001b[0m\u001b[0m\n",
            "\u001b[0;32m/usr/local/lib/python3.6/dist-packages/tensorflow/python/client/session.py\u001b[0m in \u001b[0;36m_run_fn\u001b[0;34m(feed_dict, fetch_list, target_list, options, run_metadata)\u001b[0m\n\u001b[1;32m   1305\u001b[0m       \u001b[0mself\u001b[0m\u001b[0;34m.\u001b[0m\u001b[0m_extend_graph\u001b[0m\u001b[0;34m(\u001b[0m\u001b[0;34m)\u001b[0m\u001b[0;34m\u001b[0m\u001b[0m\n\u001b[1;32m   1306\u001b[0m       return self._call_tf_sessionrun(\n\u001b[0;32m-> 1307\u001b[0;31m           options, feed_dict, fetch_list, target_list, run_metadata)\n\u001b[0m\u001b[1;32m   1308\u001b[0m \u001b[0;34m\u001b[0m\u001b[0m\n\u001b[1;32m   1309\u001b[0m     \u001b[0;32mdef\u001b[0m \u001b[0m_prun_fn\u001b[0m\u001b[0;34m(\u001b[0m\u001b[0mhandle\u001b[0m\u001b[0;34m,\u001b[0m \u001b[0mfeed_dict\u001b[0m\u001b[0;34m,\u001b[0m \u001b[0mfetch_list\u001b[0m\u001b[0;34m)\u001b[0m\u001b[0;34m:\u001b[0m\u001b[0;34m\u001b[0m\u001b[0m\n",
            "\u001b[0;32m/usr/local/lib/python3.6/dist-packages/tensorflow/python/client/session.py\u001b[0m in \u001b[0;36m_call_tf_sessionrun\u001b[0;34m(self, options, feed_dict, fetch_list, target_list, run_metadata)\u001b[0m\n\u001b[1;32m   1407\u001b[0m       return tf_session.TF_SessionRun_wrapper(\n\u001b[1;32m   1408\u001b[0m           \u001b[0mself\u001b[0m\u001b[0;34m.\u001b[0m\u001b[0m_session\u001b[0m\u001b[0;34m,\u001b[0m \u001b[0moptions\u001b[0m\u001b[0;34m,\u001b[0m \u001b[0mfeed_dict\u001b[0m\u001b[0;34m,\u001b[0m \u001b[0mfetch_list\u001b[0m\u001b[0;34m,\u001b[0m \u001b[0mtarget_list\u001b[0m\u001b[0;34m,\u001b[0m\u001b[0;34m\u001b[0m\u001b[0m\n\u001b[0;32m-> 1409\u001b[0;31m           run_metadata)\n\u001b[0m\u001b[1;32m   1410\u001b[0m     \u001b[0;32melse\u001b[0m\u001b[0;34m:\u001b[0m\u001b[0;34m\u001b[0m\u001b[0m\n\u001b[1;32m   1411\u001b[0m       \u001b[0;32mwith\u001b[0m \u001b[0merrors\u001b[0m\u001b[0;34m.\u001b[0m\u001b[0mraise_exception_on_not_ok_status\u001b[0m\u001b[0;34m(\u001b[0m\u001b[0;34m)\u001b[0m \u001b[0;32mas\u001b[0m \u001b[0mstatus\u001b[0m\u001b[0;34m:\u001b[0m\u001b[0;34m\u001b[0m\u001b[0m\n",
            "\u001b[0;31mKeyboardInterrupt\u001b[0m: "
          ]
        }
      ]
    },
    {
      "metadata": {
        "id": "NvdRFA7I3XPE",
        "colab_type": "code",
        "colab": {
          "base_uri": "https://localhost:8080/",
          "height": 590
        },
        "outputId": "29d15c88-5886-4a2b-c489-a6d25738c57d"
      },
      "cell_type": "code",
      "source": [
        "import matplotlib.pyplot as plt\n",
        "import numpy\n",
        "\n",
        "print(history.history.keys())\n",
        "# summarize history for accuracy\n",
        "plt.plot(history.history['acc'])\n",
        "plt.plot(history.history['val_acc'])\n",
        "plt.title('model accuracy')\n",
        "plt.ylabel('accuracy')\n",
        "plt.xlabel('epoch')\n",
        "plt.legend(['train', 'test'], loc='upper left')\n",
        "plt.show()\n",
        "# summarize history for loss\n",
        "plt.plot(history.history['loss'])\n",
        "plt.plot(history.history['val_loss'])\n",
        "plt.title('model loss')\n",
        "plt.ylabel('loss')\n",
        "plt.xlabel('epoch')\n",
        "plt.legend(['train', 'test'], loc='upper left')\n",
        "plt.show()"
      ],
      "execution_count": 176,
      "outputs": [
        {
          "output_type": "stream",
          "text": [
            "dict_keys(['val_loss', 'val_acc', 'loss', 'acc'])\n"
          ],
          "name": "stdout"
        },
        {
          "output_type": "display_data",
          "data": {
            "image/png": "[encoded data removed]",
            "text/plain": [
              "<matplotlib.figure.Figure at 0x7f17cfed87f0>"
            ]
          },
          "metadata": {
            "tags": []
          }
        },
        {
          "output_type": "display_data",
          "data": {
            "image/png": "[encoded data removed]",
            "text/plain": [
              "<matplotlib.figure.Figure at 0x7f17cfeffb70>"
            ]
          },
          "metadata": {
            "tags": []
          }
        }
      ]
    },
    {
      "metadata": {
        "id": "JiIoF-RgAOeA",
        "colab_type": "code",
        "colab": {}
      },
      "cell_type": "code",
      "source": [
        "model.load_weights(\"weights.best.hdf5\")\n",
        "# Compile model (required to make predictions)\n",
        "model.compile(loss='categorical_crossentropy',\n",
        "              optimizer='rmsprop',\n",
        "              metrics=['acc'])"
      ],
      "execution_count": 0,
      "outputs": []
    },
    {
      "metadata": {
        "id": "eDXv4-zM_FhB",
        "colab_type": "code",
        "colab": {
          "base_uri": "https://localhost:8080/",
          "height": 72
        },
        "outputId": "f1aa3092-a91f-4ff6-e33e-4636852707ae"
      },
      "cell_type": "code",
      "source": [
        "score = model.evaluate(x_val, y_val,\n",
        "                       batch_size=32, verbose=1)\n",
        "print('Test score:', score[0])\n",
        "print('Test accuracy:', score[1])"
      ],
      "execution_count": 135,
      "outputs": [
        {
          "output_type": "stream",
          "text": [
            "206/206 [==============================] - 8s 37ms/step\n",
            "Test score: 1.2242589147345533\n",
            "Test accuracy: 0.6310679629011061\n"
          ],
          "name": "stdout"
        }
      ]
    },
    {
      "metadata": {
        "id": "DXj8vM0-HPKv",
        "colab_type": "code",
        "colab": {}
      },
      "cell_type": "code",
      "source": [
        "import itertools\n",
        "import os\n",
        "\n",
        "%matplotlib inline\n",
        "import matplotlib.pyplot as plt\n",
        "import numpy as np\n",
        "import pandas as pd\n",
        "import tensorflow as tf\n",
        "\n",
        "from sklearn.preprocessing import LabelBinarizer, LabelEncoder\n",
        "from sklearn.metrics import confusion_matrix\n",
        "\n",
        "from tensorflow import keras\n",
        "from keras.models import Sequential\n",
        "from keras.layers import Dense, Activation, Dropout\n",
        "from keras.preprocessing import text, sequence\n",
        "from keras import utils"
      ],
      "execution_count": 0,
      "outputs": []
    },
    {
      "metadata": {
        "id": "lttzCjcRG69a",
        "colab_type": "code",
        "colab": {}
      },
      "cell_type": "code",
      "source": [
        "y_softmax = model.predict(x_val)\n",
        "\n",
        "y_test_1d = []\n",
        "y_pred_1d = []\n",
        "\n",
        "for i in range(len(y_val)):\n",
        "    probs = y_val[i]\n",
        "    index_arr = np.nonzero(probs)\n",
        "    one_hot_index = index_arr[0].item(0)\n",
        "    y_test_1d.append(one_hot_index)\n",
        "\n",
        "for i in range(0, len(y_softmax)):\n",
        "    probs = y_softmax[i]\n",
        "    predicted_index = np.argmax(probs)\n",
        "    y_pred_1d.append(predicted_index)"
      ],
      "execution_count": 0,
      "outputs": []
    },
    {
      "metadata": {
        "id": "FoZslkDgDWeL",
        "colab_type": "code",
        "colab": {
          "base_uri": "https://localhost:8080/",
          "height": 74
        },
        "outputId": "79b6c402-4225-463e-f4ea-c8cf81226569"
      },
      "cell_type": "code",
      "source": [
        "print(y_test_1d)\n",
        "print(y_pred_1d)"
      ],
      "execution_count": 94,
      "outputs": [
        {
          "output_type": "stream",
          "text": [
            "[6, 7, 6, 0, 7, 0, 3, 4, 5, 7, 7, 6, 2, 6, 3, 2, 3, 6, 2, 6, 3, 4, 6, 6, 6, 2, 4, 2, 4, 3, 3, 0, 7, 7, 2, 6, 4, 4, 4, 7, 2, 5, 3, 4, 6, 2, 6, 6, 3, 0, 7, 1, 0, 2, 0, 6, 6, 0, 6, 6, 4, 1, 6, 2, 2, 6, 4, 6, 2, 0, 6, 1, 6, 0, 6, 6, 3, 0, 6, 6, 0, 4, 6, 6, 6, 6, 2, 4, 4, 6, 4, 7, 6, 7, 6, 6, 0, 1, 3, 0, 5, 6, 2, 3, 0, 5, 3, 4, 7, 2, 5, 4, 6, 4, 6, 6, 5, 2, 6, 4, 3, 1, 0, 3, 2, 2, 5, 7, 6, 1, 7, 6, 2, 3, 6, 2, 7, 7, 7, 0, 2, 3, 6, 3, 7, 3, 4, 5, 7, 6, 5, 6, 5, 7, 0, 3, 2, 7, 7, 7, 4, 3, 4, 7, 6, 6, 2, 5, 0, 4, 0, 2, 4, 3, 4, 6, 3, 6, 7, 6, 3, 4, 2, 7, 4, 4, 4, 6, 3, 4, 4, 0, 0, 1, 4, 6, 2, 6, 6, 4, 6, 7, 3, 4, 7, 5]\n",
            "[6, 1, 6, 5, 7, 7, 4, 4, 3, 7, 7, 6, 2, 6, 0, 2, 2, 6, 0, 6, 5, 4, 6, 6, 6, 2, 0, 2, 4, 5, 3, 2, 0, 1, 2, 6, 4, 4, 4, 7, 2, 5, 3, 4, 6, 0, 6, 6, 2, 0, 7, 7, 0, 4, 2, 6, 6, 5, 6, 6, 4, 7, 6, 2, 4, 6, 0, 6, 2, 0, 3, 0, 6, 0, 6, 6, 3, 2, 6, 6, 6, 4, 6, 6, 5, 6, 2, 4, 4, 6, 4, 7, 6, 7, 6, 6, 2, 1, 2, 0, 5, 6, 2, 5, 0, 5, 2, 7, 7, 2, 5, 4, 6, 4, 6, 6, 3, 2, 6, 4, 0, 7, 0, 3, 2, 2, 4, 7, 6, 3, 2, 6, 2, 2, 6, 4, 7, 7, 3, 5, 6, 7, 6, 2, 7, 2, 0, 5, 7, 6, 5, 6, 5, 7, 0, 3, 7, 7, 7, 7, 2, 0, 4, 7, 6, 6, 0, 5, 4, 4, 2, 2, 4, 3, 4, 6, 3, 6, 1, 5, 3, 4, 2, 7, 4, 4, 4, 6, 0, 4, 0, 2, 2, 0, 4, 6, 2, 6, 6, 4, 6, 7, 2, 2, 4, 5]\n"
          ],
          "name": "stdout"
        }
      ]
    },
    {
      "metadata": {
        "id": "AnZ1A72_G3Uc",
        "colab_type": "code",
        "colab": {}
      },
      "cell_type": "code",
      "source": [
        "from keras.models import load_model\n",
        "\n",
        "model.save('CNN_struct.h5')  # creates a HDF5 file 'my_model.h5'\n",
        "model.save_weights('CNN_struct_weights.h5')"
      ],
      "execution_count": 0,
      "outputs": []
    },
    {
      "metadata": {
        "id": "Ve7Eb2HmzkFo",
        "colab_type": "text"
      },
      "cell_type": "markdown",
      "source": [
        "## different CNN Architecture"
      ]
    },
    {
      "metadata": {
        "id": "Bm4Vi3x_zy6M",
        "colab_type": "code",
        "colab": {}
      },
      "cell_type": "code",
      "source": [
        ""
      ],
      "execution_count": 0,
      "outputs": []
    },
    {
      "metadata": {
        "id": "iR1W-LLGzzPO",
        "colab_type": "code",
        "colab": {}
      },
      "cell_type": "code",
      "source": [
        ""
      ],
      "execution_count": 0,
      "outputs": []
    },
    {
      "metadata": {
        "id": "6Bn7rj8AzzVW",
        "colab_type": "code",
        "colab": {}
      },
      "cell_type": "code",
      "source": [
        ""
      ],
      "execution_count": 0,
      "outputs": []
    },
    {
      "metadata": {
        "id": "3c_cG0qezzTD",
        "colab_type": "code",
        "colab": {}
      },
      "cell_type": "code",
      "source": [
        ""
      ],
      "execution_count": 0,
      "outputs": []
    },
    {
      "metadata": {
        "id": "NIz8-qn4zzM7",
        "colab_type": "code",
        "colab": {}
      },
      "cell_type": "code",
      "source": [
        ""
      ],
      "execution_count": 0,
      "outputs": []
    },
    {
      "metadata": {
        "id": "3T4N4ceyzzKl",
        "colab_type": "code",
        "colab": {}
      },
      "cell_type": "code",
      "source": [
        ""
      ],
      "execution_count": 0,
      "outputs": []
    },
    {
      "metadata": {
        "id": "dQNHQYFSzzHn",
        "colab_type": "code",
        "colab": {}
      },
      "cell_type": "code",
      "source": [
        ""
      ],
      "execution_count": 0,
      "outputs": []
    },
    {
      "metadata": {
        "id": "Pr-MvoHpzzFJ",
        "colab_type": "code",
        "colab": {}
      },
      "cell_type": "code",
      "source": [
        ""
      ],
      "execution_count": 0,
      "outputs": []
    },
    {
      "metadata": {
        "id": "bWGj5OI8zzC4",
        "colab_type": "code",
        "colab": {}
      },
      "cell_type": "code",
      "source": [
        ""
      ],
      "execution_count": 0,
      "outputs": []
    },
    {
      "metadata": {
        "id": "TR2IvYwizzAK",
        "colab_type": "code",
        "colab": {}
      },
      "cell_type": "code",
      "source": [
        ""
      ],
      "execution_count": 0,
      "outputs": []
    },
    {
      "metadata": {
        "id": "joywrGJxzy93",
        "colab_type": "code",
        "colab": {}
      },
      "cell_type": "code",
      "source": [
        ""
      ],
      "execution_count": 0,
      "outputs": []
    },
    {
      "metadata": {
        "id": "0_piSZM5WRiV",
        "colab_type": "text"
      },
      "cell_type": "markdown",
      "source": [
        "## Simple LSTM\n"
      ]
    },
    {
      "metadata": {
        "id": "pdRmdaiPWVCE",
        "colab_type": "code",
        "colab": {
          "base_uri": "https://localhost:8080/",
          "height": 363
        },
        "outputId": "2f22f5e7-3133-48d0-e2b4-c0abdb3fc730"
      },
      "cell_type": "code",
      "source": [
        "from keras.models import Sequential\n",
        "from keras.layers import *\n",
        "\n",
        "sequence_input = Input(shape=(MAX_SEQUENCE_LENGTH,), dtype='int32')\n",
        "embedded_sequences = embedding_layer(sequence_input)\n",
        "\n",
        "\n",
        "model_lstm = Sequential()\n",
        "model_lstm.add(Embedding(100000, 100, input_length=MAX_SEQUENCE_LENGTH))\n",
        "model_lstm.add(Dropout(0.2))\n",
        "model_lstm.add(Conv1D(128, 5, activation='relu'))\n",
        "model_lstm.add(MaxPooling1D(pool_size=4))\n",
        "\n",
        "model_lstm.add(LSTM(100, dropout=0.2, recurrent_dropout=0.2))\n",
        "model_lstm.add(Dense(8, activation='softmax'))\n",
        "model_lstm.compile(loss='categorical_crossentropy', optimizer='adam', metrics=['accuracy'])\n",
        "\n",
        "model_lstm.summary()"
      ],
      "execution_count": 56,
      "outputs": [
        {
          "output_type": "stream",
          "text": [
            "_________________________________________________________________\n",
            "Layer (type)                 Output Shape              Param #   \n",
            "=================================================================\n",
            "embedding_12 (Embedding)     (None, 100000, 100)       10000000  \n",
            "_________________________________________________________________\n",
            "dropout_14 (Dropout)         (None, 100000, 100)       0         \n",
            "_________________________________________________________________\n",
            "conv1d_14 (Conv1D)           (None, 99996, 128)        64128     \n",
            "_________________________________________________________________\n",
            "max_pooling1d_14 (MaxPooling (None, 24999, 128)        0         \n",
            "_________________________________________________________________\n",
            "lstm_10 (LSTM)               (None, 100)               91600     \n",
            "_________________________________________________________________\n",
            "dense_12 (Dense)             (None, 8)                 808       \n",
            "=================================================================\n",
            "Total params: 10,156,536\n",
            "Trainable params: 10,156,536\n",
            "Non-trainable params: 0\n",
            "_________________________________________________________________\n"
          ],
          "name": "stdout"
        }
      ]
    },
    {
      "metadata": {
        "id": "fMD3qvqRkXoe",
        "colab_type": "code",
        "colab": {}
      },
      "cell_type": "code",
      "source": [
        "filepath=\"weights.best.hdf5\"\n",
        "checkpoint = ModelCheckpoint(filepath, monitor='val_acc', verbose=1, save_best_only=True, mode='max')\n",
        "callbacks_list = [checkpoint]"
      ],
      "execution_count": 0,
      "outputs": []
    },
    {
      "metadata": {
        "id": "EuDc80Qom6Ou",
        "colab_type": "code",
        "colab": {}
      },
      "cell_type": "code",
      "source": [
        "history = model_lstm.fit(x_train, y_train,\n",
        "                    batch_size=16,\n",
        "                    epochs=2,\n",
        "                    verbose=1,\n",
        "                    validation_split=0.2, callbacks=callbacks_list)"
      ],
      "execution_count": 0,
      "outputs": []
    },
    {
      "metadata": {
        "id": "haiz_BJyXJfs",
        "colab_type": "code",
        "colab": {}
      },
      "cell_type": "code",
      "source": [
        "print(history.history.keys())\n",
        "# summarize history for accuracy\n",
        "plt.plot(history.history['acc'])\n",
        "plt.plot(history.history['val_acc'])\n",
        "plt.title('model accuracy')\n",
        "plt.ylabel('accuracy')\n",
        "plt.xlabel('epoch')\n",
        "plt.legend(['train', 'test'], loc='upper left')\n",
        "plt.show()\n",
        "# summarize history for loss\n",
        "plt.plot(history.history['loss'])\n",
        "plt.plot(history.history['val_loss'])\n",
        "plt.title('model loss')\n",
        "plt.ylabel('loss')\n",
        "plt.xlabel('epoch')\n",
        "plt.legend(['train', 'test'], loc='upper left')\n",
        "plt.show()"
      ],
      "execution_count": 0,
      "outputs": []
    },
    {
      "metadata": {
        "id": "-ZnLVbAxXJj1",
        "colab_type": "code",
        "colab": {}
      },
      "cell_type": "code",
      "source": [
        "model_lstm.load_weights(\"weights.best.hdf5\")\n",
        "# Compile model (required to make predictions)\n",
        "model_lstm.compile(loss='categorical_crossentropy', optimizer='adam', metrics=['accuracy'])\n"
      ],
      "execution_count": 0,
      "outputs": []
    },
    {
      "metadata": {
        "id": "4c3ZO_-wXJnG",
        "colab_type": "code",
        "colab": {}
      },
      "cell_type": "code",
      "source": [
        ""
      ],
      "execution_count": 0,
      "outputs": []
    },
    {
      "metadata": {
        "id": "Tf_YTruFXJqy",
        "colab_type": "code",
        "colab": {}
      },
      "cell_type": "code",
      "source": [
        ""
      ],
      "execution_count": 0,
      "outputs": []
    },
    {
      "metadata": {
        "id": "qdfIykU8_70j",
        "colab_type": "text"
      },
      "cell_type": "markdown",
      "source": [
        "### Create training and test split of the labels"
      ]
    },
    {
      "metadata": {
        "id": "QV9VUUhm94t5",
        "colab_type": "code",
        "colab": {}
      },
      "cell_type": "code",
      "source": [
        "from sklearn.model_selection import train_test_split\n",
        "\n",
        "#split the data and labels into a test and train set\n",
        "X_trainS, X_testS, y_trainS, y_testS = train_test_split(texts, labelsStruct, test_size=0.3, random_state=0)"
      ],
      "execution_count": 0,
      "outputs": []
    },
    {
      "metadata": {
        "id": "lBY-D24aVDAx",
        "colab_type": "code",
        "colab": {}
      },
      "cell_type": "code",
      "source": [
        "#split the data and labels into a test and train set\n",
        "X_trainP, X_testP, y_trainP, y_testP = train_test_split(texts, labelsPath, test_size=0.3, random_state=0)"
      ],
      "execution_count": 0,
      "outputs": []
    },
    {
      "metadata": {
        "id": "Zqb_oBQLVDL8",
        "colab_type": "code",
        "colab": {}
      },
      "cell_type": "code",
      "source": [
        "#split for category texts and labels\n",
        "X_trainC, X_testC, y_trainC, y_testC = train_test_split(cat_texts, labelsCat, test_size=0.3, random_state=0)"
      ],
      "execution_count": 0,
      "outputs": []
    },
    {
      "metadata": {
        "id": "d7iwYpbNOyir",
        "colab_type": "text"
      },
      "cell_type": "markdown",
      "source": [
        "## Preprocessing\n",
        "In this part of the notebook we are going to preprocess the data itself. The data will be tokenized, preprocessed and stored as Training and Test sets"
      ]
    },
    {
      "metadata": {
        "id": "CuGZRu7DqDEX",
        "colab_type": "code",
        "colab": {}
      },
      "cell_type": "code",
      "source": [
        "from keras.preprocessing.text import Tokenizer"
      ],
      "execution_count": 0,
      "outputs": []
    },
    {
      "metadata": {
        "id": "u1C6_30s9H3F",
        "colab_type": "text"
      },
      "cell_type": "markdown",
      "source": [
        "Once fit, the Tokenizer provides 4 attributes that you can use to query what has been learned about your documents:\n",
        "\n",
        "*   word_counts: A dictionary of words and their counts.\n",
        "*   word_docs: A dictionary of words and how many documents each appeared in.\n",
        "*   word_index: A dictionary of words and their uniquely assigned integers.\n",
        "*   document_count:An integer count of the total number of documents that were used to fit the Tokenizer.\n",
        "\n",
        "\n",
        "[source](https://machinelearningmastery.com/prepare-text-data-deep-learning-keras/)\n"
      ]
    },
    {
      "metadata": {
        "id": "kUGDglE0qLI_",
        "colab_type": "code",
        "colab": {}
      },
      "cell_type": "code",
      "source": [
        "tokenizer = Tokenizer(num_words=100000,filters='!\"#$%&()*+,-/:;<=>?@[\\\\]^_`{|}~\\t\\n')\n",
        "\n",
        "tokenizer\n",
        "\n",
        "tokenizer.fit_on_texts(specs_json)\n",
        "\n",
        "\n",
        "\n",
        "x_train = tokenizer.texts_to_matrix(X_train)\n",
        "x_test = tokenizer.texts_to_matrix(X_test)"
      ],
      "execution_count": 0,
      "outputs": []
    },
    {
      "metadata": {
        "id": "WsgqtUCeNbRw",
        "colab_type": "text"
      },
      "cell_type": "markdown",
      "source": [
        "--------------------------------"
      ]
    },
    {
      "metadata": {
        "id": "jz4rsCxiMze_",
        "colab_type": "code",
        "colab": {
          "base_uri": "https://localhost:8080/",
          "height": 136
        },
        "outputId": "701ab7d4-0184-4411-98f5-c21701e95b1f"
      },
      "cell_type": "code",
      "source": [
        "x_train"
      ],
      "execution_count": 84,
      "outputs": [
        {
          "output_type": "execute_result",
          "data": {
            "text/plain": [
              "array([[0., 0., 1., ..., 0., 0., 0.],\n",
              "       [0., 1., 1., ..., 0., 0., 0.],\n",
              "       [0., 1., 1., ..., 0., 0., 0.],\n",
              "       ...,\n",
              "       [0., 1., 1., ..., 0., 0., 0.],\n",
              "       [0., 1., 1., ..., 0., 0., 0.],\n",
              "       [0., 1., 1., ..., 0., 0., 0.]])"
            ]
          },
          "metadata": {
            "tags": []
          },
          "execution_count": 84
        }
      ]
    },
    {
      "metadata": {
        "id": "q7laEC0enX73",
        "colab_type": "code",
        "colab": {
          "base_uri": "https://localhost:8080/",
          "height": 136
        },
        "outputId": "8ce8e931-acf5-4bc4-bede-95cf86107056"
      },
      "cell_type": "code",
      "source": [
        "x_test"
      ],
      "execution_count": 85,
      "outputs": [
        {
          "output_type": "execute_result",
          "data": {
            "text/plain": [
              "array([[0., 1., 1., ..., 0., 0., 0.],\n",
              "       [0., 1., 1., ..., 0., 0., 0.],\n",
              "       [0., 1., 1., ..., 0., 0., 0.],\n",
              "       ...,\n",
              "       [0., 1., 1., ..., 0., 0., 0.],\n",
              "       [0., 1., 1., ..., 0., 0., 0.],\n",
              "       [0., 1., 1., ..., 0., 0., 0.]])"
            ]
          },
          "metadata": {
            "tags": []
          },
          "execution_count": 85
        }
      ]
    },
    {
      "metadata": {
        "id": "n6Iwh_emNDNx",
        "colab_type": "code",
        "colab": {}
      },
      "cell_type": "code",
      "source": [
        "from sklearn.preprocessing import LabelBinarizer, LabelEncoder\n",
        "\n",
        "encoder = LabelBinarizer()\n",
        "encoder.fit(labelsStruct)\n",
        "y_train = encoder.transform(Y_Struct_train)\n",
        "y_test = encoder.transform(Y_Struct_test)"
      ],
      "execution_count": 0,
      "outputs": []
    },
    {
      "metadata": {
        "id": "jMkvycgpN2Xh",
        "colab_type": "code",
        "colab": {
          "base_uri": "https://localhost:8080/",
          "height": 136
        },
        "outputId": "6b4ae8b3-9f53-4be2-f7c1-a41e19ce3bb3"
      },
      "cell_type": "code",
      "source": [
        "y_train"
      ],
      "execution_count": 94,
      "outputs": [
        {
          "output_type": "execute_result",
          "data": {
            "text/plain": [
              "array([[1, 0, 0, ..., 0, 0, 0],\n",
              "       [0, 1, 0, ..., 0, 0, 0],\n",
              "       [0, 0, 1, ..., 0, 0, 0],\n",
              "       ...,\n",
              "       [0, 0, 0, ..., 0, 0, 1],\n",
              "       [1, 0, 0, ..., 0, 0, 0],\n",
              "       [1, 0, 0, ..., 0, 0, 0]])"
            ]
          },
          "metadata": {
            "tags": []
          },
          "execution_count": 94
        }
      ]
    },
    {
      "metadata": {
        "id": "zZ7-cvhMNfDq",
        "colab_type": "code",
        "colab": {
          "base_uri": "https://localhost:8080/",
          "height": 34
        },
        "outputId": "f09fa9e5-fdfa-441d-c4c8-27979b42c1bc"
      },
      "cell_type": "code",
      "source": [
        "len(x_train[0])"
      ],
      "execution_count": 95,
      "outputs": [
        {
          "output_type": "execute_result",
          "data": {
            "text/plain": [
              "100000"
            ]
          },
          "metadata": {
            "tags": []
          },
          "execution_count": 95
        }
      ]
    },
    {
      "metadata": {
        "id": "Y6fsswTNNyOH",
        "colab_type": "code",
        "colab": {
          "base_uri": "https://localhost:8080/",
          "height": 34
        },
        "outputId": "c51318d7-041e-476a-e18e-1e994f4d7bc7"
      },
      "cell_type": "code",
      "source": [
        "print('y_train shape:', y_train.shape)"
      ],
      "execution_count": 96,
      "outputs": [
        {
          "output_type": "stream",
          "text": [
            "y_train shape: (808, 8)\n"
          ],
          "name": "stdout"
        }
      ]
    },
    {
      "metadata": {
        "id": "VXyYma_oOEub",
        "colab_type": "code",
        "colab": {
          "base_uri": "https://localhost:8080/",
          "height": 34
        },
        "outputId": "5b665a37-c76c-4731-83e2-b3820111e90d"
      },
      "cell_type": "code",
      "source": [
        "print('x_train shape:', x_train.shape)"
      ],
      "execution_count": 97,
      "outputs": [
        {
          "output_type": "stream",
          "text": [
            "x_train shape: (808, 100000)\n"
          ],
          "name": "stdout"
        }
      ]
    },
    {
      "metadata": {
        "id": "4s0Ib7kGOI1z",
        "colab_type": "code",
        "colab": {}
      },
      "cell_type": "code",
      "source": [
        "batch_size = 32\n",
        "epochs = 2"
      ],
      "execution_count": 0,
      "outputs": []
    },
    {
      "metadata": {
        "id": "4ybyYVkwNcv2",
        "colab_type": "text"
      },
      "cell_type": "markdown",
      "source": [
        "---------------------------------------------------------------"
      ]
    },
    {
      "metadata": {
        "id": "XcdTm3h8v5cS",
        "colab_type": "text"
      },
      "cell_type": "markdown",
      "source": [
        "## Model Architecture\n",
        "In this section of the notebook the actual deep learning model is designed and the architecture presented before the actual training of it will take place."
      ]
    },
    {
      "metadata": {
        "id": "Jd7dTA9vASip",
        "colab_type": "code",
        "colab": {}
      },
      "cell_type": "code",
      "source": [
        "model = Sequential()\n",
        "model.add(Embedding(10000, 128, input_length=100000))\n",
        "model.add(Dropout(0.2))\n",
        "model.add(Conv1D(64, 5, activation='relu'))\n",
        "model.add(MaxPooling1D(pool_size=4))\n",
        "model.add(Dropout(0.2))\n",
        "model.add(LSTM(128))\n",
        "model.add(Dropout(0.2))\n",
        "\n",
        "model.add(Dense(8, activation='softmax',name = 'softmax_layer'))\n",
        "\n",
        "model.compile(loss='categorical_crossentropy',\n",
        "              optimizer='adam',\n",
        "              metrics=['accuracy'])"
      ],
      "execution_count": 0,
      "outputs": []
    },
    {
      "metadata": {
        "id": "7RJGHv4wBLtm",
        "colab_type": "code",
        "colab": {
          "base_uri": "https://localhost:8080/",
          "height": 425
        },
        "outputId": "be5ee237-b747-42ea-d91e-fe81dee33232"
      },
      "cell_type": "code",
      "source": [
        "print(model.summary())"
      ],
      "execution_count": 114,
      "outputs": [
        {
          "output_type": "stream",
          "text": [
            "_________________________________________________________________\n",
            "Layer (type)                 Output Shape              Param #   \n",
            "=================================================================\n",
            "embedding_3 (Embedding)      (None, 100000, 128)       1280000   \n",
            "_________________________________________________________________\n",
            "dropout_26 (Dropout)         (None, 100000, 128)       0         \n",
            "_________________________________________________________________\n",
            "conv1d_5 (Conv1D)            (None, 99996, 64)         41024     \n",
            "_________________________________________________________________\n",
            "max_pooling1d_5 (MaxPooling1 (None, 24999, 64)         0         \n",
            "_________________________________________________________________\n",
            "dropout_27 (Dropout)         (None, 24999, 64)         0         \n",
            "_________________________________________________________________\n",
            "lstm_2 (LSTM)                (None, 128)               98816     \n",
            "_________________________________________________________________\n",
            "dropout_28 (Dropout)         (None, 128)               0         \n",
            "_________________________________________________________________\n",
            "softmax_layer (Dense)        (None, 8)                 1032      \n",
            "=================================================================\n",
            "Total params: 1,420,872\n",
            "Trainable params: 1,420,872\n",
            "Non-trainable params: 0\n",
            "_________________________________________________________________\n",
            "None\n"
          ],
          "name": "stdout"
        }
      ]
    },
    {
      "metadata": {
        "id": "V8Yt5meuCIpu",
        "colab_type": "code",
        "colab": {
          "base_uri": "https://localhost:8080/",
          "height": 68
        },
        "outputId": "0ad49f1f-f999-4712-a537-04e0c0d2aac1"
      },
      "cell_type": "code",
      "source": [
        "history = model.fit(x_train, y_train,\n",
        "                    batch_size=8,\n",
        "                    epochs=3,\n",
        "                    verbose=1,\n",
        "                    validation_split=0.2)"
      ],
      "execution_count": 0,
      "outputs": [
        {
          "output_type": "stream",
          "text": [
            "Train on 646 samples, validate on 162 samples\n",
            "Epoch 1/3\n",
            "  8/646 [..............................] - ETA: 1:48:40 - loss: 2.0601 - acc: 0.3750"
          ],
          "name": "stdout"
        }
      ]
    },
    {
      "metadata": {
        "id": "C2FJ7cblWJvz",
        "colab_type": "code",
        "colab": {}
      },
      "cell_type": "code",
      "source": [
        "model2 = Sequential()\n",
        "model2.add(Dense(2048, input_shape=(100000,), activation='relu'))\n",
        "model2.add(Dropout(0.2))\n",
        "model2.add(Dense(1024, activation='sigmoid'))\n",
        "model2.add(Dropout(0.2))\n",
        "model2.add(Dense(8, activation='softmax'))\n",
        "\n",
        "model2.compile(loss='categorical_crossentropy',\n",
        "              optimizer='adam',\n",
        "              metrics=['accuracy'])"
      ],
      "execution_count": 0,
      "outputs": []
    },
    {
      "metadata": {
        "id": "KQlNbNAGnijL",
        "colab_type": "code",
        "colab": {
          "base_uri": "https://localhost:8080/",
          "height": 323
        },
        "outputId": "95783b83-3547-46af-a24a-7d42ab61e42b"
      },
      "cell_type": "code",
      "source": [
        "print(model2.summary())"
      ],
      "execution_count": 110,
      "outputs": [
        {
          "output_type": "stream",
          "text": [
            "_________________________________________________________________\n",
            "Layer (type)                 Output Shape              Param #   \n",
            "=================================================================\n",
            "dense_27 (Dense)             (None, 2048)              204802048 \n",
            "_________________________________________________________________\n",
            "dropout_21 (Dropout)         (None, 2048)              0         \n",
            "_________________________________________________________________\n",
            "dense_28 (Dense)             (None, 1024)              2098176   \n",
            "_________________________________________________________________\n",
            "dropout_22 (Dropout)         (None, 1024)              0         \n",
            "_________________________________________________________________\n",
            "dense_29 (Dense)             (None, 8)                 8200      \n",
            "=================================================================\n",
            "Total params: 206,908,424\n",
            "Trainable params: 206,908,424\n",
            "Non-trainable params: 0\n",
            "_________________________________________________________________\n",
            "None\n"
          ],
          "name": "stdout"
        }
      ]
    },
    {
      "metadata": {
        "id": "jnUsffQZWRBg",
        "colab_type": "code",
        "colab": {}
      },
      "cell_type": "code",
      "source": [
        "history2 = model2.fit(x_train, y_train,\n",
        "                    batch_size=32,\n",
        "                    epochs=15,\n",
        "                    verbose=1,\n",
        "                    validation_split=0.2)"
      ],
      "execution_count": 0,
      "outputs": []
    },
    {
      "metadata": {
        "id": "vzUDM9CDCJRT",
        "colab_type": "text"
      },
      "cell_type": "markdown",
      "source": [
        "### first training"
      ]
    },
    {
      "metadata": {
        "id": "9l7QvruIHdqR",
        "colab_type": "code",
        "colab": {}
      },
      "cell_type": "code",
      "source": [
        "score = model.evaluate(x_test, y_test,\n",
        "                       batch_size=batch_size, verbose=1)\n",
        "print('Test score:', score[0])\n",
        "print('Test accuracy:', score[1])"
      ],
      "execution_count": 0,
      "outputs": []
    },
    {
      "metadata": {
        "id": "ctpjYyyMpEqo",
        "colab_type": "code",
        "colab": {}
      },
      "cell_type": "code",
      "source": [
        "score = model2.evaluate(x_test, y_test,\n",
        "                       batch_size=batch_size, verbose=1)\n",
        "print('Test score:', score[0])\n",
        "print('Test accuracy:', score[1])"
      ],
      "execution_count": 0,
      "outputs": []
    },
    {
      "metadata": {
        "id": "8WQ4F679hyLm",
        "colab_type": "code",
        "colab": {}
      },
      "cell_type": "code",
      "source": [
        "loss_and_metrics = model.evaluate(x_test, y_test, batch_size=128)\n"
      ],
      "execution_count": 0,
      "outputs": []
    },
    {
      "metadata": {
        "id": "9vfewUCch1Rt",
        "colab_type": "code",
        "colab": {}
      },
      "cell_type": "code",
      "source": [
        "loss_and_metrics = model2.evaluate(x_test, y_test, batch_size=128)\n"
      ],
      "execution_count": 0,
      "outputs": []
    },
    {
      "metadata": {
        "id": "8f_DGORah3_e",
        "colab_type": "text"
      },
      "cell_type": "markdown",
      "source": [
        "### Use Model"
      ]
    },
    {
      "metadata": {
        "id": "7KJBPAjzh-MK",
        "colab_type": "code",
        "colab": {}
      },
      "cell_type": "code",
      "source": [
        "classes = model.predict(x_test, batch_size=128)\n"
      ],
      "execution_count": 0,
      "outputs": []
    },
    {
      "metadata": {
        "id": "n09BxUwsiFsU",
        "colab_type": "code",
        "colab": {}
      },
      "cell_type": "code",
      "source": [
        "classes2 = model2.predict(x_test, batch_size=128)"
      ],
      "execution_count": 0,
      "outputs": []
    },
    {
      "metadata": {
        "id": "crjp_6xirw1Y",
        "colab_type": "text"
      },
      "cell_type": "markdown",
      "source": [
        "### Evaluation"
      ]
    }
  ]
}