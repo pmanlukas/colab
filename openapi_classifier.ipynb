{
  "nbformat": 4,
  "nbformat_minor": 0,
  "metadata": {
    "colab": {
      "name": "openapi-classifier.ipynb",
      "version": "0.3.2",
      "provenance": [],
      "collapsed_sections": []
    },
    "kernelspec": {
      "name": "python3",
      "display_name": "Python 3"
    },
    "accelerator": "GPU"
  },
  "cells": [
    {
      "cell_type": "markdown",
      "metadata": {
        "id": "view-in-github",
        "colab_type": "text"
      },
      "source": [
        "[View in Colaboratory](https://colab.research.google.com/github/pmanlukas/colab/blob/master/openapi_classifier.ipynb)"
      ]
    },
    {
      "metadata": {
        "id": "RlJFXtFWandL",
        "colab_type": "text"
      },
      "cell_type": "markdown",
      "source": [
        "# openAPI spec classifier\n",
        "This notebook is used to create a first proof of concept on a classifier for openAPI files. The classifier will be based on a neural network based architecture and will be implemented in Tensorflow, SciPy and Keras."
      ]
    },
    {
      "metadata": {
        "id": "sp4kSQncaqEY",
        "colab_type": "code",
        "colab": {
          "base_uri": "https://localhost:8080/",
          "height": 2278
        },
        "outputId": "104f9b86-0379-4310-98cb-5c62e43fd3a0"
      },
      "cell_type": "code",
      "source": [
        "# Install a Drive FUSE wrapper.\n",
        "# https://github.com/astrada/google-drive-ocamlfuse\n",
        "!apt-get install -y -qq software-properties-common python-software-properties module-init-tools\n",
        "!add-apt-repository -y ppa:alessandro-strada/ppa 2>&1 > /dev/null\n",
        "!apt-get update -qq 2>&1 > /dev/null\n",
        "!apt-get -y install -qq google-drive-ocamlfuse fuse"
      ],
      "execution_count": 1,
      "outputs": [
        {
          "output_type": "stream",
          "text": [
            "Preconfiguring packages ...\n",
            "Selecting previously unselected package cron.\n",
            "(Reading database ... 18298 files and directories currently installed.)\n",
            "Preparing to unpack .../00-cron_3.0pl1-128ubuntu5_amd64.deb ...\n",
            "Unpacking cron (3.0pl1-128ubuntu5) ...\n",
            "Selecting previously unselected package libapparmor1:amd64.\n",
            "Preparing to unpack .../01-libapparmor1_2.11.0-2ubuntu17.1_amd64.deb ...\n",
            "Unpacking libapparmor1:amd64 (2.11.0-2ubuntu17.1) ...\n",
            "Selecting previously unselected package libdbus-1-3:amd64.\n",
            "Preparing to unpack .../02-libdbus-1-3_1.10.22-1ubuntu1_amd64.deb ...\n",
            "Unpacking libdbus-1-3:amd64 (1.10.22-1ubuntu1) ...\n",
            "Selecting previously unselected package dbus.\n",
            "Preparing to unpack .../03-dbus_1.10.22-1ubuntu1_amd64.deb ...\n",
            "Unpacking dbus (1.10.22-1ubuntu1) ...\n",
            "Selecting previously unselected package dirmngr.\n",
            "Preparing to unpack .../04-dirmngr_2.1.15-1ubuntu8_amd64.deb ...\n",
            "Unpacking dirmngr (2.1.15-1ubuntu8) ...\n",
            "Selecting previously unselected package distro-info-data.\n",
            "Preparing to unpack .../05-distro-info-data_0.36ubuntu0.2_all.deb ...\n",
            "Unpacking distro-info-data (0.36ubuntu0.2) ...\n",
            "Selecting previously unselected package libkmod2:amd64.\n",
            "Preparing to unpack .../06-libkmod2_24-1ubuntu2_amd64.deb ...\n",
            "Unpacking libkmod2:amd64 (24-1ubuntu2) ...\n",
            "Selecting previously unselected package kmod.\n",
            "Preparing to unpack .../07-kmod_24-1ubuntu2_amd64.deb ...\n",
            "Unpacking kmod (24-1ubuntu2) ...\n",
            "Selecting previously unselected package lsb-release.\n",
            "Preparing to unpack .../08-lsb-release_9.20160110ubuntu5_all.deb ...\n",
            "Unpacking lsb-release (9.20160110ubuntu5) ...\n",
            "Selecting previously unselected package libgirepository-1.0-1:amd64.\n",
            "Preparing to unpack .../09-libgirepository-1.0-1_1.54.1-1_amd64.deb ...\n",
            "Unpacking libgirepository-1.0-1:amd64 (1.54.1-1) ...\n",
            "Selecting previously unselected package gir1.2-glib-2.0:amd64.\n",
            "Preparing to unpack .../10-gir1.2-glib-2.0_1.54.1-1_amd64.deb ...\n",
            "Unpacking gir1.2-glib-2.0:amd64 (1.54.1-1) ...\n",
            "Selecting previously unselected package iso-codes.\n",
            "Preparing to unpack .../11-iso-codes_3.75-1_all.deb ...\n",
            "Unpacking iso-codes (3.75-1) ...\n",
            "Selecting previously unselected package libdbus-glib-1-2:amd64.\n",
            "Preparing to unpack .../12-libdbus-glib-1-2_0.108-2_amd64.deb ...\n",
            "Unpacking libdbus-glib-1-2:amd64 (0.108-2) ...\n",
            "Selecting previously unselected package python-apt-common.\n",
            "Preparing to unpack .../13-python-apt-common_1.4.0~beta3build2_all.deb ...\n",
            "Unpacking python-apt-common (1.4.0~beta3build2) ...\n",
            "Selecting previously unselected package python3-apt.\n",
            "Preparing to unpack .../14-python3-apt_1.4.0~beta3build2_amd64.deb ...\n",
            "Unpacking python3-apt (1.4.0~beta3build2) ...\n",
            "Selecting previously unselected package python3-dbus.\n",
            "Preparing to unpack .../15-python3-dbus_1.2.4-1build3_amd64.deb ...\n",
            "Unpacking python3-dbus (1.2.4-1build3) ...\n",
            "Selecting previously unselected package python3-gi.\n",
            "Preparing to unpack .../16-python3-gi_3.24.1-2build1_amd64.deb ...\n",
            "Unpacking python3-gi (3.24.1-2build1) ...\n",
            "Selecting previously unselected package module-init-tools.\n",
            "Preparing to unpack .../17-module-init-tools_24-1ubuntu2_all.deb ...\n",
            "Unpacking module-init-tools (24-1ubuntu2) ...\n",
            "Selecting previously unselected package python-apt.\n",
            "Preparing to unpack .../18-python-apt_1.4.0~beta3build2_amd64.deb ...\n",
            "Unpacking python-apt (1.4.0~beta3build2) ...\n",
            "Selecting previously unselected package python-pycurl.\n",
            "Preparing to unpack .../19-python-pycurl_7.43.0-2build2_amd64.deb ...\n",
            "Unpacking python-pycurl (7.43.0-2build2) ...\n",
            "Selecting previously unselected package python-software-properties.\n",
            "Preparing to unpack .../20-python-software-properties_0.96.24.17_all.deb ...\n",
            "Unpacking python-software-properties (0.96.24.17) ...\n",
            "Selecting previously unselected package python3-software-properties.\n",
            "Preparing to unpack .../21-python3-software-properties_0.96.24.17_all.deb ...\n",
            "Unpacking python3-software-properties (0.96.24.17) ...\n",
            "Selecting previously unselected package software-properties-common.\n",
            "Preparing to unpack .../22-software-properties-common_0.96.24.17_all.deb ...\n",
            "Unpacking software-properties-common (0.96.24.17) ...\n",
            "Selecting previously unselected package unattended-upgrades.\n",
            "Preparing to unpack .../23-unattended-upgrades_0.98ubuntu1.1_all.deb ...\n",
            "Unpacking unattended-upgrades (0.98ubuntu1.1) ...\n",
            "Setting up python-apt-common (1.4.0~beta3build2) ...\n",
            "Setting up python3-apt (1.4.0~beta3build2) ...\n",
            "Setting up iso-codes (3.75-1) ...\n",
            "Setting up distro-info-data (0.36ubuntu0.2) ...\n",
            "Setting up python-pycurl (7.43.0-2build2) ...\n",
            "Setting up lsb-release (9.20160110ubuntu5) ...\n",
            "Setting up libgirepository-1.0-1:amd64 (1.54.1-1) ...\n",
            "Setting up libkmod2:amd64 (24-1ubuntu2) ...\n",
            "Setting up gir1.2-glib-2.0:amd64 (1.54.1-1) ...\n",
            "Processing triggers for libc-bin (2.26-0ubuntu2.1) ...\n",
            "Setting up libapparmor1:amd64 (2.11.0-2ubuntu17.1) ...\n",
            "Setting up unattended-upgrades (0.98ubuntu1.1) ...\n"
          ],
          "name": "stdout"
        },
        {
          "output_type": "stream",
          "text": [
            "\r\n",
            "Creating config file /etc/apt/apt.conf.d/20auto-upgrades with new version\n",
            "\n",
            "Creating config file /etc/apt/apt.conf.d/50unattended-upgrades with new version\n",
            "invoke-rc.d: could not determine current runlevel\n",
            "invoke-rc.d: policy-rc.d denied execution of start.\n",
            "Setting up dirmngr (2.1.15-1ubuntu8) ...\n",
            "Setting up cron (3.0pl1-128ubuntu5) ...\n",
            "Adding group `crontab' (GID 102) ...\n",
            "Done.\n",
            "update-rc.d: warning: start and stop actions are no longer supported; falling back to defaults\n",
            "update-rc.d: warning: stop runlevel arguments (1) do not match cron Default-Stop values (none)\n",
            "invoke-rc.d: could not determine current runlevel\n",
            "invoke-rc.d: policy-rc.d denied execution of start.\n",
            "Setting up libdbus-1-3:amd64 (1.10.22-1ubuntu1) ...\n",
            "Setting up kmod (24-1ubuntu2) ...\n",
            "Setting up libdbus-glib-1-2:amd64 (0.108-2) ...\n",
            "Setting up python3-gi (3.24.1-2build1) ...\n",
            "Setting up module-init-tools (24-1ubuntu2) ...\n",
            "Setting up python3-software-properties (0.96.24.17) ...\n",
            "Setting up dbus (1.10.22-1ubuntu1) ...\n",
            "Setting up python-apt (1.4.0~beta3build2) ...\n",
            "Setting up python3-dbus (1.2.4-1build3) ...\n",
            "Setting up python-software-properties (0.96.24.17) ...\n",
            "Setting up software-properties-common (0.96.24.17) ...\n",
            "Processing triggers for libc-bin (2.26-0ubuntu2.1) ...\n",
            "Processing triggers for dbus (1.10.22-1ubuntu1) ...\n",
            "gpg: keybox '/tmp/tmp4_0nqf59/pubring.gpg' created\n",
            "gpg: /tmp/tmp4_0nqf59/trustdb.gpg: trustdb created\n",
            "gpg: key AD5F235DF639B041: public key \"Launchpad PPA for Alessandro Strada\" imported\n",
            "gpg: Total number processed: 1\n",
            "gpg:               imported: 1\n",
            "Warning: apt-key output should not be parsed (stdout is not a terminal)\n",
            "Selecting previously unselected package libfuse2:amd64.\n",
            "(Reading database ... 19706 files and directories currently installed.)\n",
            "Preparing to unpack .../libfuse2_2.9.7-1ubuntu1_amd64.deb ...\n",
            "Unpacking libfuse2:amd64 (2.9.7-1ubuntu1) ...\n",
            "Selecting previously unselected package fuse.\n",
            "Preparing to unpack .../fuse_2.9.7-1ubuntu1_amd64.deb ...\n",
            "Unpacking fuse (2.9.7-1ubuntu1) ...\n",
            "Selecting previously unselected package google-drive-ocamlfuse.\n",
            "Preparing to unpack .../google-drive-ocamlfuse_0.6.21-0ubuntu2_amd64.deb ...\n",
            "Unpacking google-drive-ocamlfuse (0.6.21-0ubuntu2) ...\n",
            "Setting up libfuse2:amd64 (2.9.7-1ubuntu1) ...\n",
            "Processing triggers for libc-bin (2.26-0ubuntu2.1) ...\n",
            "Setting up fuse (2.9.7-1ubuntu1) ...\n",
            "Setting up google-drive-ocamlfuse (0.6.21-0ubuntu2) ...\n"
          ],
          "name": "stdout"
        }
      ]
    },
    {
      "metadata": {
        "id": "5W9g2Zp9a45h",
        "colab_type": "code",
        "colab": {}
      },
      "cell_type": "code",
      "source": [
        "# Generate auth tokens for Colab\n",
        "from google.colab import auth\n",
        "auth.authenticate_user()"
      ],
      "execution_count": 0,
      "outputs": []
    },
    {
      "metadata": {
        "id": "b2uG7hEra8k9",
        "colab_type": "code",
        "colab": {
          "base_uri": "https://localhost:8080/",
          "height": 105
        },
        "outputId": "663c09f6-762a-43f4-a5fd-a2a2a3666209"
      },
      "cell_type": "code",
      "source": [
        "# Generate creds for the Drive FUSE library.\n",
        "from oauth2client.client import GoogleCredentials\n",
        "creds = GoogleCredentials.get_application_default()\n",
        "import getpass\n",
        "!google-drive-ocamlfuse -headless -id={creds.client_id} -secret={creds.client_secret} < /dev/null 2>&1 | grep URL\n",
        "vcode = getpass.getpass()\n",
        "!echo {vcode} | google-drive-ocamlfuse -headless -id={creds.client_id} -secret={creds.client_secret}"
      ],
      "execution_count": 4,
      "outputs": [
        {
          "output_type": "stream",
          "text": [
            "Please, open the following URL in a web browser: https://accounts.google.com/o/oauth2/auth?client_id=32555940559.apps.googleusercontent.com&redirect_uri=urn%3Aietf%3Awg%3Aoauth%3A2.0%3Aoob&scope=https%3A%2F%2Fwww.googleapis.com%2Fauth%2Fdrive&response_type=code&access_type=offline&approval_prompt=force\r\n",
            "··········\n",
            "Please, open the following URL in a web browser: https://accounts.google.com/o/oauth2/auth?client_id=32555940559.apps.googleusercontent.com&redirect_uri=urn%3Aietf%3Awg%3Aoauth%3A2.0%3Aoob&scope=https%3A%2F%2Fwww.googleapis.com%2Fauth%2Fdrive&response_type=code&access_type=offline&approval_prompt=force\n",
            "Please enter the verification code: Access token retrieved correctly.\n"
          ],
          "name": "stdout"
        }
      ]
    },
    {
      "metadata": {
        "id": "63mVwUIrbEwM",
        "colab_type": "code",
        "colab": {}
      },
      "cell_type": "code",
      "source": [
        "# Create a directory and mount Google Drive using that directory.\n",
        "!mkdir -p drive\n",
        "!google-drive-ocamlfuse drive"
      ],
      "execution_count": 0,
      "outputs": []
    },
    {
      "metadata": {
        "id": "-hOy5JgWbF9t",
        "colab_type": "code",
        "colab": {}
      },
      "cell_type": "code",
      "source": [
        "# Create a folder to use for the project data\n",
        "!mkdir -p /content/drive/openapi-data/"
      ],
      "execution_count": 0,
      "outputs": []
    },
    {
      "metadata": {
        "id": "kVcmQOfWbII1",
        "colab_type": "code",
        "colab": {
          "base_uri": "https://localhost:8080/",
          "height": 85
        },
        "outputId": "36a721ac-5b23-44c2-dbed-ba62b50abfb2"
      },
      "cell_type": "code",
      "source": [
        "!ls /content/drive/openapi-data/"
      ],
      "execution_count": 7,
      "outputs": [
        {
          "output_type": "stream",
          "text": [
            "glove.6B.zip\t\t path_labels.csv\t   structure_labels.csv\r\n",
            "mnist.py\t\t pickle\t\t\t   weights.best.hdf5\r\n",
            "new_path_labels0518.csv  PoC Classifier Path.odt   wordvector\r\n",
            "path_labels0518.csv\t structure_labels0518.csv\r\n"
          ],
          "name": "stdout"
        }
      ]
    },
    {
      "metadata": {
        "id": "uiZtaLU9bLc4",
        "colab_type": "code",
        "colab": {
          "base_uri": "https://localhost:8080/",
          "height": 34
        },
        "outputId": "03bdf592-0acb-488a-ad4c-8b2b56015637"
      },
      "cell_type": "code",
      "source": [
        "!pip install -q keras\n",
        "!pip install -q graphviz\n",
        "import keras\n",
        "import graphviz"
      ],
      "execution_count": 8,
      "outputs": [
        {
          "output_type": "stream",
          "text": [
            "Using TensorFlow backend.\n"
          ],
          "name": "stderr"
        }
      ]
    },
    {
      "metadata": {
        "id": "jnC7eg1VbQxv",
        "colab_type": "code",
        "colab": {
          "base_uri": "https://localhost:8080/",
          "height": 34
        },
        "outputId": "a037b627-4cf5-463d-8a23-8b14170146c5"
      },
      "cell_type": "code",
      "source": [
        "import tensorflow as tf\n",
        "tf.test.gpu_device_name()"
      ],
      "execution_count": 9,
      "outputs": [
        {
          "output_type": "execute_result",
          "data": {
            "text/plain": [
              "'/device:GPU:0'"
            ]
          },
          "metadata": {
            "tags": []
          },
          "execution_count": 9
        }
      ]
    },
    {
      "metadata": {
        "id": "XymyVRyfbYv1",
        "colab_type": "code",
        "colab": {}
      },
      "cell_type": "code",
      "source": [
        "import os\n",
        "os.chdir(\"drive/openapi-data\")"
      ],
      "execution_count": 0,
      "outputs": []
    },
    {
      "metadata": {
        "id": "E6hH0iysbZvS",
        "colab_type": "code",
        "colab": {
          "base_uri": "https://localhost:8080/",
          "height": 85
        },
        "outputId": "e98e5254-aacd-4067-ab05-e5414ff859e3"
      },
      "cell_type": "code",
      "source": [
        "!ls"
      ],
      "execution_count": 11,
      "outputs": [
        {
          "output_type": "stream",
          "text": [
            "glove.6B.zip\t\t path_labels.csv\t   structure_labels.csv\r\n",
            "mnist.py\t\t pickle\t\t\t   weights.best.hdf5\r\n",
            "new_path_labels0518.csv  PoC Classifier Path.odt   wordvector\r\n",
            "path_labels0518.csv\t structure_labels0518.csv\r\n"
          ],
          "name": "stdout"
        }
      ]
    },
    {
      "metadata": {
        "id": "hceoBAYuboKP",
        "colab_type": "code",
        "colab": {}
      },
      "cell_type": "code",
      "source": [
        "import pickle"
      ],
      "execution_count": 0,
      "outputs": []
    },
    {
      "metadata": {
        "id": "GCgYSYzEbc3o",
        "colab_type": "code",
        "colab": {}
      },
      "cell_type": "code",
      "source": [
        "training_data = dict()\n",
        "\n",
        "with open('pickle/specjson210518.pkl', 'rb') as handle:\n",
        "    training_data = pickle.load(handle)"
      ],
      "execution_count": 0,
      "outputs": []
    },
    {
      "metadata": {
        "id": "lhrdZLcvb6Zy",
        "colab_type": "code",
        "colab": {}
      },
      "cell_type": "code",
      "source": [
        "keys = list(training_data.keys())"
      ],
      "execution_count": 0,
      "outputs": []
    },
    {
      "metadata": {
        "id": "Jcs3abVAcBog",
        "colab_type": "code",
        "colab": {
          "base_uri": "https://localhost:8080/",
          "height": 595
        },
        "outputId": "71a3541b-7bdd-4263-9272-26ab6664385d"
      },
      "cell_type": "code",
      "source": [
        "training_data[keys[0]]"
      ],
      "execution_count": 15,
      "outputs": [
        {
          "output_type": "execute_result",
          "data": {
            "text/plain": [
              "{'basePath': '/forex-quotes',\n",
              " 'host': '1forge.com',\n",
              " 'info': {'contact': {'email': 'contact@1forge.com',\n",
              "   'name': '1Forge',\n",
              "   'url': 'http://1forge.com'},\n",
              "  'description': 'Stock and Forex Data and Realtime Quotes',\n",
              "  'title': '1Forge Finance APIs',\n",
              "  'version': '0.0.1',\n",
              "  'x-apisguru-categories': ['financial'],\n",
              "  'x-logo': {'backgroundColor': '#24292e',\n",
              "   'url': 'https://api.apis.guru/v2/cache/logo/http_1forge.com_logo.png'},\n",
              "  'x-origin': [{'format': 'swagger',\n",
              "    'url': 'http://1forge.com/openapi.json',\n",
              "    'version': '2.0'}],\n",
              "  'x-preferred': True,\n",
              "  'x-providerName': '1forge.com'},\n",
              " 'paths': {'/quotes': {'get': {'description': 'Get quotes',\n",
              "    'externalDocs': {'description': 'Find out more',\n",
              "     'url': 'http://1forge.com/forex-data-api'},\n",
              "    'responses': {'200': {'description': 'A list of quotes'}},\n",
              "    'summary': 'Get quotes for all symbols',\n",
              "    'tags': ['forex', 'finance', 'quotes']}},\n",
              "  '/symbols': {'get': {'description': 'Symbol List',\n",
              "    'externalDocs': {'description': 'Find out more',\n",
              "     'url': 'http://1forge.com/forex-data-api'},\n",
              "    'responses': {'200': {'description': 'A list of symbols',\n",
              "      'schema': {'example': ['EURUSD', 'GBPJPY', 'AUDUSD'],\n",
              "       'items': {'type': 'string'},\n",
              "       'type': 'array'}}},\n",
              "    'summary': 'Get a list of symbols for which we provide real-time quotes',\n",
              "    'tags': ['forex', 'finance', 'quotes']}}},\n",
              " 'produces': ['application/json'],\n",
              " 'schemes': ['https', 'http'],\n",
              " 'swagger': '2.0'}"
            ]
          },
          "metadata": {
            "tags": []
          },
          "execution_count": 15
        }
      ]
    },
    {
      "metadata": {
        "id": "OF9qnLugK4Zm",
        "colab_type": "code",
        "colab": {}
      },
      "cell_type": "code",
      "source": [
        "from collections import Counter\n",
        "from datetime import datetime\n",
        " \n",
        "import json\n",
        " \n",
        "from keras.layers import Embedding, LSTM, Dense, Conv1D, MaxPooling1D, Dropout, Activation\n",
        "from keras.models import Sequential\n",
        "from keras.preprocessing.text import Tokenizer\n",
        "from keras.preprocessing.sequence import pad_sequences\n",
        " \n",
        "import numpy as np\n",
        "import pandas as pd"
      ],
      "execution_count": 0,
      "outputs": []
    },
    {
      "metadata": {
        "id": "CWOUwgz9c8mM",
        "colab_type": "code",
        "colab": {
          "base_uri": "https://localhost:8080/",
          "height": 85
        },
        "outputId": "2175c5e3-f1f6-41be-f023-dd7d724fb009"
      },
      "cell_type": "code",
      "source": [
        "!ls"
      ],
      "execution_count": 17,
      "outputs": [
        {
          "output_type": "stream",
          "text": [
            "glove.6B.zip\t\t path_labels.csv\t   structure_labels.csv\r\n",
            "mnist.py\t\t pickle\t\t\t   weights.best.hdf5\r\n",
            "new_path_labels0518.csv  PoC Classifier Path.odt   wordvector\r\n",
            "path_labels0518.csv\t structure_labels0518.csv\r\n"
          ],
          "name": "stdout"
        }
      ]
    },
    {
      "metadata": {
        "id": "138mgUsucOaE",
        "colab_type": "code",
        "colab": {}
      },
      "cell_type": "code",
      "source": [
        "labelsP = pd.read_csv(\"new_path_labels0518.csv\").values\n",
        "labelsS  = pd.read_csv(\"structure_labels0518.csv\").values"
      ],
      "execution_count": 0,
      "outputs": []
    },
    {
      "metadata": {
        "id": "CsYV2NxPdGYS",
        "colab_type": "code",
        "colab": {
          "base_uri": "https://localhost:8080/",
          "height": 136
        },
        "outputId": "669b8f57-47a6-422b-a806-98e826377d79"
      },
      "cell_type": "code",
      "source": [
        "labelsP\n",
        "\n"
      ],
      "execution_count": 64,
      "outputs": [
        {
          "output_type": "execute_result",
          "data": {
            "text/plain": [
              "array([['1forge.com', 1],\n",
              "       ['6-dot-authentiqio.appspot.com', 2],\n",
              "       ['adafruit.com', 3],\n",
              "       ...,\n",
              "       ['zoom.us', 3],\n",
              "       ['zoomconnect.com', 3],\n",
              "       ['zuora.com', 3]], dtype=object)"
            ]
          },
          "metadata": {
            "tags": []
          },
          "execution_count": 64
        }
      ]
    },
    {
      "metadata": {
        "id": "Q0_Ij__DLqc2",
        "colab_type": "code",
        "colab": {
          "base_uri": "https://localhost:8080/",
          "height": 136
        },
        "outputId": "f550d5ab-da7d-4752-c071-1182b3a63a84"
      },
      "cell_type": "code",
      "source": [
        "labelsS"
      ],
      "execution_count": 20,
      "outputs": [
        {
          "output_type": "execute_result",
          "data": {
            "text/plain": [
              "array([['1forge.com', 1],\n",
              "       ['6-dot-authentiqio.appspot.com', 2],\n",
              "       ['adafruit.com', 3],\n",
              "       ...,\n",
              "       ['zoom.us', 5],\n",
              "       ['zoomconnect.com', 4],\n",
              "       ['zuora.com', 4]], dtype=object)"
            ]
          },
          "metadata": {
            "tags": []
          },
          "execution_count": 20
        }
      ]
    },
    {
      "metadata": {
        "id": "p9Rqzzfe1jte",
        "colab_type": "text"
      },
      "cell_type": "markdown",
      "source": [
        "## test word embeddings"
      ]
    },
    {
      "metadata": {
        "id": "4nV7IzHG2CLC",
        "colab_type": "code",
        "colab": {
          "base_uri": "https://localhost:8080/",
          "height": 34
        },
        "outputId": "b2521166-a148-40b3-cfec-b006c48d445b"
      },
      "cell_type": "code",
      "source": [
        "texts = []   # list of text samples\n",
        "for spec in training_data:\n",
        "  strJson = json.dumps(training_data[spec])\n",
        "  texts.append(strJson)\n",
        "\n",
        "print(str(len(texts)))"
      ],
      "execution_count": 21,
      "outputs": [
        {
          "output_type": "stream",
          "text": [
            "1034\n"
          ],
          "name": "stdout"
        }
      ]
    },
    {
      "metadata": {
        "id": "wZCUCyYu2LAY",
        "colab_type": "code",
        "colab": {
          "base_uri": "https://localhost:8080/",
          "height": 71
        },
        "outputId": "36944fa5-34d1-4783-c9dc-1760ce7ac090"
      },
      "cell_type": "code",
      "source": [
        "print(type(texts[0]))\n",
        "print(texts[0])"
      ],
      "execution_count": 24,
      "outputs": [
        {
          "output_type": "stream",
          "text": [
            "<class 'str'>\n",
            "{\"swagger\": \"2.0\", \"schemes\": [\"https\", \"http\"], \"host\": \"1forge.com\", \"basePath\": \"/forex-quotes\", \"info\": {\"contact\": {\"email\": \"contact@1forge.com\", \"name\": \"1Forge\", \"url\": \"http://1forge.com\"}, \"description\": \"Stock and Forex Data and Realtime Quotes\", \"title\": \"1Forge Finance APIs\", \"version\": \"0.0.1\", \"x-apisguru-categories\": [\"financial\"], \"x-logo\": {\"backgroundColor\": \"#24292e\", \"url\": \"https://api.apis.guru/v2/cache/logo/http_1forge.com_logo.png\"}, \"x-origin\": [{\"format\": \"swagger\", \"url\": \"http://1forge.com/openapi.json\", \"version\": \"2.0\"}], \"x-preferred\": true, \"x-providerName\": \"1forge.com\"}, \"produces\": [\"application/json\"], \"paths\": {\"/quotes\": {\"get\": {\"description\": \"Get quotes\", \"externalDocs\": {\"description\": \"Find out more\", \"url\": \"http://1forge.com/forex-data-api\"}, \"responses\": {\"200\": {\"description\": \"A list of quotes\"}}, \"summary\": \"Get quotes for all symbols\", \"tags\": [\"forex\", \"finance\", \"quotes\"]}}, \"/symbols\": {\"get\": {\"description\": \"Symbol List\", \"externalDocs\": {\"description\": \"Find out more\", \"url\": \"http://1forge.com/forex-data-api\"}, \"responses\": {\"200\": {\"description\": \"A list of symbols\", \"schema\": {\"example\": [\"EURUSD\", \"GBPJPY\", \"AUDUSD\"], \"items\": {\"type\": \"string\"}, \"type\": \"array\"}}}, \"summary\": \"Get a list of symbols for which we provide real-time quotes\", \"tags\": [\"forex\", \"finance\", \"quotes\"]}}}}\n"
          ],
          "name": "stdout"
        }
      ]
    },
    {
      "metadata": {
        "id": "MYP4cwna1reG",
        "colab_type": "code",
        "colab": {
          "base_uri": "https://localhost:8080/",
          "height": 71
        },
        "outputId": "d66bdfe2-c123-4ff2-8445-234f791e0544"
      },
      "cell_type": "code",
      "source": [
        "\n",
        "\n",
        "labels = labelsStruct  # list of label ids\n",
        "print(type(labels))\n",
        "print(labels)"
      ],
      "execution_count": 61,
      "outputs": [
        {
          "output_type": "stream",
          "text": [
            "<class 'list'>\n",
            "[1, 2, 3, 3, 1, 1, 1, 1, 1, 4, 3, 5, 5, 5, 5, 5, 5, 5, 5, 5, 5, 5, 5, 5, 5, 5, 5, 5, 5, 5, 5, 5, 5, 5, 5, 5, 5, 5, 5, 5, 5, 5, 5, 5, 5, 5, 5, 5, 5, 5, 5, 5, 5, 5, 5, 5, 5, 5, 5, 5, 5, 5, 5, 5, 5, 5, 5, 5, 5, 5, 5, 5, 5, 5, 5, 5, 5, 5, 5, 5, 5, 5, 5, 5, 5, 5, 5, 5, 5, 5, 5, 5, 5, 5, 5, 5, 5, 5, 5, 5, 5, 5, 5, 5, 5, 5, 5, 5, 5, 5, 5, 5, 5, 5, 5, 5, 5, 5, 5, 5, 5, 5, 5, 5, 5, 5, 5, 5, 5, 5, 5, 5, 5, 5, 5, 5, 5, 5, 5, 5, 5, 5, 5, 5, 5, 5, 5, 5, 5, 5, 3, 1, 4, 2, 1, 5, 3, 4, 4, 4, 4, 4, 4, 4, 4, 4, 4, 4, 4, 4, 4, 4, 4, 4, 4, 4, 4, 4, 4, 4, 4, 4, 4, 4, 4, 4, 4, 4, 4, 4, 4, 4, 4, 4, 4, 4, 4, 4, 4, 5, 1, 1, 3, 4, 2, 5, 3, 6, 7, 7, 7, 7, 7, 7, 7, 7, 7, 7, 7, 7, 7, 7, 7, 7, 7, 7, 7, 7, 7, 7, 7, 7, 7, 7, 7, 7, 7, 7, 7, 7, 7, 7, 7, 7, 7, 7, 7, 7, 7, 6, 6, 6, 6, 6, 6, 6, 6, 6, 6, 6, 6, 6, 6, 6, 6, 3, 3, 3, 6, 6, 6, 6, 7, 7, 7, 7, 7, 7, 7, 7, 7, 7, 7, 7, 7, 7, 7, 7, 7, 7, 7, 7, 7, 7, 6, 6, 6, 6, 6, 7, 7, 7, 7, 3, 3, 3, 6, 3, 3, 6, 7, 7, 7, 7, 7, 6, 7, 6, 6, 7, 7, 7, 7, 7, 7, 6, 7, 7, 7, 7, 7, 7, 7, 7, 7, 7, 7, 7, 7, 7, 7, 7, 7, 7, 7, 7, 7, 7, 7, 7, 7, 7, 7, 7, 7, 7, 7, 7, 7, 7, 7, 7, 7, 7, 6, 6, 6, 6, 6, 6, 6, 6, 6, 6, 6, 6, 6, 6, 6, 6, 6, 7, 7, 7, 7, 7, 7, 7, 7, 7, 7, 7, 7, 7, 7, 7, 7, 7, 7, 7, 7, 7, 7, 7, 7, 7, 6, 6, 7, 7, 7, 7, 6, 6, 6, 6, 6, 6, 6, 6, 6, 6, 6, 6, 7, 7, 7, 7, 7, 7, 7, 7, 7, 7, 7, 7, 7, 7, 7, 6, 7, 7, 7, 7, 7, 7, 1, 7, 7, 7, 7, 7, 7, 7, 7, 7, 7, 7, 7, 7, 7, 7, 7, 7, 7, 7, 7, 7, 7, 7, 7, 7, 7, 7, 7, 7, 7, 7, 7, 7, 7, 7, 7, 7, 7, 7, 7, 7, 7, 7, 7, 7, 7, 7, 6, 6, 6, 6, 6, 6, 6, 7, 7, 6, 6, 7, 6, 6, 6, 6, 6, 6, 6, 6, 6, 6, 6, 6, 6, 6, 6, 7, 4, 5, 5, 2, 1, 5, 1, 1, 3, 1, 5, 4, 1, 3, 4, 4, 4, 3, 4, 4, 3, 4, 4, 2, 5, 4, 3, 3, 5, 5, 3, 3, 3, 5, 5, 3, 4, 1, 3, 3, 6, 1, 5, 8, 3, 1, 8, 4, 1, 4, 3, 2, 1, 5, 1, 2, 1, 5, 4, 5, 4, 1, 3, 4, 3, 3, 3, 3, 3, 3, 1, 1, 1, 1, 1, 1, 1, 1, 3, 2, 8, 3, 3, 3, 3, 3, 3, 3, 3, 3, 3, 3, 3, 3, 3, 3, 3, 3, 3, 3, 3, 3, 3, 3, 3, 3, 3, 3, 3, 3, 3, 3, 3, 3, 4, 5, 1, 3, 2, 4, 3, 4, 8, 4, 4, 5, 3, 5, 2, 5, 3, 8, 8, 8, 2, 2, 8, 2, 8, 8, 8, 8, 8, 8, 8, 8, 8, 8, 8, 8, 8, 2, 8, 8, 8, 2, 8, 8, 8, 8, 8, 8, 8, 8, 8, 8, 8, 8, 8, 2, 8, 8, 8, 8, 8, 8, 8, 8, 8, 2, 8, 2, 8, 8, 8, 8, 8, 8, 2, 8, 8, 2, 2, 8, 8, 8, 8, 8, 2, 8, 8, 2, 8, 8, 2, 8, 8, 8, 8, 8, 8, 8, 8, 8, 8, 2, 2, 8, 8, 8, 2, 8, 8, 8, 2, 2, 2, 2, 8, 8, 8, 8, 8, 8, 8, 8, 8, 8, 2, 8, 8, 8, 8, 8, 8, 8, 8, 8, 2, 2, 2, 2, 8, 8, 8, 2, 8, 2, 8, 8, 8, 2, 8, 8, 8, 8, 2, 1, 2, 2, 3, 1, 1, 2, 2, 3, 1, 1, 1, 3, 3, 3, 3, 8, 1, 1, 2, 1, 1, 1, 1, 4, 6, 6, 8, 8, 8, 4, 4, 3, 1, 2, 1, 8, 3, 1, 2, 1, 2, 1, 1, 3, 3, 1, 5, 1, 3, 6, 3, 6, 6, 6, 2, 3, 6, 6, 3, 4, 1, 8, 4, 4, 3, 1, 3, 3, 3, 3, 1, 3, 1, 3, 3, 4, 4, 4, 1, 1, 1, 1, 4, 5, 4, 3, 3, 3, 3, 5, 3, 3, 1, 3, 3, 5, 5, 3, 5, 3, 3, 3, 3, 3, 1, 1, 1, 5, 5, 4, 1, 1, 3, 1, 4, 4, 3, 1, 1, 3, 1, 1, 3, 4, 4, 3, 1, 1, 1, 1, 3, 1, 3, 4, 4, 4, 1, 4, 4, 4, 5, 3, 4, 5, 4, 1, 3, 5, 1, 3, 8, 1, 4, 1, 1, 8, 1, 4, 3, 4, 1, 3, 3, 4, 5, 8, 6, 5, 8, 1, 3, 3, 3, 3, 1, 1, 1, 2, 3, 4, 8, 4, 5, 7, 4, 3, 4, 7, 3, 2, 3, 3, 8, 4, 1, 1, 1, 3, 4, 2, 1, 2, 1, 3, 4, 1, 1, 4, 1, 8, 1, 3, 2, 1, 4, 3, 3, 3, 3, 3, 1, 3, 2, 7, 7, 4, 3, 3, 3, 3, 3, 3, 3, 8, 5, 3, 4, 8, 4, 1, 4, 5, 4, 4]\n"
          ],
          "name": "stdout"
        }
      ]
    },
    {
      "metadata": {
        "id": "LxHTKn-6ylm6",
        "colab_type": "code",
        "colab": {
          "base_uri": "https://localhost:8080/",
          "height": 51
        },
        "outputId": "e4a16329-e6ac-46eb-cc3b-b5bf47e850b4"
      },
      "cell_type": "code",
      "source": [
        "labelsP = labelsPath  # list of label ids\n",
        "print(type(labelsP))\n",
        "print(labelsP)"
      ],
      "execution_count": 65,
      "outputs": [
        {
          "output_type": "stream",
          "text": [
            "<class 'list'>\n",
            "[]\n"
          ],
          "name": "stdout"
        }
      ]
    },
    {
      "metadata": {
        "id": "H7NZ5Egg3xi-",
        "colab_type": "code",
        "colab": {
          "base_uri": "https://localhost:8080/",
          "height": 136
        },
        "outputId": "cc690d88-4093-4dca-cc77-a1812fa84edf"
      },
      "cell_type": "code",
      "source": [
        "from sklearn.preprocessing import LabelBinarizer, LabelEncoder\n",
        "\n",
        "encoder = LabelBinarizer()\n",
        "encoder.fit(labels)\n",
        "y_train = encoder.transform(labels)\n",
        "\n",
        "y_train"
      ],
      "execution_count": 27,
      "outputs": [
        {
          "output_type": "execute_result",
          "data": {
            "text/plain": [
              "array([[1, 0, 0, ..., 0, 0, 0],\n",
              "       [0, 1, 0, ..., 0, 0, 0],\n",
              "       [0, 0, 1, ..., 0, 0, 0],\n",
              "       ...,\n",
              "       [0, 0, 0, ..., 0, 0, 0],\n",
              "       [0, 0, 0, ..., 0, 0, 0],\n",
              "       [0, 0, 0, ..., 0, 0, 0]])"
            ]
          },
          "metadata": {
            "tags": []
          },
          "execution_count": 27
        }
      ]
    },
    {
      "metadata": {
        "id": "F7XIKXwiyzCa",
        "colab_type": "code",
        "colab": {
          "base_uri": "https://localhost:8080/",
          "height": 136
        },
        "outputId": "3bd8731f-4caa-4387-8584-e5eea4f3bfe4"
      },
      "cell_type": "code",
      "source": [
        "from sklearn.preprocessing import LabelBinarizer, LabelEncoder\n",
        "\n",
        "encoder = LabelBinarizer()\n",
        "encoder.fit(labelsP)\n",
        "yp_train = encoder.transform(labelsP)\n",
        "\n",
        "yp_train"
      ],
      "execution_count": 28,
      "outputs": [
        {
          "output_type": "execute_result",
          "data": {
            "text/plain": [
              "array([[1, 0, 0],\n",
              "       [0, 1, 0],\n",
              "       [0, 0, 1],\n",
              "       ...,\n",
              "       [0, 0, 1],\n",
              "       [0, 0, 1],\n",
              "       [0, 0, 1]])"
            ]
          },
          "metadata": {
            "tags": []
          },
          "execution_count": 28
        }
      ]
    },
    {
      "metadata": {
        "id": "jVX8oniC5Ghv",
        "colab_type": "code",
        "colab": {}
      },
      "cell_type": "code",
      "source": [
        "import os\n",
        "import sys\n",
        "import numpy as np\n",
        "from keras.preprocessing.text import Tokenizer\n",
        "from keras.preprocessing.sequence import pad_sequences\n",
        "from keras.utils import to_categorical\n",
        "from keras.layers import Dense, Input, GlobalMaxPooling1D\n",
        "from keras.layers import Conv1D, MaxPooling1D, Embedding\n",
        "from keras.models import Model"
      ],
      "execution_count": 0,
      "outputs": []
    },
    {
      "metadata": {
        "id": "sd4SQgGG-xhz",
        "colab_type": "code",
        "colab": {}
      },
      "cell_type": "code",
      "source": [
        "MAX_SEQUENCE_LENGTH = 100000\n",
        "MAX_NUM_WORDS = 20000\n",
        "EMBEDDING_DIM = 100\n",
        "VALIDATION_SPLIT = 0.2"
      ],
      "execution_count": 0,
      "outputs": []
    },
    {
      "metadata": {
        "id": "qnCr_W4U1mxF",
        "colab_type": "code",
        "colab": {
          "base_uri": "https://localhost:8080/",
          "height": 102
        },
        "outputId": "ad3e781b-19e4-4fe2-b6c1-c65d2a30e7cd"
      },
      "cell_type": "code",
      "source": [
        "from keras.preprocessing.text import Tokenizer\n",
        "from keras.preprocessing.sequence import pad_sequences\n",
        "\n",
        "tokenizer = Tokenizer(nb_words=MAX_NUM_WORDS)\n",
        "tokenizer.fit_on_texts(texts)\n",
        "sequences = tokenizer.texts_to_sequences(texts)\n",
        "\n",
        "word_index = tokenizer.word_index\n",
        "print('Found %s unique tokens.' % len(word_index))\n",
        "\n",
        "data = pad_sequences(sequences, maxlen=MAX_SEQUENCE_LENGTH)\n",
        "\n",
        "labels = y_train #keras.utils.to_categorical(np.asarray(labels))\n",
        "print('Shape of data tensor:', data.shape)\n",
        "print('Shape of label tensor:', labels.shape)\n",
        "\n",
        "# split the data into a training set and a validation set\n",
        "indices = np.arange(data.shape[0])\n",
        "np.random.shuffle(indices)\n",
        "data = data[indices]\n",
        "labels = labels[indices]\n",
        "nb_validation_samples = int(VALIDATION_SPLIT * data.shape[0])\n",
        "\n",
        "x_train = data[:-nb_validation_samples]\n",
        "y_train = labels[:-nb_validation_samples]\n",
        "x_val = data[-nb_validation_samples:]\n",
        "y_val = labels[-nb_validation_samples:]"
      ],
      "execution_count": 31,
      "outputs": [
        {
          "output_type": "stream",
          "text": [
            "/usr/local/lib/python3.6/dist-packages/keras/preprocessing/text.py:172: UserWarning: The `nb_words` argument in `Tokenizer` has been renamed `num_words`.\n",
            "  warnings.warn('The `nb_words` argument in `Tokenizer` '\n"
          ],
          "name": "stderr"
        },
        {
          "output_type": "stream",
          "text": [
            "Found 151535 unique tokens.\n",
            "Shape of data tensor: (1034, 100000)\n",
            "Shape of label tensor: (1034, 8)\n"
          ],
          "name": "stdout"
        }
      ]
    },
    {
      "metadata": {
        "id": "ibMwkGbw4asi",
        "colab_type": "code",
        "colab": {
          "base_uri": "https://localhost:8080/",
          "height": 136
        },
        "outputId": "b173d15d-9f87-4a10-e4ff-a1f34479c7b6"
      },
      "cell_type": "code",
      "source": [
        "y_train"
      ],
      "execution_count": 33,
      "outputs": [
        {
          "output_type": "execute_result",
          "data": {
            "text/plain": [
              "array([[0, 0, 0, ..., 1, 0, 0],\n",
              "       [0, 0, 0, ..., 0, 0, 1],\n",
              "       [0, 0, 0, ..., 0, 1, 0],\n",
              "       ...,\n",
              "       [0, 0, 0, ..., 0, 1, 0],\n",
              "       [1, 0, 0, ..., 0, 0, 0],\n",
              "       [0, 0, 0, ..., 0, 0, 0]])"
            ]
          },
          "metadata": {
            "tags": []
          },
          "execution_count": 33
        }
      ]
    },
    {
      "metadata": {
        "id": "ze9XE_Nc5J_w",
        "colab_type": "code",
        "colab": {
          "base_uri": "https://localhost:8080/",
          "height": 34
        },
        "outputId": "db827c10-c55b-41ff-95fd-600523eb1523"
      },
      "cell_type": "code",
      "source": [
        "embeddings_index = {}\n",
        "f = open(os.path.join('wordvector', 'glove.6B.100d.txt'))\n",
        "for line in f:\n",
        "    values = line.split()\n",
        "    word = values[0]\n",
        "    coefs = np.asarray(values[1:], dtype='float32')\n",
        "    embeddings_index[word] = coefs\n",
        "f.close()\n",
        "\n",
        "print('Found %s word vectors.' % len(embeddings_index))"
      ],
      "execution_count": 34,
      "outputs": [
        {
          "output_type": "stream",
          "text": [
            "Found 400000 word vectors.\n"
          ],
          "name": "stdout"
        }
      ]
    },
    {
      "metadata": {
        "id": "NlCDFnCTCvDS",
        "colab_type": "code",
        "colab": {}
      },
      "cell_type": "code",
      "source": [
        "# prepare embedding matrix\n",
        "num_words = min(MAX_NUM_WORDS, len(word_index) + 1)\n",
        "embedding_matrix = np.zeros((num_words, EMBEDDING_DIM))\n",
        "for word, i in word_index.items():\n",
        "    if i >= MAX_NUM_WORDS:\n",
        "        continue\n",
        "    embedding_vector = embeddings_index.get(word)\n",
        "    if embedding_vector is not None:\n",
        "        # words not found in embedding index will be all-zeros.\n",
        "        embedding_matrix[i] = embedding_vector"
      ],
      "execution_count": 0,
      "outputs": []
    },
    {
      "metadata": {
        "id": "TdJa6cSZ-lHV",
        "colab_type": "code",
        "colab": {}
      },
      "cell_type": "code",
      "source": [
        "\n",
        "embedding_layer = Embedding(num_words,\n",
        "                            EMBEDDING_DIM,\n",
        "                            weights=[embedding_matrix],\n",
        "                            input_length=MAX_SEQUENCE_LENGTH,\n",
        "                            trainable=False)"
      ],
      "execution_count": 0,
      "outputs": []
    },
    {
      "metadata": {
        "id": "6xuW_Z_HC63U",
        "colab_type": "code",
        "colab": {}
      },
      "cell_type": "code",
      "source": [
        "from keras.models import Sequential\n",
        "from keras.layers import Dense, Activation, Flatten, Dropout, LSTM"
      ],
      "execution_count": 0,
      "outputs": []
    },
    {
      "metadata": {
        "id": "JT46ZRRUNp3P",
        "colab_type": "code",
        "colab": {}
      },
      "cell_type": "code",
      "source": [
        "!pip install -q pydot"
      ],
      "execution_count": 0,
      "outputs": []
    },
    {
      "metadata": {
        "id": "bBgq6WtM-l5S",
        "colab_type": "code",
        "colab": {}
      },
      "cell_type": "code",
      "source": [
        "from keras.layers.normalization import BatchNormalization\n",
        "from keras import regularizers\n",
        "from keras import regularizers\n",
        "from keras.callbacks import ModelCheckpoint\n",
        "\n",
        "\n",
        "sequence_input = Input(shape=(MAX_SEQUENCE_LENGTH,), dtype='int32')\n",
        "embedded_sequences = embedding_layer(sequence_input)\n",
        "\n",
        "x = Conv1D(128, 5, kernel_regularizer=regularizers.l2(0.02), activation='relu')(embedded_sequences)\n",
        "x = MaxPooling1D(5)(x)\n",
        "x = Dropout(0.2)(x)\n",
        "\n",
        "x = Conv1D(128, 5, kernel_regularizer=regularizers.l2(0.02), activation='relu')(x)\n",
        "x = MaxPooling1D(5)(x)\n",
        "x = Dropout(0.2)(x)\n",
        "\n",
        "x = Conv1D(128, 5, kernel_regularizer=regularizers.l2(0.02), activation='relu')(x)\n",
        "x = MaxPooling1D(35)(x)  # global max pooling\n",
        "x = Dropout(0.2)(x)\n",
        "\n",
        "x = Flatten()(x)\n",
        "\n",
        "x = Dense(256, kernel_regularizer=regularizers.l2(0.02), activation='relu')(x)\n",
        "x = Dropout(0.2)(x)\n",
        "\n",
        "preds = Dense(8, activation='softmax')(x)\n",
        "\n",
        "model = Model(sequence_input, preds)\n",
        "model.compile(loss='categorical_crossentropy',\n",
        "              optimizer='adam',\n",
        "              metrics=['acc'])"
      ],
      "execution_count": 0,
      "outputs": []
    },
    {
      "metadata": {
        "id": "hQor3fI_-iNE",
        "colab_type": "code",
        "colab": {}
      },
      "cell_type": "code",
      "source": [
        "filepath=\"weights.best.hdf5\"\n",
        "checkpoint = ModelCheckpoint(filepath, monitor='val_acc', verbose=1, save_best_only=True, mode='max')\n",
        "callbacks_list = [checkpoint]"
      ],
      "execution_count": 0,
      "outputs": []
    },
    {
      "metadata": {
        "id": "KESqIwQj0rbE",
        "colab_type": "code",
        "colab": {
          "base_uri": "https://localhost:8080/",
          "height": 646
        },
        "outputId": "862b8739-f184-4ead-84a0-7ffb590d381c"
      },
      "cell_type": "code",
      "source": [
        "summary = model.summary()\n"
      ],
      "execution_count": 42,
      "outputs": [
        {
          "output_type": "stream",
          "text": [
            "_________________________________________________________________\n",
            "Layer (type)                 Output Shape              Param #   \n",
            "=================================================================\n",
            "input_1 (InputLayer)         (None, 100000)            0         \n",
            "_________________________________________________________________\n",
            "embedding_1 (Embedding)      (None, 100000, 100)       2000000   \n",
            "_________________________________________________________________\n",
            "conv1d_1 (Conv1D)            (None, 99996, 128)        64128     \n",
            "_________________________________________________________________\n",
            "max_pooling1d_1 (MaxPooling1 (None, 19999, 128)        0         \n",
            "_________________________________________________________________\n",
            "dropout_1 (Dropout)          (None, 19999, 128)        0         \n",
            "_________________________________________________________________\n",
            "conv1d_2 (Conv1D)            (None, 19995, 128)        82048     \n",
            "_________________________________________________________________\n",
            "max_pooling1d_2 (MaxPooling1 (None, 3999, 128)         0         \n",
            "_________________________________________________________________\n",
            "dropout_2 (Dropout)          (None, 3999, 128)         0         \n",
            "_________________________________________________________________\n",
            "conv1d_3 (Conv1D)            (None, 3995, 128)         82048     \n",
            "_________________________________________________________________\n",
            "max_pooling1d_3 (MaxPooling1 (None, 114, 128)          0         \n",
            "_________________________________________________________________\n",
            "dropout_3 (Dropout)          (None, 114, 128)          0         \n",
            "_________________________________________________________________\n",
            "flatten_1 (Flatten)          (None, 14592)             0         \n",
            "_________________________________________________________________\n",
            "dense_1 (Dense)              (None, 256)               3735808   \n",
            "_________________________________________________________________\n",
            "dropout_4 (Dropout)          (None, 256)               0         \n",
            "_________________________________________________________________\n",
            "dense_2 (Dense)              (None, 8)                 2056      \n",
            "=================================================================\n",
            "Total params: 5,966,088\n",
            "Trainable params: 3,966,088\n",
            "Non-trainable params: 2,000,000\n",
            "_________________________________________________________________\n"
          ],
          "name": "stdout"
        }
      ]
    },
    {
      "metadata": {
        "id": "IgW-uorqz1Es",
        "colab_type": "code",
        "colab": {
          "base_uri": "https://localhost:8080/",
          "height": 2094
        },
        "outputId": "84b7125b-9b38-4e6a-b848-dd7f1f67ee1a"
      },
      "cell_type": "code",
      "source": [
        "# happy learning!\n",
        "history = model.fit(x_train, y_train,\n",
        "                    batch_size=32,\n",
        "                    epochs=30,\n",
        "                    verbose=1,\n",
        "                    validation_split=0.2, callbacks=callbacks_list)"
      ],
      "execution_count": 48,
      "outputs": [
        {
          "output_type": "stream",
          "text": [
            "Train on 662 samples, validate on 166 samples\n",
            "Epoch 1/30\n",
            "662/662 [==============================] - 31s 46ms/step - loss: 2.0050 - acc: 0.5151 - val_loss: 1.6796 - val_acc: 0.5120\n",
            "\n",
            "Epoch 00001: val_acc did not improve from 0.56024\n",
            "Epoch 2/30\n",
            "662/662 [==============================] - 30s 46ms/step - loss: 1.5027 - acc: 0.5589 - val_loss: 1.6373 - val_acc: 0.5663\n",
            "\n",
            "Epoch 00002: val_acc improved from 0.56024 to 0.56627, saving model to weights.best.hdf5\n",
            "Epoch 3/30\n",
            "662/662 [==============================] - 30s 46ms/step - loss: 1.4413 - acc: 0.5619 - val_loss: 1.6141 - val_acc: 0.5060\n",
            "\n",
            "Epoch 00003: val_acc did not improve from 0.56627\n",
            "Epoch 4/30\n",
            "662/662 [==============================] - 30s 46ms/step - loss: 1.4432 - acc: 0.5650 - val_loss: 1.6558 - val_acc: 0.5301\n",
            "\n",
            "Epoch 00004: val_acc did not improve from 0.56627\n",
            "Epoch 5/30\n",
            "662/662 [==============================] - 30s 46ms/step - loss: 1.3965 - acc: 0.5755 - val_loss: 1.9916 - val_acc: 0.3735\n",
            "\n",
            "Epoch 00005: val_acc did not improve from 0.56627\n",
            "Epoch 6/30\n",
            "662/662 [==============================] - 30s 46ms/step - loss: 1.4650 - acc: 0.5755 - val_loss: 1.6343 - val_acc: 0.5060\n",
            "\n",
            "Epoch 00006: val_acc did not improve from 0.56627\n",
            "Epoch 7/30\n",
            "384/662 [================>.............] - ETA: 11s - loss: 1.2505 - acc: 0.6615"
          ],
          "name": "stdout"
        },
        {
          "output_type": "stream",
          "text": [
            "662/662 [==============================] - 30s 46ms/step - loss: 1.3909 - acc: 0.5921 - val_loss: 1.7913 - val_acc: 0.4940\n",
            "\n",
            "Epoch 00007: val_acc did not improve from 0.56627\n",
            "Epoch 8/30\n",
            "662/662 [==============================] - 30s 46ms/step - loss: 1.4010 - acc: 0.5785 - val_loss: 1.7518 - val_acc: 0.5060\n",
            "\n",
            "Epoch 00008: val_acc did not improve from 0.56627\n",
            "Epoch 9/30\n",
            "662/662 [==============================] - 30s 46ms/step - loss: 1.3631 - acc: 0.6103 - val_loss: 1.7096 - val_acc: 0.5301\n",
            "\n",
            "Epoch 00009: val_acc did not improve from 0.56627\n",
            "Epoch 10/30\n",
            "662/662 [==============================] - 30s 46ms/step - loss: 1.3748 - acc: 0.5921 - val_loss: 1.9061 - val_acc: 0.4639\n",
            "\n",
            "Epoch 00010: val_acc did not improve from 0.56627\n",
            "Epoch 11/30\n",
            "662/662 [==============================] - 30s 46ms/step - loss: 1.3881 - acc: 0.5876 - val_loss: 1.8978 - val_acc: 0.4518\n",
            "\n",
            "Epoch 00011: val_acc did not improve from 0.56627\n",
            "Epoch 12/30\n",
            "662/662 [==============================] - 30s 46ms/step - loss: 1.3744 - acc: 0.6103 - val_loss: 1.6069 - val_acc: 0.5301\n",
            "\n",
            "Epoch 00012: val_acc did not improve from 0.56627\n",
            "Epoch 13/30\n",
            "662/662 [==============================] - 30s 46ms/step - loss: 1.3405 - acc: 0.6208 - val_loss: 1.6661 - val_acc: 0.5241\n",
            "\n",
            "Epoch 00013: val_acc did not improve from 0.56627\n",
            "Epoch 14/30\n",
            " 32/662 [>.............................] - ETA: 26s - loss: 1.3176 - acc: 0.5625"
          ],
          "name": "stdout"
        },
        {
          "output_type": "stream",
          "text": [
            "662/662 [==============================] - 30s 46ms/step - loss: 1.3494 - acc: 0.6208 - val_loss: 1.7377 - val_acc: 0.5361\n",
            "\n",
            "Epoch 00014: val_acc did not improve from 0.56627\n",
            "Epoch 15/30\n",
            "662/662 [==============================] - 30s 46ms/step - loss: 1.3064 - acc: 0.6073 - val_loss: 1.6045 - val_acc: 0.5120\n",
            "\n",
            "Epoch 00015: val_acc did not improve from 0.56627\n",
            "Epoch 16/30\n",
            "662/662 [==============================] - 30s 46ms/step - loss: 1.3315 - acc: 0.6042 - val_loss: 1.7227 - val_acc: 0.5602\n",
            "\n",
            "Epoch 00016: val_acc did not improve from 0.56627\n",
            "Epoch 17/30\n",
            "662/662 [==============================] - 30s 46ms/step - loss: 1.3212 - acc: 0.6224 - val_loss: 1.8825 - val_acc: 0.5120\n",
            "\n",
            "Epoch 00017: val_acc did not improve from 0.56627\n",
            "Epoch 18/30\n",
            "662/662 [==============================] - 30s 46ms/step - loss: 1.3063 - acc: 0.6224 - val_loss: 1.6125 - val_acc: 0.5241\n",
            "\n",
            "Epoch 00018: val_acc did not improve from 0.56627\n",
            "Epoch 19/30\n",
            "662/662 [==============================] - 30s 46ms/step - loss: 1.3101 - acc: 0.6239 - val_loss: 1.6772 - val_acc: 0.5663\n",
            "\n",
            "Epoch 00019: val_acc did not improve from 0.56627\n",
            "Epoch 20/30\n",
            "662/662 [==============================] - 30s 46ms/step - loss: 1.2787 - acc: 0.6239 - val_loss: 1.6116 - val_acc: 0.5181\n",
            "\n",
            "Epoch 00020: val_acc did not improve from 0.56627\n",
            "Epoch 21/30\n"
          ],
          "name": "stdout"
        },
        {
          "output_type": "stream",
          "text": [
            "662/662 [==============================] - 30s 46ms/step - loss: 1.2958 - acc: 0.6375 - val_loss: 1.6340 - val_acc: 0.5542\n",
            "\n",
            "Epoch 00021: val_acc did not improve from 0.56627\n",
            "Epoch 22/30\n",
            "662/662 [==============================] - 30s 46ms/step - loss: 1.2639 - acc: 0.6329 - val_loss: 1.6580 - val_acc: 0.5422\n",
            "\n",
            "Epoch 00022: val_acc did not improve from 0.56627\n",
            "Epoch 23/30\n",
            "662/662 [==============================] - 30s 46ms/step - loss: 1.2526 - acc: 0.6405 - val_loss: 1.9000 - val_acc: 0.5361\n",
            "\n",
            "Epoch 00023: val_acc did not improve from 0.56627\n",
            "Epoch 24/30\n",
            "662/662 [==============================] - 30s 46ms/step - loss: 1.2821 - acc: 0.6254 - val_loss: 1.8087 - val_acc: 0.5301\n",
            "\n",
            "Epoch 00024: val_acc did not improve from 0.56627\n",
            "Epoch 25/30\n",
            "662/662 [==============================] - 30s 46ms/step - loss: 1.2632 - acc: 0.6299 - val_loss: 1.6982 - val_acc: 0.5361\n",
            "\n",
            "Epoch 00025: val_acc did not improve from 0.56627\n",
            "Epoch 26/30\n",
            "662/662 [==============================] - 30s 45ms/step - loss: 1.2564 - acc: 0.6390 - val_loss: 1.8021 - val_acc: 0.4880\n",
            "\n",
            "Epoch 00026: val_acc did not improve from 0.56627\n",
            "Epoch 27/30\n",
            "662/662 [==============================] - 30s 45ms/step - loss: 1.2335 - acc: 0.6344 - val_loss: 1.6910 - val_acc: 0.5783\n",
            "\n",
            "Epoch 00027: val_acc improved from 0.56627 to 0.57831, saving model to weights.best.hdf5\n"
          ],
          "name": "stdout"
        },
        {
          "output_type": "stream",
          "text": [
            "Epoch 28/30\n",
            "662/662 [==============================] - 30s 46ms/step - loss: 1.2740 - acc: 0.6254 - val_loss: 1.6106 - val_acc: 0.5723\n",
            "\n",
            "Epoch 00028: val_acc did not improve from 0.57831\n",
            "Epoch 29/30\n",
            "662/662 [==============================] - 30s 45ms/step - loss: 1.2045 - acc: 0.6616 - val_loss: 1.6897 - val_acc: 0.5181\n",
            "\n",
            "Epoch 00029: val_acc did not improve from 0.57831\n",
            "Epoch 30/30\n",
            "662/662 [==============================] - 30s 46ms/step - loss: 1.2920 - acc: 0.6284 - val_loss: 1.6048 - val_acc: 0.5422\n",
            "\n",
            "Epoch 00030: val_acc did not improve from 0.57831\n"
          ],
          "name": "stdout"
        }
      ]
    },
    {
      "metadata": {
        "id": "NvdRFA7I3XPE",
        "colab_type": "code",
        "colab": {
          "base_uri": "https://localhost:8080/",
          "height": 752
        },
        "outputId": "66e1cb62-b29f-43f7-d93b-54818ea52889"
      },
      "cell_type": "code",
      "source": [
        "import matplotlib.pyplot as plt\n",
        "import numpy\n",
        "\n",
        "print(history.history.keys())\n",
        "# summarize history for accuracy\n",
        "plt.plot(history.history['acc'])\n",
        "plt.plot(history.history['val_acc'])\n",
        "plt.title('model accuracy')\n",
        "plt.ylabel('accuracy')\n",
        "plt.xlabel('epoch')\n",
        "plt.legend(['train', 'test'], loc='upper left')\n",
        "plt.show()\n",
        "# summarize history for loss\n",
        "plt.plot(history.history['loss'])\n",
        "plt.plot(history.history['val_loss'])\n",
        "plt.title('model loss')\n",
        "plt.ylabel('loss')\n",
        "plt.xlabel('epoch')\n",
        "plt.legend(['train', 'test'], loc='upper left')\n",
        "plt.show()"
      ],
      "execution_count": 49,
      "outputs": [
        {
          "output_type": "stream",
          "text": [
            "dict_keys(['val_loss', 'val_acc', 'loss', 'acc'])\n"
          ],
          "name": "stdout"
        },
        {
          "output_type": "display_data",
          "data": {
            "image/png": "[encoded data removed]",
            "text/plain": [
              "<matplotlib.figure.Figure at 0x7f8530610cc0>"
            ]
          },
          "metadata": {
            "tags": []
          }
        },
        {
          "output_type": "display_data",
          "data": {
            "image/png": "[encoded data removed]",
            "text/plain": [
              "<matplotlib.figure.Figure at 0x7f85304b86a0>"
            ]
          },
          "metadata": {
            "tags": []
          }
        }
      ]
    },
    {
      "metadata": {
        "id": "JiIoF-RgAOeA",
        "colab_type": "code",
        "colab": {}
      },
      "cell_type": "code",
      "source": [
        "model.load_weights(\"weights.best.hdf5\")\n",
        "# Compile model (required to make predictions)\n",
        "model.compile(loss='categorical_crossentropy',\n",
        "              optimizer='rmsprop',\n",
        "              metrics=['acc'])"
      ],
      "execution_count": 0,
      "outputs": []
    },
    {
      "metadata": {
        "id": "eDXv4-zM_FhB",
        "colab_type": "code",
        "colab": {
          "base_uri": "https://localhost:8080/",
          "height": 68
        },
        "outputId": "662e0a36-8719-4ade-a191-d640ec7127f5"
      },
      "cell_type": "code",
      "source": [
        "score = model.evaluate(x_val, y_val,\n",
        "                       batch_size=32, verbose=1)\n",
        "print('Test score:', score[0])\n",
        "print('Test accuracy:', score[1])"
      ],
      "execution_count": 51,
      "outputs": [
        {
          "output_type": "stream",
          "text": [
            "206/206 [==============================] - 3s 17ms/step\n",
            "Test score: 1.6050486032245228\n",
            "Test accuracy: 0.5728155342699255\n"
          ],
          "name": "stdout"
        }
      ]
    },
    {
      "metadata": {
        "id": "DXj8vM0-HPKv",
        "colab_type": "code",
        "colab": {}
      },
      "cell_type": "code",
      "source": [
        "import itertools\n",
        "import os\n",
        "\n",
        "%matplotlib inline\n",
        "import matplotlib.pyplot as plt\n",
        "import numpy as np\n",
        "import pandas as pd\n",
        "import tensorflow as tf\n",
        "\n",
        "from sklearn.preprocessing import LabelBinarizer, LabelEncoder\n",
        "from sklearn.metrics import confusion_matrix\n",
        "\n",
        "from tensorflow import keras\n",
        "from keras.models import Sequential\n",
        "from keras.layers import Dense, Activation, Dropout\n",
        "from keras.preprocessing import text, sequence\n",
        "from keras import utils"
      ],
      "execution_count": 0,
      "outputs": []
    },
    {
      "metadata": {
        "id": "lttzCjcRG69a",
        "colab_type": "code",
        "colab": {}
      },
      "cell_type": "code",
      "source": [
        "y_softmax = model.predict(x_val)\n",
        "\n",
        "y_test_1d = []\n",
        "y_pred_1d = []\n",
        "\n",
        "for i in range(len(y_val)):\n",
        "    probs = y_val[i]\n",
        "    index_arr = np.nonzero(probs)\n",
        "    one_hot_index = index_arr[0].item(0)\n",
        "    y_test_1d.append(one_hot_index)\n",
        "\n",
        "for i in range(0, len(y_softmax)):\n",
        "    probs = y_softmax[i]\n",
        "    predicted_index = np.argmax(probs)\n",
        "    y_pred_1d.append(predicted_index)"
      ],
      "execution_count": 0,
      "outputs": []
    },
    {
      "metadata": {
        "id": "FoZslkDgDWeL",
        "colab_type": "code",
        "colab": {
          "base_uri": "https://localhost:8080/",
          "height": 71
        },
        "outputId": "f45196df-0efa-4d08-f06c-00b6a2a5173b"
      },
      "cell_type": "code",
      "source": [
        "print(y_test_1d)\n",
        "print(y_pred_1d)"
      ],
      "execution_count": 54,
      "outputs": [
        {
          "output_type": "stream",
          "text": [
            "[0, 2, 1, 1, 2, 4, 4, 6, 6, 0, 0, 6, 5, 1, 1, 4, 7, 4, 0, 5, 4, 5, 6, 5, 2, 2, 6, 4, 4, 7, 3, 3, 4, 5, 0, 6, 6, 6, 7, 6, 0, 6, 6, 2, 2, 0, 2, 4, 3, 7, 3, 7, 2, 5, 2, 2, 4, 3, 4, 4, 6, 3, 7, 6, 4, 5, 6, 4, 6, 3, 6, 0, 5, 7, 2, 6, 6, 2, 7, 4, 6, 2, 0, 3, 2, 2, 2, 1, 3, 5, 7, 4, 3, 3, 3, 6, 7, 1, 4, 6, 6, 3, 2, 4, 7, 6, 5, 7, 5, 6, 0, 0, 6, 0, 5, 6, 4, 7, 1, 5, 0, 7, 7, 6, 4, 1, 5, 4, 2, 4, 5, 4, 4, 1, 0, 6, 6, 3, 3, 7, 7, 0, 0, 6, 6, 6, 0, 2, 4, 7, 7, 4, 4, 2, 2, 3, 2, 2, 7, 7, 3, 6, 4, 2, 4, 2, 4, 6, 3, 5, 7, 5, 2, 2, 4, 2, 4, 3, 3, 3, 0, 4, 3, 2, 3, 7, 7, 6, 0, 1, 7, 2, 7, 6, 0, 6, 6, 4, 6, 4, 2, 3, 0, 1, 4, 2]\n",
            "[2, 2, 7, 7, 6, 2, 4, 6, 6, 4, 4, 6, 6, 7, 0, 4, 7, 7, 2, 6, 4, 6, 6, 6, 2, 4, 6, 4, 4, 7, 3, 0, 4, 6, 2, 4, 6, 6, 7, 4, 3, 6, 6, 4, 2, 7, 2, 2, 7, 7, 3, 7, 2, 6, 7, 2, 4, 0, 4, 4, 6, 3, 7, 4, 4, 6, 6, 4, 6, 3, 6, 2, 2, 7, 2, 6, 4, 2, 7, 2, 6, 2, 2, 7, 4, 2, 3, 4, 0, 6, 7, 4, 3, 3, 7, 6, 7, 7, 4, 6, 6, 2, 2, 4, 7, 6, 7, 7, 3, 6, 2, 2, 4, 3, 6, 6, 4, 7, 7, 6, 3, 7, 7, 6, 4, 7, 6, 4, 3, 4, 6, 4, 4, 0, 4, 6, 6, 4, 2, 7, 7, 7, 7, 6, 6, 6, 2, 2, 4, 7, 7, 4, 4, 0, 2, 7, 2, 2, 7, 3, 3, 6, 4, 7, 4, 2, 4, 6, 3, 6, 7, 6, 2, 2, 4, 2, 4, 3, 3, 3, 7, 2, 7, 4, 7, 7, 7, 6, 3, 7, 7, 3, 0, 6, 2, 6, 6, 4, 4, 4, 7, 2, 7, 7, 2, 2]\n"
          ],
          "name": "stdout"
        }
      ]
    },
    {
      "metadata": {
        "id": "ZWaParwiNHPz",
        "colab_type": "text"
      },
      "cell_type": "markdown",
      "source": [
        "## Prepare Labels and Specs for the model\n",
        "In this part of the notebook, we will create three list. One contains the specs and the other two the labels for paths and for specs. The lists are later used as input for the actual preprocessing and then later the model."
      ]
    },
    {
      "metadata": {
        "id": "mk4pnqauKBXl",
        "colab_type": "code",
        "colab": {
          "base_uri": "https://localhost:8080/",
          "height": 51
        },
        "outputId": "8d87303e-a051-4adb-ae3d-aab7e741b6f3"
      },
      "cell_type": "code",
      "source": [
        "labelsPath = list()\n",
        "labelsStruct = list()\n",
        "\n",
        "\n",
        "for labs in labelsS:\n",
        "  labelsStruct.append(labs[1])\n",
        "\n",
        "for labp in labelsP:\n",
        "  labelsPath.append(labp[1])\n",
        "  \n",
        "print(str(len(labelsPath)))\n",
        "print(str(len(labelsStruct)))\n",
        "\n",
        "#labelsStruct = labelsS[\"cluster\"].tolist()"
      ],
      "execution_count": 68,
      "outputs": [
        {
          "output_type": "stream",
          "text": [
            "1034\n",
            "1034\n"
          ],
          "name": "stdout"
        }
      ]
    },
    {
      "metadata": {
        "id": "hHAZOfoPMOFl",
        "colab_type": "code",
        "colab": {
          "base_uri": "https://localhost:8080/",
          "height": 71
        },
        "outputId": "225b2b79-d516-42cb-bdf7-83ced3be9102"
      },
      "cell_type": "code",
      "source": [
        "print(labelsPath)\n",
        "print(labelsStruct)"
      ],
      "execution_count": 69,
      "outputs": [
        {
          "output_type": "stream",
          "text": [
            "[1, 2, 3, 3, 1, 2, 1, 1, 3, 1, 2, 3, 2, 3, 3, 3, 2, 3, 3, 2, 3, 2, 3, 3, 2, 2, 3, 3, 3, 3, 2, 3, 2, 3, 3, 3, 3, 3, 3, 3, 3, 3, 2, 3, 1, 2, 3, 3, 3, 3, 3, 3, 3, 3, 3, 3, 3, 3, 3, 2, 3, 3, 3, 3, 3, 1, 3, 3, 2, 2, 3, 3, 3, 3, 3, 2, 3, 2, 3, 3, 2, 2, 2, 2, 3, 3, 1, 1, 3, 2, 3, 3, 3, 3, 3, 3, 1, 3, 2, 2, 2, 2, 2, 2, 1, 3, 3, 3, 3, 3, 3, 3, 2, 2, 3, 3, 3, 2, 2, 3, 3, 1, 1, 3, 3, 2, 3, 2, 3, 3, 2, 2, 3, 3, 3, 3, 3, 3, 2, 2, 3, 3, 2, 1, 3, 3, 3, 3, 3, 2, 3, 2, 3, 3, 3, 1, 1, 1, 1, 1, 1, 1, 1, 1, 1, 1, 1, 1, 1, 1, 1, 1, 1, 1, 1, 1, 1, 1, 1, 1, 1, 1, 1, 1, 1, 1, 1, 1, 1, 1, 1, 1, 2, 1, 1, 2, 1, 1, 1, 3, 1, 1, 2, 3, 2, 2, 3, 2, 2, 2, 2, 3, 2, 2, 1, 2, 2, 2, 2, 2, 2, 1, 2, 2, 2, 2, 1, 2, 2, 1, 3, 2, 2, 2, 1, 1, 1, 1, 1, 1, 1, 2, 1, 1, 2, 2, 1, 2, 2, 2, 1, 1, 1, 1, 1, 2, 2, 1, 1, 2, 1, 1, 2, 2, 1, 1, 1, 1, 1, 1, 1, 2, 1, 1, 1, 1, 1, 1, 1, 2, 1, 1, 1, 1, 1, 1, 1, 1, 2, 1, 1, 1, 1, 1, 1, 1, 1, 1, 3, 2, 2, 3, 2, 2, 3, 3, 3, 1, 1, 1, 3, 1, 2, 1, 1, 1, 2, 2, 3, 1, 1, 2, 3, 3, 2, 3, 3, 3, 2, 2, 1, 3, 2, 3, 2, 2, 3, 3, 1, 1, 1, 2, 1, 2, 1, 2, 3, 3, 3, 1, 1, 2, 3, 2, 2, 2, 2, 2, 2, 1, 1, 2, 2, 3, 2, 2, 1, 1, 1, 1, 1, 1, 1, 1, 1, 1, 1, 1, 1, 1, 1, 2, 2, 3, 2, 1, 1, 1, 2, 2, 2, 2, 3, 1, 2, 2, 2, 1, 1, 2, 3, 1, 1, 3, 2, 2, 2, 2, 2, 2, 2, 2, 1, 1, 1, 2, 1, 3, 3, 2, 1, 1, 1, 3, 3, 3, 2, 1, 3, 1, 1, 2, 2, 1, 2, 2, 2, 2, 1, 2, 2, 1, 3, 3, 3, 3, 3, 2, 2, 1, 1, 1, 1, 1, 1, 1, 1, 1, 1, 1, 1, 1, 2, 1, 2, 1, 1, 2, 1, 1, 1, 2, 1, 1, 1, 1, 1, 1, 1, 1, 1, 1, 1, 2, 1, 2, 2, 2, 2, 2, 1, 1, 2, 2, 3, 2, 2, 2, 2, 1, 1, 1, 2, 2, 1, 2, 2, 3, 3, 1, 2, 1, 2, 1, 2, 1, 2, 2, 1, 3, 2, 3, 3, 3, 3, 2, 2, 3, 1, 2, 3, 1, 3, 2, 3, 3, 1, 3, 1, 2, 3, 3, 2, 2, 2, 3, 3, 2, 1, 3, 3, 3, 3, 3, 2, 3, 2, 1, 2, 3, 3, 3, 1, 1, 1, 2, 2, 1, 1, 3, 2, 2, 1, 1, 1, 1, 2, 1, 1, 2, 3, 3, 1, 3, 2, 2, 1, 1, 1, 1, 1, 3, 2, 2, 3, 3, 2, 2, 2, 2, 3, 2, 3, 2, 2, 2, 2, 1, 1, 1, 1, 1, 2, 3, 2, 1, 1, 1, 1, 2, 3, 1, 2, 1, 1, 1, 3, 3, 1, 1, 2, 3, 1, 2, 3, 3, 3, 3, 3, 2, 1, 3, 1, 2, 3, 2, 3, 2, 3, 2, 2, 3, 3, 1, 1, 3, 3, 3, 1, 2, 3, 3, 3, 1, 3, 3, 2, 3, 3, 1, 2, 3, 2, 3, 3, 3, 2, 2, 3, 2, 2, 2, 2, 2, 2, 3, 2, 3, 1, 3, 1, 3, 3, 2, 3, 3, 1, 3, 2, 3, 3, 3, 1, 1, 3, 2, 2, 2, 3, 2, 1, 2, 3, 2, 3, 3, 2, 3, 3, 3, 1, 1, 3, 3, 1, 2, 2, 3, 2, 3, 3, 3, 2, 2, 1, 3, 2, 1, 2, 2, 3, 2, 2, 3, 3, 1, 2, 2, 3, 2, 1, 2, 3, 1, 2, 2, 3, 2, 2, 3, 2, 2, 2, 3, 2, 2, 3, 3, 2, 2, 2, 3, 2, 2, 2, 3, 2, 2, 2, 1, 3, 1, 2, 1, 2, 3, 2, 2, 2, 2, 2, 2, 2, 1, 3, 1, 2, 1, 2, 1, 1, 3, 1, 3, 1, 2, 2, 2, 3, 2, 2, 2, 2, 2, 3, 3, 1, 1, 1, 1, 1, 2, 2, 3, 2, 3, 2, 2, 3, 3, 2, 3, 2, 1, 3, 1, 3, 3, 3, 2, 2, 3, 1, 1, 2, 1, 2, 2, 2, 3, 2, 3, 2, 3, 1, 1, 1, 1, 1, 1, 1, 1, 3, 1, 1, 1, 3, 3, 1, 3, 3, 3, 1, 2, 3, 3, 3, 2, 3, 2, 1, 1, 1, 1, 1, 2, 2, 1, 2, 1, 1, 1, 1, 1, 1, 1, 2, 1, 2, 2, 1, 2, 3, 2, 2, 3, 2, 3, 3, 2, 3, 1, 2, 1, 2, 2, 2, 3, 1, 1, 2, 1, 2, 2, 3, 3, 2, 2, 2, 2, 3, 3, 1, 3, 3, 2, 2, 2, 2, 3, 3, 2, 1, 1, 3, 3, 3, 1, 3, 3, 2, 3, 2, 1, 1, 2, 3, 3, 3, 3, 2, 2, 2, 1, 3, 1, 1, 2, 2, 2, 2, 3, 2, 3, 2, 3, 3, 3, 1, 3, 3, 3, 3, 3, 3, 2, 3, 2, 3, 3, 3, 3, 3, 2, 3, 1, 2, 2, 1, 3, 2, 1, 3, 3, 2, 1, 2, 1, 1, 1, 2, 1, 3, 3, 3, 1, 2, 1, 2, 2, 1, 2, 1, 3, 3, 1, 3, 1, 2, 2, 2, 3, 3, 3]\n",
            "[1, 2, 3, 3, 1, 1, 1, 1, 1, 4, 3, 5, 5, 5, 5, 5, 5, 5, 5, 5, 5, 5, 5, 5, 5, 5, 5, 5, 5, 5, 5, 5, 5, 5, 5, 5, 5, 5, 5, 5, 5, 5, 5, 5, 5, 5, 5, 5, 5, 5, 5, 5, 5, 5, 5, 5, 5, 5, 5, 5, 5, 5, 5, 5, 5, 5, 5, 5, 5, 5, 5, 5, 5, 5, 5, 5, 5, 5, 5, 5, 5, 5, 5, 5, 5, 5, 5, 5, 5, 5, 5, 5, 5, 5, 5, 5, 5, 5, 5, 5, 5, 5, 5, 5, 5, 5, 5, 5, 5, 5, 5, 5, 5, 5, 5, 5, 5, 5, 5, 5, 5, 5, 5, 5, 5, 5, 5, 5, 5, 5, 5, 5, 5, 5, 5, 5, 5, 5, 5, 5, 5, 5, 5, 5, 5, 5, 5, 5, 5, 5, 3, 1, 4, 2, 1, 5, 3, 4, 4, 4, 4, 4, 4, 4, 4, 4, 4, 4, 4, 4, 4, 4, 4, 4, 4, 4, 4, 4, 4, 4, 4, 4, 4, 4, 4, 4, 4, 4, 4, 4, 4, 4, 4, 4, 4, 4, 4, 4, 4, 5, 1, 1, 3, 4, 2, 5, 3, 6, 7, 7, 7, 7, 7, 7, 7, 7, 7, 7, 7, 7, 7, 7, 7, 7, 7, 7, 7, 7, 7, 7, 7, 7, 7, 7, 7, 7, 7, 7, 7, 7, 7, 7, 7, 7, 7, 7, 7, 7, 7, 6, 6, 6, 6, 6, 6, 6, 6, 6, 6, 6, 6, 6, 6, 6, 6, 3, 3, 3, 6, 6, 6, 6, 7, 7, 7, 7, 7, 7, 7, 7, 7, 7, 7, 7, 7, 7, 7, 7, 7, 7, 7, 7, 7, 7, 6, 6, 6, 6, 6, 7, 7, 7, 7, 3, 3, 3, 6, 3, 3, 6, 7, 7, 7, 7, 7, 6, 7, 6, 6, 7, 7, 7, 7, 7, 7, 6, 7, 7, 7, 7, 7, 7, 7, 7, 7, 7, 7, 7, 7, 7, 7, 7, 7, 7, 7, 7, 7, 7, 7, 7, 7, 7, 7, 7, 7, 7, 7, 7, 7, 7, 7, 7, 7, 7, 6, 6, 6, 6, 6, 6, 6, 6, 6, 6, 6, 6, 6, 6, 6, 6, 6, 7, 7, 7, 7, 7, 7, 7, 7, 7, 7, 7, 7, 7, 7, 7, 7, 7, 7, 7, 7, 7, 7, 7, 7, 7, 6, 6, 7, 7, 7, 7, 6, 6, 6, 6, 6, 6, 6, 6, 6, 6, 6, 6, 7, 7, 7, 7, 7, 7, 7, 7, 7, 7, 7, 7, 7, 7, 7, 6, 7, 7, 7, 7, 7, 7, 1, 7, 7, 7, 7, 7, 7, 7, 7, 7, 7, 7, 7, 7, 7, 7, 7, 7, 7, 7, 7, 7, 7, 7, 7, 7, 7, 7, 7, 7, 7, 7, 7, 7, 7, 7, 7, 7, 7, 7, 7, 7, 7, 7, 7, 7, 7, 7, 6, 6, 6, 6, 6, 6, 6, 7, 7, 6, 6, 7, 6, 6, 6, 6, 6, 6, 6, 6, 6, 6, 6, 6, 6, 6, 6, 7, 4, 5, 5, 2, 1, 5, 1, 1, 3, 1, 5, 4, 1, 3, 4, 4, 4, 3, 4, 4, 3, 4, 4, 2, 5, 4, 3, 3, 5, 5, 3, 3, 3, 5, 5, 3, 4, 1, 3, 3, 6, 1, 5, 8, 3, 1, 8, 4, 1, 4, 3, 2, 1, 5, 1, 2, 1, 5, 4, 5, 4, 1, 3, 4, 3, 3, 3, 3, 3, 3, 1, 1, 1, 1, 1, 1, 1, 1, 3, 2, 8, 3, 3, 3, 3, 3, 3, 3, 3, 3, 3, 3, 3, 3, 3, 3, 3, 3, 3, 3, 3, 3, 3, 3, 3, 3, 3, 3, 3, 3, 3, 3, 3, 3, 4, 5, 1, 3, 2, 4, 3, 4, 8, 4, 4, 5, 3, 5, 2, 5, 3, 8, 8, 8, 2, 2, 8, 2, 8, 8, 8, 8, 8, 8, 8, 8, 8, 8, 8, 8, 8, 2, 8, 8, 8, 2, 8, 8, 8, 8, 8, 8, 8, 8, 8, 8, 8, 8, 8, 2, 8, 8, 8, 8, 8, 8, 8, 8, 8, 2, 8, 2, 8, 8, 8, 8, 8, 8, 2, 8, 8, 2, 2, 8, 8, 8, 8, 8, 2, 8, 8, 2, 8, 8, 2, 8, 8, 8, 8, 8, 8, 8, 8, 8, 8, 2, 2, 8, 8, 8, 2, 8, 8, 8, 2, 2, 2, 2, 8, 8, 8, 8, 8, 8, 8, 8, 8, 8, 2, 8, 8, 8, 8, 8, 8, 8, 8, 8, 2, 2, 2, 2, 8, 8, 8, 2, 8, 2, 8, 8, 8, 2, 8, 8, 8, 8, 2, 1, 2, 2, 3, 1, 1, 2, 2, 3, 1, 1, 1, 3, 3, 3, 3, 8, 1, 1, 2, 1, 1, 1, 1, 4, 6, 6, 8, 8, 8, 4, 4, 3, 1, 2, 1, 8, 3, 1, 2, 1, 2, 1, 1, 3, 3, 1, 5, 1, 3, 6, 3, 6, 6, 6, 2, 3, 6, 6, 3, 4, 1, 8, 4, 4, 3, 1, 3, 3, 3, 3, 1, 3, 1, 3, 3, 4, 4, 4, 1, 1, 1, 1, 4, 5, 4, 3, 3, 3, 3, 5, 3, 3, 1, 3, 3, 5, 5, 3, 5, 3, 3, 3, 3, 3, 1, 1, 1, 5, 5, 4, 1, 1, 3, 1, 4, 4, 3, 1, 1, 3, 1, 1, 3, 4, 4, 3, 1, 1, 1, 1, 3, 1, 3, 4, 4, 4, 1, 4, 4, 4, 5, 3, 4, 5, 4, 1, 3, 5, 1, 3, 8, 1, 4, 1, 1, 8, 1, 4, 3, 4, 1, 3, 3, 4, 5, 8, 6, 5, 8, 1, 3, 3, 3, 3, 1, 1, 1, 2, 3, 4, 8, 4, 5, 7, 4, 3, 4, 7, 3, 2, 3, 3, 8, 4, 1, 1, 1, 3, 4, 2, 1, 2, 1, 3, 4, 1, 1, 4, 1, 8, 1, 3, 2, 1, 4, 3, 3, 3, 3, 3, 1, 3, 2, 7, 7, 4, 3, 3, 3, 3, 3, 3, 3, 8, 5, 3, 4, 8, 4, 1, 4, 5, 4, 4]\n"
          ],
          "name": "stdout"
        }
      ]
    },
    {
      "metadata": {
        "id": "qdfIykU8_70j",
        "colab_type": "text"
      },
      "cell_type": "markdown",
      "source": [
        "### Create training and test split of the labels"
      ]
    },
    {
      "metadata": {
        "id": "QV9VUUhm94t5",
        "colab_type": "code",
        "colab": {}
      },
      "cell_type": "code",
      "source": [
        "Y_Path_train = labelsPath[:808]\n",
        "Y_Path_test = labelsPath[808:]\n",
        "\n",
        "Y_Struct_train = labelsStruct[:808]\n",
        "Y_Struct_test = labelsStruct[808:]"
      ],
      "execution_count": 0,
      "outputs": []
    },
    {
      "metadata": {
        "id": "zLeNZ7ZY-dP1",
        "colab_type": "code",
        "colab": {
          "base_uri": "https://localhost:8080/",
          "height": 85
        },
        "outputId": "f1ad0e51-887f-4734-c7ab-dc78a0e2b6ea"
      },
      "cell_type": "code",
      "source": [
        "print(len(Y_Path_train))\n",
        "print(len(Y_Path_test))\n",
        "print(len(Y_Struct_train))\n",
        "print(len(Y_Struct_test))"
      ],
      "execution_count": 71,
      "outputs": [
        {
          "output_type": "stream",
          "text": [
            "808\n",
            "226\n",
            "808\n",
            "226\n"
          ],
          "name": "stdout"
        }
      ]
    },
    {
      "metadata": {
        "id": "qwjBHNRu-8gF",
        "colab_type": "code",
        "colab": {}
      },
      "cell_type": "code",
      "source": [
        "with open('pickle/Y_Path_train.pickle', 'wb') as handle:\n",
        "    pickle.dump(Y_Path_train, handle, protocol=pickle.HIGHEST_PROTOCOL)"
      ],
      "execution_count": 0,
      "outputs": []
    },
    {
      "metadata": {
        "id": "vX0K3n0O-_cl",
        "colab_type": "code",
        "colab": {}
      },
      "cell_type": "code",
      "source": [
        "with open('pickle/Y_Path_test.pickle', 'wb') as handle:\n",
        "    pickle.dump(Y_Path_test, handle, protocol=pickle.HIGHEST_PROTOCOL)"
      ],
      "execution_count": 0,
      "outputs": []
    },
    {
      "metadata": {
        "id": "2V7kDySY-_fZ",
        "colab_type": "code",
        "colab": {}
      },
      "cell_type": "code",
      "source": [
        "with open('pickle/Y_Struct_train.pickle', 'wb') as handle:\n",
        "    pickle.dump(Y_Struct_train, handle, protocol=pickle.HIGHEST_PROTOCOL)"
      ],
      "execution_count": 0,
      "outputs": []
    },
    {
      "metadata": {
        "id": "KZSX5Ou4-_iM",
        "colab_type": "code",
        "colab": {}
      },
      "cell_type": "code",
      "source": [
        "with open('pickle/Y_Struct_test.pickle', 'wb') as handle:\n",
        "    pickle.dump(Y_Struct_test, handle, protocol=pickle.HIGHEST_PROTOCOL)"
      ],
      "execution_count": 0,
      "outputs": []
    },
    {
      "metadata": {
        "id": "iR3BDzONNDXh",
        "colab_type": "code",
        "colab": {}
      },
      "cell_type": "code",
      "source": [
        "specs_json = list()"
      ],
      "execution_count": 0,
      "outputs": []
    },
    {
      "metadata": {
        "id": "5EjHsDBSqaxz",
        "colab_type": "code",
        "colab": {}
      },
      "cell_type": "code",
      "source": [
        "import json"
      ],
      "execution_count": 0,
      "outputs": []
    },
    {
      "metadata": {
        "id": "hJQsSGq9Ni16",
        "colab_type": "code",
        "colab": {
          "base_uri": "https://localhost:8080/",
          "height": 34
        },
        "outputId": "5803f2ed-1308-4094-bd3e-7c246eaf0b40"
      },
      "cell_type": "code",
      "source": [
        "for spec in training_data:\n",
        "  strJson = json.dumps(training_data[spec])\n",
        "  specs_json.append(strJson)\n",
        "\n",
        "print(str(len(specs_json)))\n",
        "  \n",
        "  "
      ],
      "execution_count": 78,
      "outputs": [
        {
          "output_type": "stream",
          "text": [
            "1034\n"
          ],
          "name": "stdout"
        }
      ]
    },
    {
      "metadata": {
        "id": "2v5Zl4GBOgSD",
        "colab_type": "code",
        "colab": {
          "base_uri": "https://localhost:8080/",
          "height": 54
        },
        "outputId": "cadc2b32-5875-4800-a04a-926e17069206"
      },
      "cell_type": "code",
      "source": [
        "specs_json[1]"
      ],
      "execution_count": 79,
      "outputs": [
        {
          "output_type": "execute_result",
          "data": {
            "text/plain": [
              "'{\"swagger\": \"2.0\", \"schemes\": [\"https\"], \"host\": \"6-dot-authentiqio.appspot.com\", \"basePath\": \"/\", \"info\": {\"contact\": {\"email\": \"hello@authentiq.com\", \"name\": \"Authentiq team\", \"url\": \"http://authentiq.io/support\"}, \"description\": \"Strong authentication, without the passwords.\", \"license\": {\"name\": \"Apache 2.0\", \"url\": \"http://www.apache.org/licenses/LICENSE-2.0.html\"}, \"termsOfService\": \"http://authentiq.com/terms/\", \"title\": \"Authentiq\", \"version\": \"6\", \"x-apisguru-categories\": [\"security\"], \"x-logo\": {\"backgroundColor\": \"#F26641\", \"url\": \"https://api.apis.guru/v2/cache/logo/https_www.authentiq.com_theme_images_authentiq-logo-a-inverse.svg\"}, \"x-origin\": [{\"format\": \"swagger\", \"url\": \"https://raw.githubusercontent.com/AuthentiqID/authentiq-docs/master/docs/swagger/issuer.yaml\", \"version\": \"2.0\"}], \"x-preferred\": true, \"x-providerName\": \"6-dot-authentiqio.appspot.com\"}, \"parameters\": {\"AuthentiqID\": {\"description\": \"Authentiq ID to register\", \"in\": \"body\", \"name\": \"body\", \"required\": true, \"schema\": {\"$ref\": \"#/definitions/AuthentiqID\"}}, \"JobID\": {\"description\": \"Job ID (20 chars)\", \"in\": \"path\", \"name\": \"job\", \"required\": true, \"type\": \"string\"}, \"PK\": {\"description\": \"Public Signing Key - Authentiq ID (43 chars)\", \"in\": \"path\", \"name\": \"PK\", \"required\": true, \"type\": \"string\"}, \"PushToken\": {\"description\": \"Push Token.\", \"in\": \"body\", \"name\": \"body\", \"required\": true, \"schema\": {\"$ref\": \"#/definitions/PushToken\"}}, \"Scope\": {\"description\": \"Claims of scope\", \"in\": \"body\", \"name\": \"body\", \"required\": true, \"schema\": {\"$ref\": \"#/definitions/Claims\"}}}, \"responses\": {\"ErrorResponse\": {\"description\": \"Error response\", \"schema\": {\"$ref\": \"#/definitions/Error\"}}}, \"paths\": {\"/key\": {\"delete\": {\"description\": \"Revoke an Authentiq ID using email & phone.\\\\n\\\\nIf called with `email` and `phone` only, a verification code \\\\nwill be sent by email. Do a second call adding `code` to \\\\ncomplete the revocation.\\\\n\", \"operationId\": \"key_revoke_nosecret\", \"parameters\": [{\"description\": \"primary email associated to Key (ID)\", \"in\": \"query\", \"name\": \"email\", \"required\": true, \"type\": \"string\"}, {\"description\": \"primary phone number, international representation\", \"in\": \"query\", \"name\": \"phone\", \"required\": true, \"type\": \"string\"}, {\"description\": \"verification code sent by email\", \"in\": \"query\", \"name\": \"code\", \"required\": false, \"type\": \"string\"}], \"produces\": [\"application/json\"], \"responses\": {\"200\": {\"description\": \"Successfully deleted\", \"schema\": {\"properties\": {\"status\": {\"description\": \"pending or done\", \"type\": \"string\"}}, \"type\": \"object\"}}, \"401\": {\"description\": \"Authentication error `auth-error`\", \"schema\": {\"$ref\": \"#/definitions/Error\"}}, \"404\": {\"description\": \"Unknown key `unknown-key`\", \"schema\": {\"$ref\": \"#/definitions/Error\"}}, \"409\": {\"description\": \"Confirm with code sent `confirm-first`\", \"schema\": {\"$ref\": \"#/definitions/Error\"}}, \"default\": {\"$ref\": \"#/responses/ErrorResponse\"}}, \"tags\": [\"key\", \"delete\"]}, \"post\": {\"consumes\": [\"application/jwt\"], \"description\": \"Register a new ID `JWT(sub, devtoken)`\\\\n\\\\nv5: `JWT(sub, pk, devtoken, ...)`\\\\n\\\\nSee: https://github.com/skion/authentiq/wiki/JWT-Examples\\\\n\", \"operationId\": \"key_register\", \"parameters\": [{\"$ref\": \"#/parameters/AuthentiqID\"}], \"produces\": [\"application/json\"], \"responses\": {\"201\": {\"description\": \"Successfully registered\", \"schema\": {\"properties\": {\"secret\": {\"description\": \"revoke key\", \"type\": \"string\"}, \"status\": {\"description\": \"registered\", \"type\": \"string\"}}, \"type\": \"object\"}}, \"409\": {\"description\": \"Key already registered `duplicate-key`\", \"schema\": {\"$ref\": \"#/definitions/Error\"}}, \"default\": {\"$ref\": \"#/responses/ErrorResponse\"}}, \"tags\": [\"key\", \"post\"]}}, \"/key/{PK}\": {\"delete\": {\"description\": \"Revoke an Identity (Key) with a revocation secret\", \"operationId\": \"key_revoke\", \"parameters\": [{\"$ref\": \"#/parameters/PK\"}, {\"description\": \"revokation secret\", \"in\": \"query\", \"name\": \"secret\", \"required\": true, \"type\": \"string\"}], \"produces\": [\"application/json\"], \"responses\": {\"200\": {\"description\": \"Successful response\", \"schema\": {\"properties\": {\"status\": {\"description\": \"done\", \"type\": \"string\"}}, \"type\": \"object\"}}, \"401\": {\"description\": \"Key not found / wrong code `auth-error`\", \"schema\": {\"$ref\": \"#/definitions/Error\"}}, \"404\": {\"description\": \"Unknown key `unknown-key`\", \"schema\": {\"$ref\": \"#/definitions/Error\"}}, \"default\": {\"$ref\": \"#/responses/ErrorResponse\"}}, \"tags\": [\"key\", \"delete\"]}, \"get\": {\"description\": \"Get public details of an Authentiq ID.\\\\n\", \"parameters\": [{\"$ref\": \"#/parameters/PK\"}], \"produces\": [\"application/json\"], \"responses\": {\"200\": {\"description\": \"Successfully retrieved\", \"schema\": {\"properties\": {\"since\": {\"format\": \"date-time\", \"type\": \"string\"}, \"status\": {\"type\": \"string\"}, \"sub\": {\"description\": \"base64safe encoded public signing key\", \"type\": \"string\"}}, \"title\": \"JWT\", \"type\": \"object\"}}, \"404\": {\"description\": \"Unknown key `unknown-key`\", \"schema\": {\"$ref\": \"#/definitions/Error\"}}, \"410\": {\"description\": \"Key is revoked (gone). `revoked-key`\", \"schema\": {\"$ref\": \"#/definitions/Error\"}}, \"default\": {\"$ref\": \"#/responses/ErrorResponse\"}}, \"tags\": [\"key\", \"get\"]}, \"head\": {\"description\": \"HEAD info on Authentiq ID\\\\n\", \"parameters\": [{\"$ref\": \"#/parameters/PK\"}], \"responses\": {\"200\": {\"description\": \"Key exists\"}, \"404\": {\"description\": \"Unknown key `unknown-key`\", \"schema\": {\"$ref\": \"#/definitions/Error\"}}, \"410\": {\"description\": \"Key is revoked `revoked-key`\", \"schema\": {\"$ref\": \"#/definitions/Error\"}}, \"default\": {\"$ref\": \"#/responses/ErrorResponse\"}}, \"tags\": [\"key\", \"head\"]}, \"post\": {\"consumes\": [\"application/jwt\"], \"description\": \"update properties of an Authentiq ID.\\\\n(not operational in v4; use PUT for now)\\\\n\\\\nv5: POST issuer-signed email & phone scopes in\\\\na self-signed JWT\\\\n\\\\nSee: https://github.com/skion/authentiq/wiki/JWT-Examples\\\\n\", \"operationId\": \"key_update\", \"parameters\": [{\"$ref\": \"#/parameters/PK\"}, {\"$ref\": \"#/parameters/AuthentiqID\"}], \"produces\": [\"application/json\"], \"responses\": {\"200\": {\"description\": \"Successfully updated\", \"schema\": {\"properties\": {\"status\": {\"description\": \"confirmed\", \"type\": \"string\"}}, \"type\": \"object\"}}, \"404\": {\"description\": \"Unknown key `unknown-key`\", \"schema\": {\"$ref\": \"#/definitions/Error\"}}, \"default\": {\"$ref\": \"#/responses/ErrorResponse\"}}, \"tags\": [\"key\", \"post\"]}, \"put\": {\"consumes\": [\"application/jwt\"], \"description\": \"Update Authentiq ID by replacing the object.\\\\n\\\\nv4: `JWT(sub,email,phone)` to bind email/phone hash; \\\\n\\\\nv5: POST issuer-signed email & phone scopes\\\\nand PUT to update registration `JWT(sub, pk, devtoken, ...)`\\\\n\\\\nSee: https://github.com/skion/authentiq/wiki/JWT-Examples\\\\n\", \"operationId\": \"key_bind\", \"parameters\": [{\"$ref\": \"#/parameters/PK\"}, {\"$ref\": \"#/parameters/AuthentiqID\"}], \"produces\": [\"application/json\"], \"responses\": {\"200\": {\"description\": \"Successfully updated\", \"schema\": {\"properties\": {\"status\": {\"description\": \"confirmed\", \"type\": \"string\"}}, \"type\": \"object\"}}, \"404\": {\"description\": \"Unknown key `unknown-key`\", \"schema\": {\"$ref\": \"#/definitions/Error\"}}, \"409\": {\"description\": \"Already bound to another key `duplicate-hash`\", \"schema\": {\"$ref\": \"#/definitions/Error\"}}, \"default\": {\"$ref\": \"#/responses/ErrorResponse\"}}, \"tags\": [\"key\", \"put\"]}}, \"/login\": {\"post\": {\"consumes\": [\"application/jwt\"], \"description\": \"push sign-in request\\\\nSee: https://github.com/skion/authentiq/wiki/JWT-Examples\\\\n\", \"operationId\": \"push_login_request\", \"parameters\": [{\"$ref\": \"#/parameters/PushToken\"}, {\"description\": \"URI App will connect to\", \"in\": \"query\", \"name\": \"callback\", \"required\": true, \"type\": \"string\"}], \"produces\": [\"application/json\"], \"responses\": {\"200\": {\"description\": \"Successful response\", \"schema\": {\"properties\": {\"status\": {\"description\": \"sent\", \"type\": \"string\"}}, \"type\": \"object\"}}, \"401\": {\"description\": \"Unauthorized for this callback audience `aud-error` or JWT should be self-signed `auth-error`\", \"schema\": {\"$ref\": \"#/definitions/Error\"}}, \"default\": {\"$ref\": \"#/responses/ErrorResponse\"}}, \"tags\": [\"login\", \"post\"]}}, \"/scope\": {\"post\": {\"consumes\": [\"application/jwt\"], \"description\": \"scope verification request\\\\nSee: https://github.com/skion/authentiq/wiki/JWT-Examples\\\\n\", \"operationId\": \"sign_request\", \"parameters\": [{\"$ref\": \"#/parameters/Scope\"}, {\"description\": \"test only mode, using test issuer\", \"in\": \"query\", \"name\": \"test\", \"required\": false, \"type\": \"integer\"}], \"produces\": [\"application/json\"], \"responses\": {\"201\": {\"description\": \"Successful response\", \"schema\": {\"properties\": {\"job\": {\"description\": \"20-character ID\", \"type\": \"string\"}, \"status\": {\"description\": \"waiting\", \"type\": \"string\"}}, \"type\": \"object\"}}, \"429\": {\"description\": \"Too Many Requests on same address / number `rate-limit`\", \"schema\": {\"$ref\": \"#/definitions/Error\"}}, \"default\": {\"$ref\": \"#/responses/ErrorResponse\"}}, \"tags\": [\"scope\", \"post\"]}}, \"/scope/{job}\": {\"delete\": {\"description\": \"delete a verification job\", \"operationId\": \"sign_delete\", \"parameters\": [{\"$ref\": \"#/parameters/JobID\"}], \"produces\": [\"application/json\"], \"responses\": {\"200\": {\"description\": \"Successfully deleted\", \"schema\": {\"properties\": {\"status\": {\"description\": \"done\", \"type\": \"string\"}}, \"type\": \"object\"}}, \"404\": {\"description\": \"Job not found `unknown-job`\", \"schema\": {\"$ref\": \"#/definitions/Error\"}}, \"default\": {\"$ref\": \"#/responses/ErrorResponse\"}}, \"tags\": [\"scope\", \"delete\"]}, \"get\": {\"description\": \"get the status / current content of a verification job\", \"operationId\": \"sign_retrieve\", \"parameters\": [{\"$ref\": \"#/parameters/JobID\"}], \"produces\": [\"application/json\", \"application/jwt\"], \"responses\": {\"200\": {\"description\": \"Successful response (JWT)\", \"schema\": {\"properties\": {\"exp\": {\"type\": \"integer\"}, \"field\": {\"type\": \"string\"}, \"sub\": {\"description\": \"base64safe encoded public signing key\", \"type\": \"string\"}}, \"title\": \"JWT\", \"type\": \"object\"}}, \"204\": {\"description\": \"Confirmed, waiting for signing\"}, \"404\": {\"description\": \"Job not found `unknown-job`\", \"schema\": {\"$ref\": \"#/definitions/Error\"}}, \"default\": {\"$ref\": \"#/responses/ErrorResponse\"}}, \"tags\": [\"scope\", \"get\"]}, \"head\": {\"description\": \"HEAD to get the status of a verification job\", \"operationId\": \"sign_retrieve_head\", \"parameters\": [{\"$ref\": \"#/parameters/JobID\"}], \"produces\": [\"application/json\"], \"responses\": {\"200\": {\"description\": \"Confirmed and signed\"}, \"204\": {\"description\": \"Confirmed, waiting for signing\"}, \"404\": {\"description\": \"Job not found `unknown-job`\", \"schema\": {\"$ref\": \"#/definitions/Error\"}}, \"default\": {\"$ref\": \"#/responses/ErrorResponse\"}}, \"tags\": [\"scope\", \"head\"]}, \"post\": {\"consumes\": [\"application/json\"], \"description\": \"this is a scope confirmation\", \"operationId\": \"sign_confirm\", \"parameters\": [{\"$ref\": \"#/parameters/JobID\"}], \"produces\": [\"application/json\"], \"responses\": {\"202\": {\"description\": \"Successfully confirmed\", \"schema\": {\"properties\": {\"status\": {\"description\": \"confirmed\", \"type\": \"string\"}}, \"type\": \"object\"}}, \"401\": {\"description\": \"Confirmation error `auth-error`\", \"schema\": {\"$ref\": \"#/definitions/Error\"}}, \"404\": {\"description\": \"Job not found `unknown-job`\", \"schema\": {\"$ref\": \"#/definitions/Error\"}}, \"405\": {\"description\": \"JWT POSTed to scope `not-supported`\", \"schema\": {\"$ref\": \"#/definitions/Error\"}}, \"default\": {\"$ref\": \"#/responses/ErrorResponse\"}}, \"tags\": [\"scope\", \"post\"]}, \"put\": {\"consumes\": [\"application/jwt\"], \"description\": \"authority updates a JWT with its signature\\\\nSee: https://github.com/skion/authentiq/wiki/JWT-Examples\\\\n\", \"operationId\": \"sign_update\", \"parameters\": [{\"$ref\": \"#/parameters/JobID\"}], \"produces\": [\"application/jwt\"], \"responses\": {\"200\": {\"description\": \"Successfully updated\", \"schema\": {\"properties\": {\"jwt\": {\"description\": \"result is JWT or JSON??\", \"type\": \"string\"}, \"status\": {\"description\": \"ready\", \"type\": \"string\"}}, \"type\": \"object\"}}, \"404\": {\"description\": \"Job not found `unknown-job`\", \"schema\": {\"$ref\": \"#/definitions/Error\"}}, \"409\": {\"description\": \"Job not confirmed yet `confirm-first`\", \"schema\": {\"$ref\": \"#/definitions/Error\"}}, \"default\": {\"$ref\": \"#/responses/ErrorResponse\"}}, \"tags\": [\"scope\", \"put\"]}}}, \"definitions\": {\"AuthentiqID\": {\"description\": \"Authentiq ID in JWT format, self-signed.\\\\n\", \"properties\": {\"devtoken\": {\"description\": \"device token for push messages\", \"type\": \"string\"}, \"sub\": {\"description\": \"UUID and public signing key\", \"type\": \"string\"}}, \"required\": [\"sub\"]}, \"Claims\": {\"description\": \"Claim in JWT format, self- or issuer-signed. \\\\n\", \"properties\": {\"email\": {\"description\": \"\", \"type\": \"string\"}, \"phone\": {\"description\": \"\", \"type\": \"string\"}, \"scope\": {\"description\": \"claim scope\", \"type\": \"string\"}, \"sub\": {\"description\": \"UUID\", \"type\": \"string\"}, \"type\": {\"description\": \"\", \"type\": \"string\"}}, \"required\": [\"sub\", \"scope\"]}, \"Error\": {\"properties\": {\"detail\": {\"type\": \"string\"}, \"error\": {\"type\": \"integer\"}, \"title\": {\"type\": \"string\"}, \"type\": {\"description\": \"unique uri for this error\", \"type\": \"string\"}}, \"required\": [\"error\"]}, \"PushToken\": {\"description\": \"PushToken in JWT format, self-signed. \\\\n\", \"properties\": {\"aud\": {\"description\": \"audience (URI)\", \"type\": \"string\"}, \"exp\": {\"type\": \"integer\"}, \"iat\": {\"type\": \"integer\"}, \"iss\": {\"description\": \"issuer (URI)\", \"type\": \"string\"}, \"nbf\": {\"type\": \"integer\"}, \"sub\": {\"description\": \"UUID and public signing key\", \"type\": \"string\"}}, \"required\": [\"sub\", \"iss\", \"aud\"]}}}'"
            ]
          },
          "metadata": {
            "tags": []
          },
          "execution_count": 79
        }
      ]
    },
    {
      "metadata": {
        "id": "WR_SE_dTm4ci",
        "colab_type": "code",
        "colab": {
          "base_uri": "https://localhost:8080/",
          "height": 51
        },
        "outputId": "37a984a6-2646-485e-96bd-6510ca421034"
      },
      "cell_type": "code",
      "source": [
        "X_train = specs_json[:808]\n",
        "X_test = specs_json[808:]\n",
        "\n",
        "print(len(X_train))\n",
        "print(len(X_test))"
      ],
      "execution_count": 82,
      "outputs": [
        {
          "output_type": "stream",
          "text": [
            "808\n",
            "226\n"
          ],
          "name": "stdout"
        }
      ]
    },
    {
      "metadata": {
        "id": "d7iwYpbNOyir",
        "colab_type": "text"
      },
      "cell_type": "markdown",
      "source": [
        "## Preprocessing\n",
        "In this part of the notebook we are going to preprocess the data itself. The data will be tokenized, preprocessed and stored as Training and Test sets"
      ]
    },
    {
      "metadata": {
        "id": "CuGZRu7DqDEX",
        "colab_type": "code",
        "colab": {}
      },
      "cell_type": "code",
      "source": [
        "from keras.preprocessing.text import Tokenizer"
      ],
      "execution_count": 0,
      "outputs": []
    },
    {
      "metadata": {
        "id": "u1C6_30s9H3F",
        "colab_type": "text"
      },
      "cell_type": "markdown",
      "source": [
        "Once fit, the Tokenizer provides 4 attributes that you can use to query what has been learned about your documents:\n",
        "\n",
        "*   word_counts: A dictionary of words and their counts.\n",
        "*   word_docs: A dictionary of words and how many documents each appeared in.\n",
        "*   word_index: A dictionary of words and their uniquely assigned integers.\n",
        "*   document_count:An integer count of the total number of documents that were used to fit the Tokenizer.\n",
        "\n",
        "\n",
        "[source](https://machinelearningmastery.com/prepare-text-data-deep-learning-keras/)\n"
      ]
    },
    {
      "metadata": {
        "id": "kUGDglE0qLI_",
        "colab_type": "code",
        "colab": {}
      },
      "cell_type": "code",
      "source": [
        "tokenizer = Tokenizer(num_words=100000,filters='!\"#$%&()*+,-/:;<=>?@[\\\\]^_`{|}~\\t\\n')\n",
        "\n",
        "tokenizer\n",
        "\n",
        "tokenizer.fit_on_texts(specs_json)\n",
        "\n",
        "\n",
        "\n",
        "x_train = tokenizer.texts_to_matrix(X_train)\n",
        "x_test = tokenizer.texts_to_matrix(X_test)"
      ],
      "execution_count": 0,
      "outputs": []
    },
    {
      "metadata": {
        "id": "WsgqtUCeNbRw",
        "colab_type": "text"
      },
      "cell_type": "markdown",
      "source": [
        "--------------------------------"
      ]
    },
    {
      "metadata": {
        "id": "jz4rsCxiMze_",
        "colab_type": "code",
        "colab": {
          "base_uri": "https://localhost:8080/",
          "height": 136
        },
        "outputId": "701ab7d4-0184-4411-98f5-c21701e95b1f"
      },
      "cell_type": "code",
      "source": [
        "x_train"
      ],
      "execution_count": 84,
      "outputs": [
        {
          "output_type": "execute_result",
          "data": {
            "text/plain": [
              "array([[0., 0., 1., ..., 0., 0., 0.],\n",
              "       [0., 1., 1., ..., 0., 0., 0.],\n",
              "       [0., 1., 1., ..., 0., 0., 0.],\n",
              "       ...,\n",
              "       [0., 1., 1., ..., 0., 0., 0.],\n",
              "       [0., 1., 1., ..., 0., 0., 0.],\n",
              "       [0., 1., 1., ..., 0., 0., 0.]])"
            ]
          },
          "metadata": {
            "tags": []
          },
          "execution_count": 84
        }
      ]
    },
    {
      "metadata": {
        "id": "q7laEC0enX73",
        "colab_type": "code",
        "colab": {
          "base_uri": "https://localhost:8080/",
          "height": 136
        },
        "outputId": "8ce8e931-acf5-4bc4-bede-95cf86107056"
      },
      "cell_type": "code",
      "source": [
        "x_test"
      ],
      "execution_count": 85,
      "outputs": [
        {
          "output_type": "execute_result",
          "data": {
            "text/plain": [
              "array([[0., 1., 1., ..., 0., 0., 0.],\n",
              "       [0., 1., 1., ..., 0., 0., 0.],\n",
              "       [0., 1., 1., ..., 0., 0., 0.],\n",
              "       ...,\n",
              "       [0., 1., 1., ..., 0., 0., 0.],\n",
              "       [0., 1., 1., ..., 0., 0., 0.],\n",
              "       [0., 1., 1., ..., 0., 0., 0.]])"
            ]
          },
          "metadata": {
            "tags": []
          },
          "execution_count": 85
        }
      ]
    },
    {
      "metadata": {
        "id": "n6Iwh_emNDNx",
        "colab_type": "code",
        "colab": {}
      },
      "cell_type": "code",
      "source": [
        "from sklearn.preprocessing import LabelBinarizer, LabelEncoder\n",
        "\n",
        "encoder = LabelBinarizer()\n",
        "encoder.fit(labelsStruct)\n",
        "y_train = encoder.transform(Y_Struct_train)\n",
        "y_test = encoder.transform(Y_Struct_test)"
      ],
      "execution_count": 0,
      "outputs": []
    },
    {
      "metadata": {
        "id": "jMkvycgpN2Xh",
        "colab_type": "code",
        "colab": {
          "base_uri": "https://localhost:8080/",
          "height": 136
        },
        "outputId": "6b4ae8b3-9f53-4be2-f7c1-a41e19ce3bb3"
      },
      "cell_type": "code",
      "source": [
        "y_train"
      ],
      "execution_count": 94,
      "outputs": [
        {
          "output_type": "execute_result",
          "data": {
            "text/plain": [
              "array([[1, 0, 0, ..., 0, 0, 0],\n",
              "       [0, 1, 0, ..., 0, 0, 0],\n",
              "       [0, 0, 1, ..., 0, 0, 0],\n",
              "       ...,\n",
              "       [0, 0, 0, ..., 0, 0, 1],\n",
              "       [1, 0, 0, ..., 0, 0, 0],\n",
              "       [1, 0, 0, ..., 0, 0, 0]])"
            ]
          },
          "metadata": {
            "tags": []
          },
          "execution_count": 94
        }
      ]
    },
    {
      "metadata": {
        "id": "zZ7-cvhMNfDq",
        "colab_type": "code",
        "colab": {
          "base_uri": "https://localhost:8080/",
          "height": 34
        },
        "outputId": "f09fa9e5-fdfa-441d-c4c8-27979b42c1bc"
      },
      "cell_type": "code",
      "source": [
        "len(x_train[0])"
      ],
      "execution_count": 95,
      "outputs": [
        {
          "output_type": "execute_result",
          "data": {
            "text/plain": [
              "100000"
            ]
          },
          "metadata": {
            "tags": []
          },
          "execution_count": 95
        }
      ]
    },
    {
      "metadata": {
        "id": "Y6fsswTNNyOH",
        "colab_type": "code",
        "colab": {
          "base_uri": "https://localhost:8080/",
          "height": 34
        },
        "outputId": "c51318d7-041e-476a-e18e-1e994f4d7bc7"
      },
      "cell_type": "code",
      "source": [
        "print('y_train shape:', y_train.shape)"
      ],
      "execution_count": 96,
      "outputs": [
        {
          "output_type": "stream",
          "text": [
            "y_train shape: (808, 8)\n"
          ],
          "name": "stdout"
        }
      ]
    },
    {
      "metadata": {
        "id": "VXyYma_oOEub",
        "colab_type": "code",
        "colab": {
          "base_uri": "https://localhost:8080/",
          "height": 34
        },
        "outputId": "5b665a37-c76c-4731-83e2-b3820111e90d"
      },
      "cell_type": "code",
      "source": [
        "print('x_train shape:', x_train.shape)"
      ],
      "execution_count": 97,
      "outputs": [
        {
          "output_type": "stream",
          "text": [
            "x_train shape: (808, 100000)\n"
          ],
          "name": "stdout"
        }
      ]
    },
    {
      "metadata": {
        "id": "4s0Ib7kGOI1z",
        "colab_type": "code",
        "colab": {}
      },
      "cell_type": "code",
      "source": [
        "batch_size = 32\n",
        "epochs = 2"
      ],
      "execution_count": 0,
      "outputs": []
    },
    {
      "metadata": {
        "id": "4ybyYVkwNcv2",
        "colab_type": "text"
      },
      "cell_type": "markdown",
      "source": [
        "---------------------------------------------------------------"
      ]
    },
    {
      "metadata": {
        "id": "XcdTm3h8v5cS",
        "colab_type": "text"
      },
      "cell_type": "markdown",
      "source": [
        "## Model Architecture\n",
        "In this section of the notebook the actual deep learning model is designed and the architecture presented before the actual training of it will take place."
      ]
    },
    {
      "metadata": {
        "id": "Jd7dTA9vASip",
        "colab_type": "code",
        "colab": {}
      },
      "cell_type": "code",
      "source": [
        "model = Sequential()\n",
        "model.add(Embedding(10000, 128, input_length=100000))\n",
        "model.add(Dropout(0.2))\n",
        "model.add(Conv1D(64, 5, activation='relu'))\n",
        "model.add(MaxPooling1D(pool_size=4))\n",
        "model.add(Dropout(0.2))\n",
        "model.add(LSTM(128))\n",
        "model.add(Dropout(0.2))\n",
        "\n",
        "model.add(Dense(8, activation='softmax',name = 'softmax_layer'))\n",
        "\n",
        "model.compile(loss='categorical_crossentropy',\n",
        "              optimizer='adam',\n",
        "              metrics=['accuracy'])"
      ],
      "execution_count": 0,
      "outputs": []
    },
    {
      "metadata": {
        "id": "7RJGHv4wBLtm",
        "colab_type": "code",
        "colab": {
          "base_uri": "https://localhost:8080/",
          "height": 425
        },
        "outputId": "be5ee237-b747-42ea-d91e-fe81dee33232"
      },
      "cell_type": "code",
      "source": [
        "print(model.summary())"
      ],
      "execution_count": 114,
      "outputs": [
        {
          "output_type": "stream",
          "text": [
            "_________________________________________________________________\n",
            "Layer (type)                 Output Shape              Param #   \n",
            "=================================================================\n",
            "embedding_3 (Embedding)      (None, 100000, 128)       1280000   \n",
            "_________________________________________________________________\n",
            "dropout_26 (Dropout)         (None, 100000, 128)       0         \n",
            "_________________________________________________________________\n",
            "conv1d_5 (Conv1D)            (None, 99996, 64)         41024     \n",
            "_________________________________________________________________\n",
            "max_pooling1d_5 (MaxPooling1 (None, 24999, 64)         0         \n",
            "_________________________________________________________________\n",
            "dropout_27 (Dropout)         (None, 24999, 64)         0         \n",
            "_________________________________________________________________\n",
            "lstm_2 (LSTM)                (None, 128)               98816     \n",
            "_________________________________________________________________\n",
            "dropout_28 (Dropout)         (None, 128)               0         \n",
            "_________________________________________________________________\n",
            "softmax_layer (Dense)        (None, 8)                 1032      \n",
            "=================================================================\n",
            "Total params: 1,420,872\n",
            "Trainable params: 1,420,872\n",
            "Non-trainable params: 0\n",
            "_________________________________________________________________\n",
            "None\n"
          ],
          "name": "stdout"
        }
      ]
    },
    {
      "metadata": {
        "id": "V8Yt5meuCIpu",
        "colab_type": "code",
        "colab": {
          "base_uri": "https://localhost:8080/",
          "height": 68
        },
        "outputId": "0ad49f1f-f999-4712-a537-04e0c0d2aac1"
      },
      "cell_type": "code",
      "source": [
        "history = model.fit(x_train, y_train,\n",
        "                    batch_size=8,\n",
        "                    epochs=3,\n",
        "                    verbose=1,\n",
        "                    validation_split=0.2)"
      ],
      "execution_count": 0,
      "outputs": [
        {
          "output_type": "stream",
          "text": [
            "Train on 646 samples, validate on 162 samples\n",
            "Epoch 1/3\n",
            "  8/646 [..............................] - ETA: 1:48:40 - loss: 2.0601 - acc: 0.3750"
          ],
          "name": "stdout"
        }
      ]
    },
    {
      "metadata": {
        "id": "C2FJ7cblWJvz",
        "colab_type": "code",
        "colab": {}
      },
      "cell_type": "code",
      "source": [
        "model2 = Sequential()\n",
        "model2.add(Dense(2048, input_shape=(100000,), activation='relu'))\n",
        "model2.add(Dropout(0.2))\n",
        "model2.add(Dense(1024, activation='sigmoid'))\n",
        "model2.add(Dropout(0.2))\n",
        "model2.add(Dense(8, activation='softmax'))\n",
        "\n",
        "model2.compile(loss='categorical_crossentropy',\n",
        "              optimizer='adam',\n",
        "              metrics=['accuracy'])"
      ],
      "execution_count": 0,
      "outputs": []
    },
    {
      "metadata": {
        "id": "KQlNbNAGnijL",
        "colab_type": "code",
        "colab": {
          "base_uri": "https://localhost:8080/",
          "height": 323
        },
        "outputId": "95783b83-3547-46af-a24a-7d42ab61e42b"
      },
      "cell_type": "code",
      "source": [
        "print(model2.summary())"
      ],
      "execution_count": 110,
      "outputs": [
        {
          "output_type": "stream",
          "text": [
            "_________________________________________________________________\n",
            "Layer (type)                 Output Shape              Param #   \n",
            "=================================================================\n",
            "dense_27 (Dense)             (None, 2048)              204802048 \n",
            "_________________________________________________________________\n",
            "dropout_21 (Dropout)         (None, 2048)              0         \n",
            "_________________________________________________________________\n",
            "dense_28 (Dense)             (None, 1024)              2098176   \n",
            "_________________________________________________________________\n",
            "dropout_22 (Dropout)         (None, 1024)              0         \n",
            "_________________________________________________________________\n",
            "dense_29 (Dense)             (None, 8)                 8200      \n",
            "=================================================================\n",
            "Total params: 206,908,424\n",
            "Trainable params: 206,908,424\n",
            "Non-trainable params: 0\n",
            "_________________________________________________________________\n",
            "None\n"
          ],
          "name": "stdout"
        }
      ]
    },
    {
      "metadata": {
        "id": "jnUsffQZWRBg",
        "colab_type": "code",
        "colab": {
          "base_uri": "https://localhost:8080/",
          "height": 1595
        },
        "outputId": "6a4d41b2-5536-4250-d07e-e3bee6d61cb3"
      },
      "cell_type": "code",
      "source": [
        "history2 = model2.fit(x_train, y_train,\n",
        "                    batch_size=32,\n",
        "                    epochs=15,\n",
        "                    verbose=1,\n",
        "                    validation_split=0.2)"
      ],
      "execution_count": 111,
      "outputs": [
        {
          "output_type": "stream",
          "text": [
            "Train on 646 samples, validate on 162 samples\n",
            "Epoch 1/15\n",
            "646/646 [==============================] - 8s 13ms/step - loss: 0.9245 - acc: 0.6827 - val_loss: 5.2256 - val_acc: 0.0617\n",
            "Epoch 2/15\n",
            "646/646 [==============================] - 6s 9ms/step - loss: 0.1744 - acc: 0.9474 - val_loss: 3.4736 - val_acc: 0.0864\n",
            "Epoch 3/15\n",
            "646/646 [==============================] - 6s 9ms/step - loss: 0.0292 - acc: 0.9938 - val_loss: 3.0794 - val_acc: 0.0802\n",
            "Epoch 4/15\n",
            "646/646 [==============================] - 6s 9ms/step - loss: 0.0120 - acc: 0.9985 - val_loss: 3.2029 - val_acc: 0.0988\n",
            "Epoch 5/15\n",
            " 64/646 [=>............................] - ETA: 4s - loss: 0.0052 - acc: 1.0000"
          ],
          "name": "stdout"
        },
        {
          "output_type": "error",
          "ename": "KeyboardInterrupt",
          "evalue": "ignored",
          "traceback": [
            "\u001b[0;31m---------------------------------------------------------------------------\u001b[0m",
            "\u001b[0;31mKeyboardInterrupt\u001b[0m                         Traceback (most recent call last)",
            "\u001b[0;32m<ipython-input-111-4d439667bbeb>\u001b[0m in \u001b[0;36m<module>\u001b[0;34m()\u001b[0m\n\u001b[1;32m      3\u001b[0m                     \u001b[0mepochs\u001b[0m\u001b[0;34m=\u001b[0m\u001b[0;36m15\u001b[0m\u001b[0;34m,\u001b[0m\u001b[0;34m\u001b[0m\u001b[0m\n\u001b[1;32m      4\u001b[0m                     \u001b[0mverbose\u001b[0m\u001b[0;34m=\u001b[0m\u001b[0;36m1\u001b[0m\u001b[0;34m,\u001b[0m\u001b[0;34m\u001b[0m\u001b[0m\n\u001b[0;32m----> 5\u001b[0;31m                     validation_split=0.2)\n\u001b[0m",
            "\u001b[0;32m/usr/local/lib/python3.6/dist-packages/keras/models.py\u001b[0m in \u001b[0;36mfit\u001b[0;34m(self, x, y, batch_size, epochs, verbose, callbacks, validation_split, validation_data, shuffle, class_weight, sample_weight, initial_epoch, steps_per_epoch, validation_steps, **kwargs)\u001b[0m\n\u001b[1;32m   1000\u001b[0m                               \u001b[0minitial_epoch\u001b[0m\u001b[0;34m=\u001b[0m\u001b[0minitial_epoch\u001b[0m\u001b[0;34m,\u001b[0m\u001b[0;34m\u001b[0m\u001b[0m\n\u001b[1;32m   1001\u001b[0m                               \u001b[0msteps_per_epoch\u001b[0m\u001b[0;34m=\u001b[0m\u001b[0msteps_per_epoch\u001b[0m\u001b[0;34m,\u001b[0m\u001b[0;34m\u001b[0m\u001b[0m\n\u001b[0;32m-> 1002\u001b[0;31m                               validation_steps=validation_steps)\n\u001b[0m\u001b[1;32m   1003\u001b[0m \u001b[0;34m\u001b[0m\u001b[0m\n\u001b[1;32m   1004\u001b[0m     def evaluate(self, x=None, y=None,\n",
            "\u001b[0;32m/usr/local/lib/python3.6/dist-packages/keras/engine/training.py\u001b[0m in \u001b[0;36mfit\u001b[0;34m(self, x, y, batch_size, epochs, verbose, callbacks, validation_split, validation_data, shuffle, class_weight, sample_weight, initial_epoch, steps_per_epoch, validation_steps, **kwargs)\u001b[0m\n\u001b[1;32m   1703\u001b[0m                               \u001b[0minitial_epoch\u001b[0m\u001b[0;34m=\u001b[0m\u001b[0minitial_epoch\u001b[0m\u001b[0;34m,\u001b[0m\u001b[0;34m\u001b[0m\u001b[0m\n\u001b[1;32m   1704\u001b[0m                               \u001b[0msteps_per_epoch\u001b[0m\u001b[0;34m=\u001b[0m\u001b[0msteps_per_epoch\u001b[0m\u001b[0;34m,\u001b[0m\u001b[0;34m\u001b[0m\u001b[0m\n\u001b[0;32m-> 1705\u001b[0;31m                               validation_steps=validation_steps)\n\u001b[0m\u001b[1;32m   1706\u001b[0m \u001b[0;34m\u001b[0m\u001b[0m\n\u001b[1;32m   1707\u001b[0m     def evaluate(self, x=None, y=None,\n",
            "\u001b[0;32m/usr/local/lib/python3.6/dist-packages/keras/engine/training.py\u001b[0m in \u001b[0;36m_fit_loop\u001b[0;34m(self, f, ins, out_labels, batch_size, epochs, verbose, callbacks, val_f, val_ins, shuffle, callback_metrics, initial_epoch, steps_per_epoch, validation_steps)\u001b[0m\n\u001b[1;32m   1234\u001b[0m                         \u001b[0mins_batch\u001b[0m\u001b[0;34m[\u001b[0m\u001b[0mi\u001b[0m\u001b[0;34m]\u001b[0m \u001b[0;34m=\u001b[0m \u001b[0mins_batch\u001b[0m\u001b[0;34m[\u001b[0m\u001b[0mi\u001b[0m\u001b[0;34m]\u001b[0m\u001b[0;34m.\u001b[0m\u001b[0mtoarray\u001b[0m\u001b[0;34m(\u001b[0m\u001b[0;34m)\u001b[0m\u001b[0;34m\u001b[0m\u001b[0m\n\u001b[1;32m   1235\u001b[0m \u001b[0;34m\u001b[0m\u001b[0m\n\u001b[0;32m-> 1236\u001b[0;31m                     \u001b[0mouts\u001b[0m \u001b[0;34m=\u001b[0m \u001b[0mf\u001b[0m\u001b[0;34m(\u001b[0m\u001b[0mins_batch\u001b[0m\u001b[0;34m)\u001b[0m\u001b[0;34m\u001b[0m\u001b[0m\n\u001b[0m\u001b[1;32m   1237\u001b[0m                     \u001b[0;32mif\u001b[0m \u001b[0;32mnot\u001b[0m \u001b[0misinstance\u001b[0m\u001b[0;34m(\u001b[0m\u001b[0mouts\u001b[0m\u001b[0;34m,\u001b[0m \u001b[0mlist\u001b[0m\u001b[0;34m)\u001b[0m\u001b[0;34m:\u001b[0m\u001b[0;34m\u001b[0m\u001b[0m\n\u001b[1;32m   1238\u001b[0m                         \u001b[0mouts\u001b[0m \u001b[0;34m=\u001b[0m \u001b[0;34m[\u001b[0m\u001b[0mouts\u001b[0m\u001b[0;34m]\u001b[0m\u001b[0;34m\u001b[0m\u001b[0m\n",
            "\u001b[0;32m/usr/local/lib/python3.6/dist-packages/keras/backend/tensorflow_backend.py\u001b[0m in \u001b[0;36m__call__\u001b[0;34m(self, inputs)\u001b[0m\n\u001b[1;32m   2480\u001b[0m         \u001b[0msession\u001b[0m \u001b[0;34m=\u001b[0m \u001b[0mget_session\u001b[0m\u001b[0;34m(\u001b[0m\u001b[0;34m)\u001b[0m\u001b[0;34m\u001b[0m\u001b[0m\n\u001b[1;32m   2481\u001b[0m         updated = session.run(fetches=fetches, feed_dict=feed_dict,\n\u001b[0;32m-> 2482\u001b[0;31m                               **self.session_kwargs)\n\u001b[0m\u001b[1;32m   2483\u001b[0m         \u001b[0;32mreturn\u001b[0m \u001b[0mupdated\u001b[0m\u001b[0;34m[\u001b[0m\u001b[0;34m:\u001b[0m\u001b[0mlen\u001b[0m\u001b[0;34m(\u001b[0m\u001b[0mself\u001b[0m\u001b[0;34m.\u001b[0m\u001b[0moutputs\u001b[0m\u001b[0;34m)\u001b[0m\u001b[0;34m]\u001b[0m\u001b[0;34m\u001b[0m\u001b[0m\n\u001b[1;32m   2484\u001b[0m \u001b[0;34m\u001b[0m\u001b[0m\n",
            "\u001b[0;32m/usr/local/lib/python3.6/dist-packages/tensorflow/python/client/session.py\u001b[0m in \u001b[0;36mrun\u001b[0;34m(self, fetches, feed_dict, options, run_metadata)\u001b[0m\n\u001b[1;32m    898\u001b[0m     \u001b[0;32mtry\u001b[0m\u001b[0;34m:\u001b[0m\u001b[0;34m\u001b[0m\u001b[0m\n\u001b[1;32m    899\u001b[0m       result = self._run(None, fetches, feed_dict, options_ptr,\n\u001b[0;32m--> 900\u001b[0;31m                          run_metadata_ptr)\n\u001b[0m\u001b[1;32m    901\u001b[0m       \u001b[0;32mif\u001b[0m \u001b[0mrun_metadata\u001b[0m\u001b[0;34m:\u001b[0m\u001b[0;34m\u001b[0m\u001b[0m\n\u001b[1;32m    902\u001b[0m         \u001b[0mproto_data\u001b[0m \u001b[0;34m=\u001b[0m \u001b[0mtf_session\u001b[0m\u001b[0;34m.\u001b[0m\u001b[0mTF_GetBuffer\u001b[0m\u001b[0;34m(\u001b[0m\u001b[0mrun_metadata_ptr\u001b[0m\u001b[0;34m)\u001b[0m\u001b[0;34m\u001b[0m\u001b[0m\n",
            "\u001b[0;32m/usr/local/lib/python3.6/dist-packages/tensorflow/python/client/session.py\u001b[0m in \u001b[0;36m_run\u001b[0;34m(self, handle, fetches, feed_dict, options, run_metadata)\u001b[0m\n\u001b[1;32m   1133\u001b[0m     \u001b[0;32mif\u001b[0m \u001b[0mfinal_fetches\u001b[0m \u001b[0;32mor\u001b[0m \u001b[0mfinal_targets\u001b[0m \u001b[0;32mor\u001b[0m \u001b[0;34m(\u001b[0m\u001b[0mhandle\u001b[0m \u001b[0;32mand\u001b[0m \u001b[0mfeed_dict_tensor\u001b[0m\u001b[0;34m)\u001b[0m\u001b[0;34m:\u001b[0m\u001b[0;34m\u001b[0m\u001b[0m\n\u001b[1;32m   1134\u001b[0m       results = self._do_run(handle, final_targets, final_fetches,\n\u001b[0;32m-> 1135\u001b[0;31m                              feed_dict_tensor, options, run_metadata)\n\u001b[0m\u001b[1;32m   1136\u001b[0m     \u001b[0;32melse\u001b[0m\u001b[0;34m:\u001b[0m\u001b[0;34m\u001b[0m\u001b[0m\n\u001b[1;32m   1137\u001b[0m       \u001b[0mresults\u001b[0m \u001b[0;34m=\u001b[0m \u001b[0;34m[\u001b[0m\u001b[0;34m]\u001b[0m\u001b[0;34m\u001b[0m\u001b[0m\n",
            "\u001b[0;32m/usr/local/lib/python3.6/dist-packages/tensorflow/python/client/session.py\u001b[0m in \u001b[0;36m_do_run\u001b[0;34m(self, handle, target_list, fetch_list, feed_dict, options, run_metadata)\u001b[0m\n\u001b[1;32m   1314\u001b[0m     \u001b[0;32mif\u001b[0m \u001b[0mhandle\u001b[0m \u001b[0;32mis\u001b[0m \u001b[0;32mNone\u001b[0m\u001b[0;34m:\u001b[0m\u001b[0;34m\u001b[0m\u001b[0m\n\u001b[1;32m   1315\u001b[0m       return self._do_call(_run_fn, feeds, fetches, targets, options,\n\u001b[0;32m-> 1316\u001b[0;31m                            run_metadata)\n\u001b[0m\u001b[1;32m   1317\u001b[0m     \u001b[0;32melse\u001b[0m\u001b[0;34m:\u001b[0m\u001b[0;34m\u001b[0m\u001b[0m\n\u001b[1;32m   1318\u001b[0m       \u001b[0;32mreturn\u001b[0m \u001b[0mself\u001b[0m\u001b[0;34m.\u001b[0m\u001b[0m_do_call\u001b[0m\u001b[0;34m(\u001b[0m\u001b[0m_prun_fn\u001b[0m\u001b[0;34m,\u001b[0m \u001b[0mhandle\u001b[0m\u001b[0;34m,\u001b[0m \u001b[0mfeeds\u001b[0m\u001b[0;34m,\u001b[0m \u001b[0mfetches\u001b[0m\u001b[0;34m)\u001b[0m\u001b[0;34m\u001b[0m\u001b[0m\n",
            "\u001b[0;32m/usr/local/lib/python3.6/dist-packages/tensorflow/python/client/session.py\u001b[0m in \u001b[0;36m_do_call\u001b[0;34m(self, fn, *args)\u001b[0m\n\u001b[1;32m   1320\u001b[0m   \u001b[0;32mdef\u001b[0m \u001b[0m_do_call\u001b[0m\u001b[0;34m(\u001b[0m\u001b[0mself\u001b[0m\u001b[0;34m,\u001b[0m \u001b[0mfn\u001b[0m\u001b[0;34m,\u001b[0m \u001b[0;34m*\u001b[0m\u001b[0margs\u001b[0m\u001b[0;34m)\u001b[0m\u001b[0;34m:\u001b[0m\u001b[0;34m\u001b[0m\u001b[0m\n\u001b[1;32m   1321\u001b[0m     \u001b[0;32mtry\u001b[0m\u001b[0;34m:\u001b[0m\u001b[0;34m\u001b[0m\u001b[0m\n\u001b[0;32m-> 1322\u001b[0;31m       \u001b[0;32mreturn\u001b[0m \u001b[0mfn\u001b[0m\u001b[0;34m(\u001b[0m\u001b[0;34m*\u001b[0m\u001b[0margs\u001b[0m\u001b[0;34m)\u001b[0m\u001b[0;34m\u001b[0m\u001b[0m\n\u001b[0m\u001b[1;32m   1323\u001b[0m     \u001b[0;32mexcept\u001b[0m \u001b[0merrors\u001b[0m\u001b[0;34m.\u001b[0m\u001b[0mOpError\u001b[0m \u001b[0;32mas\u001b[0m \u001b[0me\u001b[0m\u001b[0;34m:\u001b[0m\u001b[0;34m\u001b[0m\u001b[0m\n\u001b[1;32m   1324\u001b[0m       \u001b[0mmessage\u001b[0m \u001b[0;34m=\u001b[0m \u001b[0mcompat\u001b[0m\u001b[0;34m.\u001b[0m\u001b[0mas_text\u001b[0m\u001b[0;34m(\u001b[0m\u001b[0me\u001b[0m\u001b[0;34m.\u001b[0m\u001b[0mmessage\u001b[0m\u001b[0;34m)\u001b[0m\u001b[0;34m\u001b[0m\u001b[0m\n",
            "\u001b[0;32m/usr/local/lib/python3.6/dist-packages/tensorflow/python/client/session.py\u001b[0m in \u001b[0;36m_run_fn\u001b[0;34m(feed_dict, fetch_list, target_list, options, run_metadata)\u001b[0m\n\u001b[1;32m   1305\u001b[0m       \u001b[0mself\u001b[0m\u001b[0;34m.\u001b[0m\u001b[0m_extend_graph\u001b[0m\u001b[0;34m(\u001b[0m\u001b[0;34m)\u001b[0m\u001b[0;34m\u001b[0m\u001b[0m\n\u001b[1;32m   1306\u001b[0m       return self._call_tf_sessionrun(\n\u001b[0;32m-> 1307\u001b[0;31m           options, feed_dict, fetch_list, target_list, run_metadata)\n\u001b[0m\u001b[1;32m   1308\u001b[0m \u001b[0;34m\u001b[0m\u001b[0m\n\u001b[1;32m   1309\u001b[0m     \u001b[0;32mdef\u001b[0m \u001b[0m_prun_fn\u001b[0m\u001b[0;34m(\u001b[0m\u001b[0mhandle\u001b[0m\u001b[0;34m,\u001b[0m \u001b[0mfeed_dict\u001b[0m\u001b[0;34m,\u001b[0m \u001b[0mfetch_list\u001b[0m\u001b[0;34m)\u001b[0m\u001b[0;34m:\u001b[0m\u001b[0;34m\u001b[0m\u001b[0m\n",
            "\u001b[0;32m/usr/local/lib/python3.6/dist-packages/tensorflow/python/client/session.py\u001b[0m in \u001b[0;36m_call_tf_sessionrun\u001b[0;34m(self, options, feed_dict, fetch_list, target_list, run_metadata)\u001b[0m\n\u001b[1;32m   1407\u001b[0m       return tf_session.TF_SessionRun_wrapper(\n\u001b[1;32m   1408\u001b[0m           \u001b[0mself\u001b[0m\u001b[0;34m.\u001b[0m\u001b[0m_session\u001b[0m\u001b[0;34m,\u001b[0m \u001b[0moptions\u001b[0m\u001b[0;34m,\u001b[0m \u001b[0mfeed_dict\u001b[0m\u001b[0;34m,\u001b[0m \u001b[0mfetch_list\u001b[0m\u001b[0;34m,\u001b[0m \u001b[0mtarget_list\u001b[0m\u001b[0;34m,\u001b[0m\u001b[0;34m\u001b[0m\u001b[0m\n\u001b[0;32m-> 1409\u001b[0;31m           run_metadata)\n\u001b[0m\u001b[1;32m   1410\u001b[0m     \u001b[0;32melse\u001b[0m\u001b[0;34m:\u001b[0m\u001b[0;34m\u001b[0m\u001b[0m\n\u001b[1;32m   1411\u001b[0m       \u001b[0;32mwith\u001b[0m \u001b[0merrors\u001b[0m\u001b[0;34m.\u001b[0m\u001b[0mraise_exception_on_not_ok_status\u001b[0m\u001b[0;34m(\u001b[0m\u001b[0;34m)\u001b[0m \u001b[0;32mas\u001b[0m \u001b[0mstatus\u001b[0m\u001b[0;34m:\u001b[0m\u001b[0;34m\u001b[0m\u001b[0m\n",
            "\u001b[0;31mKeyboardInterrupt\u001b[0m: "
          ]
        }
      ]
    },
    {
      "metadata": {
        "id": "vzUDM9CDCJRT",
        "colab_type": "text"
      },
      "cell_type": "markdown",
      "source": [
        "### first training"
      ]
    },
    {
      "metadata": {
        "id": "9l7QvruIHdqR",
        "colab_type": "code",
        "colab": {}
      },
      "cell_type": "code",
      "source": [
        "score = model.evaluate(x_test, y_test,\n",
        "                       batch_size=batch_size, verbose=1)\n",
        "print('Test score:', score[0])\n",
        "print('Test accuracy:', score[1])"
      ],
      "execution_count": 0,
      "outputs": []
    },
    {
      "metadata": {
        "id": "ctpjYyyMpEqo",
        "colab_type": "code",
        "colab": {}
      },
      "cell_type": "code",
      "source": [
        "score = model2.evaluate(x_test, y_test,\n",
        "                       batch_size=batch_size, verbose=1)\n",
        "print('Test score:', score[0])\n",
        "print('Test accuracy:', score[1])"
      ],
      "execution_count": 0,
      "outputs": []
    },
    {
      "metadata": {
        "id": "8WQ4F679hyLm",
        "colab_type": "code",
        "colab": {}
      },
      "cell_type": "code",
      "source": [
        "loss_and_metrics = model.evaluate(x_test, y_test, batch_size=128)\n"
      ],
      "execution_count": 0,
      "outputs": []
    },
    {
      "metadata": {
        "id": "9vfewUCch1Rt",
        "colab_type": "code",
        "colab": {}
      },
      "cell_type": "code",
      "source": [
        "loss_and_metrics = model2.evaluate(x_test, y_test, batch_size=128)\n"
      ],
      "execution_count": 0,
      "outputs": []
    },
    {
      "metadata": {
        "id": "8f_DGORah3_e",
        "colab_type": "text"
      },
      "cell_type": "markdown",
      "source": [
        "### Use Model"
      ]
    },
    {
      "metadata": {
        "id": "7KJBPAjzh-MK",
        "colab_type": "code",
        "colab": {}
      },
      "cell_type": "code",
      "source": [
        "classes = model.predict(x_test, batch_size=128)\n"
      ],
      "execution_count": 0,
      "outputs": []
    },
    {
      "metadata": {
        "id": "n09BxUwsiFsU",
        "colab_type": "code",
        "colab": {}
      },
      "cell_type": "code",
      "source": [
        "classes2 = model2.predict(x_test, batch_size=128)"
      ],
      "execution_count": 0,
      "outputs": []
    },
    {
      "metadata": {
        "id": "crjp_6xirw1Y",
        "colab_type": "text"
      },
      "cell_type": "markdown",
      "source": [
        "### Evaluation"
      ]
    },
    {
      "metadata": {
        "id": "FdbOe8uvr12Z",
        "colab_type": "code",
        "colab": {}
      },
      "cell_type": "code",
      "source": [
        "text_labels = encoder.classes_ \n",
        "\n",
        "for i in range(10):\n",
        "    prediction = model.predict(np.array([x_test[i]]))\n",
        "    predicted_label = text_labels[np.argmax(prediction)]\n",
        "    print(test_posts.iloc[i][:50], \"...\")\n",
        "    print('Actual label:' + test_tags.iloc[i])\n",
        "    print(\"Predicted label: \" + predicted_label + \"\\n\")"
      ],
      "execution_count": 0,
      "outputs": []
    },
    {
      "metadata": {
        "id": "BWYLiq3Gr4oY",
        "colab_type": "code",
        "colab": {}
      },
      "cell_type": "code",
      "source": [
        "y_softmax = model.predict(x_test)\n",
        "\n",
        "y_test_1d = []\n",
        "y_pred_1d = []\n",
        "\n",
        "for i in range(len(y_test)):\n",
        "    probs = y_test[i]\n",
        "    index_arr = np.nonzero(probs)\n",
        "    one_hot_index = index_arr[0].item(0)\n",
        "    y_test_1d.append(one_hot_index)\n",
        "\n",
        "for i in range(0, len(y_softmax)):\n",
        "    probs = y_softmax[i]\n",
        "    predicted_index = np.argmax(probs)\n",
        "    y_pred_1d.append(predicted_index)"
      ],
      "execution_count": 0,
      "outputs": []
    },
    {
      "metadata": {
        "id": "ur-UofB0r8VE",
        "colab_type": "code",
        "colab": {}
      },
      "cell_type": "code",
      "source": [
        "cnf_matrix = confusion_matrix(y_test_1d, y_pred_1d)\n",
        "plt.figure(figsize=(24,20))\n",
        "plot_confusion_matrix(cnf_matrix, classes=text_labels, title=\"Confusion matrix\")\n",
        "plt.show()"
      ],
      "execution_count": 0,
      "outputs": []
    }
  ]
}