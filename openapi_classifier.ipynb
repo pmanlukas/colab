{
  "nbformat": 4,
  "nbformat_minor": 0,
  "metadata": {
    "colab": {
      "name": "openapi-classifier.ipynb",
      "version": "0.3.2",
      "provenance": [],
      "collapsed_sections": []
    },
    "kernelspec": {
      "name": "python3",
      "display_name": "Python 3"
    },
    "accelerator": "GPU"
  },
  "cells": [
    {
      "cell_type": "markdown",
      "metadata": {
        "id": "view-in-github",
        "colab_type": "text"
      },
      "source": [
        "[View in Colaboratory](https://colab.research.google.com/github/pmanlukas/colab/blob/master/openapi_classifier.ipynb)"
      ]
    },
    {
      "metadata": {
        "id": "RlJFXtFWandL",
        "colab_type": "text"
      },
      "cell_type": "markdown",
      "source": [
        "# openAPI spec classifier\n",
        "This notebook is used to create a first proof of concept on a classifier for openAPI files. The classifier will be based on a neural network based architecture and will be implemented in Tensorflow, SciPy and Keras."
      ]
    },
    {
      "metadata": {
        "id": "sp4kSQncaqEY",
        "colab_type": "code",
        "colab": {
          "base_uri": "https://localhost:8080/",
          "height": 2278
        },
        "outputId": "61037c93-9b6a-488a-abbc-7d50ad1aee64"
      },
      "cell_type": "code",
      "source": [
        "# Install a Drive FUSE wrapper.\n",
        "# https://github.com/astrada/google-drive-ocamlfuse\n",
        "!apt-get install -y -qq software-properties-common python-software-properties module-init-tools\n",
        "!add-apt-repository -y ppa:alessandro-strada/ppa 2>&1 > /dev/null\n",
        "!apt-get update -qq 2>&1 > /dev/null\n",
        "!apt-get -y install -qq google-drive-ocamlfuse fuse"
      ],
      "execution_count": 1,
      "outputs": [
        {
          "output_type": "stream",
          "text": [
            "Preconfiguring packages ...\n",
            "Selecting previously unselected package cron.\n",
            "(Reading database ... 18298 files and directories currently installed.)\n",
            "Preparing to unpack .../00-cron_3.0pl1-128ubuntu5_amd64.deb ...\n",
            "Unpacking cron (3.0pl1-128ubuntu5) ...\n",
            "Selecting previously unselected package libapparmor1:amd64.\n",
            "Preparing to unpack .../01-libapparmor1_2.11.0-2ubuntu17.1_amd64.deb ...\n",
            "Unpacking libapparmor1:amd64 (2.11.0-2ubuntu17.1) ...\n",
            "Selecting previously unselected package libdbus-1-3:amd64.\n",
            "Preparing to unpack .../02-libdbus-1-3_1.10.22-1ubuntu1_amd64.deb ...\n",
            "Unpacking libdbus-1-3:amd64 (1.10.22-1ubuntu1) ...\n",
            "Selecting previously unselected package dbus.\n",
            "Preparing to unpack .../03-dbus_1.10.22-1ubuntu1_amd64.deb ...\n",
            "Unpacking dbus (1.10.22-1ubuntu1) ...\n",
            "Selecting previously unselected package dirmngr.\n",
            "Preparing to unpack .../04-dirmngr_2.1.15-1ubuntu8_amd64.deb ...\n",
            "Unpacking dirmngr (2.1.15-1ubuntu8) ...\n",
            "Selecting previously unselected package distro-info-data.\n",
            "Preparing to unpack .../05-distro-info-data_0.36ubuntu0.1_all.deb ...\n",
            "Unpacking distro-info-data (0.36ubuntu0.1) ...\n",
            "Selecting previously unselected package libkmod2:amd64.\n",
            "Preparing to unpack .../06-libkmod2_24-1ubuntu2_amd64.deb ...\n",
            "Unpacking libkmod2:amd64 (24-1ubuntu2) ...\n",
            "Selecting previously unselected package kmod.\n",
            "Preparing to unpack .../07-kmod_24-1ubuntu2_amd64.deb ...\n",
            "Unpacking kmod (24-1ubuntu2) ...\n",
            "Selecting previously unselected package lsb-release.\n",
            "Preparing to unpack .../08-lsb-release_9.20160110ubuntu5_all.deb ...\n",
            "Unpacking lsb-release (9.20160110ubuntu5) ...\n",
            "Selecting previously unselected package libgirepository-1.0-1:amd64.\n",
            "Preparing to unpack .../09-libgirepository-1.0-1_1.54.1-1_amd64.deb ...\n",
            "Unpacking libgirepository-1.0-1:amd64 (1.54.1-1) ...\n",
            "Selecting previously unselected package gir1.2-glib-2.0:amd64.\n",
            "Preparing to unpack .../10-gir1.2-glib-2.0_1.54.1-1_amd64.deb ...\n",
            "Unpacking gir1.2-glib-2.0:amd64 (1.54.1-1) ...\n",
            "Selecting previously unselected package iso-codes.\n",
            "Preparing to unpack .../11-iso-codes_3.75-1_all.deb ...\n",
            "Unpacking iso-codes (3.75-1) ...\n",
            "Selecting previously unselected package libdbus-glib-1-2:amd64.\n",
            "Preparing to unpack .../12-libdbus-glib-1-2_0.108-2_amd64.deb ...\n",
            "Unpacking libdbus-glib-1-2:amd64 (0.108-2) ...\n",
            "Selecting previously unselected package python-apt-common.\n",
            "Preparing to unpack .../13-python-apt-common_1.4.0~beta3build2_all.deb ...\n",
            "Unpacking python-apt-common (1.4.0~beta3build2) ...\n",
            "Selecting previously unselected package python3-apt.\n",
            "Preparing to unpack .../14-python3-apt_1.4.0~beta3build2_amd64.deb ...\n",
            "Unpacking python3-apt (1.4.0~beta3build2) ...\n",
            "Selecting previously unselected package python3-dbus.\n",
            "Preparing to unpack .../15-python3-dbus_1.2.4-1build3_amd64.deb ...\n",
            "Unpacking python3-dbus (1.2.4-1build3) ...\n",
            "Selecting previously unselected package python3-gi.\n",
            "Preparing to unpack .../16-python3-gi_3.24.1-2build1_amd64.deb ...\n",
            "Unpacking python3-gi (3.24.1-2build1) ...\n",
            "Selecting previously unselected package module-init-tools.\n",
            "Preparing to unpack .../17-module-init-tools_24-1ubuntu2_all.deb ...\n",
            "Unpacking module-init-tools (24-1ubuntu2) ...\n",
            "Selecting previously unselected package python-apt.\n",
            "Preparing to unpack .../18-python-apt_1.4.0~beta3build2_amd64.deb ...\n",
            "Unpacking python-apt (1.4.0~beta3build2) ...\n",
            "Selecting previously unselected package python-pycurl.\n",
            "Preparing to unpack .../19-python-pycurl_7.43.0-2build2_amd64.deb ...\n",
            "Unpacking python-pycurl (7.43.0-2build2) ...\n",
            "Selecting previously unselected package python-software-properties.\n",
            "Preparing to unpack .../20-python-software-properties_0.96.24.17_all.deb ...\n",
            "Unpacking python-software-properties (0.96.24.17) ...\n",
            "Selecting previously unselected package python3-software-properties.\n",
            "Preparing to unpack .../21-python3-software-properties_0.96.24.17_all.deb ...\n",
            "Unpacking python3-software-properties (0.96.24.17) ...\n",
            "Selecting previously unselected package software-properties-common.\n",
            "Preparing to unpack .../22-software-properties-common_0.96.24.17_all.deb ...\n",
            "Unpacking software-properties-common (0.96.24.17) ...\n",
            "Selecting previously unselected package unattended-upgrades.\n",
            "Preparing to unpack .../23-unattended-upgrades_0.98ubuntu1.1_all.deb ...\n",
            "Unpacking unattended-upgrades (0.98ubuntu1.1) ...\n",
            "Setting up python-apt-common (1.4.0~beta3build2) ...\n",
            "Setting up python3-apt (1.4.0~beta3build2) ...\n",
            "Setting up iso-codes (3.75-1) ...\n",
            "Setting up distro-info-data (0.36ubuntu0.1) ...\n",
            "Setting up python-pycurl (7.43.0-2build2) ...\n",
            "Setting up lsb-release (9.20160110ubuntu5) ...\n",
            "Setting up libgirepository-1.0-1:amd64 (1.54.1-1) ...\n",
            "Setting up libkmod2:amd64 (24-1ubuntu2) ...\n",
            "Setting up gir1.2-glib-2.0:amd64 (1.54.1-1) ...\n",
            "Processing triggers for libc-bin (2.26-0ubuntu2.1) ...\n",
            "Setting up libapparmor1:amd64 (2.11.0-2ubuntu17.1) ...\n",
            "Setting up unattended-upgrades (0.98ubuntu1.1) ...\n",
            "\n",
            "Creating config file /etc/apt/apt.conf.d/20auto-upgrades with new version\n"
          ],
          "name": "stdout"
        },
        {
          "output_type": "stream",
          "text": [
            "\r\n",
            "Creating config file /etc/apt/apt.conf.d/50unattended-upgrades with new version\n",
            "invoke-rc.d: could not determine current runlevel\n",
            "invoke-rc.d: policy-rc.d denied execution of start.\n",
            "Setting up dirmngr (2.1.15-1ubuntu8) ...\n",
            "Setting up cron (3.0pl1-128ubuntu5) ...\n",
            "Adding group `crontab' (GID 102) ...\n",
            "Done.\n",
            "update-rc.d: warning: start and stop actions are no longer supported; falling back to defaults\n",
            "update-rc.d: warning: stop runlevel arguments (1) do not match cron Default-Stop values (none)\n",
            "invoke-rc.d: could not determine current runlevel\n",
            "invoke-rc.d: policy-rc.d denied execution of start.\n",
            "Setting up libdbus-1-3:amd64 (1.10.22-1ubuntu1) ...\n",
            "Setting up kmod (24-1ubuntu2) ...\n",
            "Setting up libdbus-glib-1-2:amd64 (0.108-2) ...\n",
            "Setting up python3-gi (3.24.1-2build1) ...\n",
            "Setting up module-init-tools (24-1ubuntu2) ...\n",
            "Setting up python3-software-properties (0.96.24.17) ...\n",
            "Setting up dbus (1.10.22-1ubuntu1) ...\n",
            "Setting up python-apt (1.4.0~beta3build2) ...\n",
            "Setting up python3-dbus (1.2.4-1build3) ...\n",
            "Setting up python-software-properties (0.96.24.17) ...\n",
            "Setting up software-properties-common (0.96.24.17) ...\n",
            "Processing triggers for libc-bin (2.26-0ubuntu2.1) ...\n",
            "Processing triggers for dbus (1.10.22-1ubuntu1) ...\n",
            "gpg: keybox '/tmp/tmpc693d3x4/pubring.gpg' created\n",
            "gpg: /tmp/tmpc693d3x4/trustdb.gpg: trustdb created\n",
            "gpg: key AD5F235DF639B041: public key \"Launchpad PPA for Alessandro Strada\" imported\n",
            "gpg: Total number processed: 1\n",
            "gpg:               imported: 1\n",
            "Warning: apt-key output should not be parsed (stdout is not a terminal)\n",
            "Selecting previously unselected package libfuse2:amd64.\n",
            "(Reading database ... 19706 files and directories currently installed.)\n",
            "Preparing to unpack .../libfuse2_2.9.7-1ubuntu1_amd64.deb ...\n",
            "Unpacking libfuse2:amd64 (2.9.7-1ubuntu1) ...\n",
            "Selecting previously unselected package fuse.\n",
            "Preparing to unpack .../fuse_2.9.7-1ubuntu1_amd64.deb ...\n",
            "Unpacking fuse (2.9.7-1ubuntu1) ...\n",
            "Selecting previously unselected package google-drive-ocamlfuse.\n",
            "Preparing to unpack .../google-drive-ocamlfuse_0.6.21-0ubuntu2_amd64.deb ...\n",
            "Unpacking google-drive-ocamlfuse (0.6.21-0ubuntu2) ...\n",
            "Setting up libfuse2:amd64 (2.9.7-1ubuntu1) ...\n",
            "Processing triggers for libc-bin (2.26-0ubuntu2.1) ...\n",
            "Setting up fuse (2.9.7-1ubuntu1) ...\n",
            "Setting up google-drive-ocamlfuse (0.6.21-0ubuntu2) ...\n"
          ],
          "name": "stdout"
        }
      ]
    },
    {
      "metadata": {
        "id": "5W9g2Zp9a45h",
        "colab_type": "code",
        "colab": {}
      },
      "cell_type": "code",
      "source": [
        "# Generate auth tokens for Colab\n",
        "from google.colab import auth\n",
        "auth.authenticate_user()"
      ],
      "execution_count": 0,
      "outputs": []
    },
    {
      "metadata": {
        "id": "b2uG7hEra8k9",
        "colab_type": "code",
        "colab": {
          "base_uri": "https://localhost:8080/",
          "height": 105
        },
        "outputId": "047b5eb8-b0ad-4fb9-da74-4fd27b7f37b0"
      },
      "cell_type": "code",
      "source": [
        "# Generate creds for the Drive FUSE library.\n",
        "from oauth2client.client import GoogleCredentials\n",
        "creds = GoogleCredentials.get_application_default()\n",
        "import getpass\n",
        "!google-drive-ocamlfuse -headless -id={creds.client_id} -secret={creds.client_secret} < /dev/null 2>&1 | grep URL\n",
        "vcode = getpass.getpass()\n",
        "!echo {vcode} | google-drive-ocamlfuse -headless -id={creds.client_id} -secret={creds.client_secret}"
      ],
      "execution_count": 3,
      "outputs": [
        {
          "output_type": "stream",
          "text": [
            "Please, open the following URL in a web browser: https://accounts.google.com/o/oauth2/auth?client_id=32555940559.apps.googleusercontent.com&redirect_uri=urn%3Aietf%3Awg%3Aoauth%3A2.0%3Aoob&scope=https%3A%2F%2Fwww.googleapis.com%2Fauth%2Fdrive&response_type=code&access_type=offline&approval_prompt=force\r\n",
            "··········\n",
            "Please, open the following URL in a web browser: https://accounts.google.com/o/oauth2/auth?client_id=32555940559.apps.googleusercontent.com&redirect_uri=urn%3Aietf%3Awg%3Aoauth%3A2.0%3Aoob&scope=https%3A%2F%2Fwww.googleapis.com%2Fauth%2Fdrive&response_type=code&access_type=offline&approval_prompt=force\n",
            "Please enter the verification code: Access token retrieved correctly.\n"
          ],
          "name": "stdout"
        }
      ]
    },
    {
      "metadata": {
        "id": "63mVwUIrbEwM",
        "colab_type": "code",
        "colab": {}
      },
      "cell_type": "code",
      "source": [
        "# Create a directory and mount Google Drive using that directory.\n",
        "!mkdir -p drive\n",
        "!google-drive-ocamlfuse drive"
      ],
      "execution_count": 0,
      "outputs": []
    },
    {
      "metadata": {
        "id": "-hOy5JgWbF9t",
        "colab_type": "code",
        "colab": {}
      },
      "cell_type": "code",
      "source": [
        "# Create a folder to use for the project data\n",
        "!mkdir -p /content/drive/openapi-data/"
      ],
      "execution_count": 0,
      "outputs": []
    },
    {
      "metadata": {
        "id": "kVcmQOfWbII1",
        "colab_type": "code",
        "colab": {
          "base_uri": "https://localhost:8080/",
          "height": 34
        },
        "outputId": "3bfea804-5ef9-4577-ce8f-29474913eb26"
      },
      "cell_type": "code",
      "source": [
        "!ls /content/drive/openapi-data/"
      ],
      "execution_count": 6,
      "outputs": [
        {
          "output_type": "stream",
          "text": [
            "mnist.py  path_labels.csv  pickle  structure_labels.csv\r\n"
          ],
          "name": "stdout"
        }
      ]
    },
    {
      "metadata": {
        "id": "uiZtaLU9bLc4",
        "colab_type": "code",
        "colab": {
          "base_uri": "https://localhost:8080/",
          "height": 34
        },
        "outputId": "c5032f9b-4933-4a42-b1ab-3f168e5c0496"
      },
      "cell_type": "code",
      "source": [
        "!pip install -q keras\n",
        "import keras"
      ],
      "execution_count": 7,
      "outputs": [
        {
          "output_type": "stream",
          "text": [
            "Using TensorFlow backend.\n"
          ],
          "name": "stderr"
        }
      ]
    },
    {
      "metadata": {
        "id": "jnC7eg1VbQxv",
        "colab_type": "code",
        "colab": {
          "base_uri": "https://localhost:8080/",
          "height": 34
        },
        "outputId": "76f9941b-cf2d-4002-ef14-e4c68ad32fce"
      },
      "cell_type": "code",
      "source": [
        "import tensorflow as tf\n",
        "tf.test.gpu_device_name()"
      ],
      "execution_count": 8,
      "outputs": [
        {
          "output_type": "execute_result",
          "data": {
            "text/plain": [
              "'/device:GPU:0'"
            ]
          },
          "metadata": {
            "tags": []
          },
          "execution_count": 8
        }
      ]
    },
    {
      "metadata": {
        "id": "DWgO0pzBbTec",
        "colab_type": "code",
        "colab": {
          "base_uri": "https://localhost:8080/",
          "height": 272
        },
        "outputId": "2cfb8969-6850-4314-eff8-5aafc0f48836"
      },
      "cell_type": "code",
      "source": [
        "!apt-get -qq install -y libarchive-dev && pip install -q -U libarchive\n",
        "import libarchive"
      ],
      "execution_count": 9,
      "outputs": [
        {
          "output_type": "stream",
          "text": [
            "Selecting previously unselected package liblzo2-2:amd64.\r\n",
            "(Reading database ... \r(Reading database ... 5%\r(Reading database ... 10%\r(Reading database ... 15%\r(Reading database ... 20%\r(Reading database ... 25%\r(Reading database ... 30%\r(Reading database ... 35%\r(Reading database ... 40%\r(Reading database ... 45%\r(Reading database ... 50%\r(Reading database ... 55%\r(Reading database ... 60%\r(Reading database ... 65%\r(Reading database ... 70%\r(Reading database ... 75%\r(Reading database ... 80%\r(Reading database ... 85%\r(Reading database ... 90%\r(Reading database ... 95%\r(Reading database ... 100%\r(Reading database ... 19735 files and directories currently installed.)\r\n",
            "Preparing to unpack .../liblzo2-2_2.08-1.2_amd64.deb ...\n",
            "Unpacking liblzo2-2:amd64 (2.08-1.2) ...\n",
            "Selecting previously unselected package libarchive13:amd64.\n",
            "Preparing to unpack .../libarchive13_3.2.2-3.1_amd64.deb ...\n",
            "Unpacking libarchive13:amd64 (3.2.2-3.1) ...\n",
            "Selecting previously unselected package libarchive-dev:amd64.\n",
            "Preparing to unpack .../libarchive-dev_3.2.2-3.1_amd64.deb ...\n",
            "Unpacking libarchive-dev:amd64 (3.2.2-3.1) ...\n",
            "Processing triggers for libc-bin (2.26-0ubuntu2.1) ...\n",
            "Setting up liblzo2-2:amd64 (2.08-1.2) ...\n",
            "Setting up libarchive13:amd64 (3.2.2-3.1) ...\n",
            "Setting up libarchive-dev:amd64 (3.2.2-3.1) ...\n",
            "Processing triggers for libc-bin (2.26-0ubuntu2.1) ...\n"
          ],
          "name": "stdout"
        }
      ]
    },
    {
      "metadata": {
        "id": "XymyVRyfbYv1",
        "colab_type": "code",
        "colab": {}
      },
      "cell_type": "code",
      "source": [
        "import os\n",
        "os.chdir(\"drive/openapi-data\")"
      ],
      "execution_count": 0,
      "outputs": []
    },
    {
      "metadata": {
        "id": "E6hH0iysbZvS",
        "colab_type": "code",
        "colab": {
          "base_uri": "https://localhost:8080/",
          "height": 34
        },
        "outputId": "453d1331-b585-475c-d309-5e027536a618"
      },
      "cell_type": "code",
      "source": [
        "!ls"
      ],
      "execution_count": 11,
      "outputs": [
        {
          "output_type": "stream",
          "text": [
            "mnist.py  path_labels.csv  pickle  structure_labels.csv\r\n"
          ],
          "name": "stdout"
        }
      ]
    },
    {
      "metadata": {
        "id": "hceoBAYuboKP",
        "colab_type": "code",
        "colab": {}
      },
      "cell_type": "code",
      "source": [
        "import pickle"
      ],
      "execution_count": 0,
      "outputs": []
    },
    {
      "metadata": {
        "id": "GCgYSYzEbc3o",
        "colab_type": "code",
        "colab": {}
      },
      "cell_type": "code",
      "source": [
        "training_data = dict()\n",
        "\n",
        "with open('pickle/specs.pkl', 'rb') as handle:\n",
        "    training_data = pickle.load(handle)"
      ],
      "execution_count": 0,
      "outputs": []
    },
    {
      "metadata": {
        "id": "lhrdZLcvb6Zy",
        "colab_type": "code",
        "colab": {}
      },
      "cell_type": "code",
      "source": [
        "keys = list(training_data.keys())"
      ],
      "execution_count": 0,
      "outputs": []
    },
    {
      "metadata": {
        "id": "Jcs3abVAcBog",
        "colab_type": "code",
        "colab": {
          "base_uri": "https://localhost:8080/",
          "height": 595
        },
        "outputId": "53281d73-c52e-4085-836e-c9a9fd54816e"
      },
      "cell_type": "code",
      "source": [
        "training_data[keys[0]]"
      ],
      "execution_count": 15,
      "outputs": [
        {
          "output_type": "execute_result",
          "data": {
            "text/plain": [
              "{'basePath': '/forex-quotes',\n",
              " 'host': '1forge.com',\n",
              " 'info': {'contact': {'email': 'contact@1forge.com',\n",
              "   'name': '1Forge',\n",
              "   'url': 'http://1forge.com'},\n",
              "  'description': 'Stock and Forex Data and Realtime Quotes',\n",
              "  'title': '1Forge Finance APIs',\n",
              "  'version': '0.0.1',\n",
              "  'x-apisguru-categories': ['financial'],\n",
              "  'x-logo': {'backgroundColor': '#24292e',\n",
              "   'url': 'https://api.apis.guru/v2/cache/logo/http_1forge.com_logo.png'},\n",
              "  'x-origin': [{'format': 'swagger',\n",
              "    'url': 'http://1forge.com/openapi.json',\n",
              "    'version': '2.0'}],\n",
              "  'x-preferred': True,\n",
              "  'x-providerName': '1forge.com'},\n",
              " 'paths': {'/quotes': {'get': {'description': 'Get quotes',\n",
              "    'externalDocs': {'description': 'Find out more',\n",
              "     'url': 'http://1forge.com/forex-data-api'},\n",
              "    'responses': {'200': {'description': 'A list of quotes'}},\n",
              "    'summary': 'Get quotes for all symbols',\n",
              "    'tags': ['forex', 'finance', 'quotes']}},\n",
              "  '/symbols': {'get': {'description': 'Symbol List',\n",
              "    'externalDocs': {'description': 'Find out more',\n",
              "     'url': 'http://1forge.com/forex-data-api'},\n",
              "    'responses': {'200': {'description': 'A list of symbols',\n",
              "      'schema': {'example': ['EURUSD', 'GBPJPY', 'AUDUSD'],\n",
              "       'items': {'type': 'string'},\n",
              "       'type': 'array'}}},\n",
              "    'summary': 'Get a list of symbols for which we provide real-time quotes',\n",
              "    'tags': ['forex', 'finance', 'quotes']}}},\n",
              " 'produces': ['application/json'],\n",
              " 'schemes': ['https', 'http'],\n",
              " 'swagger': '2.0'}"
            ]
          },
          "metadata": {
            "tags": []
          },
          "execution_count": 15
        }
      ]
    },
    {
      "metadata": {
        "id": "OF9qnLugK4Zm",
        "colab_type": "code",
        "colab": {}
      },
      "cell_type": "code",
      "source": [
        "from collections import Counter\n",
        "from datetime import datetime\n",
        " \n",
        "import json\n",
        " \n",
        "from keras.layers import Embedding, LSTM, Dense, Conv1D, MaxPooling1D, Dropout, Activation\n",
        "from keras.models import Sequential\n",
        "from keras.preprocessing.text import Tokenizer\n",
        "from keras.preprocessing.sequence import pad_sequences\n",
        " \n",
        "import numpy as np\n",
        "import pandas as pd"
      ],
      "execution_count": 0,
      "outputs": []
    },
    {
      "metadata": {
        "id": "CWOUwgz9c8mM",
        "colab_type": "code",
        "colab": {
          "base_uri": "https://localhost:8080/",
          "height": 34
        },
        "outputId": "596e9f5d-95a0-4198-8a17-c7fe22f79c39"
      },
      "cell_type": "code",
      "source": [
        "!ls"
      ],
      "execution_count": 18,
      "outputs": [
        {
          "output_type": "stream",
          "text": [
            "mnist.py  path_labels.csv  pickle  structure_labels.csv\r\n"
          ],
          "name": "stdout"
        }
      ]
    },
    {
      "metadata": {
        "id": "138mgUsucOaE",
        "colab_type": "code",
        "colab": {}
      },
      "cell_type": "code",
      "source": [
        "labelsP = pd.read_csv(\"path_labels.csv\").values\n",
        "labelsS  = pd.read_csv(\"structure_labels.csv\").values"
      ],
      "execution_count": 0,
      "outputs": []
    },
    {
      "metadata": {
        "id": "CsYV2NxPdGYS",
        "colab_type": "code",
        "colab": {
          "base_uri": "https://localhost:8080/",
          "height": 34
        },
        "outputId": "34100362-9fce-4665-fc29-dda9ed93c3b8"
      },
      "cell_type": "code",
      "source": [
        "labelsS.shape\n",
        "\n"
      ],
      "execution_count": 22,
      "outputs": [
        {
          "output_type": "execute_result",
          "data": {
            "text/plain": [
              "(1016, 2)"
            ]
          },
          "metadata": {
            "tags": []
          },
          "execution_count": 22
        }
      ]
    },
    {
      "metadata": {
        "id": "Q0_Ij__DLqc2",
        "colab_type": "code",
        "colab": {
          "base_uri": "https://localhost:8080/",
          "height": 136
        },
        "outputId": "834c1c6b-e790-49c9-a7f8-3c13580a84c7"
      },
      "cell_type": "code",
      "source": [
        "labelsS"
      ],
      "execution_count": 23,
      "outputs": [
        {
          "output_type": "execute_result",
          "data": {
            "text/plain": [
              "array([['1forge.com', 1],\n",
              "       ['6-dot-authentiqio.appspot.com', 1],\n",
              "       ['adafruit.com', 2],\n",
              "       ...,\n",
              "       ['zoom.us', 4],\n",
              "       ['zoomconnect.com', 3],\n",
              "       ['zuora.com', 3]], dtype=object)"
            ]
          },
          "metadata": {
            "tags": []
          },
          "execution_count": 23
        }
      ]
    },
    {
      "metadata": {
        "id": "ZWaParwiNHPz",
        "colab_type": "text"
      },
      "cell_type": "markdown",
      "source": [
        "## Prepare Labels and Specs for the model\n",
        "In this part of the notebook, we will create three list. One contains the specs and the other two the labels for paths and for specs. The lists are later used as input for the actual preprocessing and then later the model."
      ]
    },
    {
      "metadata": {
        "id": "mk4pnqauKBXl",
        "colab_type": "code",
        "colab": {
          "base_uri": "https://localhost:8080/",
          "height": 51
        },
        "outputId": "e1ddae56-bb5f-48ac-f1b2-8517eae0821e"
      },
      "cell_type": "code",
      "source": [
        "labelsPath = list()\n",
        "labelsStruct = list()\n",
        "\n",
        "\n",
        "for labs in labelsS:\n",
        "  labelsStruct.append(labs[1])\n",
        "\n",
        "for labp in labelsP:\n",
        "  labelsPath.append(labp[1])\n",
        "  \n",
        "print(str(len(labelsPath)))\n",
        "print(str(len(labelsStruct)))\n",
        "\n",
        "#labelsStruct = labelsS[\"cluster\"].tolist()"
      ],
      "execution_count": 30,
      "outputs": [
        {
          "output_type": "stream",
          "text": [
            "1016\n",
            "1016\n"
          ],
          "name": "stdout"
        }
      ]
    },
    {
      "metadata": {
        "id": "hHAZOfoPMOFl",
        "colab_type": "code",
        "colab": {
          "base_uri": "https://localhost:8080/",
          "height": 71
        },
        "outputId": "35a59b34-9010-48d9-8d51-c8b8d6b3e694"
      },
      "cell_type": "code",
      "source": [
        "print(labelsPath)\n",
        "print(labelsStruct)"
      ],
      "execution_count": 32,
      "outputs": [
        {
          "output_type": "stream",
          "text": [
            "[1, 2, 3, 4, 5, 6, 7, 4, 4, 8, 3, 6, 8, 3, 4, 8, 6, 2, 4, 4, 2, 8, 6, 3, 4, 4, 8, 4, 9, 4, 4, 3, 3, 3, 4, 4, 6, 4, 8, 3, 9, 4, 4, 3, 3, 4, 3, 3, 3, 10, 4, 3, 3, 3, 8, 3, 3, 3, 4, 6, 1, 8, 4, 8, 6, 4, 6, 3, 3, 2, 6, 2, 3, 6, 9, 9, 4, 5, 1, 4, 8, 3, 4, 3, 6, 3, 3, 5, 4, 8, 8, 8, 9, 9, 8, 1, 4, 8, 3, 6, 4, 3, 3, 2, 9, 6, 6, 3, 8, 2, 3, 4, 5, 1, 6, 3, 8, 8, 6, 4, 8, 8, 4, 3, 4, 6, 4, 6, 2, 8, 4, 3, 9, 1, 6, 6, 3, 3, 4, 2, 3, 2, 6, 6, 4, 7, 1, 7, 7, 1, 7, 7, 7, 7, 7, 5, 1, 7, 7, 7, 7, 7, 7, 1, 7, 7, 7, 7, 7, 7, 7, 5, 7, 7, 7, 7, 7, 7, 7, 7, 7, 9, 2, 7, 7, 2, 7, 7, 7, 2, 3, 5, 1, 8, 3, 9, 2, 4, 9, 2, 8, 9, 4, 9, 9, 9, 8, 2, 9, 2, 9, 9, 1, 2, 9, 8, 9, 5, 2, 2, 7, 4, 2, 2, 9, 7, 5, 5, 9, 9, 5, 5, 9, 9, 7, 9, 8, 7, 2, 8, 2, 9, 9, 5, 9, 9, 9, 2, 5, 5, 2, 5, 7, 2, 8, 9, 5, 1, 1, 9, 5, 9, 9, 5, 7, 1, 1, 1, 1, 1, 9, 5, 1, 1, 1, 1, 1, 1, 1, 9, 1, 1, 1, 1, 1, 7, 5, 5, 9, 4, 8, 9, 4, 2, 2, 4, 4, 6, 1, 5, 1, 3, 9, 8, 5, 7, 7, 9, 9, 8, 9, 7, 9, 4, 3, 9, 3, 4, 3, 2, 8, 5, 4, 8, 6, 2, 9, 4, 4, 5, 5, 7, 9, 1, 9, 7, 9, 4, 4, 3, 7, 5, 2, 3, 2, 2, 2, 2, 8, 2, 9, 5, 2, 8, 4, 9, 9, 7, 1, 9, 9, 7, 7, 1, 5, 7, 9, 7, 7, 7, 5, 7, 9, 8, 6, 2, 9, 7, 7, 8, 8, 2, 2, 4, 7, 9, 2, 2, 7, 7, 8, 4, 9, 5, 4, 8, 8, 2, 8, 8, 2, 2, 8, 5, 1, 7, 2, 7, 4, 4, 2, 1, 7, 7, 6, 8, 4, 2, 9, 4, 5, 9, 8, 8, 5, 2, 2, 2, 2, 5, 8, 2, 7, 8, 4, 4, 3, 6, 2, 2, 5, 5, 5, 1, 1, 1, 7, 7, 1, 5, 7, 1, 1, 2, 1, 9, 9, 5, 9, 9, 5, 5, 9, 5, 7, 5, 7, 9, 5, 1, 5, 5, 9, 5, 9, 1, 2, 9, 2, 9, 2, 1, 5, 8, 2, 6, 9, 9, 9, 2, 7, 5, 9, 8, 2, 5, 8, 8, 4, 4, 7, 9, 7, 8, 7, 8, 5, 9, 8, 5, 10, 2, 10, 3, 4, 4, 9, 8, 6, 7, 3, 5, 6, 8, 3, 3, 7, 6, 1, 2, 4, 4, 8, 8, 6, 6, 8, 5, 10, 4, 3, 4, 3, 8, 4, 8, 5, 8, 10, 3, 6, 7, 5, 1, 9, 8, 1, 5, 3, 8, 8, 5, 1, 5, 9, 2, 5, 5, 8, 6, 10, 7, 6, 9, 8, 5, 1, 5, 9, 9, 4, 8, 8, 4, 3, 8, 2, 8, 2, 4, 8, 4, 2, 8, 2, 8, 1, 5, 1, 5, 5, 8, 4, 9, 1, 5, 5, 5, 8, 4, 1, 2, 1, 5, 5, 4, 3, 1, 5, 8, 4, 5, 8, 4, 6, 4, 3, 4, 9, 1, 4, 1, 2, 10, 8, 4, 2, 3, 2, 9, 10, 10, 5, 1, 3, 3, 4, 5, 2, 3, 4, 6, 1, 4, 6, 8, 3, 3, 1, 2, 4, 8, 3, 3, 3, 2, 2, 3, 2, 8, 8, 2, 8, 8, 4, 2, 4, 9, 4, 5, 4, 10, 8, 3, 6, 1, 3, 8, 8, 4, 6, 5, 5, 4, 8, 8, 8, 3, 9, 5, 2, 8, 8, 4, 6, 8, 3, 3, 3, 1, 5, 4, 4, 1, 2, 2, 4, 9, 4, 4, 8, 2, 2, 1, 4, 8, 1, 2, 8, 4, 2, 2, 4, 4, 1, 8, 8, 4, 8, 9, 8, 4, 1, 2, 2, 4, 2, 2, 4, 2, 2, 2, 4, 2, 9, 3, 3, 8, 8, 8, 3, 2, 8, 2, 4, 8, 2, 2, 9, 4, 1, 1, 1, 8, 3, 2, 2, 8, 8, 8, 9, 9, 4, 5, 5, 1, 9, 9, 5, 4, 5, 4, 5, 8, 8, 8, 4, 2, 8, 9, 8, 3, 6, 1, 7, 7, 1, 5, 2, 8, 4, 2, 3, 9, 2, 6, 3, 9, 6, 8, 1, 10, 1, 4, 4, 3, 8, 9, 3, 7, 7, 9, 1, 5, 8, 8, 8, 10, 2, 6, 8, 3, 9, 9, 7, 7, 5, 5, 5, 7, 4, 5, 7, 1, 3, 4, 5, 6, 3, 6, 9, 8, 4, 3, 4, 8, 3, 8, 1, 5, 5, 7, 7, 2, 2, 7, 9, 5, 1, 7, 5, 7, 1, 5, 2, 7, 9, 2, 7, 4, 8, 2, 4, 9, 6, 10, 2, 4, 7, 2, 1, 8, 8, 2, 10, 9, 7, 9, 7, 2, 8, 3, 4, 8, 2, 8, 2, 6, 8, 5, 6, 3, 8, 2, 8, 8, 4, 3, 9, 5, 7, 4, 10, 3, 5, 6, 6, 2, 4, 8, 7, 5, 2, 4, 6, 6, 4, 8, 2, 8, 6, 5, 1, 9, 8, 9, 2, 4, 9, 6, 8, 4, 4, 3, 9, 10, 4, 4, 6, 3, 6, 8, 3, 2, 3, 4, 3, 3, 6, 2, 4, 3, 8, 5, 4, 3, 9, 9, 9, 9, 7, 5, 8, 7, 4, 3, 4, 5, 2, 1, 2, 9, 1, 8, 1, 4, 6, 1, 6, 1, 8, 8, 9, 6, 3, 10]\n",
            "[1, 1, 2, 2, 1, 1, 3, 2, 4, 4, 4, 4, 4, 4, 4, 4, 4, 4, 4, 4, 4, 4, 4, 4, 4, 4, 4, 4, 4, 4, 4, 4, 4, 4, 4, 4, 4, 4, 4, 4, 4, 4, 4, 4, 4, 4, 4, 4, 4, 4, 4, 4, 4, 4, 4, 4, 4, 4, 4, 4, 4, 4, 4, 4, 4, 4, 4, 4, 4, 4, 4, 4, 4, 4, 4, 4, 4, 4, 4, 4, 4, 4, 4, 4, 4, 4, 4, 4, 4, 4, 4, 4, 4, 4, 4, 4, 4, 4, 4, 4, 4, 4, 4, 4, 4, 4, 4, 4, 4, 4, 4, 4, 4, 4, 4, 4, 4, 4, 4, 4, 4, 4, 4, 4, 4, 4, 4, 4, 4, 4, 4, 4, 4, 4, 4, 4, 4, 4, 4, 4, 2, 1, 3, 5, 1, 4, 1, 3, 3, 3, 3, 3, 3, 3, 3, 3, 3, 3, 3, 3, 3, 3, 3, 3, 3, 3, 3, 3, 3, 3, 3, 3, 3, 3, 3, 3, 3, 3, 3, 3, 3, 3, 3, 3, 3, 3, 3, 3, 3, 4, 4, 1, 1, 2, 3, 1, 4, 1, 1, 6, 6, 6, 6, 6, 6, 6, 6, 6, 6, 6, 6, 6, 6, 6, 6, 6, 6, 6, 6, 6, 6, 6, 6, 6, 6, 6, 6, 6, 6, 6, 6, 6, 6, 6, 6, 6, 6, 6, 6, 6, 6, 6, 6, 6, 6, 6, 6, 6, 6, 6, 6, 6, 6, 6, 6, 6, 2, 2, 2, 6, 6, 6, 6, 6, 6, 6, 6, 6, 6, 6, 6, 6, 6, 6, 6, 6, 6, 6, 6, 6, 6, 6, 6, 6, 6, 6, 6, 6, 6, 6, 6, 6, 6, 6, 2, 2, 2, 2, 2, 2, 6, 6, 6, 6, 6, 6, 6, 6, 6, 6, 6, 6, 6, 6, 6, 6, 6, 6, 6, 6, 6, 6, 6, 6, 6, 6, 6, 6, 6, 6, 6, 6, 6, 6, 6, 6, 6, 6, 6, 6, 6, 6, 6, 6, 6, 6, 6, 6, 6, 6, 6, 6, 6, 6, 6, 6, 6, 6, 6, 6, 6, 6, 6, 6, 6, 6, 6, 6, 6, 6, 6, 6, 6, 6, 6, 6, 6, 6, 6, 6, 6, 6, 6, 6, 6, 6, 6, 6, 6, 6, 6, 6, 6, 6, 6, 6, 6, 6, 6, 6, 6, 6, 6, 6, 6, 6, 6, 6, 6, 6, 6, 6, 6, 6, 6, 6, 6, 6, 6, 6, 6, 6, 6, 6, 6, 6, 6, 6, 6, 6, 6, 6, 6, 6, 6, 6, 6, 1, 6, 6, 6, 6, 6, 6, 6, 6, 6, 6, 6, 6, 6, 6, 6, 6, 6, 6, 6, 6, 6, 6, 6, 6, 6, 6, 6, 6, 6, 6, 6, 6, 6, 6, 6, 6, 6, 6, 6, 6, 6, 6, 6, 6, 6, 6, 6, 6, 6, 6, 6, 6, 6, 6, 6, 6, 6, 6, 6, 6, 6, 6, 6, 6, 6, 6, 6, 6, 6, 6, 6, 6, 6, 6, 6, 3, 4, 4, 3, 1, 4, 1, 1, 1, 4, 3, 1, 2, 3, 3, 3, 2, 3, 3, 2, 3, 5, 4, 3, 2, 1, 4, 4, 2, 1, 1, 4, 4, 2, 3, 1, 2, 2, 6, 1, 4, 5, 2, 1, 5, 3, 1, 3, 1, 5, 1, 4, 1, 5, 1, 4, 3, 4, 3, 1, 1, 3, 1, 1, 1, 1, 1, 1, 1, 1, 1, 1, 1, 1, 1, 1, 1, 3, 5, 2, 2, 2, 2, 2, 2, 2, 2, 2, 2, 2, 2, 2, 2, 2, 2, 2, 2, 2, 2, 2, 2, 2, 2, 2, 2, 2, 2, 2, 2, 2, 2, 1, 3, 4, 1, 1, 1, 3, 2, 3, 5, 3, 3, 4, 2, 4, 1, 4, 2, 5, 5, 5, 5, 5, 5, 5, 5, 5, 5, 5, 5, 5, 5, 5, 5, 5, 5, 5, 5, 5, 5, 5, 5, 5, 5, 5, 5, 5, 5, 5, 5, 5, 5, 5, 5, 5, 5, 5, 5, 5, 5, 5, 5, 5, 5, 5, 5, 5, 5, 5, 5, 5, 5, 5, 5, 5, 5, 5, 5, 5, 5, 5, 5, 5, 5, 5, 4, 5, 5, 5, 5, 5, 5, 5, 5, 5, 5, 5, 5, 5, 5, 5, 5, 4, 5, 5, 5, 5, 5, 5, 5, 5, 5, 5, 5, 5, 5, 5, 5, 5, 5, 5, 5, 5, 5, 5, 5, 5, 5, 5, 5, 5, 5, 5, 5, 5, 5, 5, 5, 5, 5, 5, 5, 5, 5, 5, 5, 5, 5, 5, 5, 5, 5, 5, 4, 1, 1, 5, 1, 3, 1, 4, 2, 1, 1, 1, 2, 2, 2, 2, 5, 1, 1, 3, 1, 1, 1, 3, 6, 6, 5, 5, 5, 3, 3, 2, 1, 5, 1, 5, 1, 1, 5, 1, 5, 1, 1, 2, 2, 1, 4, 1, 1, 1, 1, 1, 1, 1, 5, 4, 2, 3, 3, 2, 3, 1, 5, 3, 3, 1, 1, 2, 2, 2, 2, 1, 2, 1, 2, 2, 3, 3, 3, 1, 1, 1, 1, 3, 4, 3, 2, 1, 1, 1, 4, 2, 2, 1, 2, 2, 4, 4, 2, 4, 2, 2, 2, 2, 2, 1, 1, 1, 4, 4, 3, 1, 2, 1, 3, 3, 2, 1, 1, 2, 1, 1, 2, 3, 3, 1, 1, 1, 1, 1, 1, 1, 2, 3, 3, 3, 1, 3, 3, 3, 4, 2, 3, 4, 3, 1, 1, 4, 1, 2, 5, 1, 3, 1, 1, 5, 1, 3, 1, 3, 1, 1, 1, 3, 4, 5, 3, 4, 5, 1, 2, 1, 2, 1, 1, 1, 1, 1, 3, 5, 3, 4, 6, 3, 1, 3, 6, 2, 5, 2, 2, 5, 3, 1, 1, 1, 2, 3, 5, 1, 1, 1, 2, 3, 5, 1, 1, 5, 1, 3, 2, 2, 2, 2, 2, 1, 2, 5, 6, 6, 3, 2, 2, 2, 2, 2, 2, 2, 5, 4, 1, 3, 5, 3, 1, 3, 4, 3, 3]\n"
          ],
          "name": "stdout"
        }
      ]
    },
    {
      "metadata": {
        "id": "iR3BDzONNDXh",
        "colab_type": "code",
        "colab": {}
      },
      "cell_type": "code",
      "source": [
        "specs_json = list()"
      ],
      "execution_count": 0,
      "outputs": []
    },
    {
      "metadata": {
        "id": "hJQsSGq9Ni16",
        "colab_type": "code",
        "colab": {
          "base_uri": "https://localhost:8080/",
          "height": 34
        },
        "outputId": "5fe7c7af-d17f-4c5a-a8cf-a6dd15a988a0"
      },
      "cell_type": "code",
      "source": [
        "for spec in training_data:\n",
        "  specs_json.append(training_data[spec])\n",
        "\n",
        "print(str(len(specs_json)))\n",
        "  \n",
        "  "
      ],
      "execution_count": 40,
      "outputs": [
        {
          "output_type": "stream",
          "text": [
            "1016\n"
          ],
          "name": "stdout"
        }
      ]
    },
    {
      "metadata": {
        "id": "2v5Zl4GBOgSD",
        "colab_type": "code",
        "colab": {
          "base_uri": "https://localhost:8080/",
          "height": 5137
        },
        "outputId": "2b6cb5c5-1062-485e-9dcf-71b9ca292828"
      },
      "cell_type": "code",
      "source": [
        "specs_json[1]"
      ],
      "execution_count": 42,
      "outputs": [
        {
          "output_type": "execute_result",
          "data": {
            "text/plain": [
              "{'basePath': '/',\n",
              " 'definitions': {'AuthentiqID': {'description': 'Authentiq ID in JWT format, self-signed.\\n',\n",
              "   'properties': {'devtoken': {'description': 'device token for push messages',\n",
              "     'type': 'string'},\n",
              "    'sub': {'description': 'UUID and public signing key', 'type': 'string'}},\n",
              "   'required': ['sub']},\n",
              "  'Claims': {'description': 'Claim in JWT format, self- or issuer-signed. \\n',\n",
              "   'properties': {'email': {'description': '', 'type': 'string'},\n",
              "    'phone': {'description': '', 'type': 'string'},\n",
              "    'scope': {'description': 'claim scope', 'type': 'string'},\n",
              "    'sub': {'description': 'UUID', 'type': 'string'},\n",
              "    'type': {'description': '', 'type': 'string'}},\n",
              "   'required': ['sub', 'scope']},\n",
              "  'Error': {'properties': {'detail': {'type': 'string'},\n",
              "    'error': {'type': 'integer'},\n",
              "    'title': {'type': 'string'},\n",
              "    'type': {'description': 'unique uri for this error', 'type': 'string'}},\n",
              "   'required': ['error']},\n",
              "  'PushToken': {'description': 'PushToken in JWT format, self-signed. \\n',\n",
              "   'properties': {'aud': {'description': 'audience (URI)', 'type': 'string'},\n",
              "    'exp': {'type': 'integer'},\n",
              "    'iat': {'type': 'integer'},\n",
              "    'iss': {'description': 'issuer (URI)', 'type': 'string'},\n",
              "    'nbf': {'type': 'integer'},\n",
              "    'sub': {'description': 'UUID and public signing key', 'type': 'string'}},\n",
              "   'required': ['sub', 'iss', 'aud']}},\n",
              " 'host': '6-dot-authentiqio.appspot.com',\n",
              " 'info': {'contact': {'email': 'hello@authentiq.com',\n",
              "   'name': 'Authentiq team',\n",
              "   'url': 'http://authentiq.io/support'},\n",
              "  'description': 'Strong authentication, without the passwords.',\n",
              "  'license': {'name': 'Apache 2.0',\n",
              "   'url': 'http://www.apache.org/licenses/LICENSE-2.0.html'},\n",
              "  'termsOfService': 'http://authentiq.com/terms/',\n",
              "  'title': 'Authentiq',\n",
              "  'version': '6',\n",
              "  'x-apisguru-categories': ['security'],\n",
              "  'x-logo': {'backgroundColor': '#F26641',\n",
              "   'url': 'https://api.apis.guru/v2/cache/logo/https_www.authentiq.com_theme_images_authentiq-logo-a-inverse.svg'},\n",
              "  'x-origin': [{'format': 'swagger',\n",
              "    'url': 'https://raw.githubusercontent.com/AuthentiqID/authentiq-docs/master/docs/swagger/issuer.yaml',\n",
              "    'version': '2.0'}],\n",
              "  'x-preferred': True,\n",
              "  'x-providerName': '6-dot-authentiqio.appspot.com'},\n",
              " 'parameters': {'AuthentiqID': {'description': 'Authentiq ID to register',\n",
              "   'in': 'body',\n",
              "   'name': 'body',\n",
              "   'required': True,\n",
              "   'schema': {'$ref': '#/definitions/AuthentiqID'}},\n",
              "  'JobID': {'description': 'Job ID (20 chars)',\n",
              "   'in': 'path',\n",
              "   'name': 'job',\n",
              "   'required': True,\n",
              "   'type': 'string'},\n",
              "  'PK': {'description': 'Public Signing Key - Authentiq ID (43 chars)',\n",
              "   'in': 'path',\n",
              "   'name': 'PK',\n",
              "   'required': True,\n",
              "   'type': 'string'},\n",
              "  'PushToken': {'description': 'Push Token.',\n",
              "   'in': 'body',\n",
              "   'name': 'body',\n",
              "   'required': True,\n",
              "   'schema': {'$ref': '#/definitions/PushToken'}},\n",
              "  'Scope': {'description': 'Claims of scope',\n",
              "   'in': 'body',\n",
              "   'name': 'body',\n",
              "   'required': True,\n",
              "   'schema': {'$ref': '#/definitions/Claims'}}},\n",
              " 'paths': {'/key': {'delete': {'description': 'Revoke an Authentiq ID using email & phone.\\n\\nIf called with `email` and `phone` only, a verification code \\nwill be sent by email. Do a second call adding `code` to \\ncomplete the revocation.\\n',\n",
              "    'operationId': 'key_revoke_nosecret',\n",
              "    'parameters': [{'description': 'primary email associated to Key (ID)',\n",
              "      'in': 'query',\n",
              "      'name': 'email',\n",
              "      'required': True,\n",
              "      'type': 'string'},\n",
              "     {'description': 'primary phone number, international representation',\n",
              "      'in': 'query',\n",
              "      'name': 'phone',\n",
              "      'required': True,\n",
              "      'type': 'string'},\n",
              "     {'description': 'verification code sent by email',\n",
              "      'in': 'query',\n",
              "      'name': 'code',\n",
              "      'required': False,\n",
              "      'type': 'string'}],\n",
              "    'produces': ['application/json'],\n",
              "    'responses': {'200': {'description': 'Successfully deleted',\n",
              "      'schema': {'properties': {'status': {'description': 'pending or done',\n",
              "         'type': 'string'}},\n",
              "       'type': 'object'}},\n",
              "     '401': {'description': 'Authentication error `auth-error`',\n",
              "      'schema': {'$ref': '#/definitions/Error'}},\n",
              "     '404': {'description': 'Unknown key `unknown-key`',\n",
              "      'schema': {'$ref': '#/definitions/Error'}},\n",
              "     '409': {'description': 'Confirm with code sent `confirm-first`',\n",
              "      'schema': {'$ref': '#/definitions/Error'}},\n",
              "     'default': {'$ref': '#/responses/ErrorResponse'}},\n",
              "    'tags': ['key', 'delete']},\n",
              "   'post': {'consumes': ['application/jwt'],\n",
              "    'description': 'Register a new ID `JWT(sub, devtoken)`\\n\\nv5: `JWT(sub, pk, devtoken, ...)`\\n\\nSee: https://github.com/skion/authentiq/wiki/JWT-Examples\\n',\n",
              "    'operationId': 'key_register',\n",
              "    'parameters': [{'$ref': '#/parameters/AuthentiqID'}],\n",
              "    'produces': ['application/json'],\n",
              "    'responses': {'201': {'description': 'Successfully registered',\n",
              "      'schema': {'properties': {'secret': {'description': 'revoke key',\n",
              "         'type': 'string'},\n",
              "        'status': {'description': 'registered', 'type': 'string'}},\n",
              "       'type': 'object'}},\n",
              "     '409': {'description': 'Key already registered `duplicate-key`',\n",
              "      'schema': {'$ref': '#/definitions/Error'}},\n",
              "     'default': {'$ref': '#/responses/ErrorResponse'}},\n",
              "    'tags': ['key', 'post']}},\n",
              "  '/key/{PK}': {'delete': {'description': 'Revoke an Identity (Key) with a revocation secret',\n",
              "    'operationId': 'key_revoke',\n",
              "    'parameters': [{'$ref': '#/parameters/PK'},\n",
              "     {'description': 'revokation secret',\n",
              "      'in': 'query',\n",
              "      'name': 'secret',\n",
              "      'required': True,\n",
              "      'type': 'string'}],\n",
              "    'produces': ['application/json'],\n",
              "    'responses': {'200': {'description': 'Successful response',\n",
              "      'schema': {'properties': {'status': {'description': 'done',\n",
              "         'type': 'string'}},\n",
              "       'type': 'object'}},\n",
              "     '401': {'description': 'Key not found / wrong code `auth-error`',\n",
              "      'schema': {'$ref': '#/definitions/Error'}},\n",
              "     '404': {'description': 'Unknown key `unknown-key`',\n",
              "      'schema': {'$ref': '#/definitions/Error'}},\n",
              "     'default': {'$ref': '#/responses/ErrorResponse'}},\n",
              "    'tags': ['key', 'delete']},\n",
              "   'get': {'description': 'Get public details of an Authentiq ID.\\n',\n",
              "    'parameters': [{'$ref': '#/parameters/PK'}],\n",
              "    'produces': ['application/json'],\n",
              "    'responses': {'200': {'description': 'Successfully retrieved',\n",
              "      'schema': {'properties': {'since': {'format': 'date-time',\n",
              "         'type': 'string'},\n",
              "        'status': {'type': 'string'},\n",
              "        'sub': {'description': 'base64safe encoded public signing key',\n",
              "         'type': 'string'}},\n",
              "       'title': 'JWT',\n",
              "       'type': 'object'}},\n",
              "     '404': {'description': 'Unknown key `unknown-key`',\n",
              "      'schema': {'$ref': '#/definitions/Error'}},\n",
              "     '410': {'description': 'Key is revoked (gone). `revoked-key`',\n",
              "      'schema': {'$ref': '#/definitions/Error'}},\n",
              "     'default': {'$ref': '#/responses/ErrorResponse'}},\n",
              "    'tags': ['key', 'get']},\n",
              "   'head': {'description': 'HEAD info on Authentiq ID\\n',\n",
              "    'parameters': [{'$ref': '#/parameters/PK'}],\n",
              "    'responses': {'200': {'description': 'Key exists'},\n",
              "     '404': {'description': 'Unknown key `unknown-key`',\n",
              "      'schema': {'$ref': '#/definitions/Error'}},\n",
              "     '410': {'description': 'Key is revoked `revoked-key`',\n",
              "      'schema': {'$ref': '#/definitions/Error'}},\n",
              "     'default': {'$ref': '#/responses/ErrorResponse'}},\n",
              "    'tags': ['key', 'head']},\n",
              "   'post': {'consumes': ['application/jwt'],\n",
              "    'description': 'update properties of an Authentiq ID.\\n(not operational in v4; use PUT for now)\\n\\nv5: POST issuer-signed email & phone scopes in\\na self-signed JWT\\n\\nSee: https://github.com/skion/authentiq/wiki/JWT-Examples\\n',\n",
              "    'operationId': 'key_update',\n",
              "    'parameters': [{'$ref': '#/parameters/PK'},\n",
              "     {'$ref': '#/parameters/AuthentiqID'}],\n",
              "    'produces': ['application/json'],\n",
              "    'responses': {'200': {'description': 'Successfully updated',\n",
              "      'schema': {'properties': {'status': {'description': 'confirmed',\n",
              "         'type': 'string'}},\n",
              "       'type': 'object'}},\n",
              "     '404': {'description': 'Unknown key `unknown-key`',\n",
              "      'schema': {'$ref': '#/definitions/Error'}},\n",
              "     'default': {'$ref': '#/responses/ErrorResponse'}},\n",
              "    'tags': ['key', 'post']},\n",
              "   'put': {'consumes': ['application/jwt'],\n",
              "    'description': 'Update Authentiq ID by replacing the object.\\n\\nv4: `JWT(sub,email,phone)` to bind email/phone hash; \\n\\nv5: POST issuer-signed email & phone scopes\\nand PUT to update registration `JWT(sub, pk, devtoken, ...)`\\n\\nSee: https://github.com/skion/authentiq/wiki/JWT-Examples\\n',\n",
              "    'operationId': 'key_bind',\n",
              "    'parameters': [{'$ref': '#/parameters/PK'},\n",
              "     {'$ref': '#/parameters/AuthentiqID'}],\n",
              "    'produces': ['application/json'],\n",
              "    'responses': {'200': {'description': 'Successfully updated',\n",
              "      'schema': {'properties': {'status': {'description': 'confirmed',\n",
              "         'type': 'string'}},\n",
              "       'type': 'object'}},\n",
              "     '404': {'description': 'Unknown key `unknown-key`',\n",
              "      'schema': {'$ref': '#/definitions/Error'}},\n",
              "     '409': {'description': 'Already bound to another key `duplicate-hash`',\n",
              "      'schema': {'$ref': '#/definitions/Error'}},\n",
              "     'default': {'$ref': '#/responses/ErrorResponse'}},\n",
              "    'tags': ['key', 'put']}},\n",
              "  '/login': {'post': {'consumes': ['application/jwt'],\n",
              "    'description': 'push sign-in request\\nSee: https://github.com/skion/authentiq/wiki/JWT-Examples\\n',\n",
              "    'operationId': 'push_login_request',\n",
              "    'parameters': [{'$ref': '#/parameters/PushToken'},\n",
              "     {'description': 'URI App will connect to',\n",
              "      'in': 'query',\n",
              "      'name': 'callback',\n",
              "      'required': True,\n",
              "      'type': 'string'}],\n",
              "    'produces': ['application/json'],\n",
              "    'responses': {'200': {'description': 'Successful response',\n",
              "      'schema': {'properties': {'status': {'description': 'sent',\n",
              "         'type': 'string'}},\n",
              "       'type': 'object'}},\n",
              "     '401': {'description': 'Unauthorized for this callback audience `aud-error` or JWT should be self-signed `auth-error`',\n",
              "      'schema': {'$ref': '#/definitions/Error'}},\n",
              "     'default': {'$ref': '#/responses/ErrorResponse'}},\n",
              "    'tags': ['login', 'post']}},\n",
              "  '/scope': {'post': {'consumes': ['application/jwt'],\n",
              "    'description': 'scope verification request\\nSee: https://github.com/skion/authentiq/wiki/JWT-Examples\\n',\n",
              "    'operationId': 'sign_request',\n",
              "    'parameters': [{'$ref': '#/parameters/Scope'},\n",
              "     {'description': 'test only mode, using test issuer',\n",
              "      'in': 'query',\n",
              "      'name': 'test',\n",
              "      'required': False,\n",
              "      'type': 'integer'}],\n",
              "    'produces': ['application/json'],\n",
              "    'responses': {'201': {'description': 'Successful response',\n",
              "      'schema': {'properties': {'job': {'description': '20-character ID',\n",
              "         'type': 'string'},\n",
              "        'status': {'description': 'waiting', 'type': 'string'}},\n",
              "       'type': 'object'}},\n",
              "     '429': {'description': 'Too Many Requests on same address / number `rate-limit`',\n",
              "      'schema': {'$ref': '#/definitions/Error'}},\n",
              "     'default': {'$ref': '#/responses/ErrorResponse'}},\n",
              "    'tags': ['scope', 'post']}},\n",
              "  '/scope/{job}': {'delete': {'description': 'delete a verification job',\n",
              "    'operationId': 'sign_delete',\n",
              "    'parameters': [{'$ref': '#/parameters/JobID'}],\n",
              "    'produces': ['application/json'],\n",
              "    'responses': {'200': {'description': 'Successfully deleted',\n",
              "      'schema': {'properties': {'status': {'description': 'done',\n",
              "         'type': 'string'}},\n",
              "       'type': 'object'}},\n",
              "     '404': {'description': 'Job not found `unknown-job`',\n",
              "      'schema': {'$ref': '#/definitions/Error'}},\n",
              "     'default': {'$ref': '#/responses/ErrorResponse'}},\n",
              "    'tags': ['scope', 'delete']},\n",
              "   'get': {'description': 'get the status / current content of a verification job',\n",
              "    'operationId': 'sign_retrieve',\n",
              "    'parameters': [{'$ref': '#/parameters/JobID'}],\n",
              "    'produces': ['application/json', 'application/jwt'],\n",
              "    'responses': {'200': {'description': 'Successful response (JWT)',\n",
              "      'schema': {'properties': {'exp': {'type': 'integer'},\n",
              "        'field': {'type': 'string'},\n",
              "        'sub': {'description': 'base64safe encoded public signing key',\n",
              "         'type': 'string'}},\n",
              "       'title': 'JWT',\n",
              "       'type': 'object'}},\n",
              "     '204': {'description': 'Confirmed, waiting for signing'},\n",
              "     '404': {'description': 'Job not found `unknown-job`',\n",
              "      'schema': {'$ref': '#/definitions/Error'}},\n",
              "     'default': {'$ref': '#/responses/ErrorResponse'}},\n",
              "    'tags': ['scope', 'get']},\n",
              "   'head': {'description': 'HEAD to get the status of a verification job',\n",
              "    'operationId': 'sign_retrieve_head',\n",
              "    'parameters': [{'$ref': '#/parameters/JobID'}],\n",
              "    'produces': ['application/json'],\n",
              "    'responses': {'200': {'description': 'Confirmed and signed'},\n",
              "     '204': {'description': 'Confirmed, waiting for signing'},\n",
              "     '404': {'description': 'Job not found `unknown-job`',\n",
              "      'schema': {'$ref': '#/definitions/Error'}},\n",
              "     'default': {'$ref': '#/responses/ErrorResponse'}},\n",
              "    'tags': ['scope', 'head']},\n",
              "   'post': {'consumes': ['application/json'],\n",
              "    'description': 'this is a scope confirmation',\n",
              "    'operationId': 'sign_confirm',\n",
              "    'parameters': [{'$ref': '#/parameters/JobID'}],\n",
              "    'produces': ['application/json'],\n",
              "    'responses': {'202': {'description': 'Successfully confirmed',\n",
              "      'schema': {'properties': {'status': {'description': 'confirmed',\n",
              "         'type': 'string'}},\n",
              "       'type': 'object'}},\n",
              "     '401': {'description': 'Confirmation error `auth-error`',\n",
              "      'schema': {'$ref': '#/definitions/Error'}},\n",
              "     '404': {'description': 'Job not found `unknown-job`',\n",
              "      'schema': {'$ref': '#/definitions/Error'}},\n",
              "     '405': {'description': 'JWT POSTed to scope `not-supported`',\n",
              "      'schema': {'$ref': '#/definitions/Error'}},\n",
              "     'default': {'$ref': '#/responses/ErrorResponse'}},\n",
              "    'tags': ['scope', 'post']},\n",
              "   'put': {'consumes': ['application/jwt'],\n",
              "    'description': 'authority updates a JWT with its signature\\nSee: https://github.com/skion/authentiq/wiki/JWT-Examples\\n',\n",
              "    'operationId': 'sign_update',\n",
              "    'parameters': [{'$ref': '#/parameters/JobID'}],\n",
              "    'produces': ['application/jwt'],\n",
              "    'responses': {'200': {'description': 'Successfully updated',\n",
              "      'schema': {'properties': {'jwt': {'description': 'result is JWT or JSON??',\n",
              "         'type': 'string'},\n",
              "        'status': {'description': 'ready', 'type': 'string'}},\n",
              "       'type': 'object'}},\n",
              "     '404': {'description': 'Job not found `unknown-job`',\n",
              "      'schema': {'$ref': '#/definitions/Error'}},\n",
              "     '409': {'description': 'Job not confirmed yet `confirm-first`',\n",
              "      'schema': {'$ref': '#/definitions/Error'}},\n",
              "     'default': {'$ref': '#/responses/ErrorResponse'}},\n",
              "    'tags': ['scope', 'put']}}},\n",
              " 'responses': {'ErrorResponse': {'description': 'Error response',\n",
              "   'schema': {'$ref': '#/definitions/Error'}}},\n",
              " 'schemes': ['https'],\n",
              " 'swagger': '2.0'}"
            ]
          },
          "metadata": {
            "tags": []
          },
          "execution_count": 42
        }
      ]
    },
    {
      "metadata": {
        "id": "d7iwYpbNOyir",
        "colab_type": "text"
      },
      "cell_type": "markdown",
      "source": [
        "## Preprocessing\n",
        "In this part of the notebook we are going to preprocess the data itself. The data will be tokenized, preprocessed and stored as Training and Test sets"
      ]
    }
  ]
}